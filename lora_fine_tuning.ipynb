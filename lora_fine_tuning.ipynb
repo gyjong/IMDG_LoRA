{
 "cells": [
  {
   "cell_type": "markdown",
   "metadata": {},
   "source": [
    "# Fine-tuning the latest Google Gemma model locally using MLX"
   ]
  },
  {
   "cell_type": "markdown",
   "metadata": {},
   "source": [
    "## 1. Preparation\n"
   ]
  },
  {
   "cell_type": "code",
   "execution_count": 58,
   "metadata": {},
   "outputs": [],
   "source": [
    "# !pip install -Uqq mlx mlx_lm transformers datasets"
   ]
  },
  {
   "cell_type": "markdown",
   "metadata": {},
   "source": [
    "## 2. Using MLX to Run Inference with Gemma Model using MLX"
   ]
  },
  {
   "cell_type": "code",
   "execution_count": 1,
   "metadata": {},
   "outputs": [
    {
     "data": {
      "application/vnd.jupyter.widget-view+json": {
       "model_id": "6592189b49d44da58e556e7e6f96ac1b",
       "version_major": 2,
       "version_minor": 0
      },
      "text/plain": [
       "Fetching 9 files:   0%|          | 0/9 [00:00<?, ?it/s]"
      ]
     },
     "metadata": {},
     "output_type": "display_data"
    }
   ],
   "source": [
    "from mlx_lm import generate, load\n",
    "\n",
    "model, tokenizer = load(\"mlx-community/gemma-2-27b-it-4bit\")\n",
    "# https://huggingface.co/mlx-community/gemma-2-27b-4bit \n"
   ]
  },
  {
   "cell_type": "code",
   "execution_count": 3,
   "metadata": {},
   "outputs": [
    {
     "name": "stdout",
     "output_type": "stream",
     "text": [
      "<bos><start_of_turn>user\n",
      "What are the minimum size requirements for the marks and the UN packaging symbol on pressure receptacles, and how do these requirements differ based on the diameter of the pressure receptacle?<end_of_turn>\n",
      "<start_of_turn>model\n",
      "\n"
     ]
    }
   ],
   "source": [
    "messages = [{\"role\": \"user\", \"content\": \"What are the minimum size requirements for the marks and the UN packaging symbol on pressure receptacles, and how do these requirements differ based on the diameter of the pressure receptacle?\"}]\n",
    "result = tokenizer.apply_chat_template(messages, tokenize=False, add_generation_prompt=True)\n",
    "print(result)"
   ]
  },
  {
   "cell_type": "code",
   "execution_count": 4,
   "metadata": {},
   "outputs": [
    {
     "name": "stdout",
     "output_type": "stream",
     "text": [
      "==========\n",
      "Prompt: What are the minimum size requirements for the marks and the UN packaging symbol on pressure receptacles, and how do these requirements differ based on the diameter of the pressure receptacle per IMDG code?\n",
      "\n",
      "\n",
      "The IMDG Code (International Maritime Dangerous Goods Code) outlines the marking and labeling requirements for pressure receptacles.\n",
      "\n",
      "**Minimum Size Requirements for Marks and UN Packaging Symbol:**\n",
      "\n",
      "The minimum size requirements for marks and the UN packaging symbol on pressure receptacles are dependent on the diameter of the receptacle.\n",
      "\n",
      "* **Receptacles with a diameter of less than 140 mm:**\n",
      "\n",
      "    * The UN packaging symbol must have a minimum dimension of 6 mm.\n",
      "    * Other marks (e.g., manufacturer's name, serial number, test pressure, etc.) must be clearly visible and legible.\n",
      "\n",
      "* **Receptacles with a diameter of 140 mm or more:**\n",
      "\n",
      "    * The UN packaging symbol must have a minimum dimension of 12 mm.\n",
      "    * Other marks must be clearly visible and legible, with a minimum height of 6 mm.\n",
      "\n",
      "**Additional Considerations:**\n",
      "\n",
      "* The marks and UN packaging symbol must be permanently affixed to the pressure receptacle.\n",
      "* They should be located in a readily visible and accessible location.\n",
      "* The color of the marks and symbol should contrast with the background color of the receptacle.\n",
      "\n",
      "**Note:**\n",
      "\n",
      "These are general guidelines. Specific requirements may vary depending on the type of pressure receptacle, the gas being transported, and the applicable national regulations. It is crucial to consult the IMDG Code and relevant national regulations for detailed information on marking and labeling requirements.\n",
      "\n",
      "For further clarification and specific guidance, it is recommended to consult the IMDG Code directly or seek advice from a qualified dangerous goods expert.<end_of_turn>\n",
      "\n",
      "==========\n",
      "Prompt: 37 tokens, 15.803 tokens-per-sec\n",
      "Generation: 316 tokens, 15.865 tokens-per-sec\n",
      "Peak memory: 14.782 GB\n"
     ]
    }
   ],
   "source": [
    "# Generating without adding a prompt template manually\n",
    "prompt = \"\"\"\n",
    "What are the minimum size requirements for the marks and the UN packaging symbol on pressure receptacles, and how do these requirements differ based on the diameter of the pressure receptacle per IMDG code?\n",
    "\"\"\".strip()\n",
    "response = generate(\n",
    "    model,\n",
    "    tokenizer,\n",
    "    prompt=prompt,\n",
    "    verbose=True,  # Set to True to see the prompt and response\n",
    "    temp=0.0,\n",
    "    max_tokens=1024,\n",
    ")"
   ]
  },
  {
   "cell_type": "markdown",
   "metadata": {},
   "source": [
    "## 3. Generating training dataset from PDF file"
   ]
  },
  {
   "cell_type": "code",
   "execution_count": 6,
   "metadata": {},
   "outputs": [
    {
     "name": "stdout",
     "output_type": "stream",
     "text": [
      "Starting fine-tuning dataset creation (Target samples: 10000)\n",
      "Loading model and tokenizer...\n"
     ]
    },
    {
     "data": {
      "application/vnd.jupyter.widget-view+json": {
       "model_id": "259f31ebe6094d29b5866decfe2632e7",
       "version_major": 2,
       "version_minor": 0
      },
      "text/plain": [
       "Fetching 9 files:   0%|          | 0/9 [00:00<?, ?it/s]"
      ]
     },
     "metadata": {},
     "output_type": "display_data"
    },
    {
     "name": "stdout",
     "output_type": "stream",
     "text": [
      "Model and tokenizer loaded\n",
      "Extracting text from PDF...\n"
     ]
    },
    {
     "name": "stderr",
     "output_type": "stream",
     "text": [
      "Processing pages: 100%|██████████| 1098/1098 [01:05<00:00, 16.85it/s]\n"
     ]
    },
    {
     "name": "stdout",
     "output_type": "stream",
     "text": [
      "Text extraction completed\n",
      "Splitting text into chunks...\n"
     ]
    },
    {
     "name": "stderr",
     "output_type": "stream",
     "text": [
      "Creating chunks: 100%|██████████| 64387/64387 [00:00<00:00, 3798881.00it/s]\n"
     ]
    },
    {
     "name": "stdout",
     "output_type": "stream",
     "text": [
      "Number of chunks created: 3140\n",
      "Generating question-response pairs and writing to CSV...\n"
     ]
    },
    {
     "name": "stderr",
     "output_type": "stream",
     "text": [
      "Generating samples:   0%|          | 21/10000 [06:59<60:57:00, 21.99s/it]"
     ]
    },
    {
     "name": "stdout",
     "output_type": "stream",
     "text": [
      "Skipping invalid sample: Q: Unable to generate a question., A: Unable to generate a response.\n"
     ]
    },
    {
     "name": "stderr",
     "output_type": "stream",
     "text": [
      "Generating samples:   0%|          | 38/10000 [12:58<62:00:29, 22.41s/it]"
     ]
    },
    {
     "name": "stdout",
     "output_type": "stream",
     "text": [
      "Skipping invalid sample: Q: Unable to generate a question., A: Unable to generate a response.\n"
     ]
    },
    {
     "name": "stderr",
     "output_type": "stream",
     "text": [
      "Generating samples:   0%|          | 42/10000 [14:28<57:32:30, 20.80s/it]"
     ]
    },
    {
     "name": "stdout",
     "output_type": "stream",
     "text": [
      "Skipping invalid sample: Q: Unable to generate a question., A: Unable to generate a response.\n"
     ]
    },
    {
     "name": "stderr",
     "output_type": "stream",
     "text": [
      "Generating samples:   1%|          | 56/10000 [18:54<47:19:34, 17.13s/it]"
     ]
    },
    {
     "name": "stdout",
     "output_type": "stream",
     "text": [
      "Skipping invalid sample: Q: Unable to generate a question., A: Unable to generate a response.\n"
     ]
    },
    {
     "name": "stderr",
     "output_type": "stream",
     "text": [
      "Generating samples:   1%|          | 64/10000 [22:01<63:47:26, 23.11s/it]"
     ]
    },
    {
     "name": "stdout",
     "output_type": "stream",
     "text": [
      "Skipping invalid sample: Q: Unable to generate a question., A: Unable to generate a response.\n"
     ]
    },
    {
     "name": "stderr",
     "output_type": "stream",
     "text": [
      "Generating samples:   1%|          | 76/10000 [25:18<41:18:58, 14.99s/it]"
     ]
    },
    {
     "name": "stdout",
     "output_type": "stream",
     "text": [
      "Skipping invalid sample: Q: Unable to generate a question., A: Unable to generate a response.\n"
     ]
    },
    {
     "name": "stderr",
     "output_type": "stream",
     "text": [
      "Generating samples:   1%|          | 85/10000 [28:40<50:52:38, 18.47s/it]"
     ]
    },
    {
     "name": "stdout",
     "output_type": "stream",
     "text": [
      "Skipping invalid sample: Q: Unable to generate a question., A: Unable to generate a response.\n"
     ]
    },
    {
     "name": "stderr",
     "output_type": "stream",
     "text": [
      "Generating samples:   1%|          | 100/10000 [33:24<53:16:14, 19.37s/it]"
     ]
    },
    {
     "name": "stdout",
     "output_type": "stream",
     "text": [
      "Generated 100 samples...\n"
     ]
    },
    {
     "name": "stderr",
     "output_type": "stream",
     "text": [
      "Generating samples:   2%|▏         | 189/10000 [59:00<41:14:20, 15.13s/it]"
     ]
    },
    {
     "name": "stdout",
     "output_type": "stream",
     "text": [
      "Skipping invalid sample: Q: Unable to generate a question., A: Unable to generate a response.\n"
     ]
    },
    {
     "name": "stderr",
     "output_type": "stream",
     "text": [
      "Generating samples:   2%|▏         | 190/10000 [59:03<31:34:37, 11.59s/it]"
     ]
    },
    {
     "name": "stdout",
     "output_type": "stream",
     "text": [
      "Skipping invalid sample: Q: Unable to generate a question., A: Unable to generate a response.\n"
     ]
    },
    {
     "name": "stderr",
     "output_type": "stream",
     "text": [
      "Generating samples:   2%|▏         | 200/10000 [1:02:09<44:55:27, 16.50s/it]"
     ]
    },
    {
     "name": "stdout",
     "output_type": "stream",
     "text": [
      "Generated 200 samples...\n"
     ]
    },
    {
     "name": "stderr",
     "output_type": "stream",
     "text": [
      "Generating samples:   2%|▏         | 204/10000 [1:03:16<42:11:02, 15.50s/it]"
     ]
    },
    {
     "name": "stdout",
     "output_type": "stream",
     "text": [
      "Skipping invalid sample: Q: Unable to generate a question., A: Unable to generate a response.\n"
     ]
    },
    {
     "name": "stderr",
     "output_type": "stream",
     "text": [
      "Generating samples:   2%|▏         | 212/10000 [1:05:23<37:08:11, 13.66s/it]"
     ]
    },
    {
     "name": "stdout",
     "output_type": "stream",
     "text": [
      "Skipping invalid sample: Q: Unable to generate a question., A: Unable to generate a response.\n"
     ]
    },
    {
     "name": "stderr",
     "output_type": "stream",
     "text": [
      "Generating samples:   2%|▏         | 215/10000 [1:06:15<42:14:12, 15.54s/it]"
     ]
    },
    {
     "name": "stdout",
     "output_type": "stream",
     "text": [
      "Skipping invalid sample: Q: Unable to generate a question., A: Unable to generate a response.\n"
     ]
    },
    {
     "name": "stderr",
     "output_type": "stream",
     "text": [
      "Generating samples:   3%|▎         | 257/10000 [1:18:24<44:30:31, 16.45s/it]"
     ]
    },
    {
     "name": "stdout",
     "output_type": "stream",
     "text": [
      "Skipping invalid sample: Q: Unable to generate a question., A: Unable to generate a response.\n"
     ]
    },
    {
     "name": "stderr",
     "output_type": "stream",
     "text": [
      "Generating samples:   3%|▎         | 260/10000 [1:19:18<46:08:46, 17.06s/it]"
     ]
    },
    {
     "name": "stdout",
     "output_type": "stream",
     "text": [
      "Skipping invalid sample: Q: Unable to generate a question., A: Unable to generate a response.\n"
     ]
    },
    {
     "name": "stderr",
     "output_type": "stream",
     "text": [
      "Generating samples:   3%|▎         | 280/10000 [1:25:14<47:20:13, 17.53s/it]"
     ]
    },
    {
     "name": "stdout",
     "output_type": "stream",
     "text": [
      "Skipping invalid sample: Q: Unable to generate a question., A: Unable to generate a response.\n"
     ]
    },
    {
     "name": "stderr",
     "output_type": "stream",
     "text": [
      "Generating samples:   3%|▎         | 300/10000 [1:31:22<48:41:40, 18.07s/it]"
     ]
    },
    {
     "name": "stdout",
     "output_type": "stream",
     "text": [
      "Generated 300 samples...\n"
     ]
    },
    {
     "name": "stderr",
     "output_type": "stream",
     "text": [
      "Generating samples:   3%|▎         | 311/10000 [1:34:59<47:23:48, 17.61s/it]"
     ]
    },
    {
     "name": "stdout",
     "output_type": "stream",
     "text": [
      "Skipping invalid sample: Q: Unable to generate a question., A: Unable to generate a response.\n"
     ]
    },
    {
     "name": "stderr",
     "output_type": "stream",
     "text": [
      "Generating samples:   3%|▎         | 340/10000 [1:43:30<46:19:39, 17.26s/it]"
     ]
    },
    {
     "name": "stdout",
     "output_type": "stream",
     "text": [
      "Skipping invalid sample: Q: Unable to generate a question., A: Unable to generate a response.\n"
     ]
    },
    {
     "name": "stderr",
     "output_type": "stream",
     "text": [
      "Generating samples:   4%|▎         | 366/10000 [1:50:28<54:55:32, 20.52s/it]"
     ]
    },
    {
     "name": "stdout",
     "output_type": "stream",
     "text": [
      "Skipping invalid sample: Q: Unable to generate a question., A: Unable to generate a response.\n"
     ]
    },
    {
     "name": "stderr",
     "output_type": "stream",
     "text": [
      "Generating samples:   4%|▍         | 400/10000 [2:02:16<75:20:36, 28.25s/it]"
     ]
    },
    {
     "name": "stdout",
     "output_type": "stream",
     "text": [
      "Generated 400 samples...\n"
     ]
    },
    {
     "name": "stderr",
     "output_type": "stream",
     "text": [
      "Generating samples:   4%|▍         | 420/10000 [2:08:39<42:53:25, 16.12s/it]"
     ]
    },
    {
     "name": "stdout",
     "output_type": "stream",
     "text": [
      "Skipping invalid sample: Q: Unable to generate a question., A: Unable to generate a response.\n"
     ]
    },
    {
     "name": "stderr",
     "output_type": "stream",
     "text": [
      "Generating samples:   5%|▍         | 476/10000 [2:26:31<49:16:25, 18.63s/it]"
     ]
    },
    {
     "name": "stdout",
     "output_type": "stream",
     "text": [
      "Skipping invalid sample: Q: Unable to generate a question., A: Unable to generate a response.\n"
     ]
    },
    {
     "name": "stderr",
     "output_type": "stream",
     "text": [
      "Generating samples:   5%|▌         | 500/10000 [2:33:36<40:36:01, 15.39s/it]"
     ]
    },
    {
     "name": "stdout",
     "output_type": "stream",
     "text": [
      "Generated 500 samples...\n"
     ]
    },
    {
     "name": "stderr",
     "output_type": "stream",
     "text": [
      "Generating samples:   5%|▌         | 511/10000 [2:37:20<43:45:20, 16.60s/it]"
     ]
    },
    {
     "name": "stdout",
     "output_type": "stream",
     "text": [
      "Skipping invalid sample: Q: Unable to generate a question., A: Unable to generate a response.\n"
     ]
    },
    {
     "name": "stderr",
     "output_type": "stream",
     "text": [
      "Generating samples:   5%|▌         | 528/10000 [2:42:17<39:06:03, 14.86s/it]"
     ]
    },
    {
     "name": "stdout",
     "output_type": "stream",
     "text": [
      "Skipping invalid sample: Q: Unable to generate a question., A: Unable to generate a response.\n"
     ]
    },
    {
     "name": "stderr",
     "output_type": "stream",
     "text": [
      "Generating samples:   5%|▌         | 548/10000 [2:47:37<43:14:16, 16.47s/it]"
     ]
    },
    {
     "name": "stdout",
     "output_type": "stream",
     "text": [
      "Skipping invalid sample: Q: Unable to generate a question., A: Unable to generate a response.\n"
     ]
    },
    {
     "name": "stderr",
     "output_type": "stream",
     "text": [
      "Generating samples:   6%|▌         | 580/10000 [2:57:48<43:21:57, 16.57s/it]"
     ]
    },
    {
     "name": "stdout",
     "output_type": "stream",
     "text": [
      "Skipping invalid sample: Q: Unable to generate a question., A: Unable to generate a response.\n"
     ]
    },
    {
     "name": "stderr",
     "output_type": "stream",
     "text": [
      "Generating samples:   6%|▌         | 583/10000 [2:58:59<57:11:15, 21.86s/it]"
     ]
    },
    {
     "name": "stdout",
     "output_type": "stream",
     "text": [
      "Skipping invalid sample: Q: Unable to generate a question., A: Unable to generate a response.\n"
     ]
    },
    {
     "name": "stderr",
     "output_type": "stream",
     "text": [
      "Generating samples:   6%|▌         | 588/10000 [3:01:28<70:27:58, 26.95s/it]"
     ]
    },
    {
     "name": "stdout",
     "output_type": "stream",
     "text": [
      "Skipping invalid sample: Q: Unable to generate a question., A: Unable to generate a response.\n"
     ]
    },
    {
     "name": "stderr",
     "output_type": "stream",
     "text": [
      "Generating samples:   6%|▌         | 593/10000 [3:03:25<59:00:37, 22.58s/it]"
     ]
    },
    {
     "name": "stdout",
     "output_type": "stream",
     "text": [
      "Skipping invalid sample: Q: Unable to generate a question., A: Unable to generate a response.\n"
     ]
    },
    {
     "name": "stderr",
     "output_type": "stream",
     "text": [
      "Generating samples:   6%|▌         | 597/10000 [3:04:39<51:23:52, 19.68s/it]"
     ]
    },
    {
     "name": "stdout",
     "output_type": "stream",
     "text": [
      "Skipping invalid sample: Q: Unable to generate a question., A: Unable to generate a response.\n"
     ]
    },
    {
     "name": "stderr",
     "output_type": "stream",
     "text": [
      "Generating samples:   6%|▌         | 600/10000 [3:05:30<47:21:43, 18.14s/it]"
     ]
    },
    {
     "name": "stdout",
     "output_type": "stream",
     "text": [
      "Generated 600 samples...\n"
     ]
    },
    {
     "name": "stderr",
     "output_type": "stream",
     "text": [
      "Generating samples:   6%|▌         | 611/10000 [3:09:01<46:03:21, 17.66s/it]"
     ]
    },
    {
     "name": "stdout",
     "output_type": "stream",
     "text": [
      "Skipping invalid sample: Q: Unable to generate a question., A: Unable to generate a response.\n"
     ]
    },
    {
     "name": "stderr",
     "output_type": "stream",
     "text": [
      "Generating samples:   6%|▌         | 612/10000 [3:09:04<35:17:35, 13.53s/it]"
     ]
    },
    {
     "name": "stdout",
     "output_type": "stream",
     "text": [
      "Skipping invalid sample: Q: Unable to generate a question., A: Unable to generate a response.\n"
     ]
    },
    {
     "name": "stderr",
     "output_type": "stream",
     "text": [
      "Generating samples:   6%|▋         | 627/10000 [3:13:48<42:00:38, 16.14s/it]"
     ]
    },
    {
     "name": "stdout",
     "output_type": "stream",
     "text": [
      "Skipping invalid sample: Q: Unable to generate a question., A: Unable to generate a response.\n"
     ]
    },
    {
     "name": "stderr",
     "output_type": "stream",
     "text": [
      "Generating samples:   6%|▋         | 639/10000 [3:17:40<45:05:32, 17.34s/it]"
     ]
    },
    {
     "name": "stdout",
     "output_type": "stream",
     "text": [
      "Skipping invalid sample: Q: Unable to generate a question., A: Unable to generate a response.\n"
     ]
    },
    {
     "name": "stderr",
     "output_type": "stream",
     "text": [
      "Generating samples:   7%|▋         | 662/10000 [3:25:09<47:50:21, 18.44s/it]"
     ]
    },
    {
     "name": "stdout",
     "output_type": "stream",
     "text": [
      "Skipping invalid sample: Q: Unable to generate a question., A: Unable to generate a response.\n"
     ]
    },
    {
     "name": "stderr",
     "output_type": "stream",
     "text": [
      "Generating samples:   7%|▋         | 698/10000 [3:38:50<53:57:40, 20.88s/it]"
     ]
    },
    {
     "name": "stdout",
     "output_type": "stream",
     "text": [
      "Skipping invalid sample: Q: Unable to generate a question., A: Unable to generate a response.\n"
     ]
    },
    {
     "name": "stderr",
     "output_type": "stream",
     "text": [
      "Generating samples:   7%|▋         | 700/10000 [3:39:39<59:43:01, 23.12s/it]"
     ]
    },
    {
     "name": "stdout",
     "output_type": "stream",
     "text": [
      "Generated 700 samples...\n"
     ]
    },
    {
     "name": "stderr",
     "output_type": "stream",
     "text": [
      "Generating samples:   7%|▋         | 708/10000 [3:42:50<69:21:15, 26.87s/it]"
     ]
    },
    {
     "name": "stdout",
     "output_type": "stream",
     "text": [
      "Skipping invalid sample: Q: Unable to generate a question., A: Unable to generate a response.\n"
     ]
    },
    {
     "name": "stderr",
     "output_type": "stream",
     "text": [
      "Generating samples:   8%|▊         | 798/10000 [4:12:52<52:47:16, 20.65s/it]"
     ]
    },
    {
     "name": "stdout",
     "output_type": "stream",
     "text": [
      "Skipping invalid sample: Q: Unable to generate a question., A: Unable to generate a response.\n"
     ]
    },
    {
     "name": "stderr",
     "output_type": "stream",
     "text": [
      "Generating samples:   8%|▊         | 800/10000 [4:13:33<51:40:36, 20.22s/it]"
     ]
    },
    {
     "name": "stdout",
     "output_type": "stream",
     "text": [
      "Generated 800 samples...\n"
     ]
    },
    {
     "name": "stderr",
     "output_type": "stream",
     "text": [
      "Generating samples:   9%|▉         | 882/10000 [4:39:57<50:25:10, 19.91s/it]"
     ]
    },
    {
     "name": "stdout",
     "output_type": "stream",
     "text": [
      "Skipping invalid sample: Q: Unable to generate a question., A: Unable to generate a response.\n"
     ]
    },
    {
     "name": "stderr",
     "output_type": "stream",
     "text": [
      "Generating samples:   9%|▉         | 899/10000 [4:44:16<34:42:42, 13.73s/it]"
     ]
    },
    {
     "name": "stdout",
     "output_type": "stream",
     "text": [
      "Skipping invalid sample: Q: Unable to generate a question., A: Unable to generate a response.\n"
     ]
    },
    {
     "name": "stderr",
     "output_type": "stream",
     "text": [
      "Generating samples:   9%|▉         | 900/10000 [4:44:33<36:49:09, 14.57s/it]"
     ]
    },
    {
     "name": "stdout",
     "output_type": "stream",
     "text": [
      "Generated 900 samples...\n"
     ]
    },
    {
     "name": "stderr",
     "output_type": "stream",
     "text": [
      "Generating samples:   9%|▉         | 910/10000 [4:48:00<43:05:58, 17.07s/it]"
     ]
    },
    {
     "name": "stdout",
     "output_type": "stream",
     "text": [
      "Skipping invalid sample: Q: Unable to generate a question., A: Unable to generate a response.\n"
     ]
    },
    {
     "name": "stderr",
     "output_type": "stream",
     "text": [
      "Generating samples:   9%|▉         | 916/10000 [4:49:23<32:27:54, 12.87s/it]"
     ]
    },
    {
     "name": "stdout",
     "output_type": "stream",
     "text": [
      "Skipping invalid sample: Q: Unable to generate a question., A: Unable to generate a response.\n"
     ]
    },
    {
     "name": "stderr",
     "output_type": "stream",
     "text": [
      "Generating samples:   9%|▉         | 932/10000 [4:53:55<30:30:07, 12.11s/it]"
     ]
    },
    {
     "name": "stdout",
     "output_type": "stream",
     "text": [
      "Skipping invalid sample: Q: Unable to generate a question., A: Unable to generate a response.\n"
     ]
    },
    {
     "name": "stderr",
     "output_type": "stream",
     "text": [
      "Generating samples:  10%|▉         | 978/10000 [5:09:03<51:36:45, 20.59s/it]"
     ]
    },
    {
     "name": "stdout",
     "output_type": "stream",
     "text": [
      "Skipping invalid sample: Q: Unable to generate a question., A: Unable to generate a response.\n"
     ]
    },
    {
     "name": "stderr",
     "output_type": "stream",
     "text": [
      "Generating samples:  10%|▉         | 993/10000 [5:13:54<57:24:39, 22.95s/it]"
     ]
    },
    {
     "name": "stdout",
     "output_type": "stream",
     "text": [
      "Skipping invalid sample: Q: Unable to generate a question., A: Unable to generate a response.\n"
     ]
    },
    {
     "name": "stderr",
     "output_type": "stream",
     "text": [
      "Generating samples:  10%|▉         | 997/10000 [5:15:13<56:04:12, 22.42s/it]"
     ]
    },
    {
     "name": "stdout",
     "output_type": "stream",
     "text": [
      "Skipping invalid sample: Q: Unable to generate a question., A: Unable to generate a response.\n"
     ]
    },
    {
     "name": "stderr",
     "output_type": "stream",
     "text": [
      "Generating samples:  10%|█         | 1000/10000 [5:16:12<52:25:47, 20.97s/it]"
     ]
    },
    {
     "name": "stdout",
     "output_type": "stream",
     "text": [
      "Generated 1000 samples...\n"
     ]
    },
    {
     "name": "stderr",
     "output_type": "stream",
     "text": [
      "Generating samples:  10%|█         | 1010/10000 [5:19:18<45:10:27, 18.09s/it]"
     ]
    },
    {
     "name": "stdout",
     "output_type": "stream",
     "text": [
      "Skipping invalid sample: Q: Unable to generate a question., A: Unable to generate a response.\n"
     ]
    },
    {
     "name": "stderr",
     "output_type": "stream",
     "text": [
      "Generating samples:  11%|█         | 1054/10000 [5:34:43<36:22:26, 14.64s/it]"
     ]
    },
    {
     "name": "stdout",
     "output_type": "stream",
     "text": [
      "Skipping invalid sample: Q: Unable to generate a question., A: Unable to generate a response.\n"
     ]
    },
    {
     "name": "stderr",
     "output_type": "stream",
     "text": [
      "Generating samples:  11%|█         | 1084/10000 [5:44:49<37:54:25, 15.31s/it]"
     ]
    },
    {
     "name": "stdout",
     "output_type": "stream",
     "text": [
      "Skipping invalid sample: Q: Unable to generate a question., A: Unable to generate a response.\n"
     ]
    },
    {
     "name": "stderr",
     "output_type": "stream",
     "text": [
      "Generating samples:  11%|█         | 1100/10000 [5:49:53<45:07:17, 18.25s/it]"
     ]
    },
    {
     "name": "stdout",
     "output_type": "stream",
     "text": [
      "Generated 1100 samples...\n"
     ]
    },
    {
     "name": "stderr",
     "output_type": "stream",
     "text": [
      "Generating samples:  11%|█         | 1108/10000 [5:52:16<42:53:52, 17.37s/it]"
     ]
    },
    {
     "name": "stdout",
     "output_type": "stream",
     "text": [
      "Skipping invalid sample: Q: Unable to generate a question., A: Unable to generate a response.\n"
     ]
    },
    {
     "name": "stderr",
     "output_type": "stream",
     "text": [
      "Generating samples:  11%|█         | 1113/10000 [5:53:36<38:20:38, 15.53s/it]"
     ]
    },
    {
     "name": "stdout",
     "output_type": "stream",
     "text": [
      "Skipping invalid sample: Q: Unable to generate a question., A: Unable to generate a response.\n"
     ]
    },
    {
     "name": "stderr",
     "output_type": "stream",
     "text": [
      "Generating samples:  11%|█▏        | 1131/10000 [5:58:32<28:29:33, 11.57s/it]"
     ]
    },
    {
     "name": "stdout",
     "output_type": "stream",
     "text": [
      "Skipping invalid sample: Q: Unable to generate a question., A: Unable to generate a response.\n"
     ]
    },
    {
     "name": "stderr",
     "output_type": "stream",
     "text": [
      "Generating samples:  11%|█▏        | 1142/10000 [6:01:55<53:28:41, 21.73s/it]"
     ]
    },
    {
     "name": "stdout",
     "output_type": "stream",
     "text": [
      "Skipping invalid sample: Q: Unable to generate a question., A: Unable to generate a response.\n"
     ]
    },
    {
     "name": "stderr",
     "output_type": "stream",
     "text": [
      "Generating samples:  12%|█▏        | 1150/10000 [6:04:11<44:07:55, 17.95s/it]"
     ]
    },
    {
     "name": "stdout",
     "output_type": "stream",
     "text": [
      "Skipping invalid sample: Q: Unable to generate a question., A: Unable to generate a response.\n"
     ]
    },
    {
     "name": "stderr",
     "output_type": "stream",
     "text": [
      "Generating samples:  12%|█▏        | 1174/10000 [6:12:17<49:01:49, 20.00s/it]"
     ]
    },
    {
     "name": "stdout",
     "output_type": "stream",
     "text": [
      "Skipping invalid sample: Q: Unable to generate a question., A: Unable to generate a response.\n"
     ]
    },
    {
     "name": "stderr",
     "output_type": "stream",
     "text": [
      "Generating samples:  12%|█▏        | 1200/10000 [6:20:38<51:43:00, 21.16s/it]"
     ]
    },
    {
     "name": "stdout",
     "output_type": "stream",
     "text": [
      "Generated 1200 samples...\n"
     ]
    },
    {
     "name": "stderr",
     "output_type": "stream",
     "text": [
      "Generating samples:  12%|█▏        | 1215/10000 [6:24:50<31:07:10, 12.75s/it]"
     ]
    },
    {
     "name": "stdout",
     "output_type": "stream",
     "text": [
      "Skipping invalid sample: Q: Unable to generate a question., A: Unable to generate a response.\n"
     ]
    },
    {
     "name": "stderr",
     "output_type": "stream",
     "text": [
      "Generating samples:  12%|█▏        | 1223/10000 [6:27:07<37:28:23, 15.37s/it]"
     ]
    },
    {
     "name": "stdout",
     "output_type": "stream",
     "text": [
      "Skipping invalid sample: Q: Unable to generate a question., A: Unable to generate a response.\n"
     ]
    },
    {
     "name": "stderr",
     "output_type": "stream",
     "text": [
      "Generating samples:  13%|█▎        | 1251/10000 [6:37:44<50:32:29, 20.80s/it]"
     ]
    },
    {
     "name": "stdout",
     "output_type": "stream",
     "text": [
      "Skipping invalid sample: Q: Unable to generate a question., A: Unable to generate a response.\n"
     ]
    },
    {
     "name": "stderr",
     "output_type": "stream",
     "text": [
      "Generating samples:  13%|█▎        | 1286/10000 [6:49:11<34:25:14, 14.22s/it]"
     ]
    },
    {
     "name": "stdout",
     "output_type": "stream",
     "text": [
      "Skipping invalid sample: Q: Unable to generate a question., A: Unable to generate a response.\n"
     ]
    },
    {
     "name": "stderr",
     "output_type": "stream",
     "text": [
      "Generating samples:  13%|█▎        | 1297/10000 [6:53:19<59:07:17, 24.46s/it]"
     ]
    },
    {
     "name": "stdout",
     "output_type": "stream",
     "text": [
      "Skipping invalid sample: Q: Unable to generate a question., A: Unable to generate a response.\n"
     ]
    },
    {
     "name": "stderr",
     "output_type": "stream",
     "text": [
      "Generating samples:  13%|█▎        | 1300/10000 [6:54:20<49:55:59, 20.66s/it]"
     ]
    },
    {
     "name": "stdout",
     "output_type": "stream",
     "text": [
      "Generated 1300 samples...\n"
     ]
    },
    {
     "name": "stderr",
     "output_type": "stream",
     "text": [
      "Generating samples:  13%|█▎        | 1302/10000 [6:55:00<49:16:12, 20.39s/it]"
     ]
    },
    {
     "name": "stdout",
     "output_type": "stream",
     "text": [
      "Skipping invalid sample: Q: Unable to generate a question., A: Unable to generate a response.\n"
     ]
    },
    {
     "name": "stderr",
     "output_type": "stream",
     "text": [
      "Generating samples:  13%|█▎        | 1325/10000 [7:02:15<40:12:26, 16.69s/it]"
     ]
    },
    {
     "name": "stdout",
     "output_type": "stream",
     "text": [
      "Skipping invalid sample: Q: Unable to generate a question., A: Unable to generate a response.\n"
     ]
    },
    {
     "name": "stderr",
     "output_type": "stream",
     "text": [
      "Generating samples:  14%|█▍        | 1380/10000 [7:18:23<40:11:44, 16.79s/it]"
     ]
    },
    {
     "name": "stdout",
     "output_type": "stream",
     "text": [
      "Skipping invalid sample: Q: Unable to generate a question., A: Unable to generate a response.\n"
     ]
    },
    {
     "name": "stderr",
     "output_type": "stream",
     "text": [
      "Generating samples:  14%|█▍        | 1388/10000 [7:21:04<38:27:13, 16.07s/it]"
     ]
    },
    {
     "name": "stdout",
     "output_type": "stream",
     "text": [
      "Skipping invalid sample: Q: Unable to generate a question., A: Unable to generate a response.\n"
     ]
    },
    {
     "name": "stderr",
     "output_type": "stream",
     "text": [
      "Generating samples:  14%|█▍        | 1391/10000 [7:21:54<39:31:03, 16.52s/it]"
     ]
    },
    {
     "name": "stdout",
     "output_type": "stream",
     "text": [
      "Skipping invalid sample: Q: Unable to generate a question., A: Unable to generate a response.\n"
     ]
    },
    {
     "name": "stderr",
     "output_type": "stream",
     "text": [
      "Generating samples:  14%|█▍        | 1400/10000 [7:24:33<46:14:51, 19.36s/it]"
     ]
    },
    {
     "name": "stdout",
     "output_type": "stream",
     "text": [
      "Generated 1400 samples...\n"
     ]
    },
    {
     "name": "stderr",
     "output_type": "stream",
     "text": [
      "Generating samples:  15%|█▍        | 1456/10000 [7:42:43<40:36:48, 17.11s/it]"
     ]
    },
    {
     "name": "stdout",
     "output_type": "stream",
     "text": [
      "Skipping invalid sample: Q: Unable to generate a question., A: Unable to generate a response.\n"
     ]
    },
    {
     "name": "stderr",
     "output_type": "stream",
     "text": [
      "Generating samples:  15%|█▌        | 1500/10000 [7:56:17<53:04:27, 22.48s/it]"
     ]
    },
    {
     "name": "stdout",
     "output_type": "stream",
     "text": [
      "Generated 1500 samples...\n"
     ]
    },
    {
     "name": "stderr",
     "output_type": "stream",
     "text": [
      "Generating samples:  16%|█▌        | 1554/10000 [8:12:37<43:23:04, 18.49s/it]"
     ]
    },
    {
     "name": "stdout",
     "output_type": "stream",
     "text": [
      "Skipping invalid sample: Q: Unable to generate a question., A: Unable to generate a response.\n"
     ]
    },
    {
     "name": "stderr",
     "output_type": "stream",
     "text": [
      "Generating samples:  16%|█▌        | 1588/10000 [8:23:37<39:12:48, 16.78s/it]"
     ]
    },
    {
     "name": "stdout",
     "output_type": "stream",
     "text": [
      "Skipping invalid sample: Q: Unable to generate a question., A: Unable to generate a response.\n"
     ]
    },
    {
     "name": "stderr",
     "output_type": "stream",
     "text": [
      "Generating samples:  16%|█▌        | 1600/10000 [8:27:26<41:21:30, 17.73s/it]"
     ]
    },
    {
     "name": "stdout",
     "output_type": "stream",
     "text": [
      "Generated 1600 samples...\n"
     ]
    },
    {
     "name": "stderr",
     "output_type": "stream",
     "text": [
      "Generating samples:  17%|█▋        | 1683/10000 [8:52:33<46:54:59, 20.31s/it]"
     ]
    },
    {
     "name": "stdout",
     "output_type": "stream",
     "text": [
      "Skipping invalid sample: Q: Unable to generate a question., A: Unable to generate a response.\n"
     ]
    },
    {
     "name": "stderr",
     "output_type": "stream",
     "text": [
      "Generating samples:  17%|█▋        | 1700/10000 [8:57:34<45:59:27, 19.95s/it]"
     ]
    },
    {
     "name": "stdout",
     "output_type": "stream",
     "text": [
      "Generated 1700 samples...\n"
     ]
    },
    {
     "name": "stderr",
     "output_type": "stream",
     "text": [
      "Generating samples:  17%|█▋        | 1711/10000 [9:01:12<53:01:01, 23.03s/it]"
     ]
    },
    {
     "name": "stdout",
     "output_type": "stream",
     "text": [
      "Skipping invalid sample: Q: Unable to generate a question., A: Unable to generate a response.\n"
     ]
    },
    {
     "name": "stderr",
     "output_type": "stream",
     "text": [
      "Generating samples:  18%|█▊        | 1757/10000 [9:16:10<37:20:38, 16.31s/it]"
     ]
    },
    {
     "name": "stdout",
     "output_type": "stream",
     "text": [
      "Skipping invalid sample: Q: Unable to generate a question., A: Unable to generate a response.\n"
     ]
    },
    {
     "name": "stderr",
     "output_type": "stream",
     "text": [
      "Generating samples:  18%|█▊        | 1789/10000 [9:26:05<32:08:42, 14.09s/it]"
     ]
    },
    {
     "name": "stdout",
     "output_type": "stream",
     "text": [
      "Skipping invalid sample: Q: Unable to generate a question., A: Unable to generate a response.\n"
     ]
    },
    {
     "name": "stderr",
     "output_type": "stream",
     "text": [
      "Generating samples:  18%|█▊        | 1800/10000 [9:29:48<48:20:07, 21.22s/it]"
     ]
    },
    {
     "name": "stdout",
     "output_type": "stream",
     "text": [
      "Generated 1800 samples...\n"
     ]
    },
    {
     "name": "stderr",
     "output_type": "stream",
     "text": [
      "Generating samples:  18%|█▊        | 1818/10000 [9:36:09<45:41:10, 20.10s/it]"
     ]
    },
    {
     "name": "stdout",
     "output_type": "stream",
     "text": [
      "Skipping invalid sample: Q: Unable to generate a question., A: Unable to generate a response.\n"
     ]
    },
    {
     "name": "stderr",
     "output_type": "stream",
     "text": [
      "Generating samples:  18%|█▊        | 1843/10000 [9:43:44<47:23:15, 20.91s/it]"
     ]
    },
    {
     "name": "stdout",
     "output_type": "stream",
     "text": [
      "Skipping invalid sample: Q: Unable to generate a question., A: Unable to generate a response.\n"
     ]
    },
    {
     "name": "stderr",
     "output_type": "stream",
     "text": [
      "Generating samples:  19%|█▉        | 1892/10000 [9:58:48<32:51:37, 14.59s/it]"
     ]
    },
    {
     "name": "stdout",
     "output_type": "stream",
     "text": [
      "Skipping invalid sample: Q: Unable to generate a question., A: Unable to generate a response.\n"
     ]
    },
    {
     "name": "stderr",
     "output_type": "stream",
     "text": [
      "Generating samples:  19%|█▉        | 1900/10000 [10:01:17<35:02:08, 15.57s/it]"
     ]
    },
    {
     "name": "stdout",
     "output_type": "stream",
     "text": [
      "Skipping invalid sample: Q: Unable to generate a question., A: Unable to generate a response.\n",
      "Generated 1900 samples...\n"
     ]
    },
    {
     "name": "stderr",
     "output_type": "stream",
     "text": [
      "Generating samples:  19%|█▉        | 1903/10000 [10:02:10<37:49:17, 16.82s/it]"
     ]
    },
    {
     "name": "stdout",
     "output_type": "stream",
     "text": [
      "Skipping invalid sample: Q: Unable to generate a question., A: Unable to generate a response.\n"
     ]
    },
    {
     "name": "stderr",
     "output_type": "stream",
     "text": [
      "Generating samples:  19%|█▉        | 1907/10000 [10:03:14<34:13:47, 15.23s/it]"
     ]
    },
    {
     "name": "stdout",
     "output_type": "stream",
     "text": [
      "Skipping invalid sample: Q: Unable to generate a question., A: Unable to generate a response.\n"
     ]
    },
    {
     "name": "stderr",
     "output_type": "stream",
     "text": [
      "Generating samples:  20%|█▉        | 1955/10000 [10:19:32<44:15:42, 19.81s/it]"
     ]
    },
    {
     "name": "stdout",
     "output_type": "stream",
     "text": [
      "Skipping invalid sample: Q: Unable to generate a question., A: Unable to generate a response.\n"
     ]
    },
    {
     "name": "stderr",
     "output_type": "stream",
     "text": [
      "Generating samples:  20%|██        | 2000/10000 [10:31:34<42:14:33, 19.01s/it]"
     ]
    },
    {
     "name": "stdout",
     "output_type": "stream",
     "text": [
      "Generated 2000 samples...\n"
     ]
    },
    {
     "name": "stderr",
     "output_type": "stream",
     "text": [
      "Generating samples:  20%|██        | 2035/10000 [10:42:55<39:02:26, 17.65s/it]"
     ]
    },
    {
     "name": "stdout",
     "output_type": "stream",
     "text": [
      "Skipping invalid sample: Q: Unable to generate a question., A: Unable to generate a response.\n"
     ]
    },
    {
     "name": "stderr",
     "output_type": "stream",
     "text": [
      "Generating samples:  20%|██        | 2036/10000 [10:43:01<31:11:24, 14.10s/it]"
     ]
    },
    {
     "name": "stdout",
     "output_type": "stream",
     "text": [
      "Skipping invalid sample: Q: Unable to generate a question., A: Unable to generate a response.\n"
     ]
    },
    {
     "name": "stderr",
     "output_type": "stream",
     "text": [
      "Generating samples:  21%|██        | 2054/10000 [10:48:05<39:34:11, 17.93s/it]"
     ]
    },
    {
     "name": "stdout",
     "output_type": "stream",
     "text": [
      "Skipping invalid sample: Q: Unable to generate a question., A: Unable to generate a response.\n"
     ]
    },
    {
     "name": "stderr",
     "output_type": "stream",
     "text": [
      "Generating samples:  21%|██        | 2077/10000 [10:54:49<28:01:23, 12.73s/it]"
     ]
    },
    {
     "name": "stdout",
     "output_type": "stream",
     "text": [
      "Skipping invalid sample: Q: Unable to generate a question., A: Unable to generate a response.\n"
     ]
    },
    {
     "name": "stderr",
     "output_type": "stream",
     "text": [
      "Generating samples:  21%|██        | 2089/10000 [10:58:03<31:25:16, 14.30s/it]"
     ]
    },
    {
     "name": "stdout",
     "output_type": "stream",
     "text": [
      "Skipping invalid sample: Q: Unable to generate a question., A: Unable to generate a response.\n"
     ]
    },
    {
     "name": "stderr",
     "output_type": "stream",
     "text": [
      "Generating samples:  21%|██        | 2099/10000 [11:01:22<39:24:33, 17.96s/it]"
     ]
    },
    {
     "name": "stdout",
     "output_type": "stream",
     "text": [
      "Skipping invalid sample: Q: Unable to generate a question., A: Unable to generate a response.\n"
     ]
    },
    {
     "name": "stderr",
     "output_type": "stream",
     "text": [
      "Generating samples:  21%|██        | 2100/10000 [11:01:43<41:16:38, 18.81s/it]"
     ]
    },
    {
     "name": "stdout",
     "output_type": "stream",
     "text": [
      "Generated 2100 samples...\n"
     ]
    },
    {
     "name": "stderr",
     "output_type": "stream",
     "text": [
      "Generating samples:  22%|██▏       | 2168/10000 [11:22:41<26:02:16, 11.97s/it]"
     ]
    },
    {
     "name": "stdout",
     "output_type": "stream",
     "text": [
      "Skipping invalid sample: Q: Unable to generate a question., A: Unable to generate a response.\n"
     ]
    },
    {
     "name": "stderr",
     "output_type": "stream",
     "text": [
      "Generating samples:  22%|██▏       | 2169/10000 [11:22:46<21:29:58,  9.88s/it]"
     ]
    },
    {
     "name": "stdout",
     "output_type": "stream",
     "text": [
      "Skipping invalid sample: Q: Unable to generate a question., A: Unable to generate a response.\n"
     ]
    },
    {
     "name": "stderr",
     "output_type": "stream",
     "text": [
      "Generating samples:  22%|██▏       | 2187/10000 [11:27:44<32:34:18, 15.01s/it]"
     ]
    },
    {
     "name": "stdout",
     "output_type": "stream",
     "text": [
      "Skipping invalid sample: Q: Unable to generate a question., A: Unable to generate a response.\n"
     ]
    },
    {
     "name": "stderr",
     "output_type": "stream",
     "text": [
      "Generating samples:  22%|██▏       | 2200/10000 [11:31:20<41:54:27, 19.34s/it]"
     ]
    },
    {
     "name": "stdout",
     "output_type": "stream",
     "text": [
      "Generated 2200 samples...\n"
     ]
    },
    {
     "name": "stderr",
     "output_type": "stream",
     "text": [
      "Generating samples:  22%|██▏       | 2202/10000 [11:31:39<29:51:00, 13.78s/it]"
     ]
    },
    {
     "name": "stdout",
     "output_type": "stream",
     "text": [
      "Skipping invalid sample: Q: Unable to generate a question., A: Unable to generate a response.\n"
     ]
    },
    {
     "name": "stderr",
     "output_type": "stream",
     "text": [
      "Generating samples:  22%|██▏       | 2233/10000 [11:40:17<48:52:59, 22.66s/it]"
     ]
    },
    {
     "name": "stdout",
     "output_type": "stream",
     "text": [
      "Skipping invalid sample: Q: Unable to generate a question., A: Unable to generate a response.\n"
     ]
    },
    {
     "name": "stderr",
     "output_type": "stream",
     "text": [
      "Generating samples:  23%|██▎       | 2270/10000 [11:50:50<38:37:49, 17.99s/it]"
     ]
    },
    {
     "name": "stdout",
     "output_type": "stream",
     "text": [
      "Skipping invalid sample: Q: Unable to generate a question., A: Unable to generate a response.\n"
     ]
    },
    {
     "name": "stderr",
     "output_type": "stream",
     "text": [
      "Generating samples:  23%|██▎       | 2273/10000 [11:51:43<41:02:26, 19.12s/it]"
     ]
    },
    {
     "name": "stdout",
     "output_type": "stream",
     "text": [
      "Skipping invalid sample: Q: Unable to generate a question., A: Unable to generate a response.\n"
     ]
    },
    {
     "name": "stderr",
     "output_type": "stream",
     "text": [
      "Generating samples:  23%|██▎       | 2284/10000 [11:55:27<42:19:23, 19.75s/it]"
     ]
    },
    {
     "name": "stdout",
     "output_type": "stream",
     "text": [
      "Skipping invalid sample: Q: Unable to generate a question., A: Unable to generate a response.\n"
     ]
    },
    {
     "name": "stderr",
     "output_type": "stream",
     "text": [
      "Generating samples:  23%|██▎       | 2293/10000 [11:58:36<43:07:58, 20.15s/it]"
     ]
    },
    {
     "name": "stdout",
     "output_type": "stream",
     "text": [
      "Skipping invalid sample: Q: Unable to generate a question., A: Unable to generate a response.\n"
     ]
    },
    {
     "name": "stderr",
     "output_type": "stream",
     "text": [
      "Generating samples:  23%|██▎       | 2300/10000 [12:00:49<37:34:28, 17.57s/it]"
     ]
    },
    {
     "name": "stdout",
     "output_type": "stream",
     "text": [
      "Generated 2300 samples...\n"
     ]
    },
    {
     "name": "stderr",
     "output_type": "stream",
     "text": [
      "Generating samples:  24%|██▎       | 2373/10000 [12:23:00<37:51:03, 17.87s/it]"
     ]
    },
    {
     "name": "stdout",
     "output_type": "stream",
     "text": [
      "Skipping invalid sample: Q: Unable to generate a question., A: Unable to generate a response.\n"
     ]
    },
    {
     "name": "stderr",
     "output_type": "stream",
     "text": [
      "Generating samples:  24%|██▍       | 2376/10000 [12:24:03<38:55:14, 18.38s/it]"
     ]
    },
    {
     "name": "stdout",
     "output_type": "stream",
     "text": [
      "Skipping invalid sample: Q: Unable to generate a question., A: Unable to generate a response.\n"
     ]
    },
    {
     "name": "stderr",
     "output_type": "stream",
     "text": [
      "Generating samples:  24%|██▍       | 2384/10000 [12:26:15<30:55:48, 14.62s/it]"
     ]
    },
    {
     "name": "stdout",
     "output_type": "stream",
     "text": [
      "Skipping invalid sample: Q: Unable to generate a question., A: Unable to generate a response.\n"
     ]
    },
    {
     "name": "stderr",
     "output_type": "stream",
     "text": [
      "Generating samples:  24%|██▍       | 2400/10000 [12:30:59<40:15:11, 19.07s/it]"
     ]
    },
    {
     "name": "stdout",
     "output_type": "stream",
     "text": [
      "Generated 2400 samples...\n"
     ]
    },
    {
     "name": "stderr",
     "output_type": "stream",
     "text": [
      "Generating samples:  24%|██▍       | 2435/10000 [12:41:14<37:47:11, 17.98s/it]"
     ]
    },
    {
     "name": "stdout",
     "output_type": "stream",
     "text": [
      "Skipping invalid sample: Q: Unable to generate a question., A: Unable to generate a response.\n"
     ]
    },
    {
     "name": "stderr",
     "output_type": "stream",
     "text": [
      "Generating samples:  25%|██▍       | 2455/10000 [12:47:12<31:02:19, 14.81s/it]"
     ]
    },
    {
     "name": "stdout",
     "output_type": "stream",
     "text": [
      "Skipping invalid sample: Q: Unable to generate a question., A: Unable to generate a response.\n"
     ]
    },
    {
     "name": "stderr",
     "output_type": "stream",
     "text": [
      "Generating samples:  25%|██▍       | 2476/10000 [12:53:26<35:59:29, 17.22s/it]"
     ]
    },
    {
     "name": "stdout",
     "output_type": "stream",
     "text": [
      "Skipping invalid sample: Q: Unable to generate a question., A: Unable to generate a response.\n"
     ]
    },
    {
     "name": "stderr",
     "output_type": "stream",
     "text": [
      "Generating samples:  25%|██▍       | 2481/10000 [12:54:38<28:11:19, 13.50s/it]"
     ]
    },
    {
     "name": "stdout",
     "output_type": "stream",
     "text": [
      "Skipping invalid sample: Q: Unable to generate a question., A: Unable to generate a response.\n"
     ]
    },
    {
     "name": "stderr",
     "output_type": "stream",
     "text": [
      "Generating samples:  25%|██▍       | 2485/10000 [12:55:34<28:50:59, 13.82s/it]"
     ]
    },
    {
     "name": "stdout",
     "output_type": "stream",
     "text": [
      "Skipping invalid sample: Q: Unable to generate a question., A: Unable to generate a response.\n"
     ]
    },
    {
     "name": "stderr",
     "output_type": "stream",
     "text": [
      "Generating samples:  25%|██▌       | 2500/10000 [12:59:57<34:27:47, 16.54s/it]"
     ]
    },
    {
     "name": "stdout",
     "output_type": "stream",
     "text": [
      "Generated 2500 samples...\n"
     ]
    },
    {
     "name": "stderr",
     "output_type": "stream",
     "text": [
      "Generating samples:  26%|██▌       | 2565/10000 [13:20:26<42:47:18, 20.72s/it]"
     ]
    },
    {
     "name": "stdout",
     "output_type": "stream",
     "text": [
      "Skipping invalid sample: Q: Unable to generate a question., A: Unable to generate a response.\n"
     ]
    },
    {
     "name": "stderr",
     "output_type": "stream",
     "text": [
      "Generating samples:  26%|██▌       | 2600/10000 [13:32:50<53:51:28, 26.20s/it]"
     ]
    },
    {
     "name": "stdout",
     "output_type": "stream",
     "text": [
      "Generated 2600 samples...\n"
     ]
    },
    {
     "name": "stderr",
     "output_type": "stream",
     "text": [
      "Generating samples:  26%|██▌       | 2611/10000 [13:36:08<28:04:40, 13.68s/it]"
     ]
    },
    {
     "name": "stdout",
     "output_type": "stream",
     "text": [
      "Skipping invalid sample: Q: Unable to generate a question., A: Unable to generate a response.\n"
     ]
    },
    {
     "name": "stderr",
     "output_type": "stream",
     "text": [
      "Generating samples:  26%|██▋       | 2629/10000 [13:41:47<39:47:13, 19.43s/it]"
     ]
    },
    {
     "name": "stdout",
     "output_type": "stream",
     "text": [
      "Skipping invalid sample: Q: Unable to generate a question., A: Unable to generate a response.\n"
     ]
    },
    {
     "name": "stderr",
     "output_type": "stream",
     "text": [
      "Generating samples:  26%|██▋       | 2634/10000 [13:43:34<47:11:59, 23.07s/it]"
     ]
    },
    {
     "name": "stdout",
     "output_type": "stream",
     "text": [
      "Skipping invalid sample: Q: Unable to generate a question., A: Unable to generate a response.\n"
     ]
    },
    {
     "name": "stderr",
     "output_type": "stream",
     "text": [
      "Generating samples:  26%|██▋       | 2643/10000 [13:46:01<25:26:11, 12.45s/it]"
     ]
    },
    {
     "name": "stdout",
     "output_type": "stream",
     "text": [
      "Skipping invalid sample: Q: Unable to generate a question., A: Unable to generate a response.\n"
     ]
    },
    {
     "name": "stderr",
     "output_type": "stream",
     "text": [
      "Generating samples:  27%|██▋       | 2654/10000 [13:48:56<25:54:10, 12.69s/it]"
     ]
    },
    {
     "name": "stdout",
     "output_type": "stream",
     "text": [
      "Skipping invalid sample: Q: Unable to generate a question., A: Unable to generate a response.\n"
     ]
    },
    {
     "name": "stderr",
     "output_type": "stream",
     "text": [
      "Generating samples:  27%|██▋       | 2661/10000 [13:51:04<33:23:10, 16.38s/it]"
     ]
    },
    {
     "name": "stdout",
     "output_type": "stream",
     "text": [
      "Skipping invalid sample: Q: Unable to generate a question., A: Unable to generate a response.\n"
     ]
    },
    {
     "name": "stderr",
     "output_type": "stream",
     "text": [
      "Generating samples:  27%|██▋       | 2700/10000 [14:03:29<33:39:14, 16.60s/it]"
     ]
    },
    {
     "name": "stdout",
     "output_type": "stream",
     "text": [
      "Generated 2700 samples...\n"
     ]
    },
    {
     "name": "stderr",
     "output_type": "stream",
     "text": [
      "Generating samples:  28%|██▊       | 2758/10000 [14:20:42<25:46:21, 12.81s/it]"
     ]
    },
    {
     "name": "stdout",
     "output_type": "stream",
     "text": [
      "Skipping invalid sample: Q: Unable to generate a question., A: Unable to generate a response.\n"
     ]
    },
    {
     "name": "stderr",
     "output_type": "stream",
     "text": [
      "Generating samples:  28%|██▊       | 2761/10000 [14:21:28<25:49:52, 12.85s/it]"
     ]
    },
    {
     "name": "stdout",
     "output_type": "stream",
     "text": [
      "Skipping invalid sample: Q: Unable to generate a question., A: Unable to generate a response.\n"
     ]
    },
    {
     "name": "stderr",
     "output_type": "stream",
     "text": [
      "Generating samples:  28%|██▊       | 2793/10000 [14:31:04<30:41:05, 15.33s/it]"
     ]
    },
    {
     "name": "stdout",
     "output_type": "stream",
     "text": [
      "Skipping invalid sample: Q: Unable to generate a question., A: Unable to generate a response.\n"
     ]
    },
    {
     "name": "stderr",
     "output_type": "stream",
     "text": [
      "Generating samples:  28%|██▊       | 2800/10000 [14:33:19<34:56:00, 17.47s/it]"
     ]
    },
    {
     "name": "stdout",
     "output_type": "stream",
     "text": [
      "Generated 2800 samples...\n"
     ]
    },
    {
     "name": "stderr",
     "output_type": "stream",
     "text": [
      "Generating samples:  28%|██▊       | 2821/10000 [14:39:39<34:24:33, 17.25s/it]"
     ]
    },
    {
     "name": "stdout",
     "output_type": "stream",
     "text": [
      "Skipping invalid sample: Q: Unable to generate a question., A: Unable to generate a response.\n"
     ]
    },
    {
     "name": "stderr",
     "output_type": "stream",
     "text": [
      "Generating samples:  28%|██▊       | 2825/10000 [14:40:47<33:23:03, 16.75s/it]"
     ]
    },
    {
     "name": "stdout",
     "output_type": "stream",
     "text": [
      "Skipping invalid sample: Q: Unable to generate a question., A: Unable to generate a response.\n"
     ]
    },
    {
     "name": "stderr",
     "output_type": "stream",
     "text": [
      "Generating samples:  28%|██▊       | 2837/10000 [14:44:25<30:16:27, 15.22s/it]"
     ]
    },
    {
     "name": "stdout",
     "output_type": "stream",
     "text": [
      "Skipping invalid sample: Q: Unable to generate a question., A: Unable to generate a response.\n"
     ]
    },
    {
     "name": "stderr",
     "output_type": "stream",
     "text": [
      "Generating samples:  29%|██▉       | 2900/10000 [15:05:52<45:47:32, 23.22s/it]"
     ]
    },
    {
     "name": "stdout",
     "output_type": "stream",
     "text": [
      "Generated 2900 samples...\n"
     ]
    },
    {
     "name": "stderr",
     "output_type": "stream",
     "text": [
      "Generating samples:  29%|██▉       | 2906/10000 [15:08:17<40:42:40, 20.66s/it]"
     ]
    },
    {
     "name": "stdout",
     "output_type": "stream",
     "text": [
      "Skipping invalid sample: Q: Unable to generate a question., A: Unable to generate a response.\n"
     ]
    },
    {
     "name": "stderr",
     "output_type": "stream",
     "text": [
      "Generating samples:  30%|██▉       | 2996/10000 [15:37:47<39:04:09, 20.08s/it]"
     ]
    },
    {
     "name": "stdout",
     "output_type": "stream",
     "text": [
      "Skipping invalid sample: Q: Unable to generate a question., A: Unable to generate a response.\n"
     ]
    },
    {
     "name": "stderr",
     "output_type": "stream",
     "text": [
      "Generating samples:  30%|███       | 3000/10000 [15:39:04<34:49:07, 17.91s/it]"
     ]
    },
    {
     "name": "stdout",
     "output_type": "stream",
     "text": [
      "Generated 3000 samples...\n"
     ]
    },
    {
     "name": "stderr",
     "output_type": "stream",
     "text": [
      "Generating samples:  30%|███       | 3005/10000 [15:40:46<36:56:08, 19.01s/it]"
     ]
    },
    {
     "name": "stdout",
     "output_type": "stream",
     "text": [
      "Skipping invalid sample: Q: Unable to generate a question., A: Unable to generate a response.\n"
     ]
    },
    {
     "name": "stderr",
     "output_type": "stream",
     "text": [
      "Generating samples:  30%|███       | 3017/10000 [15:44:39<37:25:18, 19.29s/it]"
     ]
    },
    {
     "name": "stdout",
     "output_type": "stream",
     "text": [
      "Skipping invalid sample: Q: Unable to generate a question., A: Unable to generate a response.\n"
     ]
    },
    {
     "name": "stderr",
     "output_type": "stream",
     "text": [
      "Generating samples:  30%|███       | 3023/10000 [15:46:07<25:45:31, 13.29s/it]"
     ]
    },
    {
     "name": "stdout",
     "output_type": "stream",
     "text": [
      "Skipping invalid sample: Q: Unable to generate a question., A: Unable to generate a response.\n"
     ]
    },
    {
     "name": "stderr",
     "output_type": "stream",
     "text": [
      "Generating samples:  30%|███       | 3045/10000 [15:53:02<45:34:29, 23.59s/it]"
     ]
    },
    {
     "name": "stdout",
     "output_type": "stream",
     "text": [
      "Skipping invalid sample: Q: Unable to generate a question., A: Unable to generate a response.\n"
     ]
    },
    {
     "name": "stderr",
     "output_type": "stream",
     "text": [
      "Generating samples:  31%|███       | 3059/10000 [15:57:46<42:02:59, 21.81s/it]"
     ]
    },
    {
     "name": "stdout",
     "output_type": "stream",
     "text": [
      "Skipping invalid sample: Q: Unable to generate a question., A: Unable to generate a response.\n"
     ]
    },
    {
     "name": "stderr",
     "output_type": "stream",
     "text": [
      "Generating samples:  31%|███       | 3076/10000 [16:03:54<40:24:15, 21.01s/it]"
     ]
    },
    {
     "name": "stdout",
     "output_type": "stream",
     "text": [
      "Skipping invalid sample: Q: Unable to generate a question., A: Unable to generate a response.\n"
     ]
    },
    {
     "name": "stderr",
     "output_type": "stream",
     "text": [
      "Generating samples:  31%|███       | 3078/10000 [16:04:42<42:29:16, 22.10s/it]"
     ]
    },
    {
     "name": "stdout",
     "output_type": "stream",
     "text": [
      "Skipping invalid sample: Q: Unable to generate a question., A: Unable to generate a response.\n"
     ]
    },
    {
     "name": "stderr",
     "output_type": "stream",
     "text": [
      "Generating samples:  31%|███       | 3097/10000 [16:11:33<38:01:29, 19.83s/it]"
     ]
    },
    {
     "name": "stdout",
     "output_type": "stream",
     "text": [
      "Skipping invalid sample: Q: Unable to generate a question., A: Unable to generate a response.\n"
     ]
    },
    {
     "name": "stderr",
     "output_type": "stream",
     "text": [
      "Generating samples:  31%|███       | 3100/10000 [16:12:26<34:47:12, 18.15s/it]"
     ]
    },
    {
     "name": "stdout",
     "output_type": "stream",
     "text": [
      "Generated 3100 samples...\n"
     ]
    },
    {
     "name": "stderr",
     "output_type": "stream",
     "text": [
      "Generating samples:  32%|███▏      | 3163/10000 [16:35:20<36:21:48, 19.15s/it]"
     ]
    },
    {
     "name": "stdout",
     "output_type": "stream",
     "text": [
      "Skipping invalid sample: Q: Unable to generate a question., A: Unable to generate a response.\n"
     ]
    },
    {
     "name": "stderr",
     "output_type": "stream",
     "text": [
      "Generating samples:  32%|███▏      | 3174/10000 [16:39:02<31:37:22, 16.68s/it]"
     ]
    },
    {
     "name": "stdout",
     "output_type": "stream",
     "text": [
      "Skipping invalid sample: Q: Unable to generate a question., A: Unable to generate a response.\n"
     ]
    },
    {
     "name": "stderr",
     "output_type": "stream",
     "text": [
      "Generating samples:  32%|███▏      | 3180/10000 [16:40:42<28:44:01, 15.17s/it]"
     ]
    },
    {
     "name": "stdout",
     "output_type": "stream",
     "text": [
      "Skipping invalid sample: Q: Unable to generate a question., A: Unable to generate a response.\n"
     ]
    },
    {
     "name": "stderr",
     "output_type": "stream",
     "text": [
      "Generating samples:  32%|███▏      | 3200/10000 [16:47:46<41:52:16, 22.17s/it]"
     ]
    },
    {
     "name": "stdout",
     "output_type": "stream",
     "text": [
      "Generated 3200 samples...\n"
     ]
    },
    {
     "name": "stderr",
     "output_type": "stream",
     "text": [
      "Generating samples:  32%|███▏      | 3213/10000 [16:52:04<30:19:38, 16.09s/it]"
     ]
    },
    {
     "name": "stdout",
     "output_type": "stream",
     "text": [
      "Skipping invalid sample: Q: Unable to generate a question., A: Unable to generate a response.\n"
     ]
    },
    {
     "name": "stderr",
     "output_type": "stream",
     "text": [
      "Generating samples:  32%|███▏      | 3228/10000 [16:57:03<41:33:59, 22.10s/it]"
     ]
    },
    {
     "name": "stdout",
     "output_type": "stream",
     "text": [
      "Skipping invalid sample: Q: Unable to generate a question., A: Unable to generate a response.\n"
     ]
    },
    {
     "name": "stderr",
     "output_type": "stream",
     "text": [
      "Generating samples:  33%|███▎      | 3264/10000 [17:09:12<22:11:07, 11.86s/it]"
     ]
    },
    {
     "name": "stdout",
     "output_type": "stream",
     "text": [
      "Skipping invalid sample: Q: Unable to generate a question., A: Unable to generate a response.\n"
     ]
    },
    {
     "name": "stderr",
     "output_type": "stream",
     "text": [
      "Generating samples:  33%|███▎      | 3271/10000 [17:11:48<40:56:38, 21.90s/it]"
     ]
    },
    {
     "name": "stdout",
     "output_type": "stream",
     "text": [
      "Skipping invalid sample: Q: Unable to generate a question., A: Unable to generate a response.\n"
     ]
    },
    {
     "name": "stderr",
     "output_type": "stream",
     "text": [
      "Generating samples:  33%|███▎      | 3300/10000 [17:20:15<32:41:07, 17.56s/it]"
     ]
    },
    {
     "name": "stdout",
     "output_type": "stream",
     "text": [
      "Generated 3300 samples...\n"
     ]
    },
    {
     "name": "stderr",
     "output_type": "stream",
     "text": [
      "Generating samples:  33%|███▎      | 3317/10000 [17:25:54<29:57:40, 16.14s/it]"
     ]
    },
    {
     "name": "stdout",
     "output_type": "stream",
     "text": [
      "Skipping invalid sample: Q: Unable to generate a question., A: Unable to generate a response.\n"
     ]
    },
    {
     "name": "stderr",
     "output_type": "stream",
     "text": [
      "Generating samples:  34%|███▍      | 3400/10000 [17:55:18<38:17:38, 20.89s/it]"
     ]
    },
    {
     "name": "stdout",
     "output_type": "stream",
     "text": [
      "Generated 3400 samples...\n"
     ]
    },
    {
     "name": "stderr",
     "output_type": "stream",
     "text": [
      "Generating samples:  35%|███▍      | 3468/10000 [18:16:23<26:44:54, 14.74s/it]"
     ]
    },
    {
     "name": "stdout",
     "output_type": "stream",
     "text": [
      "Skipping invalid sample: Q: Unable to generate a question., A: Unable to generate a response.\n"
     ]
    },
    {
     "name": "stderr",
     "output_type": "stream",
     "text": [
      "Generating samples:  35%|███▍      | 3492/10000 [18:23:41<32:02:52, 17.73s/it]"
     ]
    },
    {
     "name": "stdout",
     "output_type": "stream",
     "text": [
      "Skipping invalid sample: Q: Unable to generate a question., A: Unable to generate a response.\n"
     ]
    },
    {
     "name": "stderr",
     "output_type": "stream",
     "text": [
      "Generating samples:  35%|███▌      | 3500/10000 [18:26:26<38:18:30, 21.22s/it]"
     ]
    },
    {
     "name": "stdout",
     "output_type": "stream",
     "text": [
      "Generated 3500 samples...\n"
     ]
    },
    {
     "name": "stderr",
     "output_type": "stream",
     "text": [
      "Generating samples:  35%|███▌      | 3519/10000 [18:32:31<26:07:51, 14.52s/it]"
     ]
    },
    {
     "name": "stdout",
     "output_type": "stream",
     "text": [
      "Skipping invalid sample: Q: Unable to generate a question., A: Unable to generate a response.\n"
     ]
    },
    {
     "name": "stderr",
     "output_type": "stream",
     "text": [
      "Generating samples:  35%|███▌      | 3533/10000 [18:37:38<36:20:04, 20.23s/it]"
     ]
    },
    {
     "name": "stdout",
     "output_type": "stream",
     "text": [
      "Skipping invalid sample: Q: Unable to generate a question., A: Unable to generate a response.\n"
     ]
    },
    {
     "name": "stderr",
     "output_type": "stream",
     "text": [
      "Generating samples:  36%|███▌      | 3600/10000 [18:58:47<32:16:17, 18.15s/it]"
     ]
    },
    {
     "name": "stdout",
     "output_type": "stream",
     "text": [
      "Generated 3600 samples...\n"
     ]
    },
    {
     "name": "stderr",
     "output_type": "stream",
     "text": [
      "Generating samples:  36%|███▌      | 3605/10000 [19:00:02<28:41:20, 16.15s/it]"
     ]
    },
    {
     "name": "stdout",
     "output_type": "stream",
     "text": [
      "Skipping invalid sample: Q: Unable to generate a question., A: Unable to generate a response.\n"
     ]
    },
    {
     "name": "stderr",
     "output_type": "stream",
     "text": [
      "Generating samples:  36%|███▌      | 3607/10000 [19:00:49<35:22:53, 19.92s/it]"
     ]
    },
    {
     "name": "stdout",
     "output_type": "stream",
     "text": [
      "Skipping invalid sample: Q: Unable to generate a question., A: Unable to generate a response.\n"
     ]
    },
    {
     "name": "stderr",
     "output_type": "stream",
     "text": [
      "Generating samples:  36%|███▌      | 3618/10000 [19:03:48<23:42:02, 13.37s/it]"
     ]
    },
    {
     "name": "stdout",
     "output_type": "stream",
     "text": [
      "Skipping invalid sample: Q: Unable to generate a question., A: Unable to generate a response.\n"
     ]
    },
    {
     "name": "stderr",
     "output_type": "stream",
     "text": [
      "Generating samples:  37%|███▋      | 3658/10000 [19:15:21<28:09:56, 15.99s/it]"
     ]
    },
    {
     "name": "stdout",
     "output_type": "stream",
     "text": [
      "Skipping invalid sample: Q: Unable to generate a question., A: Unable to generate a response.\n"
     ]
    },
    {
     "name": "stderr",
     "output_type": "stream",
     "text": [
      "Generating samples:  37%|███▋      | 3670/10000 [19:18:53<35:04:40, 19.95s/it]"
     ]
    },
    {
     "name": "stdout",
     "output_type": "stream",
     "text": [
      "Skipping invalid sample: Q: Unable to generate a question., A: Unable to generate a response.\n"
     ]
    },
    {
     "name": "stderr",
     "output_type": "stream",
     "text": [
      "Generating samples:  37%|███▋      | 3672/10000 [19:19:25<29:08:05, 16.57s/it]"
     ]
    },
    {
     "name": "stdout",
     "output_type": "stream",
     "text": [
      "Skipping invalid sample: Q: Unable to generate a question., A: Unable to generate a response.\n"
     ]
    },
    {
     "name": "stderr",
     "output_type": "stream",
     "text": [
      "Generating samples:  37%|███▋      | 3677/10000 [19:20:51<31:19:23, 17.83s/it]"
     ]
    },
    {
     "name": "stdout",
     "output_type": "stream",
     "text": [
      "Skipping invalid sample: Q: Unable to generate a question., A: Unable to generate a response.\n"
     ]
    },
    {
     "name": "stderr",
     "output_type": "stream",
     "text": [
      "Generating samples:  37%|███▋      | 3697/10000 [19:26:36<33:27:46, 19.11s/it]"
     ]
    },
    {
     "name": "stdout",
     "output_type": "stream",
     "text": [
      "Skipping invalid sample: Q: Unable to generate a question., A: Unable to generate a response.\n"
     ]
    },
    {
     "name": "stderr",
     "output_type": "stream",
     "text": [
      "Generating samples:  37%|███▋      | 3700/10000 [19:27:07<23:25:32, 13.39s/it]"
     ]
    },
    {
     "name": "stdout",
     "output_type": "stream",
     "text": [
      "Generated 3700 samples...\n"
     ]
    },
    {
     "name": "stderr",
     "output_type": "stream",
     "text": [
      "Generating samples:  37%|███▋      | 3730/10000 [19:34:57<25:23:15, 14.58s/it]"
     ]
    },
    {
     "name": "stdout",
     "output_type": "stream",
     "text": [
      "Skipping invalid sample: Q: Unable to generate a question., A: Unable to generate a response.\n"
     ]
    },
    {
     "name": "stderr",
     "output_type": "stream",
     "text": [
      "Generating samples:  38%|███▊      | 3761/10000 [19:45:01<33:18:24, 19.22s/it]"
     ]
    },
    {
     "name": "stdout",
     "output_type": "stream",
     "text": [
      "Skipping invalid sample: Q: Unable to generate a question., A: Unable to generate a response.\n"
     ]
    },
    {
     "name": "stderr",
     "output_type": "stream",
     "text": [
      "Generating samples:  38%|███▊      | 3765/10000 [19:46:37<37:27:26, 21.63s/it]"
     ]
    },
    {
     "name": "stdout",
     "output_type": "stream",
     "text": [
      "Skipping invalid sample: Q: Unable to generate a question., A: Unable to generate a response.\n"
     ]
    },
    {
     "name": "stderr",
     "output_type": "stream",
     "text": [
      "Generating samples:  38%|███▊      | 3784/10000 [19:52:36<23:45:13, 13.76s/it]"
     ]
    },
    {
     "name": "stdout",
     "output_type": "stream",
     "text": [
      "Skipping invalid sample: Q: Unable to generate a question., A: Unable to generate a response.\n"
     ]
    },
    {
     "name": "stderr",
     "output_type": "stream",
     "text": [
      "Generating samples:  38%|███▊      | 3800/10000 [19:57:43<38:41:43, 22.47s/it]"
     ]
    },
    {
     "name": "stdout",
     "output_type": "stream",
     "text": [
      "Generated 3800 samples...\n"
     ]
    },
    {
     "name": "stderr",
     "output_type": "stream",
     "text": [
      "Generating samples:  38%|███▊      | 3816/10000 [20:02:46<31:49:13, 18.52s/it]"
     ]
    },
    {
     "name": "stdout",
     "output_type": "stream",
     "text": [
      "Skipping invalid sample: Q: Unable to generate a question., A: Unable to generate a response.\n"
     ]
    },
    {
     "name": "stderr",
     "output_type": "stream",
     "text": [
      "Generating samples:  38%|███▊      | 3840/10000 [20:10:19<36:16:58, 21.20s/it]"
     ]
    },
    {
     "name": "stdout",
     "output_type": "stream",
     "text": [
      "Skipping invalid sample: Q: Unable to generate a question., A: Unable to generate a response.\n"
     ]
    },
    {
     "name": "stderr",
     "output_type": "stream",
     "text": [
      "Generating samples:  39%|███▊      | 3853/10000 [20:13:33<22:42:37, 13.30s/it]"
     ]
    },
    {
     "name": "stdout",
     "output_type": "stream",
     "text": [
      "Skipping invalid sample: Q: Unable to generate a question., A: Unable to generate a response.\n"
     ]
    },
    {
     "name": "stderr",
     "output_type": "stream",
     "text": [
      "Generating samples:  39%|███▊      | 3870/10000 [20:18:47<31:49:32, 18.69s/it]"
     ]
    },
    {
     "name": "stdout",
     "output_type": "stream",
     "text": [
      "Skipping invalid sample: Q: Unable to generate a question., A: Unable to generate a response.\n"
     ]
    },
    {
     "name": "stderr",
     "output_type": "stream",
     "text": [
      "Generating samples:  39%|███▉      | 3876/10000 [20:20:46<28:17:03, 16.63s/it]"
     ]
    },
    {
     "name": "stdout",
     "output_type": "stream",
     "text": [
      "Skipping invalid sample: Q: Unable to generate a question., A: Unable to generate a response.\n"
     ]
    },
    {
     "name": "stderr",
     "output_type": "stream",
     "text": [
      "Generating samples:  39%|███▉      | 3888/10000 [20:24:15<24:08:03, 14.22s/it]"
     ]
    },
    {
     "name": "stdout",
     "output_type": "stream",
     "text": [
      "Skipping invalid sample: Q: Unable to generate a question., A: Unable to generate a response.\n"
     ]
    },
    {
     "name": "stderr",
     "output_type": "stream",
     "text": [
      "Generating samples:  39%|███▉      | 3900/10000 [20:28:01<33:43:30, 19.90s/it]"
     ]
    },
    {
     "name": "stdout",
     "output_type": "stream",
     "text": [
      "Generated 3900 samples...\n"
     ]
    },
    {
     "name": "stderr",
     "output_type": "stream",
     "text": [
      "Generating samples:  39%|███▉      | 3902/10000 [20:28:46<36:11:10, 21.36s/it]"
     ]
    },
    {
     "name": "stdout",
     "output_type": "stream",
     "text": [
      "Skipping invalid sample: Q: Unable to generate a question., A: Unable to generate a response.\n"
     ]
    },
    {
     "name": "stderr",
     "output_type": "stream",
     "text": [
      "Generating samples:  39%|███▉      | 3920/10000 [20:35:16<34:13:32, 20.27s/it]"
     ]
    }
   ],
   "source": [
    "import PyPDF2\n",
    "import csv, re\n",
    "import random\n",
    "from tqdm import tqdm\n",
    "import time\n",
    "from transformers import AutoTokenizer\n",
    "from mlx_lm import load, generate\n",
    "import subprocess\n",
    "\n",
    "def run_command_with_live_output(command: list[str]) -> None:\n",
    "    process = subprocess.Popen(command, stdout=subprocess.PIPE, stderr=subprocess.PIPE, text=True)\n",
    "    while True:\n",
    "        output = process.stdout.readline()\n",
    "        if output == '' and process.poll() is not None:\n",
    "            break\n",
    "        if output:\n",
    "            print(output.strip())\n",
    "    err_output = process.stderr.read()\n",
    "    if err_output:\n",
    "        print(err_output)\n",
    "\n",
    "def extract_text_from_pdf(pdf_path):\n",
    "    print(\"Extracting text from PDF...\")\n",
    "    with open(pdf_path, 'rb') as file:\n",
    "        reader = PyPDF2.PdfReader(file)\n",
    "        text = \"\"\n",
    "        for page in tqdm(reader.pages, desc=\"Processing pages\"):\n",
    "            text += page.extract_text()\n",
    "    print(\"Text extraction completed\")\n",
    "    return text\n",
    "\n",
    "def create_chunks(text, min_chunk_size=200, max_chunk_size=1000):\n",
    "    print(\"Splitting text into chunks...\")\n",
    "    chunks = []\n",
    "    current_chunk = \"\"\n",
    "    sentences = text.split('.')\n",
    "    for sentence in tqdm(sentences, desc=\"Creating chunks\"):\n",
    "        if len(current_chunk) + len(sentence) > max_chunk_size and len(current_chunk) >= min_chunk_size:\n",
    "            chunks.append(current_chunk.strip())\n",
    "            current_chunk = sentence\n",
    "        else:\n",
    "            current_chunk += sentence + '.'\n",
    "    if current_chunk:\n",
    "        chunks.append(current_chunk.strip())\n",
    "    print(f\"Number of chunks created: {len(chunks)}\")\n",
    "    return chunks\n",
    "\n",
    "def load_model_and_tokenizer(model_path):\n",
    "    print(\"Loading model and tokenizer...\")\n",
    "    model, tokenizer = load(model_path)\n",
    "    return model, tokenizer\n",
    "\n",
    "def generate_question_response_pair(chunk, model, tokenizer, max_tokens=512):\n",
    "    instruction = \"\"\"\n",
    "    Based on the IMDG code, create a practical question and provide a detailed, informative answer. \n",
    "    All the questions should be based on the IMDG code.\n",
    "    Do not include any special markers like '**' or '<end_of_turn>'\n",
    "    Format your response as follows:\n",
    "    Question: [Your generated question]\n",
    "    Answer: [Your generated answer]\n",
    "\"\"\"\n",
    "\n",
    "    prompt = f'''<s>[INST] {instruction}\\n\\nText: {chunk} [/INST]\\n'''\n",
    "    \n",
    "    # generated_text = generate(model, tokenizer, prompt=prompt, max_tokens=max_tokens, verbose=False)\n",
    "\n",
    "    generated_text = generate(\n",
    "        model, \n",
    "        tokenizer, \n",
    "        prompt=prompt, \n",
    "        max_tokens=max_tokens, \n",
    "        temp=0.8,  # Value between 0.0 and 1.0, higher values produce more creative output\n",
    "        # top_k=50,         # Number of top tokens to consider\n",
    "        top_p=0.95,       # Select tokens until cumulative probability exceeds this value\n",
    "        verbose=False\n",
    "    )\n",
    "\n",
    "    generated_text = generated_text.replace(prompt, \"\").strip()\n",
    "    generated_text = re.sub(r'\\*\\*|<end_of_turn>', '', generated_text)\n",
    "    generated_text = re.sub(r'```', '', generated_text)\n",
    "    \n",
    "    question_start = generated_text.find(\"Question:\")\n",
    "    answer_start = generated_text.find(\"Answer:\")\n",
    "    \n",
    "    if question_start != -1 and answer_start != -1:\n",
    "        question = generated_text[question_start+9:answer_start].strip()\n",
    "        answer = generated_text[answer_start+7:].strip()\n",
    "    else:\n",
    "        question = \"Unable to generate a question.\"\n",
    "        answer = \"Unable to generate a response.\"\n",
    "    \n",
    "    return question, answer\n",
    "\n",
    "def create_fine_tuning_dataset(pdf_path, output_file, num_samples=10000):\n",
    "    start_time = time.time()\n",
    "    print(f\"Starting fine-tuning dataset creation (Target samples: {num_samples})\")\n",
    "\n",
    "    model_path = \"mlx-community/gemma-2-27b-it-4bit\"\n",
    "    model, tokenizer = load_model_and_tokenizer(model_path)\n",
    "    print(\"Model and tokenizer loaded\")\n",
    "\n",
    "    text = extract_text_from_pdf(pdf_path)\n",
    "    chunks = create_chunks(text)\n",
    "    \n",
    "    print(\"Generating question-response pairs and writing to CSV...\")\n",
    "    with open(output_file, 'w', newline='', encoding='utf-8') as csvfile:\n",
    "        writer = csv.writer(csvfile)\n",
    "        writer.writerow(['question', 'response'])\n",
    "        \n",
    "        for _ in tqdm(range(num_samples), desc=\"Generating samples\"):\n",
    "            chunk = random.choice(chunks)\n",
    "            question, response = generate_question_response_pair(chunk, model, tokenizer)\n",
    "            if question != \"Unable to generate a question.\" and response != \"Unable to generate a response.\":\n",
    "                writer.writerow([question, response])\n",
    "            else:\n",
    "                print(f\"Skipping invalid sample: Q: {question}, A: {response}\")\n",
    "            if (_ + 1) % 100 == 0:\n",
    "                print(f\"Generated {_ + 1} samples...\")\n",
    "    \n",
    "    end_time = time.time()\n",
    "    print(f\"Number of dataset samples generated: {num_samples}\")\n",
    "    print(f\"Total time taken: {end_time - start_time:.2f} seconds\")\n",
    "\n",
    "# Usage example\n",
    "pdf_path = \"./data/IMDG.pdf\"\n",
    "output_file = \"./data/IMDG.csv\"\n",
    "create_fine_tuning_dataset(pdf_path, output_file, num_samples=10000)"
   ]
  },
  {
   "cell_type": "markdown",
   "metadata": {},
   "source": [
    "## 4. Building dataframe"
   ]
  },
  {
   "cell_type": "code",
   "execution_count": 1,
   "metadata": {},
   "outputs": [
    {
     "data": {
      "text/html": [
       "<div>\n",
       "<style scoped>\n",
       "    .dataframe tbody tr th:only-of-type {\n",
       "        vertical-align: middle;\n",
       "    }\n",
       "\n",
       "    .dataframe tbody tr th {\n",
       "        vertical-align: top;\n",
       "    }\n",
       "\n",
       "    .dataframe thead th {\n",
       "        text-align: right;\n",
       "    }\n",
       "</style>\n",
       "<table border=\"1\" class=\"dataframe\">\n",
       "  <thead>\n",
       "    <tr style=\"text-align: right;\">\n",
       "      <th></th>\n",
       "      <th>system_prompt</th>\n",
       "      <th>question</th>\n",
       "      <th>response</th>\n",
       "    </tr>\n",
       "  </thead>\n",
       "  <tbody>\n",
       "    <tr>\n",
       "      <th>0</th>\n",
       "      <td>You are an IMDG Code specialist with a deep un...</td>\n",
       "      <td>According to the IMDG code, how should a subst...</td>\n",
       "      <td>Category A toxins are assigned to UN number 34...</td>\n",
       "    </tr>\n",
       "    <tr>\n",
       "      <th>1</th>\n",
       "      <td>You are an IMDG Code specialist with a deep un...</td>\n",
       "      <td>What are the specific packaging requirements f...</td>\n",
       "      <td>Paragraph P600 of the IMDG Code outlines speci...</td>\n",
       "    </tr>\n",
       "    <tr>\n",
       "      <th>2</th>\n",
       "      <td>You are an IMDG Code specialist with a deep un...</td>\n",
       "      <td>A cargo transport unit contains both dangerous...</td>\n",
       "      <td>Yes, you would need to placard the cargo trans...</td>\n",
       "    </tr>\n",
       "    <tr>\n",
       "      <th>3</th>\n",
       "      <td>You are an IMDG Code specialist with a deep un...</td>\n",
       "      <td>Based on the IMDG Code information provided fo...</td>\n",
       "      <td>According to the IMDG Code excerpt, Nickel Car...</td>\n",
       "    </tr>\n",
       "    <tr>\n",
       "      <th>4</th>\n",
       "      <td>You are an IMDG Code specialist with a deep un...</td>\n",
       "      <td>A shipment of silvery-white, ductile, soft met...</td>\n",
       "      <td>This material aligns with the descriptions pro...</td>\n",
       "    </tr>\n",
       "    <tr>\n",
       "      <th>...</th>\n",
       "      <td>...</td>\n",
       "      <td>...</td>\n",
       "      <td>...</td>\n",
       "    </tr>\n",
       "    <tr>\n",
       "      <th>3988</th>\n",
       "      <td>You are an IMDG Code specialist with a deep un...</td>\n",
       "      <td>According to the IMDG Code, what are the regul...</td>\n",
       "      <td>The IMDG Code stipulates that placards indicat...</td>\n",
       "    </tr>\n",
       "    <tr>\n",
       "      <th>3989</th>\n",
       "      <td>You are an IMDG Code specialist with a deep un...</td>\n",
       "      <td>A chemical shipment labeled \"SG49\" is declared...</td>\n",
       "      <td>Given the hazardous nature of the \"SG49\" corro...</td>\n",
       "    </tr>\n",
       "    <tr>\n",
       "      <th>3990</th>\n",
       "      <td>You are an IMDG Code specialist with a deep un...</td>\n",
       "      <td>A mixture contains two toxic components: Subst...</td>\n",
       "      <td>To determine the packing group, we need to cal...</td>\n",
       "    </tr>\n",
       "    <tr>\n",
       "      <th>3991</th>\n",
       "      <td>You are an IMDG Code specialist with a deep un...</td>\n",
       "      <td>A package design incorporates a single waterti...</td>\n",
       "      <td>No, we cannot assume that water will not leak ...</td>\n",
       "    </tr>\n",
       "    <tr>\n",
       "      <th>3992</th>\n",
       "      <td>You are an IMDG Code specialist with a deep un...</td>\n",
       "      <td>I am packaging a hazardous liquid in a flexibl...</td>\n",
       "      <td>When transporting a hazardous liquid in an FIB...</td>\n",
       "    </tr>\n",
       "  </tbody>\n",
       "</table>\n",
       "<p>3993 rows × 3 columns</p>\n",
       "</div>"
      ],
      "text/plain": [
       "                                          system_prompt  \\\n",
       "0     You are an IMDG Code specialist with a deep un...   \n",
       "1     You are an IMDG Code specialist with a deep un...   \n",
       "2     You are an IMDG Code specialist with a deep un...   \n",
       "3     You are an IMDG Code specialist with a deep un...   \n",
       "4     You are an IMDG Code specialist with a deep un...   \n",
       "...                                                 ...   \n",
       "3988  You are an IMDG Code specialist with a deep un...   \n",
       "3989  You are an IMDG Code specialist with a deep un...   \n",
       "3990  You are an IMDG Code specialist with a deep un...   \n",
       "3991  You are an IMDG Code specialist with a deep un...   \n",
       "3992  You are an IMDG Code specialist with a deep un...   \n",
       "\n",
       "                                               question  \\\n",
       "0     According to the IMDG code, how should a subst...   \n",
       "1     What are the specific packaging requirements f...   \n",
       "2     A cargo transport unit contains both dangerous...   \n",
       "3     Based on the IMDG Code information provided fo...   \n",
       "4     A shipment of silvery-white, ductile, soft met...   \n",
       "...                                                 ...   \n",
       "3988  According to the IMDG Code, what are the regul...   \n",
       "3989  A chemical shipment labeled \"SG49\" is declared...   \n",
       "3990  A mixture contains two toxic components: Subst...   \n",
       "3991  A package design incorporates a single waterti...   \n",
       "3992  I am packaging a hazardous liquid in a flexibl...   \n",
       "\n",
       "                                               response  \n",
       "0     Category A toxins are assigned to UN number 34...  \n",
       "1     Paragraph P600 of the IMDG Code outlines speci...  \n",
       "2     Yes, you would need to placard the cargo trans...  \n",
       "3     According to the IMDG Code excerpt, Nickel Car...  \n",
       "4     This material aligns with the descriptions pro...  \n",
       "...                                                 ...  \n",
       "3988  The IMDG Code stipulates that placards indicat...  \n",
       "3989  Given the hazardous nature of the \"SG49\" corro...  \n",
       "3990  To determine the packing group, we need to cal...  \n",
       "3991  No, we cannot assume that water will not leak ...  \n",
       "3992  When transporting a hazardous liquid in an FIB...  \n",
       "\n",
       "[3993 rows x 3 columns]"
      ]
     },
     "execution_count": 1,
     "metadata": {},
     "output_type": "execute_result"
    }
   ],
   "source": [
    "import csv\n",
    "import random\n",
    "import json\n",
    "import pandas as pd\n",
    "\n",
    "# load the dataset\n",
    "dataset = pd.read_csv(\"./data/IMDG.csv\")\n",
    "\n",
    "system_prompt = \"\"\"\n",
    "    You are an IMDG Code specialist with a deep understanding of the International Maritime Dangerous Goods (IMDG) Code. Your task is to provide detailed and accurate information in response to user questions about IMDG code.\n",
    "\n",
    "    Guidelines for answering:\n",
    "    1. Present information in a clear, concise, and easily understandable manner, using bullet points for organization.\n",
    "    2. For questions about specific UN Numbers:\n",
    "       - Provide details on: UN No., Proper Shipping Name, Class, Subsidiary hazard, Packing Group, Special Provisions, Limited Quantity, Excepted Quantity, Packing Instructions, Stowage and handling, Segregation, and Properties and observations.\n",
    "       - If this information is not in the provided context, state that you need to refer to the official IMDG Code for accurate details.\n",
    "    3. Respond in the language of the user's question. If unable to determine the language, default to English.\n",
    "    4. If you don't know the answer or if the information is not in the provided context, clearly state \"I don't have enough information to answer this question accurately. Please refer to the official IMDG Code or consult with an IMDG expert for the most up-to-date and accurate information.\"\n",
    "    5. End each response with '–IMDGGenie'\n",
    "\"\"\"\n",
    "\n",
    "dataset[\"system_prompt\"] = system_prompt\n",
    "dataset[\"system_prompt\"] = dataset[\"system_prompt\"].str.strip()\n",
    "dataset = dataset[[\"system_prompt\", \"question\", \"response\"]]\n",
    "dataset"
   ]
  },
  {
   "cell_type": "code",
   "execution_count": 2,
   "metadata": {},
   "outputs": [
    {
     "name": "stdout",
     "output_type": "stream",
     "text": [
      "Number of rows with the specified question and response: 0\n"
     ]
    }
   ],
   "source": [
    "# Count records for Unable to generate a question & Unable to generate a response\n",
    "filtered_df = dataset[\n",
    "    (dataset[\"question\"] == \"Unable to generate a question.\") & \n",
    "    (dataset[\"response\"] == \"Unable to generate a response.\")\n",
    "]\n",
    "\n",
    "count = filtered_df.shape[0]\n",
    "print(f\"Number of rows with the specified question and response: {count}\")"
   ]
  },
  {
   "cell_type": "code",
   "execution_count": 3,
   "metadata": {},
   "outputs": [
    {
     "name": "stdout",
     "output_type": "stream",
     "text": [
      "Number of rows with the same question and response: 0\n"
     ]
    }
   ],
   "source": [
    "# Count records for duplicated question and response\n",
    "filtered_df = dataset[\n",
    "    dataset.duplicated(subset=[\"question\", \"response\"], keep=False)\n",
    "]\n",
    "\n",
    "count = filtered_df.shape[0]\n",
    "print(f\"Number of rows with the same question and response: {count}\")"
   ]
  },
  {
   "cell_type": "code",
   "execution_count": 4,
   "metadata": {},
   "outputs": [
    {
     "data": {
      "text/html": [
       "<div>\n",
       "<style scoped>\n",
       "    .dataframe tbody tr th:only-of-type {\n",
       "        vertical-align: middle;\n",
       "    }\n",
       "\n",
       "    .dataframe tbody tr th {\n",
       "        vertical-align: top;\n",
       "    }\n",
       "\n",
       "    .dataframe thead th {\n",
       "        text-align: right;\n",
       "    }\n",
       "</style>\n",
       "<table border=\"1\" class=\"dataframe\">\n",
       "  <thead>\n",
       "    <tr style=\"text-align: right;\">\n",
       "      <th></th>\n",
       "      <th>system_prompt</th>\n",
       "      <th>question</th>\n",
       "      <th>response</th>\n",
       "    </tr>\n",
       "  </thead>\n",
       "  <tbody>\n",
       "    <tr>\n",
       "      <th>0</th>\n",
       "      <td>You are an IMDG Code specialist with a deep un...</td>\n",
       "      <td>According to the IMDG code, how should a subst...</td>\n",
       "      <td>Category A toxins are assigned to UN number 34...</td>\n",
       "    </tr>\n",
       "    <tr>\n",
       "      <th>1</th>\n",
       "      <td>You are an IMDG Code specialist with a deep un...</td>\n",
       "      <td>What are the specific packaging requirements f...</td>\n",
       "      <td>Paragraph P600 of the IMDG Code outlines speci...</td>\n",
       "    </tr>\n",
       "    <tr>\n",
       "      <th>2</th>\n",
       "      <td>You are an IMDG Code specialist with a deep un...</td>\n",
       "      <td>A cargo transport unit contains both dangerous...</td>\n",
       "      <td>Yes, you would need to placard the cargo trans...</td>\n",
       "    </tr>\n",
       "    <tr>\n",
       "      <th>3</th>\n",
       "      <td>You are an IMDG Code specialist with a deep un...</td>\n",
       "      <td>Based on the IMDG Code information provided fo...</td>\n",
       "      <td>According to the IMDG Code excerpt, Nickel Car...</td>\n",
       "    </tr>\n",
       "    <tr>\n",
       "      <th>4</th>\n",
       "      <td>You are an IMDG Code specialist with a deep un...</td>\n",
       "      <td>A shipment of silvery-white, ductile, soft met...</td>\n",
       "      <td>This material aligns with the descriptions pro...</td>\n",
       "    </tr>\n",
       "    <tr>\n",
       "      <th>...</th>\n",
       "      <td>...</td>\n",
       "      <td>...</td>\n",
       "      <td>...</td>\n",
       "    </tr>\n",
       "    <tr>\n",
       "      <th>3988</th>\n",
       "      <td>You are an IMDG Code specialist with a deep un...</td>\n",
       "      <td>According to the IMDG Code, what are the regul...</td>\n",
       "      <td>The IMDG Code stipulates that placards indicat...</td>\n",
       "    </tr>\n",
       "    <tr>\n",
       "      <th>3989</th>\n",
       "      <td>You are an IMDG Code specialist with a deep un...</td>\n",
       "      <td>A chemical shipment labeled \"SG49\" is declared...</td>\n",
       "      <td>Given the hazardous nature of the \"SG49\" corro...</td>\n",
       "    </tr>\n",
       "    <tr>\n",
       "      <th>3990</th>\n",
       "      <td>You are an IMDG Code specialist with a deep un...</td>\n",
       "      <td>A mixture contains two toxic components: Subst...</td>\n",
       "      <td>To determine the packing group, we need to cal...</td>\n",
       "    </tr>\n",
       "    <tr>\n",
       "      <th>3991</th>\n",
       "      <td>You are an IMDG Code specialist with a deep un...</td>\n",
       "      <td>A package design incorporates a single waterti...</td>\n",
       "      <td>No, we cannot assume that water will not leak ...</td>\n",
       "    </tr>\n",
       "    <tr>\n",
       "      <th>3992</th>\n",
       "      <td>You are an IMDG Code specialist with a deep un...</td>\n",
       "      <td>I am packaging a hazardous liquid in a flexibl...</td>\n",
       "      <td>When transporting a hazardous liquid in an FIB...</td>\n",
       "    </tr>\n",
       "  </tbody>\n",
       "</table>\n",
       "<p>3993 rows × 3 columns</p>\n",
       "</div>"
      ],
      "text/plain": [
       "                                          system_prompt  \\\n",
       "0     You are an IMDG Code specialist with a deep un...   \n",
       "1     You are an IMDG Code specialist with a deep un...   \n",
       "2     You are an IMDG Code specialist with a deep un...   \n",
       "3     You are an IMDG Code specialist with a deep un...   \n",
       "4     You are an IMDG Code specialist with a deep un...   \n",
       "...                                                 ...   \n",
       "3988  You are an IMDG Code specialist with a deep un...   \n",
       "3989  You are an IMDG Code specialist with a deep un...   \n",
       "3990  You are an IMDG Code specialist with a deep un...   \n",
       "3991  You are an IMDG Code specialist with a deep un...   \n",
       "3992  You are an IMDG Code specialist with a deep un...   \n",
       "\n",
       "                                               question  \\\n",
       "0     According to the IMDG code, how should a subst...   \n",
       "1     What are the specific packaging requirements f...   \n",
       "2     A cargo transport unit contains both dangerous...   \n",
       "3     Based on the IMDG Code information provided fo...   \n",
       "4     A shipment of silvery-white, ductile, soft met...   \n",
       "...                                                 ...   \n",
       "3988  According to the IMDG Code, what are the regul...   \n",
       "3989  A chemical shipment labeled \"SG49\" is declared...   \n",
       "3990  A mixture contains two toxic components: Subst...   \n",
       "3991  A package design incorporates a single waterti...   \n",
       "3992  I am packaging a hazardous liquid in a flexibl...   \n",
       "\n",
       "                                               response  \n",
       "0     Category A toxins are assigned to UN number 34...  \n",
       "1     Paragraph P600 of the IMDG Code outlines speci...  \n",
       "2     Yes, you would need to placard the cargo trans...  \n",
       "3     According to the IMDG Code excerpt, Nickel Car...  \n",
       "4     This material aligns with the descriptions pro...  \n",
       "...                                                 ...  \n",
       "3988  The IMDG Code stipulates that placards indicat...  \n",
       "3989  Given the hazardous nature of the \"SG49\" corro...  \n",
       "3990  To determine the packing group, we need to cal...  \n",
       "3991  No, we cannot assume that water will not leak ...  \n",
       "3992  When transporting a hazardous liquid in an FIB...  \n",
       "\n",
       "[3993 rows x 3 columns]"
      ]
     },
     "execution_count": 4,
     "metadata": {},
     "output_type": "execute_result"
    }
   ],
   "source": [
    "# Drop duplicates\n",
    "df = dataset.drop_duplicates(subset=[\"question\", \"response\"])\n",
    "df"
   ]
  },
  {
   "cell_type": "code",
   "execution_count": 5,
   "metadata": {},
   "outputs": [
    {
     "name": "stdout",
     "output_type": "stream",
     "text": [
      "<bos><start_of_turn>user\n",
      "## Instructions\n",
      "You are an IMDG Code specialist with a deep understanding of the International Maritime Dangerous Goods (IMDG) Code. Your task is to provide detailed and accurate information in response to user questions about IMDG code.\n",
      "\n",
      "    Guidelines for answering:\n",
      "    1. Present information in a clear, concise, and easily understandable manner, using bullet points for organization.\n",
      "    2. For questions about specific UN Numbers:\n",
      "       - Provide details on: UN No., Proper Shipping Name, Class, Subsidiary hazard, Packing Group, Special Provisions, Limited Quantity, Excepted Quantity, Packing Instructions, Stowage and handling, Segregation, and Properties and observations.\n",
      "       - If this information is not in the provided context, state that you need to refer to the official IMDG Code for accurate details.\n",
      "    3. Respond in the language of the user's question. If unable to determine the language, default to English.\n",
      "    4. If you don't know the answer or if the information is not in the provided context, clearly state \"I don't have enough information to answer this question accurately. Please refer to the official IMDG Code or consult with an IMDG expert for the most up-to-date and accurate information.\"\n",
      "    5. End each response with '–IMDGGenie'\n",
      "## User\n",
      "A Type B(U) package design is being developed for transporting uranium hexafluoride. What type of approval is required, and from whom?<end_of_turn>\n",
      "<start_of_turn>model\n",
      "Since the Type B(U) package design will contain uranium hexafluoride, which is a radioactive material requiring specific handling, it will need multilateral approval. This means the approval must be obtained from multiple competent authorities, not just the country of origin. The IMDG code outlines this requirement due to the potential hazards associated with uranium hexafluoride and the need for international consensus on its safe transportation.<end_of_turn>\n"
     ]
    }
   ],
   "source": [
    "# Transform Gemma prompt template (https://ai.google.dev/gemma/docs/formatting)\n",
    "# {\"text\": \"<bos><start_of_turn>user\\nWhat is the capital of France?<end_of_turn>\\n<start_of_turn>model\\nParis is the capital of France.<end_of_turn><eos>\"}\n",
    "\n",
    "def generate_prompt(row: pd.Series) -> str:\n",
    "    \"Format to Gemma's chat template\"\n",
    "    return \"\"\"<bos><start_of_turn>user\n",
    "## Instructions\n",
    "{}\n",
    "## User\n",
    "{}<end_of_turn>\n",
    "<start_of_turn>model\n",
    "{}<end_of_turn>\"\"\".format(row[\"system_prompt\"], row[\"question\"], row[\"response\"])\n",
    "\n",
    "\n",
    "df[\"text\"] = df.apply(generate_prompt, axis=1)\n",
    "print(df[\"text\"].iloc[100])"
   ]
  },
  {
   "cell_type": "code",
   "execution_count": 6,
   "metadata": {},
   "outputs": [
    {
     "name": "stdout",
     "output_type": "stream",
     "text": [
      "{\"text\":\"<bos><start_of_turn>user\\n## Instructions\\nYou are an IMDG Code specialist with a deep understanding of the International Maritime Dangerous Goods (IMDG) Code. Your task is to provide detailed and accurate information in response to user questions about IMDG code.\\n\\n    Guidelines for answering:\\n    1. Present information in a clear, concise, and easily understandable manner, using bullet points for organization.\\n    2. For questions about specific UN Numbers:\\n       - Provide details on: UN No., Proper Shipping Name, Class, Subsidiary hazard, Packing Group, Special Provisions, Limited Quantity, Excepted Quantity, Packing Instructions, Stowage and handling, Segregation, and Properties and observations.\\n       - If this information is not in the provided context, state that you need to refer to the official IMDG Code for accurate details.\\n    3. Respond in the language of the user's question. If unable to determine the language, default to English.\\n    4. If you don't know the answer or if the information is not in the provided context, clearly state \\\"I don't have enough information to answer this question accurately. Please refer to the official IMDG Code or consult with an IMDG expert for the most up-to-date and accurate information.\\\"\\n    5. End each response with '–IMDGGenie'\\n## User\\nA shipment of articles labelled \\\"ARTICLES, EXPLOSIVE, N.O.S., 1.2E\\\" is being prepared for transport. What information can be gleaned from the label and what additional information is crucial to ensure safe handling and transport?<end_of_turn>\\n<start_of_turn>model\\nThe label \\\"ARTICLES, EXPLOSIVE, N.O.S., 1.2E\\\" provides several key pieces of information according to the IMDG Code. Firstly, \\\"ARTICLES, EXPLOSIVE, N.O.S.\\\" indicates that the shipment contains explosive articles, not packaged explosives. The \\\"N.O.S.\\\" stands for \\\"Not Otherwise Specified,\\\" meaning the specific explosive substance within the articles is not individually identified.  Secondly, \\\"1.2E\\\" refers to the UN Hazard Class and Division.  \\n\\nClass 1 designates explosives, and Division 1.2 specifically denotes articles containing an explosive substance that, when ignited, detonate  with a large amount of energy but are relatively insensitive to shock and friction.\\n\\nTo ensure safe handling and transport, several additional pieces of information are crucial:\\n\\n* UN Number: While the label provides the Hazard Class and Division, the specific UN number for the explosive articles is essential. This number allows for precise identification of the hazards associated with the articles.\\n\\n* Proper Shipping Name: The proper shipping name, which should be included on the transport documents, provides a detailed description of the explosive articles.\\n\\n* Net Explosive Mass per Package: This information is vital for determining the quantity of explosive material being transported and for complying with regulatory limitations on the amount of explosives allowed per package or transport unit.\\n\\n* Compatibility Group: The compatibility group, also found on the transport documents, indicates the articles' reactivity and compatibility with other substances. This information is crucial for segregating incompatible cargo during transport.\\n\\n* Special Provisions: The IMDG Code may contain specific provisions or instructions related to the transportation of the particular explosive articles. These provisions should be carefully reviewed and adhered to.\\n\\nBy obtaining and considering all this information, personnel involved in handling and transporting the explosive articles can ensure a safe and compliant operation.<end_of_turn>\"}\n"
     ]
    }
   ],
   "source": [
    "# Split dataset to train and valid \n",
    "\n",
    "from pathlib import Path\n",
    "\n",
    "Path(\"data\").mkdir(exist_ok=True)\n",
    "\n",
    "split_ix = int(len(df) * 0.9)\n",
    "# shuffle data\n",
    "data = df.sample(frac=1, random_state=42)\n",
    "train, valid = data[:split_ix], data[split_ix:]\n",
    "\n",
    "# Save train and valid dataset as jsonl files\n",
    "train[[\"text\"]].to_json(\"data/train.jsonl\", orient=\"records\", lines=True, force_ascii=False)\n",
    "valid[[\"text\"]].to_json(\"data/valid.jsonl\", orient=\"records\", lines=True, force_ascii=False)\n",
    "\n",
    "!head -n 1 data/train.jsonl"
   ]
  },
  {
   "cell_type": "markdown",
   "metadata": {},
   "source": [
    "## 5. LoRA fine-tuning"
   ]
  },
  {
   "cell_type": "code",
   "execution_count": 7,
   "metadata": {},
   "outputs": [
    {
     "name": "stdout",
     "output_type": "stream",
     "text": [
      "usage: lora.py [-h] [--model MODEL] [--train] [--data DATA]\n",
      "               [--lora-layers LORA_LAYERS] [--batch-size BATCH_SIZE]\n",
      "               [--iters ITERS] [--val-batches VAL_BATCHES]\n",
      "               [--learning-rate LEARNING_RATE]\n",
      "               [--steps-per-report STEPS_PER_REPORT]\n",
      "               [--steps-per-eval STEPS_PER_EVAL]\n",
      "               [--resume-adapter-file RESUME_ADAPTER_FILE]\n",
      "               [--adapter-path ADAPTER_PATH] [--save-every SAVE_EVERY]\n",
      "               [--test] [--test-batches TEST_BATCHES]\n",
      "               [--max-seq-length MAX_SEQ_LENGTH] [-c CONFIG]\n",
      "               [--grad-checkpoint] [--seed SEED] [--use-dora]\n",
      "\n",
      "LoRA or QLoRA finetuning.\n",
      "\n",
      "options:\n",
      "  -h, --help            show this help message and exit\n",
      "  --model MODEL         The path to the local model directory or Hugging Face\n",
      "                        repo.\n",
      "  --train               Do training\n",
      "  --data DATA           Directory with {train, valid, test}.jsonl files\n",
      "  --lora-layers LORA_LAYERS\n",
      "                        Number of layers to fine-tune. Default is 16, use -1\n",
      "                        for all.\n",
      "  --batch-size BATCH_SIZE\n",
      "                        Minibatch size.\n",
      "  --iters ITERS         Iterations to train for.\n",
      "  --val-batches VAL_BATCHES\n",
      "                        Number of validation batches, -1 uses the entire\n",
      "                        validation set.\n",
      "  --learning-rate LEARNING_RATE\n",
      "                        Adam learning rate.\n",
      "  --steps-per-report STEPS_PER_REPORT\n",
      "                        Number of training steps between loss reporting.\n",
      "  --steps-per-eval STEPS_PER_EVAL\n",
      "                        Number of training steps between validations.\n",
      "  --resume-adapter-file RESUME_ADAPTER_FILE\n",
      "                        Load path to resume training with the given adapters.\n",
      "  --adapter-path ADAPTER_PATH\n",
      "                        Save/load path for the adapters.\n",
      "  --save-every SAVE_EVERY\n",
      "                        Save the model every N iterations.\n",
      "  --test                Evaluate on the test set after training\n",
      "  --test-batches TEST_BATCHES\n",
      "                        Number of test set batches, -1 uses the entire test\n",
      "                        set.\n",
      "  --max-seq-length MAX_SEQ_LENGTH\n",
      "                        Maximum sequence length.\n",
      "  -c CONFIG, --config CONFIG\n",
      "                        A YAML configuration file with the training options\n",
      "  --grad-checkpoint     Use gradient checkpointing to reduce memory use.\n",
      "  --seed SEED           The PRNG seed\n",
      "  --use-dora            Use DoRA to finetune.\n"
     ]
    }
   ],
   "source": [
    "!python -m mlx_lm.lora --help"
   ]
  },
  {
   "cell_type": "code",
   "execution_count": 8,
   "metadata": {},
   "outputs": [],
   "source": [
    "import os\n",
    "os.environ[\"TOKENIZERS_PARALLELISM\"] = \"false\""
   ]
  },
  {
   "cell_type": "code",
   "execution_count": 9,
   "metadata": {},
   "outputs": [
    {
     "name": "stdout",
     "output_type": "stream",
     "text": [
      "Loading pretrained model\n",
      "Fetching 9 files: 100%|████████████████████████| 9/9 [00:00<00:00, 77672.30it/s]\n",
      "Loading datasets\n",
      "Training\n",
      "Trainable parameters: 0.007% (1.966M/27227.128M)\n",
      "Starting training..., iters: 500\n",
      "Iter 1: Val loss 2.061, Val took 400.467s\n",
      "Iter 10: Val loss 1.522, Val took 398.144s\n",
      "Iter 10: Train loss 1.815, Learning Rate 1.000e-05, It/sec 0.486, Tokens/sec 885.188, Trained Tokens 18218, Peak mem 58.444 GB\n",
      "Iter 20: Val loss 1.172, Val took 415.262s\n",
      "Iter 20: Train loss 1.326, Learning Rate 1.000e-05, It/sec 0.232, Tokens/sec 491.767, Trained Tokens 39452, Peak mem 60.797 GB\n",
      "Iter 30: Val loss 0.811, Val took 407.030s\n",
      "Iter 30: Train loss 0.924, Learning Rate 1.000e-05, It/sec 0.429, Tokens/sec 821.017, Trained Tokens 58606, Peak mem 60.797 GB\n",
      "Iter 40: Val loss 0.578, Val took 402.604s\n",
      "Iter 40: Train loss 0.682, Learning Rate 1.000e-05, It/sec 0.460, Tokens/sec 918.351, Trained Tokens 78561, Peak mem 60.797 GB\n",
      "Iter 50: Val loss 0.535, Val took 396.426s\n",
      "Iter 50: Train loss 0.539, Learning Rate 1.000e-05, It/sec 0.526, Tokens/sec 1014.210, Trained Tokens 97825, Peak mem 60.797 GB\n",
      "Iter 60: Val loss 0.511, Val took 389.623s\n",
      "Iter 60: Train loss 0.518, Learning Rate 1.000e-05, It/sec 0.281, Tokens/sec 532.737, Trained Tokens 116762, Peak mem 60.797 GB\n",
      "Iter 70: Val loss 0.516, Val took 396.893s\n",
      "Iter 70: Train loss 0.513, Learning Rate 1.000e-05, It/sec 0.476, Tokens/sec 880.573, Trained Tokens 135266, Peak mem 60.797 GB\n",
      "Iter 80: Val loss 0.523, Val took 424.653s\n",
      "Iter 80: Train loss 0.480, Learning Rate 1.000e-05, It/sec 0.372, Tokens/sec 716.360, Trained Tokens 154514, Peak mem 60.797 GB\n",
      "Iter 90: Val loss 0.494, Val took 411.034s\n",
      "Iter 90: Train loss 0.440, Learning Rate 1.000e-05, It/sec 0.378, Tokens/sec 625.038, Trained Tokens 171064, Peak mem 60.797 GB\n",
      "Iter 100: Val loss 0.520, Val took 402.655s\n",
      "Iter 100: Train loss 0.508, Learning Rate 1.000e-05, It/sec 0.506, Tokens/sec 1090.032, Trained Tokens 192615, Peak mem 60.797 GB\n",
      "Iter 100: Saved adapter weights to checkpoints/adapters/adapters.safetensors and checkpoints/adapters/0000100_adapters.safetensors.\n",
      "Iter 110: Val loss 0.488, Val took 398.262s\n",
      "Iter 110: Train loss 0.503, Learning Rate 1.000e-05, It/sec 0.256, Tokens/sec 520.576, Trained Tokens 212951, Peak mem 60.797 GB\n",
      "Iter 120: Val loss 0.518, Val took 431.614s\n",
      "Iter 120: Train loss 0.561, Learning Rate 1.000e-05, It/sec 0.385, Tokens/sec 796.101, Trained Tokens 233628, Peak mem 61.231 GB\n",
      "Iter 130: Val loss 0.487, Val took 408.103s\n",
      "Iter 130: Train loss 0.417, Learning Rate 1.000e-05, It/sec 0.640, Tokens/sec 1117.423, Trained Tokens 251087, Peak mem 61.231 GB\n",
      "Iter 140: Val loss 0.478, Val took 411.051s\n",
      "Iter 140: Train loss 0.459, Learning Rate 1.000e-05, It/sec 0.445, Tokens/sec 872.407, Trained Tokens 270700, Peak mem 61.231 GB\n",
      "Iter 150: Val loss 0.481, Val took 396.462s\n",
      "Iter 150: Train loss 0.421, Learning Rate 1.000e-05, It/sec 0.453, Tokens/sec 851.422, Trained Tokens 289492, Peak mem 61.231 GB\n",
      "Iter 160: Val loss 0.466, Val took 385.855s\n",
      "Iter 160: Train loss 0.487, Learning Rate 1.000e-05, It/sec 0.416, Tokens/sec 908.958, Trained Tokens 311339, Peak mem 61.809 GB\n",
      "Iter 170: Val loss 0.468, Val took 418.028s\n",
      "Iter 170: Train loss 0.479, Learning Rate 1.000e-05, It/sec 0.429, Tokens/sec 790.906, Trained Tokens 329775, Peak mem 61.809 GB\n",
      "Iter 180: Val loss 0.466, Val took 410.887s\n",
      "Iter 180: Train loss 0.412, Learning Rate 1.000e-05, It/sec 0.356, Tokens/sec 628.485, Trained Tokens 347440, Peak mem 61.809 GB\n",
      "Iter 190: Val loss 0.484, Val took 410.876s\n",
      "Iter 190: Train loss 0.486, Learning Rate 1.000e-05, It/sec 0.431, Tokens/sec 882.175, Trained Tokens 367925, Peak mem 61.809 GB\n",
      "Iter 200: Val loss 0.483, Val took 405.786s\n",
      "Iter 200: Train loss 0.442, Learning Rate 1.000e-05, It/sec 0.496, Tokens/sec 911.243, Trained Tokens 386309, Peak mem 61.809 GB\n",
      "Iter 200: Saved adapter weights to checkpoints/adapters/adapters.safetensors and checkpoints/adapters/0000200_adapters.safetensors.\n",
      "Iter 210: Val loss 0.465, Val took 396.495s\n",
      "Iter 210: Train loss 0.467, Learning Rate 1.000e-05, It/sec 0.570, Tokens/sec 1070.967, Trained Tokens 405093, Peak mem 61.809 GB\n",
      "Iter 220: Val loss 0.501, Val took 391.632s\n",
      "Iter 220: Train loss 0.446, Learning Rate 1.000e-05, It/sec 0.597, Tokens/sec 1060.209, Trained Tokens 422859, Peak mem 61.809 GB\n",
      "Iter 230: Val loss 0.481, Val took 421.260s\n",
      "Iter 230: Train loss 0.452, Learning Rate 1.000e-05, It/sec 0.256, Tokens/sec 479.496, Trained Tokens 441559, Peak mem 61.809 GB\n",
      "Iter 240: Val loss 0.464, Val took 410.736s\n",
      "Iter 240: Train loss 0.399, Learning Rate 1.000e-05, It/sec 0.547, Tokens/sec 906.485, Trained Tokens 458131, Peak mem 61.809 GB\n",
      "Iter 250: Val loss 0.439, Val took 382.804s\n",
      "Iter 250: Train loss 0.453, Learning Rate 1.000e-05, It/sec 0.174, Tokens/sec 339.043, Trained Tokens 477665, Peak mem 62.976 GB\n",
      "Iter 260: Val loss 0.447, Val took 382.402s\n",
      "Iter 260: Train loss 0.464, Learning Rate 1.000e-05, It/sec 0.600, Tokens/sec 1202.990, Trained Tokens 497717, Peak mem 62.976 GB\n",
      "Iter 270: Val loss 0.442, Val took 399.708s\n",
      "Iter 270: Train loss 0.410, Learning Rate 1.000e-05, It/sec 0.560, Tokens/sec 989.012, Trained Tokens 515366, Peak mem 62.976 GB\n",
      "Iter 280: Val loss 0.442, Val took 402.756s\n",
      "Iter 280: Train loss 0.437, Learning Rate 1.000e-05, It/sec 0.461, Tokens/sec 841.690, Trained Tokens 533632, Peak mem 62.976 GB\n",
      "Iter 290: Val loss 0.441, Val took 396.775s\n",
      "Iter 290: Train loss 0.394, Learning Rate 1.000e-05, It/sec 0.349, Tokens/sec 616.843, Trained Tokens 551307, Peak mem 62.976 GB\n",
      "Iter 300: Val loss 0.474, Val took 407.499s\n",
      "Iter 300: Train loss 0.466, Learning Rate 1.000e-05, It/sec 0.599, Tokens/sec 1161.077, Trained Tokens 570681, Peak mem 62.976 GB\n",
      "Iter 300: Saved adapter weights to checkpoints/adapters/adapters.safetensors and checkpoints/adapters/0000300_adapters.safetensors.\n",
      "Iter 310: Val loss 0.464, Val took 409.092s\n",
      "Iter 310: Train loss 0.439, Learning Rate 1.000e-05, It/sec 0.257, Tokens/sec 510.063, Trained Tokens 590536, Peak mem 62.976 GB\n",
      "Iter 320: Val loss 0.494, Val took 416.304s\n",
      "Iter 320: Train loss 0.464, Learning Rate 1.000e-05, It/sec 0.454, Tokens/sec 870.885, Trained Tokens 609723, Peak mem 62.976 GB\n",
      "Iter 330: Val loss 0.430, Val took 379.047s\n",
      "Iter 330: Train loss 0.423, Learning Rate 1.000e-05, It/sec 0.374, Tokens/sec 647.515, Trained Tokens 627032, Peak mem 62.976 GB\n",
      "Iter 340: Val loss 0.488, Val took 421.734s\n",
      "Iter 340: Train loss 0.455, Learning Rate 1.000e-05, It/sec 0.409, Tokens/sec 750.524, Trained Tokens 645399, Peak mem 62.976 GB\n",
      "Iter 350: Val loss 0.487, Val took 419.649s\n",
      "Iter 350: Train loss 0.454, Learning Rate 1.000e-05, It/sec 0.258, Tokens/sec 486.458, Trained Tokens 664257, Peak mem 62.976 GB\n",
      "Iter 360: Val loss 0.471, Val took 408.475s\n",
      "Iter 360: Train loss 0.474, Learning Rate 1.000e-05, It/sec 0.417, Tokens/sec 770.005, Trained Tokens 682743, Peak mem 62.976 GB\n",
      "Iter 370: Val loss 0.469, Val took 392.193s\n",
      "Iter 370: Train loss 0.441, Learning Rate 1.000e-05, It/sec 0.525, Tokens/sec 997.043, Trained Tokens 701731, Peak mem 62.976 GB\n",
      "Iter 380: Val loss 0.458, Val took 389.987s\n",
      "Iter 380: Train loss 0.490, Learning Rate 1.000e-05, It/sec 0.497, Tokens/sec 1093.054, Trained Tokens 723717, Peak mem 62.976 GB\n",
      "Iter 390: Val loss 0.449, Val took 392.084s\n",
      "Iter 390: Train loss 0.440, Learning Rate 1.000e-05, It/sec 0.247, Tokens/sec 466.606, Trained Tokens 742626, Peak mem 62.976 GB\n",
      "Iter 400: Val loss 0.464, Val took 403.617s\n",
      "Iter 400: Train loss 0.385, Learning Rate 1.000e-05, It/sec 0.374, Tokens/sec 638.529, Trained Tokens 759716, Peak mem 62.976 GB\n",
      "Iter 400: Saved adapter weights to checkpoints/adapters/adapters.safetensors and checkpoints/adapters/0000400_adapters.safetensors.\n",
      "Iter 410: Val loss 0.445, Val took 391.178s\n",
      "Iter 410: Train loss 0.441, Learning Rate 1.000e-05, It/sec 0.179, Tokens/sec 357.273, Trained Tokens 779657, Peak mem 62.976 GB\n",
      "Iter 420: Val loss 0.466, Val took 406.710s\n",
      "Iter 420: Train loss 0.473, Learning Rate 1.000e-05, It/sec 0.268, Tokens/sec 517.189, Trained Tokens 798960, Peak mem 62.976 GB\n",
      "Iter 430: Val loss 0.469, Val took 399.572s\n",
      "Iter 430: Train loss 0.389, Learning Rate 1.000e-05, It/sec 0.505, Tokens/sec 908.545, Trained Tokens 816961, Peak mem 62.976 GB\n",
      "Iter 440: Val loss 0.430, Val took 378.758s\n",
      "Iter 440: Train loss 0.376, Learning Rate 1.000e-05, It/sec 0.478, Tokens/sec 892.945, Trained Tokens 835654, Peak mem 62.976 GB\n",
      "Iter 450: Val loss 0.467, Val took 399.436s\n",
      "Iter 450: Train loss 0.419, Learning Rate 1.000e-05, It/sec 0.390, Tokens/sec 699.792, Trained Tokens 853607, Peak mem 62.976 GB\n",
      "Iter 460: Val loss 0.439, Val took 389.485s\n",
      "Iter 460: Train loss 0.447, Learning Rate 1.000e-05, It/sec 0.485, Tokens/sec 858.688, Trained Tokens 871298, Peak mem 62.976 GB\n",
      "Iter 470: Val loss 0.439, Val took 415.259s\n",
      "Iter 470: Train loss 0.443, Learning Rate 1.000e-05, It/sec 0.343, Tokens/sec 681.177, Trained Tokens 891138, Peak mem 62.976 GB\n",
      "Iter 480: Val loss 0.439, Val took 396.204s\n",
      "Iter 480: Train loss 0.432, Learning Rate 1.000e-05, It/sec 0.453, Tokens/sec 837.298, Trained Tokens 909636, Peak mem 62.976 GB\n",
      "Iter 490: Val loss 0.437, Val took 374.922s\n",
      "Iter 490: Train loss 0.441, Learning Rate 1.000e-05, It/sec 0.515, Tokens/sec 973.088, Trained Tokens 928528, Peak mem 62.976 GB\n",
      "Iter 500: Val loss 0.450, Val took 427.755s\n",
      "Iter 500: Train loss 0.503, Learning Rate 1.000e-05, It/sec 0.436, Tokens/sec 948.825, Trained Tokens 950291, Peak mem 62.976 GB\n",
      "Iter 500: Saved adapter weights to checkpoints/adapters/adapters.safetensors and checkpoints/adapters/0000500_adapters.safetensors.\n",
      "Saved final adapter weights to checkpoints/adapters/adapters.safetensors.\n"
     ]
    }
   ],
   "source": [
    "!python -m mlx_lm.lora \\\n",
    "    --model mlx-community/gemma-2-27b-it-4bit \\\n",
    "    --train \\\n",
    "    --data data \\\n",
    "    --iters 500 \\\n",
    "    --batch-size 4 \\\n",
    "    --learning-rate 1e-5 \\\n",
    "    --steps-per-report 10 \\\n",
    "    --steps-per-eval 10 \\\n",
    "    --adapter-path checkpoints/adapters \\\n",
    "    # --resume-adapter-file checkpoints/600_adapters.npz \\\n",
    "    --save-every 10 \\\n",
    "    --max-seq-length 2048 \\\n",
    "    --seed 42 \\\n",
    "    --lora-layers 16"
   ]
  },
  {
   "cell_type": "code",
   "execution_count": null,
   "metadata": {},
   "outputs": [],
   "source": [
    "# !python -m mlx_lm.lora \\\n",
    "#     --model mlx-community/gemma-2-27b-it-4bit \\\n",
    "#     --train \\\n",
    "#     --data data \\\n",
    "#     --iters 600 \\\n",
    "#     --batch-size 4 \\\n",
    "#     --learning-rate 1e-5 \\\n",
    "#     --steps-per-report 10 \\\n",
    "#     --steps-per-eval 10 \\\n",
    "#     --adapter-path checkpoints/adapters \\\n",
    "#     --resume-adapter-file checkpoints/adapters/0000100_adapters.safetensors \\\n",
    "#     --save-every 10 \\\n",
    "#     --max-seq-length 2048 \\\n",
    "#     --seed 42 \\\n",
    "#     --lora-layers 16"
   ]
  },
  {
   "cell_type": "markdown",
   "metadata": {},
   "source": [
    "## 6. Inference with fine-tuned model"
   ]
  },
  {
   "cell_type": "code",
   "execution_count": 9,
   "metadata": {},
   "outputs": [
    {
     "name": "stdout",
     "output_type": "stream",
     "text": [
      "<bos><start_of_turn>user\n",
      "## Instructions\n",
      "\n",
      "    You are an IMDG Code specialist with a deep understanding of the International Maritime Dangerous Goods (IMDG) Code. Your task is to provide detailed and accurate information in response to user questions about IMDG code.\n",
      "\n",
      "    Guidelines for answering:\n",
      "    1. Present information in a clear, concise, and easily understandable manner, using bullet points for organization.\n",
      "    2. For questions about specific UN Numbers:\n",
      "       - Provide details on: UN No., Proper Shipping Name, Class, Subsidiary hazard, Packing Group, Special Provisions, Limited Quantity, Excepted Quantity, Packing Instructions, Stowage and handling, Segregation, and Properties and observations.\n",
      "       - If this information is not in the provided context, state that you need to refer to the official IMDG Code for accurate details.\n",
      "    3. Respond in the language of the user's question. If unable to determine the language, default to English.\n",
      "    4. If you don't know the answer or if the information is not in the provided context, clearly state \"I don't have enough information to answer this question accurately. Please refer to the official IMDG Code or consult with an IMDG expert for the most up-to-date and accurate information.\"\n",
      "    5. End each response with '–IMDGGenie'\n",
      "\n",
      "## User\n",
      "According to the IMDG Code, what proper shipping name can be used for a package containing both PAINT and PAINT RELATED MATERIAL together?<end_of_turn>\n",
      "<start_of_turn>model\n",
      "\n"
     ]
    }
   ],
   "source": [
    "\n",
    "system_prompt = \"\"\"\n",
    "    You are an IMDG Code specialist with a deep understanding of the International Maritime Dangerous Goods (IMDG) Code. Your task is to provide detailed and accurate information in response to user questions about IMDG code.\n",
    "\n",
    "    Guidelines for answering:\n",
    "    1. Present information in a clear, concise, and easily understandable manner, using bullet points for organization.\n",
    "    2. For questions about specific UN Numbers:\n",
    "       - Provide details on: UN No., Proper Shipping Name, Class, Subsidiary hazard, Packing Group, Special Provisions, Limited Quantity, Excepted Quantity, Packing Instructions, Stowage and handling, Segregation, and Properties and observations.\n",
    "       - If this information is not in the provided context, state that you need to refer to the official IMDG Code for accurate details.\n",
    "    3. Respond in the language of the user's question. If unable to determine the language, default to English.\n",
    "    4. If you don't know the answer or if the information is not in the provided context, clearly state \"I don't have enough information to answer this question accurately. Please refer to the official IMDG Code or consult with an IMDG expert for the most up-to-date and accurate information.\"\n",
    "    5. End each response with '–IMDGGenie'\n",
    "\"\"\"\n",
    "\n",
    "question = \"According to the IMDG Code, what proper shipping name can be used for a package containing both \"\"PAINT\"\" and \"\"PAINT RELATED MATERIAL\"\" together?\"\n",
    "\n",
    "\n",
    "def format_prompt(system_prompt: str, question: str) -> str:\n",
    "    \"Format the question to the format of the dataset we fine-tuned to.\"\n",
    "    return \"\"\"<bos><start_of_turn>user\n",
    "## Instructions\n",
    "{}\n",
    "## User\n",
    "{}<end_of_turn>\n",
    "<start_of_turn>model\n",
    "\"\"\".format(\n",
    "        system_prompt, question\n",
    "    )\n",
    "\n",
    "\n",
    "print(format_prompt(system_prompt, question))"
   ]
  },
  {
   "cell_type": "code",
   "execution_count": 10,
   "metadata": {},
   "outputs": [
    {
     "data": {
      "application/vnd.jupyter.widget-view+json": {
       "model_id": "3a4c764a632a4efaa47310779ef250b8",
       "version_major": 2,
       "version_minor": 0
      },
      "text/plain": [
       "Fetching 9 files:   0%|          | 0/9 [00:00<?, ?it/s]"
      ]
     },
     "metadata": {},
     "output_type": "display_data"
    },
    {
     "name": "stdout",
     "output_type": "stream",
     "text": [
      "==========\n",
      "Prompt: <bos><start_of_turn>user\n",
      "## Instructions\n",
      "\n",
      "    You are an IMDG Code specialist with a deep understanding of the International Maritime Dangerous Goods (IMDG) Code. Your task is to provide detailed and accurate information in response to user questions about IMDG code.\n",
      "\n",
      "    Guidelines for answering:\n",
      "    1. Present information in a clear, concise, and easily understandable manner, using bullet points for organization.\n",
      "    2. For questions about specific UN Numbers:\n",
      "       - Provide details on: UN No., Proper Shipping Name, Class, Subsidiary hazard, Packing Group, Special Provisions, Limited Quantity, Excepted Quantity, Packing Instructions, Stowage and handling, Segregation, and Properties and observations.\n",
      "       - If this information is not in the provided context, state that you need to refer to the official IMDG Code for accurate details.\n",
      "    3. Respond in the language of the user's question. If unable to determine the language, default to English.\n",
      "    4. If you don't know the answer or if the information is not in the provided context, clearly state \"I don't have enough information to answer this question accurately. Please refer to the official IMDG Code or consult with an IMDG expert for the most up-to-date and accurate information.\"\n",
      "    5. End each response with '–IMDGGenie'\n",
      "\n",
      "## User\n",
      "According to the IMDG Code, what proper shipping name can be used for a package containing both PAINT and PAINT RELATED MATERIAL together?<end_of_turn>\n",
      "<start_of_turn>model\n",
      "\n",
      "When a package contains both PAINT and PAINT RELATED MATERIAL, the proper shipping name would be \"PAINT, PAINT RELATED MATERIAL\". This format is specifically allowed by the IMDG Code to describe packages containing multiple related substances.<end_of_turn>\n",
      "==========\n",
      "Prompt: 302 tokens, 106.251 tokens-per-sec\n",
      "Generation: 43 tokens, 13.233 tokens-per-sec\n",
      "Peak memory: 42.802 GB\n"
     ]
    }
   ],
   "source": [
    "from mlx_lm import generate, load\n",
    "\n",
    "# Load the fine-tuned model with LoRA weights\n",
    "model_lora, tokenizer = load(\n",
    "    \"mlx-community/gemma-2-27b-it-4bit\",\n",
    "    adapter_path=\"./checkpoints/adapters\",\n",
    ")\n",
    "\n",
    "response = generate(\n",
    "    model_lora,\n",
    "    tokenizer,\n",
    "    prompt=format_prompt(system_prompt, question),\n",
    "    verbose=True,\n",
    "    temp=0.5,\n",
    "    max_tokens=1024,\n",
    ")"
   ]
  },
  {
   "cell_type": "markdown",
   "metadata": {},
   "source": [
    "## 7. Inference with foundation model"
   ]
  },
  {
   "cell_type": "code",
   "execution_count": 11,
   "metadata": {},
   "outputs": [
    {
     "data": {
      "application/vnd.jupyter.widget-view+json": {
       "model_id": "fce1f64917524170bf925ef3dac66725",
       "version_major": 2,
       "version_minor": 0
      },
      "text/plain": [
       "Fetching 9 files:   0%|          | 0/9 [00:00<?, ?it/s]"
      ]
     },
     "metadata": {},
     "output_type": "display_data"
    },
    {
     "name": "stdout",
     "output_type": "stream",
     "text": [
      "==========\n",
      "Prompt: <bos><start_of_turn>user\n",
      "## Instructions\n",
      "\n",
      "    You are an IMDG Code specialist with a deep understanding of the International Maritime Dangerous Goods (IMDG) Code. Your task is to provide detailed and accurate information in response to user questions about IMDG code.\n",
      "\n",
      "    Guidelines for answering:\n",
      "    1. Present information in a clear, concise, and easily understandable manner, using bullet points for organization.\n",
      "    2. For questions about specific UN Numbers:\n",
      "       - Provide details on: UN No., Proper Shipping Name, Class, Subsidiary hazard, Packing Group, Special Provisions, Limited Quantity, Excepted Quantity, Packing Instructions, Stowage and handling, Segregation, and Properties and observations.\n",
      "       - If this information is not in the provided context, state that you need to refer to the official IMDG Code for accurate details.\n",
      "    3. Respond in the language of the user's question. If unable to determine the language, default to English.\n",
      "    4. If you don't know the answer or if the information is not in the provided context, clearly state \"I don't have enough information to answer this question accurately. Please refer to the official IMDG Code or consult with an IMDG expert for the most up-to-date and accurate information.\"\n",
      "    5. End each response with '–IMDGGenie'\n",
      "\n",
      "## User\n",
      "According to the IMDG Code, what proper shipping name can be used for a package containing both PAINT and PAINT RELATED MATERIAL together?<end_of_turn>\n",
      "<start_of_turn>model\n",
      "\n",
      "When a package contains both PAINT and PAINT RELATED MATERIAL, the proper shipping name depends on the specific nature of the paint-related material. \n",
      "\n",
      "Here are some possibilities:\n",
      "\n",
      "* **PAINT:** If the paint-related material is a component specifically designed for use with the paint (e.g., thinner, hardener), you could use the proper shipping name \"PAINT, with PAINT RELATED MATERIAL\".\n",
      "* **PAINT RELATED MATERIAL:** If the paint-related material is not specifically designed for use with the paint (e.g., cleaning solvent), you should use the proper shipping name that best describes the paint-related material itself.\n",
      "\n",
      "It's crucial to consult the IMDG Code and the Safety Data Sheets (SDS) for both the paint and the paint-related material to determine the most accurate and appropriate proper shipping name.\n",
      "\n",
      "–IMDGGenie \n",
      "<end_of_turn>\n",
      "\n",
      "==========\n",
      "Prompt: 302 tokens, 115.215 tokens-per-sec\n",
      "Generation: 175 tokens, 15.426 tokens-per-sec\n",
      "Peak memory: 42.802 GB\n"
     ]
    }
   ],
   "source": [
    "from mlx_lm import generate, load\n",
    "\n",
    "model, tokenizer = load(\"mlx-community/gemma-2-27b-it-4bit\")\n",
    "\n",
    "response = generate(\n",
    "    model,\n",
    "    tokenizer,\n",
    "    prompt=format_prompt(system_prompt, question),\n",
    "    verbose=True,\n",
    "    temp=0.5,\n",
    "    max_tokens=1024,\n",
    ")"
   ]
  },
  {
   "cell_type": "code",
   "execution_count": 18,
   "metadata": {},
   "outputs": [
    {
     "name": "stderr",
     "output_type": "stream",
     "text": [
      "huggingface/tokenizers: The current process just got forked, after parallelism has already been used. Disabling parallelism to avoid deadlocks...\n",
      "To disable this warning, you can either:\n",
      "\t- Avoid using `tokenizers` before the fork if possible\n",
      "\t- Explicitly set the environment variable TOKENIZERS_PARALLELISM=(true | false)\n"
     ]
    },
    {
     "name": "stdout",
     "output_type": "stream",
     "text": [
      "Fetching 9 files: 100%|████████████████████████| 9/9 [00:00<00:00, 26696.42it/s]\n",
      "==========\n",
      "Prompt: <bos><start_of_turn>user\n",
      "What are the normal working hours for customs at Dar es Salaam Port?<end_of_turn>\n",
      "<start_of_turn>model\n",
      "\n",
      "I cannot provide specific real-time information like working hours for government offices. Working hours are subject to change and are best obtained directly from the source.<end_of_turn>\n",
      "==========\n",
      "Prompt: 24 tokens, 12.770 tokens-per-sec\n",
      "Generation: 32 tokens, 13.584 tokens-per-sec\n",
      "Peak memory: 14.642 GB\n"
     ]
    }
   ],
   "source": [
    "!python -m mlx_lm.generate \\\n",
    "    --model mlx-community/gemma-2-27b-it-4bit \\\n",
    "    --adapter-path checkpoints/adapters \\\n",
    "    --prompt \"What are the normal working hours for customs at Dar es Salaam Port?\" \\\n",
    "    --max-tokens 256 \\\n",
    "    --temp 0.5"
   ]
  },
  {
   "cell_type": "code",
   "execution_count": 12,
   "metadata": {},
   "outputs": [
    {
     "name": "stdout",
     "output_type": "stream",
     "text": [
      "usage: generate.py [-h] [--model MODEL] [--adapter-path ADAPTER_PATH]\n",
      "                   [--trust-remote-code] [--eos-token EOS_TOKEN]\n",
      "                   [--prompt PROMPT] [--max-tokens MAX_TOKENS] [--temp TEMP]\n",
      "                   [--top-p TOP_P] [--seed SEED] [--ignore-chat-template]\n",
      "                   [--use-default-chat-template] [--colorize]\n",
      "                   [--cache-limit-gb CACHE_LIMIT_GB]\n",
      "\n",
      "LLM inference script\n",
      "\n",
      "options:\n",
      "  -h, --help            show this help message and exit\n",
      "  --model MODEL         The path to the local model directory or Hugging Face\n",
      "                        repo.\n",
      "  --adapter-path ADAPTER_PATH\n",
      "                        Optional path for the trained adapter weights and\n",
      "                        config.\n",
      "  --trust-remote-code   Enable trusting remote code for tokenizer\n",
      "  --eos-token EOS_TOKEN\n",
      "                        End of sequence token for tokenizer\n",
      "  --prompt PROMPT       Message to be processed by the model\n",
      "  --max-tokens MAX_TOKENS, -m MAX_TOKENS\n",
      "                        Maximum number of tokens to generate\n",
      "  --temp TEMP           Sampling temperature\n",
      "  --top-p TOP_P         Sampling top-p\n",
      "  --seed SEED           PRNG seed\n",
      "  --ignore-chat-template\n",
      "                        Use the raw prompt without the tokenizer's chat\n",
      "                        template.\n",
      "  --use-default-chat-template\n",
      "                        Use the default chat template\n",
      "  --colorize            Colorize output based on T[0] probability\n",
      "  --cache-limit-gb CACHE_LIMIT_GB\n",
      "                        Set the MLX cache limit in GB\n"
     ]
    }
   ],
   "source": [
    "!python -m mlx_lm.generate --help"
   ]
  },
  {
   "cell_type": "markdown",
   "metadata": {},
   "source": [
    "## 8. Evaluation"
   ]
  },
  {
   "cell_type": "code",
   "execution_count": 4,
   "metadata": {},
   "outputs": [],
   "source": [
    "answer = \"\"\"LICENCE.txtThe IMDG Code allows the use of the proper shipping name \"\"PAINT RELATED MATERIAL\"\" for consignments of packages containing both \"\"PAINT\"\" and \"\"PAINT RELATED MATERIAL\"\" in the same package. This provision simplifies documentation and package marking when both types of substances are shipped together.\n",
    "\"\"\"\n",
    "\n",
    "lora_answer = \"\"\"LICENCE.txtWhen a package contains both PAINT and PAINT RELATED MATERIAL, the proper shipping name would be \"\"PAINT, PAINT RELATED MATERIAL\"\". This format is specifically allowed by the IMDG Code to describe packages containing multiple related substances.\n",
    "\"\"\"\n",
    "\n",
    "\n",
    "foundation_answer = \"\"\"\n",
    "When a package contains both PAINT and PAINT RELATED MATERIAL, the proper shipping name depends on the specific nature of the paint-related material. \n",
    "\n",
    "Here are some possibilities:\n",
    "\n",
    "* **PAINT:** If the paint-related material is a component specifically designed for use with the paint (e.g., thinner, hardener), you could use the proper shipping name \"PAINT, with PAINT RELATED MATERIAL\".\n",
    "* **PAINT RELATED MATERIAL:** If the paint-related material is not specifically designed for use with the paint (e.g., cleaning solvent), you should use the proper shipping name that best describes the paint-related material itself.\n",
    "\n",
    "It's crucial to consult the IMDG Code and the Safety Data Sheets (SDS) for both the paint and the paint-related material to determine the most accurate and appropriate proper shipping name.\n",
    "\"\"\""
   ]
  },
  {
   "cell_type": "code",
   "execution_count": 9,
   "metadata": {},
   "outputs": [
    {
     "name": "stdout",
     "output_type": "stream",
     "text": [
      "LoRA Answer Evaluation:\n",
      "Cosine Similarity: 0.5340\n",
      "BLEU Score: 0.1616\n",
      "ROUGE-L F1 Score: 0.4571\n",
      "Keyword Match: 0.5278\n",
      "\n",
      "Foundation Answer Evaluation:\n",
      "Cosine Similarity: 0.6037\n",
      "BLEU Score: 0.0571\n",
      "ROUGE-L F1 Score: 0.2857\n",
      "Keyword Match: 0.5556\n"
     ]
    },
    {
     "name": "stderr",
     "output_type": "stream",
     "text": [
      "[nltk_data] Downloading package punkt to\n",
      "[nltk_data]     /Users/kenny_jung/nltk_data...\n",
      "[nltk_data]   Package punkt is already up-to-date!\n"
     ]
    }
   ],
   "source": [
    "import numpy as np\n",
    "from sklearn.feature_extraction.text import TfidfVectorizer\n",
    "from sklearn.metrics.pairwise import cosine_similarity\n",
    "from nltk.translate.bleu_score import sentence_bleu\n",
    "from rouge import Rouge\n",
    "import nltk\n",
    "nltk.download('punkt')\n",
    "\n",
    "# 1. 코사인 유사도\n",
    "def cosine_sim(text1, text2):\n",
    "    vectorizer = TfidfVectorizer().fit_transform([text1, text2])\n",
    "    return cosine_similarity(vectorizer[0:1], vectorizer[1:2])[0][0]\n",
    "\n",
    "# 2. BLEU 점수\n",
    "def calculate_bleu(reference, candidate):\n",
    "    reference_tokens = nltk.word_tokenize(reference.lower())\n",
    "    candidate_tokens = nltk.word_tokenize(candidate.lower())\n",
    "    return sentence_bleu([reference_tokens], candidate_tokens)\n",
    "\n",
    "# 3. ROUGE 점수\n",
    "rouge = Rouge()\n",
    "def calculate_rouge(reference, candidate):\n",
    "    scores = rouge.get_scores(candidate, reference)\n",
    "    return scores[0]['rouge-l']['f']\n",
    "\n",
    "# 4. 키워드 일치도\n",
    "def keyword_match(reference, candidate):\n",
    "    reference_keywords = set(nltk.word_tokenize(reference.lower()))\n",
    "    candidate_keywords = set(nltk.word_tokenize(candidate.lower()))\n",
    "    return len(reference_keywords.intersection(candidate_keywords)) / len(reference_keywords)\n",
    "\n",
    "# 평가 실행\n",
    "lora_cosine = cosine_sim(answer, lora_answer)\n",
    "foundation_cosine = cosine_sim(answer, foundation_answer)\n",
    "\n",
    "lora_bleu = calculate_bleu(answer, lora_answer)\n",
    "foundation_bleu = calculate_bleu(answer, foundation_answer)\n",
    "\n",
    "lora_rouge = calculate_rouge(answer, lora_answer)\n",
    "foundation_rouge = calculate_rouge(answer, foundation_answer)\n",
    "\n",
    "lora_keyword = keyword_match(answer, lora_answer)\n",
    "foundation_keyword = keyword_match(answer, foundation_answer)\n",
    "\n",
    "print(f\"LoRA Answer Evaluation:\")\n",
    "print(f\"Cosine Similarity: {lora_cosine:.4f}\")\n",
    "print(f\"BLEU Score: {lora_bleu:.4f}\")\n",
    "print(f\"ROUGE-L F1 Score: {lora_rouge:.4f}\")\n",
    "print(f\"Keyword Match: {lora_keyword:.4f}\")\n",
    "\n",
    "print(f\"\\nFoundation Answer Evaluation:\")\n",
    "print(f\"Cosine Similarity: {foundation_cosine:.4f}\")\n",
    "print(f\"BLEU Score: {foundation_bleu:.4f}\")\n",
    "print(f\"ROUGE-L F1 Score: {foundation_rouge:.4f}\")\n",
    "print(f\"Keyword Match: {foundation_keyword:.4f}\")"
   ]
  },
  {
   "cell_type": "markdown",
   "metadata": {},
   "source": [
    "## 9. Random question basis auto evaluation"
   ]
  },
  {
   "cell_type": "code",
   "execution_count": 11,
   "metadata": {},
   "outputs": [
    {
     "name": "stderr",
     "output_type": "stream",
     "text": [
      "[nltk_data] Downloading package punkt to\n",
      "[nltk_data]     /Users/kenny_jung/nltk_data...\n",
      "[nltk_data]   Package punkt is already up-to-date!\n"
     ]
    },
    {
     "data": {
      "application/vnd.jupyter.widget-view+json": {
       "model_id": "991a39efccf8432397ba62d33efadc9f",
       "version_major": 2,
       "version_minor": 0
      },
      "text/plain": [
       "Fetching 9 files:   0%|          | 0/9 [00:00<?, ?it/s]"
      ]
     },
     "metadata": {},
     "output_type": "display_data"
    },
    {
     "data": {
      "application/vnd.jupyter.widget-view+json": {
       "model_id": "09b1aefa4859492bbbe2b97caa6f9540",
       "version_major": 2,
       "version_minor": 0
      },
      "text/plain": [
       "Fetching 9 files:   0%|          | 0/9 [00:00<?, ?it/s]"
      ]
     },
     "metadata": {},
     "output_type": "display_data"
    },
    {
     "name": "stdout",
     "output_type": "stream",
     "text": [
      "Model: LoRA Model\n",
      "Question: What is the difference between multilateral approval and unilateral approval when transporting radioactive material according to the IMDG Code?\n",
      "Reference Answer: The IMDG Code differentiates between multilateral and unilateral approval for the transport of radioactive material. \n",
      "\n",
      "Multilateral approval is required when the consignment of radioactive material will be transported through or into another country. It means obtaining approval from the competent authority of both the country of origin and the country (or countries) the shipment will transit through or be delivered to.\n",
      "\n",
      "Unilateral approval, on the other hand, only requires approval from the competent authority of the country where the design of the radioactive material packaging originated. This type of approval is sufficient if the shipment remains within the borders of the country of origin.\n",
      "Generated Answer: The IMDG Code outlines two primary methods for obtaining approval to transport radioactive material: multilateral approval and unilateral approval.  \n",
      "\n",
      "Here's a breakdown of the key differences:\n",
      "\n",
      "**Multilateral Approval:**\n",
      "\n",
      "* This method involves obtaining approval from the competent authorities of all countries through which the radioactive material will be transported.\n",
      "* It is typically required for shipments of radioactive material that exceed certain activity levels or that pose a higher radiological risk.\n",
      "* The approval process is more complex and time-consuming, as it involves coordination between multiple regulatory bodies.\n",
      "* However, multilateral approval provides a higher level of assurance that the shipment meets the safety standards of all countries involved.\n",
      "\n",
      "**Unilateral Approval:**\n",
      "\n",
      "* This method involves obtaining approval from the competent authority of the country of origin for the shipment.\n",
      "* It is generally used for shipments of radioactive material that fall below certain activity levels or that pose a lower radiological risk.\n",
      "* The approval process is simpler and faster than multilateral approval.\n",
      "* However, unilateral approval is only valid for shipments that remain within the territory of the country that granted the approval. If the shipment crosses international borders, multilateral approval would be required.\n",
      "\n",
      "**In summary:**\n",
      "\n",
      "| Feature | Multilateral Approval | Unilateral Approval |\n",
      "|---|---|---|\n",
      "| Approval required from | All countries involved in the transport | Country of origin |\n",
      "| Complexity | More complex and time-consuming | Simpler and faster |\n",
      "| Validity | Valid for international shipments | Valid only within the country of origin |\n",
      "| Radiological risk | Higher | Lower |\n",
      "\n",
      "The IMDG Code provides detailed guidance on the specific requirements for both multilateral and unilateral approval, including the necessary documentation, packaging standards, and labeling requirements. It is crucial to consult the IMDG Code and relevant national regulations to determine the appropriate approval method for a given shipment of radioactive material.<end_of_turn>\n",
      "Cosine Similarity: 0.7547\n",
      "BLEU Score: 0.0958\n",
      "ROUGE-L F1 Score: 0.3184\n",
      "Keyword Match: 0.6780\n",
      "--------------------------------------------------\n",
      "Model: LoRA Model\n",
      "Question: According to the IMDG Code, what information should be included on a classification document for explosives being transported?\n",
      "Reference Answer: A classification document for explosives transported under the IMDG Code must contain a wealth of specific details to ensure safe handling and transport.  Here's a breakdown of the required information:\n",
      "\n",
      "1. Proper Shipping Name: The internationally recognized name for the explosive substance.\n",
      "\n",
      "2. UN Number: The unique four-digit numerical identifier assigned to the explosive by the United Nations.\n",
      "\n",
      "3. Class: The assigned class of the explosive, specifically Class 1.\n",
      "\n",
      "4. Hazard Division: The subdivision within Class 1 that categorizes the explosive based on its hazards (e.g., 1.1 for mass explosion hazard, 1.4 for articles with no significant blast hazard).\n",
      "\n",
      "5. Compatibility Group: A letter designation (A to S) that further categorizes the explosive within its hazard division based on its compatibility with other substances.\n",
      "\n",
      "6. Maximum Net Explosive Mass: If applicable, the document should state the maximum permitted net explosive mass per package or article.\n",
      "\n",
      "7. Competent Authority Authorization: The document must clearly display the name, signature, stamp, seal, or other identification of the person authorized by the relevant competent authority to issue the classification.\n",
      "\n",
      "8. Packaging Details (If Applicable): When the safety of transport or hazard division depends on the packaging, the document must describe the permitted types of:\n",
      "\n",
      "    * Inner packagings\n",
      "\n",
      "    * Intermediate packagings\n",
      "\n",
      "    * Outer packagings\n",
      "\n",
      "9. Identifying References: The document should include the part number, stock number, or other identifying reference used to place the explosives on the market or supply them for transport.\n",
      "\n",
      "10. Manufacturer Information: The name and address of the legal entity (manufacturer) responsible for producing the explosives, along with any unique company registration number under national legislation. \n",
      "\n",
      "\n",
      "These comprehensive details on the classification document are crucial for ensuring the safe and compliant transportation of explosives under the IMDG Code.\n",
      "Generated Answer: The IMDG Code outlines specific information that must be included on a classification document for explosives being transported. This document, often referred to as a \"Dangerous Goods Transport Document,\" is crucial for ensuring the safe and legal transportation of these hazardous materials.\n",
      "\n",
      "Here's a breakdown of the essential information required:\n",
      "\n",
      "**1. Shipping Name:**\n",
      "\n",
      "* The shipping name must be the proper shipping name as listed in the IMDG Code's Dangerous Goods List. This name accurately identifies the specific type of explosive being transported.\n",
      "\n",
      "* For example, instead of \"fireworks,\" the shipping name would be \"FIREWORKS, CLASS 1.4G\" or \"FIREWORKS, UN 0336.\"\n",
      "\n",
      "**2. UN Number:**\n",
      "\n",
      "* The four-digit UN number assigned to the specific explosive substance or article. This number is a globally recognized identifier for hazardous materials.\n",
      "\n",
      "* For example, \"FIREWORKS, UN 0336\" indicates the UN number for fireworks.\n",
      "\n",
      "**3. Class:**\n",
      "\n",
      "* The hazard class of the explosive, which is always Class 1.\n",
      "\n",
      "* This indicates the primary hazard associated with the material.\n",
      "\n",
      "**4. Division:**\n",
      "\n",
      "* The division within Class 1 that further classifies the explosive based on its hazard level.\n",
      "\n",
      "* Divisions range from 1.1 (most hazardous) to 1.6 (least hazardous).\n",
      "\n",
      "* For example, \"FIREWORKS, CLASS 1.4G\" indicates that the fireworks belong to Division 1.4G, which are \"fireworks, with their own means of ignition, with low hazard.\"\n",
      "\n",
      "**5. Subsidiary Risk:**\n",
      "\n",
      "* If the explosive poses additional hazards besides its primary explosive nature, the subsidiary risk(s) must be indicated.\n",
      "\n",
      "* This is done by adding the appropriate hazard class number(s) in parentheses after the main class.\n",
      "\n",
      "* For example, if the explosive is also corrosive, the subsidiary risk would be \"(8)\" for corrosive substances.\n",
      "\n",
      "**6. Packing Group:**\n",
      "\n",
      "* The packing group (I, II, or III) indicates the degree of hazard the explosive presents during transport.\n",
      "\n",
      "* Packing Group I is the most hazardous, followed by II and then III.\n",
      "\n",
      "* This information helps determine the appropriate packaging and handling requirements.\n",
      "\n",
      "**7. Net Quantity:**\n",
      "\n",
      "* The net quantity of the explosive being transported, expressed in kilograms or grams.\n",
      "\n",
      "**8. Proper Shipping Name and Description:**\n",
      "\n",
      "* A description of the explosive, including its physical state (solid, liquid, gaseous), and any other relevant information about its composition or use.\n",
      "\n",
      "**9. Name and Address of the Consignor and Consignee:**\n",
      "\n",
      "* The names and addresses of the party shipping the explosives and the party receiving them.\n",
      "\n",
      "**10. Date of Shipment:**\n",
      "\n",
      "* The date the explosives are loaded onto the transport vehicle.\n",
      "\n",
      "**11. Signature of the Person Responsible for the Shipment:**\n",
      "\n",
      "* The signature of the person authorized to sign the document on behalf of the shipper.\n",
      "\n",
      "**12. Emergency Contact Information:**\n",
      "\n",
      "* Contact information for a person who can provide assistance in case of an emergency related to the shipment.\n",
      "\n",
      "This information ensures that all parties involved in the transportation process are aware of the hazards associated with the explosives and can take appropriate safety precautions.\n",
      "\n",
      "It is crucial to consult the latest edition of the IMDG Code and any relevant national regulations for the most up-to-date information and specific requirements for classifying and documenting explosives for transport.<end_of_turn>\n",
      "Cosine Similarity: 0.8023\n",
      "BLEU Score: 0.0870\n",
      "ROUGE-L F1 Score: 0.3007\n",
      "Keyword Match: 0.5742\n",
      "--------------------------------------------------\n",
      "Model: LoRA Model\n",
      "Question: According to the IMDG Code, what are the packing group requirements for \"NITROCELLULOSE with not more than 12.6% nitrogen, by dry mass, MIXTURE WITH or WITHOUT PLASTICIZER, WITH or WITHOUT PIGMENT\"?\n",
      "Reference Answer: The IMDG Code specifies a packing group of II for \"NITROCELLULOSE with not more than 12.6% nitrogen, by dry mass, MIXTURE WITH or WITHOUT PLASTICIZER, WITH or WITHOUT PIGMENT\".  This information can be found in the IMDG Code entry for UN number 2557.\n",
      "Generated Answer: The IMDG Code classifies \"NITROCELLULOSE with not more than 12.6% nitrogen, by dry mass, MIXTURE WITH or WITHOUT PLASTICIZER, WITH or WITHOUT PIGMENT\" as UN 1884.  \n",
      "\n",
      "This substance falls under Packing Group II. \n",
      "\n",
      "Therefore, the packing group requirement for this substance is II.<end_of_turn>\n",
      "\n",
      "Cosine Similarity: 0.6479\n",
      "BLEU Score: 0.5099\n",
      "ROUGE-L F1 Score: 0.6923\n",
      "Keyword Match: 0.7250\n",
      "--------------------------------------------------\n",
      "Model: LoRA Model\n",
      "Question: A chemical has an LC50 value of 150 mL/m3 and a saturated vapour concentration of 600 LC50. Based on the IMDG Code, what is the proper shipping name for this chemical?\n",
      "Reference Answer: The proper shipping name for this chemical would be TOXIC BY INHALATION LIQUID, WATER-REACTIVE, FLAMMABLE, N.O.S.  \n",
      "\n",
      "This is determined by the following criteria outlined in the IMDG Code:\n",
      "\n",
      "* LC50: The chemical has an LC50 value of 150 mL/m3, which is less than or equal to 200 mL/m3.\n",
      "\n",
      "* Saturated Vapor Concentration: The saturated vapor concentration is 600 LC50, which is greater than or equal to 500 LC50.\n",
      "\n",
      "Therefore, according to the IMDG Code provisions for Class 6.1 (Toxic Substances), the appropriate UN number and proper shipping name would be UN 3490 TOXIC BY INHALATION LIQUID, WATER-REACTIVE, FLAMMABLE, N.O.S.\n",
      "Generated Answer: According to the IMDG Code, the proper shipping name for this chemical would be \"TOXIC LIQUID, ORGANIC, N.O.S.\"  \n",
      "\n",
      "Here's why:\n",
      "\n",
      "1. **LC50 Value:** The LC50 value of 150 mL/m3 indicates the chemical is toxic by inhalation.  \n",
      "\n",
      "2. **Saturated Vapor Concentration:** The saturated vapor concentration being 600 LC50 means the vapor pressure of the chemical is high enough to pose a significant inhalation hazard.\n",
      "\n",
      "3. IMDG Code Classification:  Based on these factors, the IMDG Code would classify this chemical as Class 6.1 (Toxic Substances) with a subsidiary hazard of Class 3 (Flammable Liquids) if the flashpoint is below 60°C.\n",
      "\n",
      "4. \"N.O.S.\" stands for \"Not Otherwise Specified\". This designation is used when the precise chemical identity is unknown or when the chemical doesn't fit the specific criteria for a listed entry in the IMDG Code.\n",
      "\n",
      "Therefore, the most accurate and appropriate shipping name, considering the information provided, is \"TOXIC LIQUID, ORGANIC, N.O.S.\" This name clearly indicates the hazard posed by the chemical and allows for safe handling and transportation.<end_of_turn>\n",
      "Cosine Similarity: 0.6772\n",
      "BLEU Score: 0.1768\n",
      "ROUGE-L F1 Score: 0.4199\n",
      "Keyword Match: 0.7213\n",
      "--------------------------------------------------\n",
      "Model: LoRA Model\n",
      "Question: According to the IMDG Code, how should ammonia, classified as a hazardous substance, be handled when the quantity is 2 liters or less?\n",
      "Reference Answer: The IMDG Code, specifically Chapter 33, Special provisions applicable to certain substances, materials, or articles, provides guidance on the classification and handling of ammonia. For quantities of 2 liters or less of ammonia, the IMDG Code does not explicitly state specific handling requirements. However, it emphasizes that the classification of ammonia can vary depending on factors like particle size and packaging. \n",
      "\n",
      "Therefore, while the IMDG Code doesn't offer detailed instructions for such small quantities, it's crucial to follow the general principles of safe handling for hazardous substances. This includes proper labeling, secure packaging to prevent leaks or spills, and adherence to any relevant local regulations or transportation guidelines. \n",
      "\n",
      "It's always best to consult with hazardous materials experts or refer to your organization's internal safety protocols for handling ammonia, even in small quantities.\n",
      "Generated Answer: The IMDG Code (International Maritime Dangerous Goods Code) does not specify a quantity threshold for exempting hazardous substances from its regulations.  \n",
      "\n",
      "Even if the quantity of ammonia is 2 liters or less, it is still classified as a hazardous substance (UN 1005) and must be handled according to the IMDG Code's provisions. This includes:\n",
      "\n",
      "1. **Proper Packaging:** Ammonia must be packaged in suitable containers that are compatible with the substance and meet the IMDG Code's requirements for strength, leakproofness, and closure.\n",
      "\n",
      "2. **Labeling and Marking:** The package must be clearly labeled with the appropriate hazard pictograms, UN number (1005), and proper shipping name (AMMONIA, ANHYDROUS).\n",
      "\n",
      "3. **Documentation:** A shipping document (e.g., bill of lading) must accompany the shipment, detailing the hazardous nature of the cargo, the quantity, and any special handling instructions.\n",
      "\n",
      "4. **Segregation:** Ammonia must be segregated from incompatible substances during transport to prevent dangerous reactions.\n",
      "\n",
      "5. **Emergency Procedures:** The shipper, carrier, and consignee must have emergency procedures in place to deal with spills, leaks, or other incidents involving ammonia.\n",
      "\n",
      "It is crucial to consult the IMDG Code and relevant national regulations for specific requirements regarding the transport of ammonia. Remember, safety is paramount, and even small quantities of hazardous substances can pose significant risks if not handled properly.<end_of_turn>\n",
      "Cosine Similarity: 0.5368\n",
      "BLEU Score: 0.0415\n",
      "ROUGE-L F1 Score: 0.2656\n",
      "Keyword Match: 0.5165\n",
      "--------------------------------------------------\n",
      "Model: LoRA Model\n",
      "Question: A chemical substance has an absolute vapor pressure of 2 bar at 65°C. What is the gauge pressure of the ullage space in the portable tank according to the IMDG Code, assuming a maximum ullage temperature of 65°C?\n",
      "Reference Answer: According to the IMDG Code, the gauge pressure in the ullage space of a portable tank is determined by subtracting 1 bar from the absolute vapor pressure of the substance at the highest temperature during transport.  \n",
      "\n",
      "In this case, the absolute vapor pressure of the substance at 65°C is 2 bar. Therefore, the gauge pressure in the ullage space would be:\n",
      "\n",
      "2 bar (absolute vapor pressure) - 1 bar = 1 bar (gauge pressure)\n",
      "\n",
      "The partial pressure of air or other gases in the ullage space is also considered in calculating the total pressure, but the question only asked for the gauge pressure of the vapor.\n",
      "Generated Answer: According to the IMDG Code, the gauge pressure of the ullage space in the portable tank is calculated as follows:\n",
      "\n",
      "1. The absolute vapor pressure of the substance at 65°C is given as 2 bar.\n",
      "\n",
      "2. The gauge pressure is the difference between the absolute pressure and the atmospheric pressure.\n",
      "\n",
      "3. The IMDG Code specifies a reference atmospheric pressure of 1.01325 bar.\n",
      "\n",
      "Therefore, the gauge pressure of the ullage space is:\n",
      "\n",
      "2 bar (absolute pressure) - 1.01325 bar (atmospheric pressure) = 0.98675 bar (gauge pressure)\n",
      "\n",
      "Therefore, the gauge pressure of the ullage space in the portable tank would be approximately 0.987 bar.<end_of_turn>\n",
      "<start_of_turn>\n",
      "Cosine Similarity: 0.8796\n",
      "BLEU Score: 0.3713\n",
      "ROUGE-L F1 Score: 0.5405\n",
      "Keyword Match: 0.5614\n",
      "--------------------------------------------------\n",
      "Model: LoRA Model\n",
      "Question: A shipment of SEED CAKE is being prepared for transport by sea. The SEED CAKE contains 8% oil and 12% moisture. Based on the IMDG Code, what UN number should be assigned to this shipment, and why?\n",
      "Reference Answer: The appropriate UN number for this shipment of SEED CAKE is UN 1386. According to the IMDG Code excerpt, SEED CAKE is classified into two categories:\n",
      "\n",
      "* (a) Mechanically expelled seeds containing more than 10% oil or more than 20% oil and moisture combined.\n",
      "* (b) Solvent extractions and expelled seeds containing not more than 10% oil and when the amount of moisture is higher than 10%, not more than 20% of oil and moisture combined.\n",
      "\n",
      "In this case, the SEED CAKE contains 8% oil and 12% moisture. The combined percentage of oil and moisture is 20% (8% + 12%), which falls under the criteria of category (b) - SEED CAKE with not more than 10% oil and not more than 11% moisture.\n",
      "\n",
      "Therefore, the UN number assigned to this shipment is UN 1386, reflecting its classification as SEED CAKE under category (b) of the IMDG Code.\n",
      "Generated Answer: The IMDG Code states that SEED CAKE, containing more than 10% oil and moisture combined, should be classified as UN 2217, SEED CAKE, containing more than 10% oil and moisture.  \n",
      "\n",
      "In this case, the SEED CAKE contains 8% oil + 12% moisture = 20% oil and moisture combined. This exceeds the 10% threshold specified in the IMDG Code. Therefore, the correct UN number for this shipment is UN 2217. \n",
      "\n",
      "It is crucial to remember that the IMDG Code is a complex document, and this is just a simplified explanation. Always consult the latest edition of the IMDG Code and relevant national regulations for the most accurate and up-to-date information.<end_of_turn>\n",
      "Cosine Similarity: 0.7135\n",
      "BLEU Score: 0.2488\n",
      "ROUGE-L F1 Score: 0.4234\n",
      "Keyword Match: 0.4930\n",
      "--------------------------------------------------\n",
      "Model: LoRA Model\n",
      "Question: According to the IMDG Code, what are the distinctions between \"Radioactive Material, Excepted Package - Limited Quantity of Material\" (UN 2910) and \"Radioactive Material, Type A Package\" (UN 2915)?\n",
      "Reference Answer: Both UN 2910 and UN 2915 classify radioactive materials, but they differ significantly in terms of radioactivity levels, packaging requirements, and transport regulations.\n",
      "\n",
      "UN 2910, \"Radioactive Material, Excepted Package - Limited Quantity of Material,\"  applies to radioactive materials in very small quantities that pose a minimal radiation risk. These shipments are subject to less stringent packaging requirements compared to Type A packages. The radioactive content must be below specific activity limits defined in the IMDG Code.\n",
      "\n",
      "UN 2915, \"Radioactive Material, Type A Package,\" encompasses radioactive materials with higher activity levels than those allowed in excepted packages. Type A packages are robust containers designed to withstand normal transport conditions and prevent the release of radioactive contents. They must meet specific design, testing, and quality assurance standards outlined in the IMDG Code.\n",
      "\n",
      "Essentially, UN 2910 is for shipments of low-activity radioactive materials with relaxed packaging rules, while UN 2915 caters to higher-activity shipments requiring robust Type A packages to ensure safety during transportation.\n",
      "Generated Answer: The IMDG Code distinguishes between \"Radioactive Material, Excepted Package - Limited Quantity of Material\" (UN 2910) and \"Radioactive Material, Type A Package\" (UN 2915) based on several key factors:\n",
      "\n",
      "**1. Activity Limits:**\n",
      "\n",
      "* UN 2910 (Excepted Package - Limited Quantity): This category is for radioactive materials with very low radioactivity. The maximum activity limit is 100 times the A1 value or 1000 times the A2 value, whichever is lower. These values are specific to each radionuclide and are listed in the IAEA Regulations for the Safe Transport of Radioactive Material.\n",
      "\n",
      "* UN 2915 (Type A Package): This category is for radioactive materials with higher radioactivity levels. The activity limit is 1000 times the A2 value.\n",
      "\n",
      "**2. Packaging Requirements:**\n",
      "\n",
      "* UN 2910 (Excepted Package - Limited Quantity): The packaging requirements are less stringent than for Type A packages. The material must be securely enclosed in a package that prevents leakage and damage during normal transport conditions.\n",
      "\n",
      "* UN 2915 (Type A Package): Type A packages must meet specific design and testing requirements outlined in the IMDG Code and IAEA Regulations. These packages are designed to withstand normal transport conditions and certain accident conditions without releasing radioactive material.\n",
      "\n",
      "**3. Labeling and Marking:**\n",
      "\n",
      "* UN 2910 (Excepted Package - Limited Quantity): Packages are labeled with the UN number 2910 and the words \"Radioactive material, excepted package - limited quantity of material\".\n",
      "\n",
      "* UN 2915 (Type A Package): Packages are labeled with the UN number 2915 and the words \"Radioactive material, type A package\". They also require additional markings, such as the transport index and the trefoil symbol.\n",
      "\n",
      "**4. Transport Restrictions:**\n",
      "\n",
      "* UN 2910 (Excepted Package - Limited Quantity): These packages are generally exempt from many of the transport restrictions that apply to radioactive materials.\n",
      "\n",
      "* UN 2915 (Type A Package): These packages are subject to more stringent transport restrictions, such as segregation from other dangerous goods and limitations on the number of packages that can be transported together.\n",
      "\n",
      "**5. Documentation:**\n",
      "\n",
      "* UN 2910 (Excepted Package - Limited Quantity): A shipping document is required, but it does not need to include all the information required for Type A packages.\n",
      "\n",
      "* UN 2915 (Type A Package): A shipping document is required and must include detailed information about the radioactive material, the packaging, and the transport arrangements.\n",
      "\n",
      "In summary, UN 2910 is for radioactive materials with very low activity levels and less stringent packaging and transport requirements. UN 2915 is for radioactive materials with higher activity levels and requires robust packaging and more stringent transport regulations.<end_of_turn>\n",
      "Cosine Similarity: 0.7009\n",
      "BLEU Score: 0.1146\n",
      "ROUGE-L F1 Score: 0.3930\n",
      "Keyword Match: 0.6122\n",
      "--------------------------------------------------\n",
      "Model: LoRA Model\n",
      "Question: A shipment of Nitroguanidine wetted with 15% water by mass is being prepared for transport. Which IMDG Code entry should be used to classify this material?\n",
      "Reference Answer: The correct IMDG Code entry for Nitroguanidine wetted with 15% water by mass is:\n",
      "\n",
      "Substance, material or article: NITROGUANIDINE dry or wetted with less than 20% water, by mass\n",
      "\n",
      "Class: 1.1\n",
      "\n",
      "UN No.: 0282\n",
      "\n",
      "This entry is chosen because the percentage of water (15%) is less than 20%, the threshold for using the entry for \"NITROGUANIDINE, WETTED with not less than 20% water, by mass\".\n",
      "Generated Answer: The IMDG Code entry for Nitroguanidine wetted with 15% water by mass is UN 0242, NITROGUANIDINE (WETTED).  \n",
      "\n",
      "This entry specifically covers Nitroguanidine in all physical states when wetted with not less than 15% water, by mass.  \n",
      "\n",
      "It's crucial to remember that using the correct UN number is essential for safe and compliant transport. Always consult the latest edition of the IMDG Code and any relevant national regulations for the most up-to-date information.<end_of_turn>\n",
      "Cosine Similarity: 0.5965\n",
      "BLEU Score: 0.2697\n",
      "ROUGE-L F1 Score: 0.4554\n",
      "Keyword Match: 0.6047\n",
      "--------------------------------------------------\n",
      "Model: LoRA Model\n",
      "Question: What safety precautions should be taken when handling a substance categorized as F-F, S-R Category D, SG35 according to the IMDG Code?\n",
      "Reference Answer: For a substance classified as F-F, S-R Category D, SG35 under the IMDG Code, several safety precautions are crucial:\n",
      "\n",
      "1. Avoid Skin and Eye Contact: The text explicitly states \"Contact with the eyes and skin should be avoided.\" This indicates the substance is likely an irritant or corrosive and can cause harm upon contact. Appropriate personal protective equipment (PPE) like gloves, goggles, and lab coats should be worn.\n",
      "\n",
      "2. Temperature Control: The substance decomposes at temperatures higher than the emergency temperature. Regularly checking the temperature is vital to prevent decomposition and potential hazards. The specific emergency temperature for the formulation can be found in table 2.5.3.2.4 of the IMDG Code.\n",
      "\n",
      "3. Fire Hazards: The substance \"burns vigorously,\" meaning it is highly flammable. Adequate fire suppression systems and procedures should be in place.\n",
      "\n",
      "4. Ventilation: The substance \"May evolve irritant or toxic fumes.\" Working in a well-ventilated area or using fume hoods is essential to minimize exposure to these fumes.\n",
      "\n",
      "5. Emergency Response: Familiarize yourself with the emergency procedures for dealing with spills, fires, or exposures to the substance. This may include having appropriate spill kits, fire extinguishers, and trained personnel available.\n",
      "\n",
      "\n",
      "\n",
      "By adhering to these precautions, you can minimize the risks associated with handling this potentially hazardous substance. Remember to always consult the Safety Data Sheet (SDS) for the specific formulation and follow all recommended safety practices.\n",
      "Generated Answer: This substance presents a significant fire and explosion risk and requires careful handling.  Let's break down the IMDG Code categorization and the necessary precautions:\n",
      "\n",
      "**F-F:** This indicates that the substance is highly flammable and has a flashpoint below 23°C. It means the substance can ignite easily at relatively low temperatures.\n",
      "\n",
      "**S-R Category D:** This signifies that the substance is moderately toxic to humans if swallowed, inhaled, or absorbed through the skin. It also means that the substance is harmful to the environment.\n",
      "\n",
      "**SG35:** This refers to the substance's specific gravity, which is 35. This information is crucial for determining the appropriate packaging and stowage requirements.\n",
      "\n",
      "**Safety Precautions:**\n",
      "\n",
      "1. **Personal Protective Equipment (PPE):**\n",
      "\n",
      "    *  Wear appropriate fire-resistant clothing, including a fire-resistant apron, gloves, and boots.\n",
      "    *  Use a respirator with a cartridge specifically designed for organic vapors.\n",
      "    *  Wear safety goggles to protect your eyes from splashes or fumes.\n",
      "\n",
      "2. **Fire Prevention and Control:**\n",
      "\n",
      "    *  Store the substance in a well-ventilated area, away from sources of ignition such as open flames, sparks, and static electricity.\n",
      "    *  Use explosion-proof electrical equipment and lighting in the storage and handling areas.\n",
      "    *  Have a fire extinguisher rated for flammable liquid fires readily available.\n",
      "    *  Develop and implement a fire safety plan, including evacuation procedures.\n",
      "\n",
      "3.  **Spill Containment and Cleanup:**\n",
      "\n",
      "    *  Have spill kits readily available that are designed for flammable liquids.\n",
      "    *  Train personnel on proper spill containment and cleanup procedures.\n",
      "    *  Use absorbent materials specifically designed for flammable liquids to soak up spills.\n",
      "    *  Dispose of contaminated materials according to local regulations.\n",
      "\n",
      "4.  **Storage and Transportation:**\n",
      "\n",
      "    *  Store the substance in approved containers that are compatible with the material and meet IMDG Code requirements.\n",
      "    *  Clearly label all containers with the appropriate hazard warnings and UN number.\n",
      "    *  Transport the substance in accordance with IMDG Code regulations, including proper placarding and documentation.\n",
      "\n",
      "5.  **First Aid and Emergency Response:**\n",
      "\n",
      "    *  Train personnel on first aid procedures for exposure to the substance.\n",
      "    *  Have a Material Safety Data Sheet (MSDS) readily available for reference.\n",
      "    *  Establish emergency contact information for poison control centers and emergency responders.\n",
      "\n",
      "6.  **Environmental Protection:**\n",
      "\n",
      "    *  Prevent spills and leaks from reaching waterways or drains.\n",
      "    *  Dispose of the substance and its waste products in accordance with local environmental regulations.\n",
      "\n",
      "7.  **Regular Inspections and Maintenance:**\n",
      "\n",
      "    *  Conduct regular inspections of storage areas, containers, and equipment to ensure they are in good condition.\n",
      "    *  Perform routine maintenance on fire suppression systems and other safety equipment.\n",
      "\n",
      "8.  **Training and Education:**\n",
      "\n",
      "    *  Provide comprehensive training to all personnel who handle the substance, covering the hazards, safety precautions, and emergency procedures.\n",
      "    *  Conduct regular refresher training to reinforce safe handling practices.\n",
      "\n",
      "By following these safety precautions, you can minimize the risks associated with handling this hazardous substance and protect the health and safety of workers and the environment.<end_of_turn>\n",
      "Cosine Similarity: 0.6784\n",
      "BLEU Score: 0.0752\n",
      "ROUGE-L F1 Score: 0.2979\n",
      "Keyword Match: 0.5267\n",
      "--------------------------------------------------\n",
      "Model: LoRA Model\n",
      "Question: A shipper is preparing a consignment of radioactive material for transport. They have a Type A package design that has been previously certified by a competent authority. However, they have made a few minor modifications to the design. Do they need to obtain a new certificate from the competent authority before shipping the modified package?\n",
      "Reference Answer: Yes, they likely need a new certificate.\n",
      "\n",
      "The IMDG Code states that the certificate of approval for a Type A packaging should include a description of the packaging by reference to drawings or specifications. Any modifications to the design, even minor ones, could affect the safety and performance of the package. Therefore, it is crucial to seek approval from the competent authority for the modified design.  \n",
      "\n",
      "The competent authority will review the changes and determine if they require a new certificate or if the existing one can be amended. This process ensures that the modified package still meets the stringent safety requirements of the IMDG Code.\n",
      "Generated Answer: This is a crucial question with potentially serious safety implications.  According to the IMDG Code, any modification to a Type A package design that could affect its safety or performance requires a new certificate from the competent authority.  \n",
      "\n",
      "Even seemingly minor modifications can have unforeseen consequences on the package's ability to withstand normal conditions of transport and the tests outlined in the IAEA Regulations for the Safe Transport of Radioactive Material.\n",
      "\n",
      "Therefore, the shipper should not rely on the existing certificate for the modified package. They must submit the modified design to the competent authority for review and approval. This process ensures that the package continues to meet the stringent safety standards of the IMDG Code and the IAEA Regulations.\n",
      "\n",
      "The competent authority will assess the modifications and determine if they necessitate new testing or analysis.  Only upon receiving a new certificate for the modified design can the shipper legally transport the radioactive material.<end_of_turn>\n",
      "Cosine Similarity: 0.8194\n",
      "BLEU Score: 0.1824\n",
      "ROUGE-L F1 Score: 0.4908\n",
      "Keyword Match: 0.6716\n",
      "--------------------------------------------------\n",
      "Model: LoRA Model\n",
      "Question: According to the IMDG Code excerpt provided, what are the UN numbers and corresponding classes for the following substances: 2,5-Dimethyl-2,5-di-(benzoylperoxy)hexane with a concentration of 82% mixed with an inert solid and 2,5-Dimethyl-2,5-di-(benzoylperoxy)hexane with a concentration greater than 82% and up to 100%?\n",
      "Reference Answer: The IMDG Code excerpt states that 2,5-Dimethyl-2,5-di-(benzoylperoxy)hexane with a concentration of 82% mixed with an inert solid has a UN number of 3106 and belongs to Class 5.2 (Organic peroxides).  \n",
      "\n",
      "2,5-Dimethyl-2,5-di-(benzoylperoxy)hexane with a concentration greater than 82% and up to 100% has a UN number of 3102 and also belongs to Class 5.2 (Organic peroxides).\n",
      "Generated Answer: Please provide the IMDG Code excerpt so I can accurately determine the UN numbers and classes for the substances you listed.  \n",
      "\n",
      "Once you provide the excerpt, I will be able to analyze the information and give you a precise answer. \n",
      "\n",
      "For future reference, when asking about specific substances and their classifications, it's crucial to have the relevant IMDG Code sections or the Dangerous Goods List readily available. This ensures I can provide the most up-to-date and accurate information. \n",
      "<end_of_turn>\n",
      "Cosine Similarity: 0.1789\n",
      "BLEU Score: 0.0340\n",
      "ROUGE-L F1 Score: 0.1319\n",
      "Keyword Match: 0.2308\n",
      "--------------------------------------------------\n",
      "Model: LoRA Model\n",
      "Question: A manufacturer wants to produce new UN pressure receptacles using the ISO 11118:2015 standard. However, the IMDG Code table lists the latest permissible standard as ISO 11118:2003. Is this allowed?\n",
      "Reference Answer: No, this is not allowed. According to the IMDG Code section 6.2.2.1, manufacturing new pressure receptacles to standards other than those listed and within their permissible date is prohibited. Since ISO 11118:2015 is a later version than the permitted ISO 11118:2003, the manufacturer cannot use this standard for producing new UN pressure receptacles.  \n",
      "\n",
      "They would need to use ISO 11118:2003 or obtain agreement from the competent authority to use a more recent version. Existing pressure receptacles manufactured to older standards can continue to be used, subject to the periodic inspection requirements of the IMDG Code.\n",
      "Generated Answer: The IMDG Code table listing the latest permissible standard as ISO 11118:2003 for UN pressure receptacles is indeed outdated.  \n",
      "\n",
      "While the IMDG Code table may not have been updated to reflect the latest revision of ISO 11118, the IMDG Code itself allows for the use of later revisions of standards.  \n",
      "\n",
      "According to paragraph 6.2.2.1.1 of the IMDG Code, \"Pressure receptacles shall be designed, constructed, tested, and equipped in accordance with the provisions of a pressure receptacle standard listed in 6.2.2.1.2 or a pressure receptacle standard authorized by the competent authority.\"\n",
      "\n",
      "Furthermore, the IMDG Code encourages the use of the latest revisions of standards. This means that the manufacturer can indeed produce new UN pressure receptacles using the ISO 11118:2015 standard.\n",
      "\n",
      "However, it is crucial for the manufacturer to ensure that the competent authority in their country of manufacture is aware of the use of the latest revision and has no objections. They may need to provide documentation demonstrating that the ISO 11118:2015 standard meets or exceeds the safety requirements of the IMDG Code.<end_of_turn>\n",
      "Cosine Similarity: 0.5917\n",
      "BLEU Score: 0.0745\n",
      "ROUGE-L F1 Score: 0.3926\n",
      "Keyword Match: 0.5758\n",
      "--------------------------------------------------\n",
      "Model: LoRA Model\n",
      "Question: What are the considerations for using the landing legs of an IMO type 6 tank as support structure during transport?\n",
      "Reference Answer: When the landing legs of an IMO type 6 tank are utilized as the support structure, the loads specified in 6.7.3.2.9 of the IMDG Code must be factored into the design and attachment method of the legs.  \n",
      "\n",
      "Furthermore, any bending stress induced in the tank shell due to this support method must be incorporated into the design calculations to ensure the structural integrity of the tank. \n",
      "\n",
      "Essentially, the landing legs need to be robust enough to handle the anticipated loads during transport and minimize any stress transferred to the tank shell.\n",
      "Generated Answer: The IMDG Code does not explicitly address the use of landing legs as the sole support structure for an IMO type 6 tank during transport.  \n",
      "\n",
      "However, several factors must be considered when determining if landing legs are sufficient for safe transport:\n",
      "\n",
      "1. Design and Strength:\n",
      "\n",
      "    * The landing legs must be designed and constructed to withstand the static and dynamic loads expected during transport, including the weight of the filled tank, any internal pressure, and the forces generated by acceleration, braking, and cornering.\n",
      "    * The legs should be made of a material with sufficient strength and durability for the intended application.\n",
      "\n",
      "2. Ground Clearance:\n",
      "\n",
      "    * The landing legs must provide adequate ground clearance to prevent the tank from contacting the road surface during transport. This is crucial to avoid damage to the tank and ensure safe passage over obstacles.\n",
      "\n",
      "3. Stability:\n",
      "\n",
      "    * The arrangement of the landing legs must provide sufficient stability to prevent the tank from tipping over during transport. This may involve using a wider stance or additional bracing.\n",
      "\n",
      "4. Securing Mechanisms:\n",
      "\n",
      "    * The landing legs must be securely attached to the tank and the transport vehicle to prevent them from detaching during transit.\n",
      "\n",
      "5. Load Distribution:\n",
      "\n",
      "    * The weight of the filled tank must be distributed evenly among the landing legs to avoid overloading any single leg.\n",
      "\n",
      "6. Regulatory Requirements:\n",
      "\n",
      "    * It is essential to consult the relevant national and international regulations governing the transport of dangerous goods. These regulations may specify minimum requirements for the design, construction, and use of landing legs for IMO type 6 tanks.\n",
      "\n",
      "7. Manufacturer's Instructions:\n",
      "\n",
      "    * Always refer to the manufacturer's instructions for the specific IMO type 6 tank being transported. These instructions will provide guidance on the proper use of the landing legs and any limitations or precautions that should be observed.\n",
      "\n",
      "In conclusion, while the IMDG Code does not explicitly prohibit the use of landing legs as the sole support structure for an IMO type 6 tank during transport, it is crucial to carefully consider all of the factors mentioned above to ensure the safety and integrity of the tank and the surrounding environment. Consulting with a qualified engineer or specialist in dangerous goods transport is highly recommended to determine the suitability of using landing legs for a specific application.<end_of_turn>\n",
      "Cosine Similarity: 0.7569\n",
      "BLEU Score: 0.0374\n",
      "ROUGE-L F1 Score: 0.2149\n",
      "Keyword Match: 0.5636\n",
      "--------------------------------------------------\n",
      "Model: LoRA Model\n",
      "Question: What precautions should be taken when transporting a mixture of a class 5.1 oxidizing substance and a combustible material like flour?\n",
      "Reference Answer: Transporting a mixture of a class 5.1 oxidizing substance and a combustible material like flour is highly dangerous and requires extreme caution.\n",
      "\n",
      "The IMDG Code highlights the significant risk of these mixtures igniting readily, sometimes even from friction or impact. Fires involving such mixtures can be violent and may lead to explosions.\n",
      "\n",
      "Therefore, the following precautions should be taken:\n",
      "\n",
      "* Segregation: The mixture should be strictly segregated from other incompatible goods, especially liquid acids, to prevent violent reactions and the evolution of toxic gases.\n",
      "* Packaging: Robust and leak-proof packaging is crucial to prevent spills and minimize the risk of ignition. The packaging should be clearly labelled with the appropriate hazard warnings and UN number.\n",
      "* Temperature Control: As some oxidizing substances are sensitive to heat, temperature control during transport is essential to prevent decomposition and potential fire.\n",
      "\n",
      "* Training: Personnel involved in the handling, loading, and unloading of the mixture must receive thorough training on the hazards associated with class 5.1 oxidizing substances and combustible materials. They should be familiar with emergency procedures in case of a fire or spill.\n",
      "\n",
      "* Vehicle Requirements: The transport vehicle should be suitable for carrying hazardous materials and equipped with appropriate fire suppression systems.\n",
      "\n",
      "* Documentation: Accurate and complete shipping documents, including the Material Safety Data Sheet (MSDS), must accompany the shipment.\n",
      "\n",
      "It is important to remember that the transportation of such hazardous mixtures should only be undertaken by experienced and qualified personnel following all applicable regulations and safety guidelines.\n",
      "Generated Answer: Transporting a mixture of a Class 5.1 oxidizing substance and a combustible material like flour requires extreme caution due to the potential for a dangerous reaction.  \n",
      "\n",
      "Here's a breakdown of the precautions you must take, referring to the IMDG Code and general best practices:\n",
      "\n",
      "**1. Classification and Labeling:**\n",
      "\n",
      "* **Accurate Classification:** The mixture must be classified according to the IMDG Code. This involves determining the primary hazard of the mixture. If the oxidizing properties of the Class 5.1 substance dominate, the mixture will likely be classified as Class 5.1. However, if the combustible nature of the flour is significant, further testing may be required to determine the appropriate classification.\n",
      "* **Proper Labeling:** The package must be labeled with the correct hazard label(s) reflecting the assigned hazard class. This could include a Class 5.1 label (oxidizing substance) and potentially additional labels for subsidiary hazards.\n",
      "\n",
      "**2. Packaging and Segregation:**\n",
      "\n",
      "* **Compatible Packaging:** The packaging must be compatible with both the oxidizing substance and the flour. This means considering factors like material compatibility, strength, and closure mechanisms. The IMDG Code provides guidance on suitable packaging types for different hazard classes.\n",
      "* **Segregation:** The mixture must be segregated from incompatible substances during transport. This includes separating it from reducing agents, flammable liquids, and other materials that could react violently with the oxidizing substance or the flour. The IMDG Code's segregation table provides detailed information on incompatible substances.\n",
      "\n",
      "**3. Stowage and Handling:**\n",
      "\n",
      "* **Secure Stowage:** The packages must be stowed securely to prevent movement and damage during transport. This may involve using dunnage, bracing, or other methods to ensure stability.\n",
      "* **Temperature Control:** Some oxidizing substances are sensitive to temperature. If the mixture requires temperature control, appropriate measures must be taken to maintain the specified temperature range.\n",
      "* **Emergency Procedures:**  Develop and communicate clear emergency procedures for dealing with spills, leaks, or fires involving the mixture. This should include information on personal protective equipment, firefighting methods, and evacuation procedures.\n",
      "\n",
      "**4. Documentation and Training:**\n",
      "\n",
      "* **Shipping Documents:** The shipping documents must accurately describe the mixture, its hazard class, and any special handling instructions.\n",
      "* **Training:** All personnel involved in the transport, handling, and storage of the mixture must receive appropriate training on the hazards associated with the substances and the necessary safety precautions.\n",
      "\n",
      "**Additional Considerations:**\n",
      "\n",
      "* **Reactivity Testing:** It is highly recommended to conduct reactivity tests on the specific mixture to determine its stability and potential hazards. This information can help refine the classification, packaging, and handling procedures.\n",
      "* **Expert Consultation:** For complex mixtures or situations with unusual hazards, it is advisable to consult with an IMDG Code expert or a qualified dangerous goods specialist. They can provide tailored guidance and ensure compliance with all relevant regulations.\n",
      "\n",
      "Remember, safety is paramount when transporting hazardous materials. By following these precautions and seeking expert advice when needed, you can minimize the risks associated with transporting a mixture of a Class 5.1 oxidizing substance and a combustible material like flour.<end_of_turn>\n",
      "Cosine Similarity: 0.7564\n",
      "BLEU Score: 0.0942\n",
      "ROUGE-L F1 Score: 0.3491\n",
      "Keyword Match: 0.6104\n",
      "--------------------------------------------------\n",
      "Model: LoRA Model\n",
      "Question: According to the IMDG Code, how are organic peroxides classified within dangerous goods?\n",
      "Reference Answer: The IMDG Code classifies organic peroxides under Class 5.2.  \n",
      "\n",
      "These substances are characterized by their liability to exothermic decomposition at normal or elevated temperatures. This decomposition can be triggered by various factors such as heat, contact with impurities (acids, heavy metal compounds, amines), friction, or impact.\n",
      "\n",
      "The rate of decomposition is influenced by temperature and the specific formulation of the organic peroxide. Decomposition can release harmful or flammable gases and vapors. \n",
      "\n",
      "Some organic peroxides require temperature control during transport due to their sensitivity. Additionally, certain organic peroxides possess explosive properties, especially when confined.\n",
      "Generated Answer: The IMDG Code classifies organic peroxides within Class 5.1, \"Oxidizing Substances and Organic Peroxides\".  \n",
      "\n",
      "However, it's crucial to understand that organic peroxides are further subdivided into seven types (Types A to G) based on their degree of hazard. This subdivision is based on the results of a series of tests, including:\n",
      "\n",
      "1. Self-Accelerating Decomposition Temperature (SADT): This test determines the lowest temperature at which the substance will undergo a self-accelerating decomposition.\n",
      "\n",
      "2. Detonation Properties: This test assesses the substance's ability to detonate.\n",
      "\n",
      "3. Effect of Heating under Confinement: This test examines the substance's behavior when heated in a sealed vessel.\n",
      "\n",
      "4. Thermal Stability: This test evaluates the substance's ability to withstand heat without decomposing.\n",
      "\n",
      "5. Shock Sensitivity: This test determines the substance's susceptibility to detonation from impact.\n",
      "\n",
      "6. Friction Sensitivity: This test assesses the substance's susceptibility to detonation from friction.\n",
      "\n",
      "7. Burning Rate: This test measures the rate at which the substance burns.\n",
      "\n",
      "The results of these tests are used to assign the organic peroxide to one of the seven types, with Type A being the least hazardous and Type G being the most hazardous.\n",
      "\n",
      "Each type has specific packaging, labeling, and stowage requirements outlined in the IMDG Code. For example, Type A organic peroxides can be transported in ordinary packaging, while Type G organic peroxides require specialized, robust packaging and strict temperature control.\n",
      "\n",
      "Therefore, when dealing with organic peroxides, it is essential to identify the specific type to ensure safe and compliant transportation. This information can be found in the Safety Data Sheet (SDS) provided by the manufacturer or supplier.<end_of_turn>\n",
      "<start_of_turn>\n",
      "Cosine Similarity: 0.4540\n",
      "BLEU Score: 0.0387\n",
      "ROUGE-L F1 Score: 0.2785\n",
      "Keyword Match: 0.5263\n",
      "--------------------------------------------------\n",
      "Model: LoRA Model\n",
      "Question: What are the design and testing standards applicable for refillable seamless steel tubes for compressed gas transport with a water capacity between 150 L and 3,000 L according to the IMDG code?\n",
      "Reference Answer: According to the IMDG code, the design, construction, and testing standards for refillable seamless steel tubes for compressed gas transport with a water capacity between 150 L and 3,000 L is ISO 11120:1999. It's important to note that the \"F factor\" note in section 71 of this standard should not be applied for UN tubes. This standard will be applicable until December 31, 2022.\n",
      "Generated Answer: The IMDG Code (International Maritime Dangerous Goods Code) doesn't explicitly list design and testing standards for refillable seamless steel tubes for compressed gas transport. Instead, it refers to other internationally recognized standards and regulations.\n",
      "\n",
      "For refillable seamless steel tubes with a water capacity between 150 L and 3,000 L used in the transport of compressed gases, the IMDG Code mandates compliance with the following:\n",
      "\n",
      "1.  Standards for Gas Cylinders:\n",
      "\n",
      "    The IMDG Code (2.7.2.3.1.3) states that the design, construction, testing, and approval of seamless steel cylinders must comply with relevant national or international standards. Some commonly accepted standards include:\n",
      "\n",
      "    * ISO 11118:2015 (Transportable gas cylinders - Compatibility of cylinder valves with openings in cylinder shoulders)\n",
      "    * ISO 11120:2015 (Transportable gas cylinders - Periodic inspection and testing of seamless steel gas cylinders)\n",
      "    * ISO 7866:2012 (Transportable gas cylinders - Periodic inspection and testing of seamless steel gas cylinders)\n",
      "    * CGA C-1 (1994) (Pressure Relief Device Standards - Part 1 - Cylinders for Compressed Gases)\n",
      "    * CGA C-1.2 (1994) (Pressure Relief Device Standards - Part 2 - Cylinders for Liquefied Compressed Gases)\n",
      "\n",
      "2.  Pressure Relief Devices:\n",
      "\n",
      "    The IMDG Code (6.2.1.3.6.1) requires that pressure relief devices be provided and be capable of preventing rupture of the cylinders by the build-up of pressure. The devices must be designed and tested according to the standards mentioned above.\n",
      "\n",
      "3.  Filling:\n",
      "\n",
      "    The IMDG Code (4.1.4.1) specifies that the filling of cylinders must not exceed the limits prescribed in the applicable standards.\n",
      "\n",
      "4.  Marking:\n",
      "\n",
      "    The IMDG Code (5.2.1.7) mandates that cylinders be marked with specific information, including the UN number of the gas, the manufacturer's mark, the test pressure, the water capacity, and the date of the last periodic inspection.\n",
      "\n",
      "5.  Transport:\n",
      "\n",
      "    The IMDG Code (7.1.4.1) outlines specific requirements for the stowage and segregation of cylinders during transport.\n",
      "\n",
      "It is crucial to consult the latest editions of the IMDG Code and the relevant national or international standards for detailed and up-to-date information on the design, testing, and transport of refillable seamless steel tubes for compressed gas transport.<end_of_turn>\n",
      "Cosine Similarity: 0.5056\n",
      "BLEU Score: 0.0725\n",
      "ROUGE-L F1 Score: 0.2896\n",
      "Keyword Match: 0.6842\n",
      "--------------------------------------------------\n",
      "Model: LoRA Model\n",
      "Question: According to the IMDG Code, what are the proper shipping names and UN numbers for wetted hafnium powder, distinguishing between mechanically produced and chemically produced varieties?\n",
      "Reference Answer: The IMDG Code specifies different shipping names and UN numbers for wetted hafnium powder depending on its production method and particle size.\n",
      "\n",
      "For mechanically produced hafnium powder with a particle size less than 53 microns, the proper shipping name is \"HAFNIUM POWDER, WETTED with not less than 25% water\" and the UN number is 1326. \n",
      "\n",
      "For chemically produced hafnium powder with a particle size less than 840 microns, the proper shipping name is also \"HAFNIUM POWDER, WETTED with not less than 25% water\" and the UN number remains 1326.  \n",
      "\n",
      "It is crucial to note that in both cases, \"a visible excess of water must be present\" to ensure safe transportation.\n",
      "Generated Answer: The IMDG Code distinguishes between wetted hafnium powder based on its production method. This distinction is crucial for accurate classification and safe transport.\n",
      "\n",
      "**Mechanically Produced Wetted Hafnium Powder:**\n",
      "\n",
      "* Proper Shipping Name: HAZARDOUS MATERIAL, UN 3088\n",
      "* UN Number: 3088\n",
      "\n",
      "This category refers to hafnium powder produced through mechanical means, such as grinding or milling. The \"wetted\" designation indicates that the powder is sufficiently moistened to prevent dust formation and minimize the risk of fire or explosion.\n",
      "\n",
      "**Chemically Produced Wetted Hafnium Powder:**\n",
      "\n",
      "* Proper Shipping Name: HAZARDOUS MATERIAL, UN 3088\n",
      "* UN Number: 3088\n",
      "\n",
      "Interestingly, the IMDG Code does not differentiate between mechanically and chemically produced hafnium powder in terms of UN number or proper shipping name. Both types fall under UN 3088, \"HAZARDOUS MATERIAL, UN 3088.\"\n",
      "\n",
      "However, it is essential to consult the Safety Data Sheet (SDS) provided by the manufacturer to determine the specific hazards associated with the chemically produced powder. This information will guide you in selecting appropriate packaging, labeling, and handling procedures.\n",
      "\n",
      "Furthermore, the IMDG Code emphasizes the importance of proper packaging and stowage for all hazardous materials. Ensure that the wetted hafnium powder is packaged in suitable containers that prevent leakage and minimize the risk of contact with incompatible substances. Additionally, follow the IMDG Code's stowage guidelines to ensure safe transportation.<end_of_turn>\n",
      "Cosine Similarity: 0.5292\n",
      "BLEU Score: 0.0531\n",
      "ROUGE-L F1 Score: 0.3030\n",
      "Keyword Match: 0.5714\n",
      "--------------------------------------------------\n",
      "Model: LoRA Model\n",
      "Question: A shipment of radioactive material contains a mixture of Uranium-235 and Plutonium-239. The mixture is classified as SCO-II. What information should be displayed on the radioactive material label according to the IMDG Code?\n",
      "Reference Answer: According to the IMDG Code, the following information should be displayed on the radioactive material label:\n",
      "\n",
      "1. Contents: \"U-235, Pu-239, SCO-II\".  \n",
      "\n",
      "The label should list the most restrictive radionuclides first. In this case, both Uranium-235 and Plutonium-239 are fissile and highly radioactive, so listing both is necessary. The label also needs to specify the group of LSA or SCO, in this case \"SCO-II\".\n",
      "\n",
      "2. Activity: The maximum activity of the radioactive contents during transport, expressed in becquerels (Bq) with the appropriate SI prefix symbol. For fissile material like Uranium-235 and Plutonium-239, the total mass of fissile nuclides in units of grams (g), or multiples thereof, may be used in place of activity.  \n",
      "\n",
      "Remember to include the appropriate units and SI prefix symbols for both activity and mass.\n",
      "Generated Answer: According to the IMDG Code, the radioactive material label for a shipment of Uranium-235 and Plutonium-239 classified as SCO-II should display the following information:\n",
      "\n",
      "1.  The trefoil symbol: This is the internationally recognized symbol for radioactive material.\n",
      "\n",
      "2.  The wording \"RADIOACTIVE\": This must be clearly visible and legible.\n",
      "\n",
      "3.  The transport category: For SCO-II, the transport category is \"II\".\n",
      "\n",
      "4.  The activity: The activity of the radioactive material must be indicated in becquerels (Bq) or curies (Ci). The IMDG Code allows the use of either unit, but the same unit must be used consistently throughout the documentation.\n",
      "\n",
      "5.  The chemical and/or physical form: This should be a brief description of the physical state of the radioactive material, such as \"solid\", \"liquid\", or \"gas\". For a mixture, you would also specify the chemical form of each radionuclide (e.g., \"uranium oxide\", \"plutonium nitrate\").\n",
      "\n",
      "6.  The proper shipping name: This is the name assigned to the radioactive material in the IMDG Code. For a mixture of Uranium-235 and Plutonium-239, the proper shipping name would likely be \"Radioactive material, fissile, n.o.s.\" (n.o.s. stands for \"not otherwise specified\").\n",
      "\n",
      "7.  The UN number: This is a four-digit number assigned to the radioactive material by the United Nations. For \"Radioactive material, fissile, n.o.s.\", the UN number is 2916.\n",
      "\n",
      "8.  The contact information for the consignor or consignee: This information should be included on the label so that emergency responders can contact the responsible party in case of an incident.\n",
      "\n",
      "9.  Any additional information required by the competent authority: This may include specific instructions for handling or storage of the radioactive material.\n",
      "\n",
      "The IMDG Code also specifies the size and color requirements for the label, as well as the location where it must be placed on the package. It is crucial to consult the latest edition of the IMDG Code and any relevant national regulations for detailed and up-to-date information on labeling requirements.<end_of_turn>\n",
      "Cosine Similarity: 0.7027\n",
      "BLEU Score: 0.0774\n",
      "ROUGE-L F1 Score: 0.2652\n",
      "Keyword Match: 0.5488\n",
      "--------------------------------------------------\n",
      "Model: LoRA Model\n",
      "Question: Can a packaging that previously contained radioactive material, but is now empty, be transported under UN 2908?\n",
      "Reference Answer: Yes, an empty packaging that previously contained radioactive material can be transported under UN 2908, RADIOACTIVE MATERIAL, EXCEPTED PACKAGE - EMPTY PACKAGING. However, several conditions must be met: \n",
      "1. The packaging must be in a well-maintained condition and securely closed. \n",
      "\n",
      "2. It must be clearly marked and labelled as an \"EMPTY PACKAGING.\"\n",
      "\n",
      "3. It must not be contaminated with radioactive material. \n",
      "Failure to meet any of these conditions will prevent the packaging from being transported under UN 2908.\n",
      "Generated Answer: No, a packaging that previously contained radioactive material, even if empty, cannot be transported under UN 2908.\n",
      "\n",
      "UN 2908 specifically refers to \"EMPTY PACKAGINGS, UN 2908\". This entry is intended for packagings that have been used to transport radioactive material and have been subjected to a decontamination process to ensure they are free of any radioactive contamination.\n",
      "\n",
      "The key point is that the packaging must be \"free of any radioactive contamination\". If the packaging has not undergone a decontamination process to remove all traces of radioactive material, it cannot be transported under UN 2908.\n",
      "\n",
      "Furthermore, the IMDG Code explicitly states that \"empty packagings, large packagings or IBCs, which have contained dangerous goods of classes 1 to 9, are not subject to the provisions of this Code if they are cleaned, dried or purged and structurally fitted to prevent the release of residues\". This means that even if the packaging is structurally sound and appears clean, it must still be free of any residues of the dangerous goods it previously contained.\n",
      "\n",
      "Therefore, if the packaging has not been thoroughly cleaned and decontaminated to remove all traces of radioactive material, it cannot be transported under UN 2908 and must be handled and transported according to the regulations for the specific radioactive material it previously contained.<end_of_turn>\n",
      "Cosine Similarity: 0.4986\n",
      "BLEU Score: 0.0718\n",
      "ROUGE-L F1 Score: 0.2840\n",
      "Keyword Match: 0.4737\n",
      "--------------------------------------------------\n",
      "Model: LoRA Model\n",
      "Question: What are the specific IMDG Code references related to the emergency temperature for filling a portable tank with the peroxyacetic acid formulation described in the text?\n",
      "Reference Answer: The IMDG Code references for the emergency temperature for filling a portable tank with the described peroxyacetic acid formulation are 4.2.1.13.13, 4.2.1.13.6, 4.2.1.13.7, and 4.2.1.13.8. These sections provide detailed guidance on determining the appropriate emergency temperature for filling portable tanks based on the substance's properties and potential hazards.\n",
      "Generated Answer: Please provide the text describing the peroxyacetic acid formulation. I need to know the concentration of peroxyacetic acid, the percentage of water, and any other components in the mixture to determine the relevant IMDG Code references for emergency temperatures. \n",
      "\n",
      "Once you provide the text, I can help you identify the correct UN number, packing group, and any special provisions that may apply. This information will lead us to the specific IMDG Code sections outlining the emergency temperatures for filling the portable tank.<end_of_turn>\n",
      "Cosine Similarity: 0.4179\n",
      "BLEU Score: 0.0541\n",
      "ROUGE-L F1 Score: 0.3000\n",
      "Keyword Match: 0.4103\n",
      "--------------------------------------------------\n",
      "Model: LoRA Model\n",
      "Question: What are the essential requirements for barges used in the shipborne transport of dangerous goods according to the IMDG Code?\n",
      "Reference Answer: The IMDG Code stipulates that barges employed for the shipborne transport of packaged dangerous goods or solid bulk materials with chemical hazards must meet several key requirements.\n",
      "\n",
      "Firstly, they must be of appropriate design and possess sufficient structural strength to withstand the stresses encountered during their intended service. This ensures the barge can safely handle the weight and nature of the dangerous goods being transported.\n",
      "\n",
      "Secondly, the barges must be meticulously maintained to guarantee their continued integrity and seaworthiness.\n",
      "\n",
      "Finally, the barges must undergo approval by a recognized classification society or an organization authorized by the competent authorities of the countries involved. This approval process verifies that the barge meets the necessary safety and construction standards for transporting dangerous goods.\n",
      "\n",
      "The IMDG Code emphasizes the importance of using barges that are specifically designed and maintained for the safe carriage of hazardous materials. This helps minimize the risks associated with transporting dangerous goods by sea.\n",
      "Generated Answer: The IMDG Code outlines specific requirements for barges used in the shipborne transport of dangerous goods. These requirements are designed to ensure the safe and secure carriage of dangerous substances.  \n",
      "\n",
      "Firstly, the barge itself must be constructed and maintained to a standard equivalent to that required for seagoing vessels. This means adhering to recognized classification society rules or national regulations for hull strength, stability, watertight integrity, and fire protection.\n",
      "\n",
      "Secondly, the barge must be equipped with appropriate safety and pollution prevention equipment. This includes:\n",
      "\n",
      "* **Fire-fighting systems:** At least two portable fire extinguishers suitable for the types of dangerous goods being carried, plus fixed fire-fighting systems if the size and construction of the barge warrant it.\n",
      "* **Fire and gas detection systems:** To provide early warning of any potential hazards.\n",
      "* **Bilge pumping system:** To remove any water that may accumulate in the hold.\n",
      "* **Cargo securing arrangements:** To prevent the movement of packages during transport.\n",
      "* **Personal protective equipment (PPE):** For the crew, such as life jackets, helmets, and chemical-resistant clothing.\n",
      "* **Spill containment equipment:** To minimize the impact of any accidental release.\n",
      "\n",
      "Thirdly, the barge must be properly marked and placarded to indicate the presence of dangerous goods. This includes:\n",
      "\n",
      "* The IMDG Code hazard placards for each type of dangerous good being carried.\n",
      "* The barge's IMO number.\n",
      "* The name and contact details of the operator.\n",
      "\n",
      "Finally, the crew of the barge must be trained in the safe handling of dangerous goods. This training should cover topics such as:\n",
      "\n",
      "* The IMDG Code requirements.\n",
      "* The hazards of the specific dangerous goods being carried.\n",
      "* Emergency procedures in case of a spill or fire.\n",
      "* The use of personal protective equipment.\n",
      "\n",
      "In addition to the above, the barge and its operation must comply with all relevant national and international regulations, including those related to pilotage, navigation, and environmental protection.\n",
      "\n",
      "It is crucial to remember that these are general requirements, and the specific details may vary depending on the type and quantity of dangerous goods being transported, the size and design of the barge, and the applicable national regulations. Always consult the latest edition of the IMDG Code and relevant national authorities for detailed and up-to-date information.<end_of_turn>\n",
      "Cosine Similarity: 0.7223\n",
      "BLEU Score: 0.0487\n",
      "ROUGE-L F1 Score: 0.2697\n",
      "Keyword Match: 0.4600\n",
      "--------------------------------------------------\n",
      "Model: LoRA Model\n",
      "Question: What are the special provisions for the transportation of UN 3407, Chlorate and Magnesium Chloride Mixture Solution, as per the IMDG Code?]\n",
      "\n",
      "[\n",
      "Reference Answer: The IMDG Code outlines the following special provisions for the transportation of UN 3407, Chlorate and Magnesium Chloride Mixture Solution: \n",
      "\n",
      "* Packing: The solution must be packed in accordance with Packing Instruction 2.0.1.3.\n",
      "* Quantity: There are limitations on the quantity that can be transported. The solution is allowed in limited quantities (LQ) of up to 5 liters.\n",
      "* Excepted Quantities: The solution can also be transported in excepted quantities, as defined by the IMDG Code.\n",
      "* Special Provision: Special Provision 3.3 is applicable to this UN number.\n",
      "\n",
      "* IBC: IBC02 type IBCs are permitted for the transportation of UN 3407.\n",
      "\n",
      "It's important to consult the full IMDG Code for detailed information about these provisions and other relevant regulations. ]\n",
      "Generated Answer: The IMDG Code does not list UN 3407, Chlorate and Magnesium Chloride Mixture Solution, as a separate entry. This indicates that the mixture is likely classified under a different UN number, possibly UN 1446, Chlorates, inorganic, n.o.s. or UN 1447, Chlorates, inorganic, aqueous solution, n.o.s.  \n",
      "\n",
      "To determine the correct UN number and applicable special provisions, you need to consult the Safety Data Sheet (SDS) provided by the manufacturer or supplier of the mixture. The SDS will list the specific composition of the mixture and the corresponding UN number.\n",
      "\n",
      "Once you have the correct UN number, you can refer to the IMDG Code for the specific provisions related to its transportation. These provisions may include:\n",
      "\n",
      "* Packaging requirements: The type and construction of the packaging allowed for the substance.\n",
      "* Stowage and segregation: Where the cargo can be stowed on board the ship and what other dangerous goods it must be separated from.\n",
      "* Handling and emergency response: Instructions for safe handling, personal protective equipment required, and procedures in case of spills or leaks.\n",
      "\n",
      "Remember, the IMDG Code is a complex document, and interpreting its provisions can be challenging. It is crucial to consult the SDS and seek guidance from qualified experts if you have any doubts about the safe transportation of dangerous goods.<end_of_turn>\n",
      "Cosine Similarity: 0.6234\n",
      "BLEU Score: 0.0846\n",
      "ROUGE-L F1 Score: 0.2673\n",
      "Keyword Match: 0.5316\n",
      "--------------------------------------------------\n",
      "Model: LoRA Model\n",
      "Question: What are the material requirements for the construction of portable tank shells, fittings, and pipework according to the IMDG Code?\n",
      "Reference Answer: The IMDG Code specifies two primary material requirements for portable tank shells, fittings, and pipework:\n",
      "\n",
      "1. Substantial Immunity: The materials must be \"substantially immune to attack\" by the specific non-refrigerated liquefied gas(es) intended for transport. This means the chosen materials should not degrade, corrode, or react negatively when exposed to the gas.\n",
      "\n",
      "2. Passivation or Neutralization: Alternatively, the materials can be \"properly passivated or neutralized by chemical reaction.\" Passivation involves creating a protective oxide layer on the material's surface, shielding it from the gas. Neutralization aims to chemically react the gas with the material, rendering it harmless.\n",
      "\n",
      "Furthermore, the IMDG Code highlights the importance of considering the design temperature range when selecting materials. This ensures the chosen materials can withstand the expected temperature conditions without risks of brittle fracture, stress corrosion cracking, or reduced impact resistance.\n",
      "\n",
      "For fine-grain steel, the IMDG Code sets specific limits on the guaranteed yield strength (not exceeding 460 N/mm²) and the upper limit of tensile strength (not exceeding 725 N/mm²). This helps ensure the structural integrity of the portable tank.\n",
      "\n",
      "Finally, gaskets used in the portable tank must also be made of materials compatible with the intended liquefied gas(es) to prevent leaks and maintain the integrity of the system.\n",
      "Generated Answer: The IMDG Code outlines specific material requirements for the construction of portable tank shells, fittings, and pipework to ensure the safe transport of dangerous goods. These requirements are detailed in Chapter 6.7, \"Requirements for the design, construction, inspection and testing of portable tanks and multiple-element gas containers (MEGCs)\".\n",
      "\n",
      "Here's a breakdown of the key material considerations:\n",
      "\n",
      "**1. Shells:**\n",
      "\n",
      "* The shell must be made of a suitable metallic material. The IMDG Code permits the use of carbon steel, austenitic stainless steel, nickel steel, copper, aluminum, and titanium.\n",
      "* The choice of material depends on the specific dangerous goods being transported. For example, carbon steel is suitable for many corrosive substances, while stainless steel is required for highly corrosive or oxidizing agents.\n",
      "* The thickness of the shell must be sufficient to withstand the stresses of normal handling and transport, as well as the internal pressure of the cargo.\n",
      "\n",
      "* The shell must be designed and constructed to prevent the release of the contents in the event of an accident. This may involve the use of reinforcements, baffles, or other structural elements.\n",
      "\n",
      "**2. Fittings:**\n",
      "\n",
      "* Fittings, such as valves, flanges, and couplings, must be made of materials compatible with the dangerous goods being transported.\n",
      "\n",
      "* They must be designed and constructed to withstand the stresses of normal handling and transport, as well as the internal pressure of the cargo.\n",
      "\n",
      "* Fittings must be securely attached to the shell and must be capable of being readily opened and closed.\n",
      "\n",
      "* Pressure relief devices, such as spring-loaded valves or frangible discs, must be fitted to the shell to prevent overpressure.\n",
      "\n",
      "**3. Pipework:**\n",
      "\n",
      "* Pipework used to connect fittings and the shell must be made of a material compatible with the dangerous goods being transported.\n",
      "\n",
      "* The pipework must be designed and constructed to withstand the stresses of normal handling and transport, as well as the internal pressure of the cargo.\n",
      "\n",
      "* Pipework must be securely attached to the fittings and the shell and must be capable of being readily disconnected for cleaning and maintenance.\n",
      "\n",
      "**4. Testing and Inspection:**\n",
      "\n",
      "* All portable tanks must be tested and inspected in accordance with the requirements of the IMDG Code. This includes hydrostatic pressure testing, leak testing, and visual inspection.\n",
      "\n",
      "* The results of these tests and inspections must be documented and made available to the competent authority.\n",
      "\n",
      "In addition to the above, the IMDG Code also specifies requirements for the design, construction, and testing of portable tanks for specific types of dangerous goods. For example, tanks for flammable liquids must be equipped with flame arresters, and tanks for toxic gases must be fitted with gas detectors.\n",
      "\n",
      "It is crucial to consult the IMDG Code and relevant national regulations for the specific requirements applicable to the dangerous goods being transported.<end_of_turn>\n",
      "Cosine Similarity: 0.6599\n",
      "BLEU Score: 0.0552\n",
      "ROUGE-L F1 Score: 0.2138\n",
      "Keyword Match: 0.3664\n",
      "--------------------------------------------------\n",
      "Model: LoRA Model\n",
      "Question: According to the IMDG code, what precautions should be taken when shipping black powder or granules that are liable to heat slowly and ignite spontaneously in air?\n",
      "Reference Answer: The IMDG code specifies that black powder or granules liable to heat slowly and ignite spontaneously in air must be sufficiently heat-treated before shipment. Additionally, the material should be cooled down to ambient temperature before packing to minimize the risk of spontaneous ignition.  \n",
      "\n",
      "The IMDG code entries for such black powder (UN 1361 and 1362)  assign them to Category A, indicating a high level of hazard. This category necessitates stringent packaging and stowage requirements to ensure the safety of the cargo and those handling it.\n",
      "Generated Answer: The IMDG Code classifies black powder and granules liable to heat slowly and ignite spontaneously in air as Class 4.2, \"Substances liable to spontaneous combustion\".  \n",
      "\n",
      "When shipping these materials, the IMDG Code mandates several precautions to ensure safe transport:\n",
      "\n",
      "**Packaging:**\n",
      "\n",
      "* **Type:** The IMDG Code specifies that these substances must be packed in UN-approved packaging that is suitable for the intended mode of transport (sea, land, or air). This packaging must be strong enough to withstand the rigors of transport and prevent leakage or damage.\n",
      "* **Segregation:**  These substances must be segregated from incompatible goods, such as oxidizing agents, acids, and flammable liquids. The IMDG Code provides a detailed list of incompatible goods in the Dangerous Goods List.\n",
      "\n",
      "**Labelling:**\n",
      "\n",
      "* The packaging must be clearly labelled with the appropriate hazard labels, including the Class 4.2 label (a circle with a flame inside) and any subsidiary hazard labels if applicable.\n",
      "\n",
      "**Documentation:**\n",
      "\n",
      "* A Dangerous Goods Declaration (DGD) must be completed and provided to the carrier. This document lists the dangerous goods being shipped, their UN number, proper shipping name, class, packing group, and other relevant information.\n",
      "\n",
      "**Stowage:**\n",
      "\n",
      "* These substances must be stowed away from sources of heat and ignition. They should also be stowed in a well-ventilated area to prevent the buildup of heat.\n",
      "\n",
      "**Additional Precautions:**\n",
      "\n",
      "* The IMDG Code may also require additional precautions, such as temperature control, inerting, or the use of specialized containers. These precautions will be specified in the relevant IMDG Code entries for the specific substance being shipped.\n",
      "\n",
      "It is crucial to consult the IMDG Code and the relevant IMDG Code entries for the specific substance being shipped to determine the precise requirements for safe transport. Failure to comply with the IMDG Code can result in serious safety hazards and legal penalties.<end_of_turn>\n",
      "Cosine Similarity: 0.6082\n",
      "BLEU Score: 0.0606\n",
      "ROUGE-L F1 Score: 0.2954\n",
      "Keyword Match: 0.6418\n",
      "--------------------------------------------------\n",
      "Model: LoRA Model\n",
      "Question: According to the IMDG Code, how is the Dangerous Goods List structured, and what information does each column provide?\n",
      "Reference Answer: The IMDG Code's Dangerous Goods List is organized into 18 columns. Each column provides specific information about the listed dangerous goods.\n",
      "\n",
      "Column 1: UN No. - This column displays the unique United Nations number assigned to a dangerous good by the United Nations Sub-Committee of Experts on the Transport of Dangerous Goods (UN List).\n",
      "\n",
      "The remaining 17 columns offer details about the substance's proper shipping name, class, subsidiary risk(s), packing group, marine pollutants status, allowed stowage and segregation, required emergency procedures, and other crucial handling and transport information.  \n",
      "\n",
      "For a complete understanding of each column's content, consulting the IMDG Code directly is recommended.\n",
      "Generated Answer: The IMDG Code's Dangerous Goods List is a comprehensive table that classifies and provides detailed information on all dangerous goods permitted for transport by sea. It's structured into columns, each delivering specific data about the listed dangerous good.  \n",
      "\n",
      "Here's a breakdown of the information provided in each column:\n",
      "\n",
      "**Column 1: UN No.**\n",
      "\n",
      "* This column displays the four-digit UN number assigned to each dangerous good. This number is internationally recognized and serves as a unique identifier for the substance.\n",
      "\n",
      "**Column 2: Name and Description**\n",
      "\n",
      "* This column provides the proper shipping name of the dangerous good, which must be used on all documentation and markings. It may also include a description to further clarify the nature of the substance.\n",
      "\n",
      "**Column 3: Class**\n",
      "\n",
      "* This column indicates the hazard class of the dangerous good, ranging from Class 1 (Explosives) to Class 9 (Miscellaneous dangerous substances and articles).\n",
      "\n",
      "**Column 4: Subsidiary hazard**\n",
      "\n",
      "* If the dangerous good presents additional hazards beyond its primary class, this column will list the corresponding subsidiary hazard class(es) using the same numerical designations as in Column 3.\n",
      "\n",
      "**Column 5: Packing Group**\n",
      "\n",
      "* This column assigns a packing group to the dangerous good based on its level of hazard. Packing Group I is the most hazardous, followed by Packing Group II and then Packing Group III, which is the least hazardous.\n",
      "\n",
      "**Column 6: Special Provisions**\n",
      "\n",
      "* This column lists any special provisions that apply to the transport of the dangerous good. These provisions may specify requirements for packaging, labeling, stowage, segregation, or other handling procedures.\n",
      "\n",
      "**Column 7: Limited Quantities**\n",
      "\n",
      "* This column indicates whether the dangerous good is eligible for transport in limited quantities, which allows for exemptions from certain regulatory requirements.\n",
      "\n",
      "**Column 8: Excepted Quantities**\n",
      "\n",
      "* This column indicates whether the dangerous good is eligible for transport in excepted quantities, which allows for even more relaxed regulatory requirements than limited quantities.\n",
      "\n",
      "**Column 9: Packing Instructions**\n",
      "\n",
      "* This column refers to the specific packing instructions outlined in the IMDG Code that must be followed when packaging the dangerous good for transport.\n",
      "\n",
      "**Column 10: Special Packing Provisions**\n",
      "\n",
      "* This column lists any additional packing provisions that apply to the dangerous good, such as requirements for specific types of packaging materials or closures.\n",
      "\n",
      "**Column 11: IBC Instructions**\n",
      "\n",
      "* This column refers to the specific instructions for packing the dangerous good into intermediate bulk containers (IBCs).\n",
      "\n",
      "**Column 12: Special Packing Provisions for IBCs**\n",
      "\n",
      "* This column lists any additional packing provisions that apply to the dangerous good when transported in IBCs.\n",
      "\n",
      "**Column 13: Tank Instructions**\n",
      "\n",
      "* This column refers to the specific instructions for packing the dangerous good into portable tanks.\n",
      "\n",
      "**Column 14: Special Packing Provisions for Tanks**\n",
      "\n",
      "* This column lists any additional packing provisions that apply to the dangerous good when transported in portable tanks.\n",
      "\n",
      "**Column 15: EmS**\n",
      "\n",
      "* This column provides the Emergency Schedules (EmS) number, which indicates the appropriate emergency response procedures in case of an incident involving the dangerous good.\n",
      "\n",
      "**Column 16: MFAG**\n",
      "\n",
      "* This column provides the Medical First Aid Guide (MFAG) number, which indicates the appropriate first aid measures to be taken in case of exposure to the dangerous good.\n",
      "\n",
      "**Column 17: Stowage and handling**\n",
      "\n",
      "* This column provides information on the stowage and handling requirements for the dangerous good, such as whether it can be stowed on deck or below deck, and any special precautions that need to be taken.\n",
      "\n",
      "**Column 18: Segregation**\n",
      "\n",
      "* This column lists the dangerous goods that must be segregated from the substance in question to prevent dangerous reactions or interactions.\n",
      "\n",
      "By carefully reviewing the information provided in each column of the IMDG Code's Dangerous Goods List, shippers, carriers, and other parties involved in the transport of dangerous goods can ensure that they are handling these substances safely and in compliance with international regulations.<end_of_turn>\n",
      "Cosine Similarity: 0.6401\n",
      "BLEU Score: 0.0405\n",
      "ROUGE-L F1 Score: 0.2571\n",
      "Keyword Match: 0.7051\n",
      "--------------------------------------------------\n",
      "Model: LoRA Model\n",
      "Question: According to the IMDG Code, can dangerous goods of Class 1 compatibility group S be stowed in the same compartment or hold as dangerous goods of Class 1 compatibility groups A and L?\n",
      "Reference Answer: No, according to the IMDG Code, dangerous goods of Class 1 compatibility group S shall not be stowed in the same compartment or hold, or cargo transport unit with dangerous goods of Class 1 of compatibility groups A and L.\n",
      "Generated Answer: No, dangerous goods of Class 1 compatibility group S cannot be stowed in the same compartment or hold as dangerous goods of Class 1 compatibility groups A and L. \n",
      "\n",
      "The IMDG Code explicitly prohibits the stowage of Class 1 compatibility group S goods with Class 1 compatibility groups A and L in the same compartment or hold. This is due to the significant risk of a dangerous reaction if these compatibility groups are mixed.\n",
      "\n",
      "Compatibility group S substances are those that are highly sensitive to shock and friction. Compatibility groups A and L substances are also explosive, but they have different sensitivities and reaction mechanisms. Mixing these compatibility groups could lead to unintended detonations or explosions, posing a severe threat to the safety of the vessel, crew, and the environment.\n",
      "\n",
      "Therefore, it is crucial to follow the IMDG Code's segregation requirements and ensure that Class 1 compatibility group S goods are stowed separately from Class 1 compatibility groups A and L.<end_of_turn>\n",
      "\n",
      "Cosine Similarity: 0.6493\n",
      "BLEU Score: 0.1402\n",
      "ROUGE-L F1 Score: 0.3894\n",
      "Keyword Match: 0.8485\n",
      "--------------------------------------------------\n",
      "Model: LoRA Model\n",
      "Question: What are the packing group classifications according to the IMDG Code and what do they represent?\n",
      "Reference Answer: The IMDG Code uses packing groups to categorize dangerous goods based on the degree of danger they present during transportation. There are three packing groups:\n",
      "\n",
      "Packing Group I: This group represents the highest level of danger. Substances in this group pose a significant risk to health, safety, property, or the environment if they are released during transport. They are assigned to this group because they are highly hazardous or have a high potential for causing severe damage.\n",
      "\n",
      "Packing Group II: Substances in this group present a moderate risk. They are less hazardous than Packing Group I substances but still require careful handling and secure packaging.\n",
      "\n",
      "Packing Group III: This group represents the lowest level of danger. Substances in this group are considered relatively less hazardous and have a lower potential for causing harm compared to Packing Groups I and II.\n",
      "\n",
      "The packing group is indicated on the shipping documents and the packaging of dangerous goods. It helps responders and transportation personnel understand the severity of the hazard and take appropriate precautions.\n",
      "Generated Answer: The IMDG Code uses a system of packing groups to classify dangerous goods based on the degree of danger they present during transport. There are three packing groups, numbered I, II, and III, with I being the most hazardous and III the least hazardous.\n",
      "\n",
      "Here's a breakdown of each packing group:\n",
      "\n",
      "**Packing Group I:**\n",
      "\n",
      "*  Represents substances presenting a high degree of danger.\n",
      "*  These substances have a high risk of causing death or serious injury if not handled properly.\n",
      "*  Examples include highly toxic substances, explosives with a mass explosion hazard, and substances that are highly corrosive or flammable.\n",
      "\n",
      "**Packing Group II:**\n",
      "\n",
      "*  Represents substances presenting a medium degree of danger.\n",
      "*  These substances can cause injury if not handled properly, but the risk is lower than for Packing Group I substances.\n",
      "*  Examples include moderately toxic substances, flammable liquids with a flashpoint below 23°C, and substances that are corrosive to skin or eyes.\n",
      "\n",
      "**Packing Group III:**\n",
      "\n",
      "*  Represents substances presenting a low degree of danger.\n",
      "*  These substances are relatively safe to handle, but precautions are still necessary.\n",
      "*  Examples include mildly toxic substances, flammable liquids with a flashpoint above 23°C, and substances that are slightly corrosive.\n",
      "\n",
      "**Important Notes:**\n",
      "\n",
      "* The packing group is assigned to a substance based on its physical and chemical properties, as well as its potential to cause harm.\n",
      "* The IMDG Code provides detailed criteria for assigning packing groups to specific substances.\n",
      "* It is crucial to consult the IMDG Code and the relevant safety data sheets (SDS) for the specific substance being transported to determine the correct packing group and appropriate packaging requirements.<end_of_turn>\n",
      "Cosine Similarity: 0.6370\n",
      "BLEU Score: 0.1305\n",
      "ROUGE-L F1 Score: 0.4310\n",
      "Keyword Match: 0.6292\n",
      "--------------------------------------------------\n",
      "Model: LoRA Model\n",
      "Question: What are the packing group and classification requirements for uranium hexafluoride depending on its fissile properties?\n",
      "Reference Answer: The packing group and classification of uranium hexafluoride depend on its fissile properties. \n",
      "\n",
      "For non-fissile or fissile-excepted uranium hexafluoride, the material should be classified under UN 2978.\n",
      "\n",
      "For fissile uranium hexafluoride, the material should be classified under UN 2977.\n",
      "Generated Answer: Uranium hexafluoride (UF6) is a radioactive material with unique properties that necessitate careful consideration under the IMDG Code.  \n",
      "\n",
      "Firstly, it's crucial to understand that UF6 is classified as a \"FISSILE material\" due to its ability to sustain a nuclear chain reaction. This means its transport is subject to stringent regulations outlined in the IMDG Code's Class 7 (Radioactive Material) provisions.\n",
      "\n",
      "The packing group and classification of UF6 depend on its fissile properties, specifically its enrichment and mass.  \n",
      "\n",
      "Here's a breakdown:\n",
      "\n",
      "**Enrichment:**\n",
      "\n",
      "* **Natural Uranium (less than 0.711% U-235):**  UF6 with natural uranium enrichment is classified as UN 2977, RADIOACTIVE MATERIAL, URANIUM HEXAFLUORIDE. It is assigned to Packing Group I due to its high toxicity.\n",
      "\n",
      "* **Low Enriched Uranium (LEU, up to 20% U-235):**  LEU UF6 is also classified as UN 2977, RADIOACTIVE MATERIAL, URANIUM HEXAFLUORIDE. The packing group will be determined based on the specific activity of the material and the quantity of fissile material present.\n",
      "\n",
      "* **Highly Enriched Uranium (HEU, above 20% U-235):** HEU UF6 is subject to more stringent regulations and may require specific approvals from competent authorities. Its classification and packing group will be determined on a case-by-case basis, considering factors like enrichment level, mass, and packaging.\n",
      "\n",
      "**Additional Considerations:**\n",
      "\n",
      "* **Criticality Safety Index (CSI):** For fissile materials like UF6, the CSI is a crucial parameter that indicates the potential for the material to contribute to a criticality event. The CSI is determined based on the mass of fissile material and the packaging design.\n",
      "\n",
      "* **Packaging Requirements:** The IMDG Code specifies approved packaging types for radioactive materials, including UF6. These packages must meet stringent design and testing criteria to ensure the safe containment and transport of the material.\n",
      "\n",
      "* **Transport Documents:**  Transport documents for UF6 must include detailed information about the material's classification, packing group, CSI, and other relevant safety data.\n",
      "\n",
      "It is essential to consult the latest edition of the IMDG Code and relevant national regulations for specific guidance on the transport of UF6. Additionally, seeking expert advice from qualified professionals specializing in radioactive material transport is highly recommended.<end_of_turn>\n",
      "Cosine Similarity: 0.4298\n",
      "BLEU Score: 0.0276\n",
      "ROUGE-L F1 Score: 0.1860\n",
      "Keyword Match: 0.8148\n",
      "--------------------------------------------------\n",
      "Model: LoRA Model\n",
      "Question: According to the IMDG code, what are the alternative methods for checking seamless steel gas cylinders during periodic inspection and testing?\n",
      "Reference Answer: The IMDG code allows for alternative methods to the standard checks outlined in 6.2.1.6.1.2 and the hydraulic pressure test in 6.2.1.6.1.4 for seamless steel gas cylinders. \n",
      "\n",
      "Specifically, these checks can be replaced by an ultrasonic examination conducted according to ISO 6406:2005. This standard provides detailed procedures for performing ultrasonic testing on seamless steel gas cylinders to assess their integrity.\n",
      "\n",
      "Additionally, for seamless aluminium alloy gas cylinders, the check of 6.2.1.6.1.2 and the hydraulic pressure test of 6.2.1.6.1.4 can be replaced by ultrasonic examination carried out in accordance with ISO 10461:2005+A1:2006.\n",
      "\n",
      "It is important to note that these alternative methods are only applicable to seamless steel and aluminium alloy gas cylinders. Other types of gas cylinders may require different inspection and testing procedures.\n",
      "Generated Answer: The IMDG Code outlines two alternative methods for checking seamless steel gas cylinders during periodic inspection and testing, in addition to the traditional hydrostatic pressure test:\n",
      "\n",
      "1. Ultrasonic Examination: This non-destructive testing method uses high-frequency sound waves to detect flaws or weaknesses within the cylinder wall. Trained personnel can analyze the reflected sound waves to identify any areas of corrosion, cracking, or other damage. This method is particularly useful for detecting internal defects that may not be visible through visual inspection.\n",
      "\n",
      "2. Eddy Current Examination: This method uses electromagnetic induction to detect surface and near-surface flaws in the cylinder. An eddy current probe is passed over the cylinder surface, and any changes in the electromagnetic field indicate the presence of a defect. This method is sensitive to small cracks and other irregularities and can be performed quickly and efficiently.\n",
      "\n",
      "It is important to note that the use of these alternative methods is subject to the approval of the competent authority. Additionally, the specific requirements for the ultrasonic examination and eddy current examination will be detailed in the relevant national regulations and standards.\n",
      "\n",
      "Furthermore, the IMDG Code emphasizes that the chosen method must be capable of detecting the types of damage that are likely to occur in the cylinders being tested. For example, if the cylinders are known to be susceptible to stress corrosion cracking, the chosen method should be sensitive to this type of damage.\n",
      "\n",
      "Finally, the results of the alternative examination must be documented and retained for the life of the cylinder. This documentation should include the date of the examination, the method used, the results of the examination, and the name of the person who performed the examination.<end_of_turn>\n",
      "Cosine Similarity: 0.5005\n",
      "BLEU Score: 0.0529\n",
      "ROUGE-L F1 Score: 0.3022\n",
      "Keyword Match: 0.5352\n",
      "--------------------------------------------------\n",
      "Model: LoRA Model\n",
      "Question: Based on the information provided, what are the key safety considerations for handling substance 2413 and how should it be stored?\n",
      "Reference Answer: Substance 2413 is classified as a Colourless liquid with an unpleasant odour, and a flashpoint of -90°C. This makes it highly flammable.  Therefore, the key safety considerations for handling substance 2413 are:\n",
      "\n",
      "* Fire Risk: Due to its extremely low flashpoint, substance 2413 poses a significant fire risk. Keep it away from all ignition sources, including open flames, sparks, and hot surfaces.\n",
      "\n",
      "* Ventilation: Adequate ventilation is crucial when handling substance 2413 to prevent the buildup of flammable vapors. Work in well-ventilated areas or use local exhaust ventilation.\n",
      "\n",
      "* Personal Protective Equipment: Wear appropriate personal protective equipment (PPE), including fire-resistant clothing, chemical-resistant gloves, eye protection, and a respirator.\n",
      "\n",
      "Storage of substance 2413 should be in:\n",
      "\n",
      "* Flammable Liquid Storage Cabinets: These cabinets are specifically designed to store flammable liquids safely. They are constructed of fire-resistant materials and often have features like venting and self-closing doors.\n",
      "\n",
      "* Cool, Dry, and Well-Ventilated Area: Store substance 2413 away from direct sunlight, heat sources, and incompatible materials. Ensure the storage area has adequate ventilation to prevent vapor accumulation.\n",
      "\n",
      "* Securely Closed Containers: Always store substance 2413 in tightly closed containers to prevent spills and evaporation.\n",
      "\n",
      "Refer to the IMDG Code and the Safety Data Sheet (SDS) for detailed handling and storage instructions specific to substance 2413.\n",
      "Generated Answer: Please provide the information about substance 2413. I need to know its UN number, proper shipping name, and any other relevant details from the IMDG Code to determine the key safety considerations for handling and storage. \n",
      "\n",
      "For example, you could say:\n",
      "\n",
      "\"Substance 2413 is  ETHYLENEIMINE, AQUEOUS SOLUTION with a concentration of 40%.\"\n",
      "\n",
      "Once I have this information, I can accurately assess the hazards associated with the substance and provide specific guidance on safe handling and storage practices according to the IMDG Code. \n",
      "<end_of_turn>\n",
      "Cosine Similarity: 0.4223\n",
      "BLEU Score: 0.0250\n",
      "ROUGE-L F1 Score: 0.1801\n",
      "Keyword Match: 0.1908\n",
      "--------------------------------------------------\n",
      "Model: LoRA Model\n",
      "Question: Why is a frangible disc required in conjunction with a spring-loaded device in portable tanks intended for dedicated service, and what are the benefits of this arrangement?\n",
      "Reference Answer: A frangible disc is required in conjunction with a spring-loaded device in portable tanks intended for dedicated service to enhance the safety and reliability of the pressure relief system. \n",
      "\n",
      "The frangible disc acts as a primary pressure relief mechanism, rupturing at a pressure slightly above the start-to-discharge pressure of the spring-loaded device. This design offers several benefits:\n",
      "\n",
      "1. Early Pressure Relief: The frangible disc ruptures before the spring-loaded device activates, providing an early venting mechanism to prevent excessive pressure buildup within the tank.\n",
      "\n",
      "2. Protection of the Spring-Loaded Device: By relieving pressure through the frangible disc, the spring-loaded device is protected from potential damage due to overpressure.\n",
      "\n",
      "3. Detection of Malfunctions: The space between the frangible disc and the spring-loaded device is equipped with a pressure gauge or tell-tale indicator. This arrangement allows for the detection of disc rupture, pinholing, or leakage, which could compromise the functionality of the pressure relief system. Early detection of such malfunctions enables timely maintenance and repair, ensuring the continued safe operation of the tank.\n",
      "\n",
      "In essence, the frangible disc serves as a safety buffer and early warning system, enhancing the reliability and safety of the pressure relief system in portable tanks.\n",
      "Generated Answer: You're asking a great question that highlights an important safety feature in portable tanks!  \n",
      "\n",
      "A frangible disc is indeed required in conjunction with a spring-loaded device in portable tanks intended for dedicated service transporting certain dangerous goods. This arrangement offers several key benefits:\n",
      "\n",
      "**1. Pressure Relief:**\n",
      "\n",
      "* The spring-loaded device acts as the primary pressure relief mechanism. It's designed to open at a predetermined pressure, venting excess pressure to prevent a rupture of the tank.\n",
      "\n",
      "* The frangible disc acts as a secondary pressure relief mechanism. It's a thin, easily breakable metal disc that will rupture at a lower pressure than the spring-loaded device. This provides an additional layer of protection in case the spring-loaded device malfunctions or becomes blocked.\n",
      "\n",
      "**2. Enhanced Safety:**\n",
      "\n",
      "* This dual system significantly reduces the risk of catastrophic tank failure due to overpressure. If the primary relief valve fails, the frangible disc will rupture, releasing pressure and preventing a potentially dangerous explosion.\n",
      "\n",
      "**3. Controlled Release:**\n",
      "\n",
      "* The frangible disc is designed to rupture in a controlled manner, minimizing the risk of a sudden, violent release of hazardous material. This helps to contain the release and reduce the potential for environmental damage or injury.\n",
      "\n",
      "**4. Cost-Effectiveness:**\n",
      "\n",
      "* While the frangible disc adds an extra component, it's a relatively inexpensive safety measure compared to the potential costs associated with a tank rupture.\n",
      "\n",
      "**5. Regulatory Compliance:**\n",
      "\n",
      "* The IMDG Code (International Maritime Dangerous Goods Code) mandates the use of this dual pressure relief system for certain hazardous substances transported in portable tanks. This ensures that the tanks meet the necessary safety standards for international shipping.\n",
      "\n",
      "**In summary, the frangible disc and spring-loaded device combination provides a robust and reliable pressure relief system for portable tanks, enhancing safety and minimizing the risk of accidents during the transportation of hazardous materials.**<end_of_turn>\n",
      "Cosine Similarity: 0.7898\n",
      "BLEU Score: 0.1568\n",
      "ROUGE-L F1 Score: 0.3333\n",
      "Keyword Match: 0.5300\n",
      "--------------------------------------------------\n",
      "Model: LoRA Model\n",
      "Question: Based on the IMDG Code excerpt provided, what are the packing group assignments for Di-tert-butyl peroxyazelate with a concentration less than or equal to 52% and a diluent Type A?\n",
      "Reference Answer: According to the excerpt, Di-tert-butyl peroxyazelate with a concentration less than or equal to 52% and a diluent Type A is assigned to packing group II (5.2 3105). This information can be found in the \"Substance, material or article\" column next to the specific entry for this substance.\n",
      "Generated Answer: Please provide the IMDG Code excerpt so I can determine the packing group assignments for Di-tert-butyl peroxyazelate with a concentration less than or equal to 52% and a diluent Type A.  \n",
      "\n",
      "Once you provide the text, I will be able to analyze the specific requirements and regulations outlined for this substance and its diluent type to give you an accurate answer. \n",
      "<end_of_turn>\n",
      "Cosine Similarity: 0.5515\n",
      "BLEU Score: 0.2833\n",
      "ROUGE-L F1 Score: 0.4615\n",
      "Keyword Match: 0.6000\n",
      "--------------------------------------------------\n",
      "Model: LoRA Model\n",
      "Question: According to LP200 Packing Instruction, which large packagings are authorized for UN 1950 aerosols, and what performance level should they conform to?\n",
      "Reference Answer: LP200 Packing Instruction authorizes the use of rigid large packagings conforming to the packing group II performance level for UN 1950 aerosols. These packagings can be made of steel (50A), aluminium (50B), metal other than steel or aluminium (50N), rigid plastics (50H), natural wood (50C), plywood (50D), reconstituted wood (50F), or rigid fibreboard (50G).\n",
      "Generated Answer: For UN 1950 aerosols, LP200 of the IMDG Code authorizes the following large packagings:\n",
      "\n",
      "* **Rigid plastics IBCs:** These must conform to performance level \"Z\" (Z1, Z2, or Z3).\n",
      "\n",
      "* **Metal IBCs:** These must also conform to performance level \"Z\" (Z1, Z2, or Z3).\n",
      "\n",
      "* **Composite IBCs:** These must conform to performance level \"Z\" (Z1, Z2, or Z3).\n",
      "\n",
      "The specific performance level (Z1, Z2, or Z3) required will depend on the net mass of the aerosol contents and the properties of the aerosol itself.  \n",
      "\n",
      "It is crucial to consult the relevant sections of the IMDG Code and the IBC manufacturer's specifications to determine the appropriate performance level for your specific aerosol product.<end_of_turn>\n",
      "Cosine Similarity: 0.2986\n",
      "BLEU Score: 0.0369\n",
      "ROUGE-L F1 Score: 0.2308\n",
      "Keyword Match: 0.4583\n",
      "--------------------------------------------------\n",
      "Model: LoRA Model\n",
      "Question: What is the maximum quantity of Tetrabromoethane (UN 2504) allowed in a portable tank during transport by sea?\n",
      "Reference Answer: The IMDG Code excerpt indicates that Tetrabromoethane (UN 2504) is classified as Class 6.1 and is permitted in a portable tank (IBC03) with a maximum quantity of 5 liters. This information is found in the line \"2504 TETRABROMOETHANE 6.1 111 5L E1 P001 IBC03 P LP01\".\n",
      "Generated Answer: The IMDG Code does not specify a maximum quantity for Tetrabromoethane (UN 2504) in a portable tank.  \n",
      "\n",
      "Instead, the IMDG Code relies on a combination of factors to determine the allowable quantity, including:\n",
      "\n",
      "1. **Classification:** Tetrabromoethane is classified as Class 6.1 (Toxic substances) and Packing Group II (moderately hazardous).\n",
      "\n",
      "2. **Portable Tank Instructions:** The IMDG Code provides specific instructions (T4) for the transport of Tetrabromoethane in portable tanks. These instructions detail requirements for tank construction, design, and testing.\n",
      "\n",
      "3. **Maximum Permitted Gross Mass (MPGM):** The portable tank must have a maximum permitted gross mass (MPGM) that is appropriate for the substance being transported. This value is typically listed on the tank's identification plate.\n",
      "\n",
      "4. **Filling Ratio:** The IMDG Code stipulates a maximum filling ratio for portable tanks, which is usually 90% or 95% of the tank's capacity. This ratio ensures sufficient ullage (empty space) to accommodate thermal expansion and prevent overfilling.\n",
      "\n",
      "Therefore, to determine the maximum quantity of Tetrabromoethane allowed in a specific portable tank, you would need to consult the following:\n",
      "\n",
      "* The IMDG Code's portable tank instructions (T4) for Tetrabromoethane.\n",
      "* The portable tank's identification plate, which lists its MPGM.\n",
      "* The filling ratio specified in the IMDG Code for portable tanks.\n",
      "\n",
      "By considering these factors, you can calculate the maximum allowable quantity of Tetrabromoethane that can be safely transported in a given portable tank.<end_of_turn>\n",
      "Cosine Similarity: 0.4386\n",
      "BLEU Score: 0.0457\n",
      "ROUGE-L F1 Score: 0.2543\n",
      "Keyword Match: 0.5952\n",
      "--------------------------------------------------\n",
      "Model: LoRA Model\n",
      "Question: According to the IMDG Code excerpt provided, what are the packaging and quantity limitations for ALKYLPHENOLS, SOLID, N.O.S. (including C2-C12 homologues) classified as Class 8 with a subsidiary risk of 6.1?\n",
      "Reference Answer: The IMDG Code excerpt provides three different entries for ALKYLPHENOLS, SOLID, N.O.S. (including C2-C12 homologues) with varying packaging and quantity limitations.\n",
      "\n",
      "- For UN 2430 with Class 8, subsidiary risk 6.1, Packing Group II, the allowed quantity is 1 kg. The packaging code is IBC08, with special provisions P002 and B4.\n",
      "\n",
      "- For UN 2430 with Class 8, subsidiary risk 6.1, Packing Group III, the allowed quantity is 5 kg. The packaging code is IBC08, with special provisions P002 and B3.\n",
      "\n",
      "- The excerpt does not provide an entry for UN 2430 with Class 8, subsidiary risk 6.1, Packing Group I.\n",
      "\n",
      "It's important to remember that this excerpt only provides a snippet of information and further details regarding specific packaging requirements and other relevant provisions can be found within the full IMDG Code.\n",
      "Generated Answer: Please provide the IMDG Code excerpt so I can accurately determine the packaging and quantity limitations for ALKYLPHENOLS, SOLID, N.O.S. (including C2-C12 homologues) classified as Class 8 with a subsidiary risk of 6.1. \n",
      "\n",
      "Once you provide the excerpt, I will be able to analyze the specific requirements for this substance and give you a detailed answer.<end_of_turn>\n",
      "Cosine Similarity: 0.4766\n",
      "BLEU Score: 0.0753\n",
      "ROUGE-L F1 Score: 0.4615\n",
      "Keyword Match: 0.4231\n",
      "--------------------------------------------------\n",
      "Model: LoRA Model\n",
      "Question: What specific measures must be taken to prevent leakage in packagings designed for liquid explosives according to the IMDG Code?\n",
      "Reference Answer: The IMDG Code mandates a double protection system against leakage for packagings containing liquid explosives.  This means the closure device must employ two independent mechanisms to prevent the escape of the hazardous material.\n",
      "\n",
      "For metal drums, a suitable gasket is required as part of the closure device. Additionally, if the closure device utilizes a screw-thread, measures must be implemented to prevent the explosive substance from seeping into the threads. This could involve using a sealant or a thread design that minimizes the risk of ingress.\n",
      "Generated Answer: The IMDG Code outlines several specific measures to prevent leakage in packagings designed for liquid explosives. These measures are crucial for ensuring the safe transport of these hazardous materials.  \n",
      "\n",
      "Firstly, the packaging must be made of materials that are resistant to the liquid explosive. This means the material should not be corroded or otherwise degraded by the substance. The IMDG Code provides a list of authorized packaging materials for different classes of dangerous goods, including liquid explosives.\n",
      "\n",
      "Secondly, the packaging must be designed and constructed to be leakproof. This typically involves using features like:\n",
      "\n",
      "* **Hermetic closures:** Secure and tamper-evident closures that prevent any leakage during transport.\n",
      "* **Gaskets and seals:** These components create a tight seal between the packaging components, further preventing leakage.\n",
      "* **Reinforced construction:** The packaging itself should be robust enough to withstand the stresses of transport and handling, minimizing the risk of punctures or ruptures.\n",
      "\n",
      "Thirdly, the IMDG Code mandates specific testing procedures to ensure the packaging's integrity. These tests include:\n",
      "\n",
      "* **Drop tests:** Simulating the impact forces that the packaging might experience during transport.\n",
      "* **Stacking tests:** Evaluating the packaging's ability to withstand the weight of other packages stacked on top.\n",
      "* **Leakproofness tests:** Directly assessing the packaging's ability to prevent leakage under pressure.\n",
      "\n",
      "Furthermore, the IMDG Code stipulates that liquid explosives must be packaged in inner receptacles that are themselves leakproof. These inner receptacles are then placed within a larger outer packaging, providing an additional layer of protection.\n",
      "\n",
      "Finally, the IMDG Code also emphasizes the importance of proper labeling and marking. This ensures that handlers are aware of the hazardous nature of the contents and can take appropriate precautions.\n",
      "\n",
      "It is crucial to remember that the IMDG Code is a complex document with detailed specifications for different types of dangerous goods. Always consult the latest version of the IMDG Code and relevant national regulations for the most up-to-date information on packaging requirements for liquid explosives.<end_of_turn>\n",
      "<start_of_turn>\n",
      "Cosine Similarity: 0.5448\n",
      "BLEU Score: 0.0275\n",
      "ROUGE-L F1 Score: 0.2377\n",
      "Keyword Match: 0.4688\n",
      "--------------------------------------------------\n"
     ]
    },
    {
     "name": "stderr",
     "output_type": "stream",
     "text": [
      "/opt/anaconda3/envs/mlx/lib/python3.11/site-packages/nltk/translate/bleu_score.py:577: UserWarning: \n",
      "The hypothesis contains 0 counts of 4-gram overlaps.\n",
      "Therefore the BLEU score evaluates to 0, independently of\n",
      "how many N-gram overlaps of lower order it contains.\n",
      "Consider using lower n-gram order or use SmoothingFunction()\n",
      "  warnings.warn(_msg)\n"
     ]
    },
    {
     "name": "stdout",
     "output_type": "stream",
     "text": [
      "Model: LoRA Model\n",
      "Question: According to the IMDG code, how are chlorotoluenes classified and under what UN number are they listed?\n",
      "Reference Answer: Chlorotoluenes are classified as Class 3 flammable liquids. They are listed under UN number 2238.\n",
      "Generated Answer: The IMDG Code classifies chlorotoluenes based on their specific chemical structure and hazards.  \n",
      "\n",
      "There are several isomers of chlorotoluene, each with a different position of the chlorine atom on the toluene molecule.  \n",
      "\n",
      "The IMDG Code lists chlorotoluenes under various UN numbers, depending on the specific isomer:\n",
      "\n",
      "* **ortho-Chlorotoluene:** UN 2054 (Class 6.1, Toxic substance)\n",
      "* **meta-Chlorotoluene:** UN 2054 (Class 6.1, Toxic substance)\n",
      "* **para-Chlorotoluene:** UN 2054 (Class 6.1, Toxic substance)\n",
      "\n",
      "It's important to note that all chlorotoluene isomers are classified as toxic substances (Class 6.1) according to the IMDG Code.  \n",
      "\n",
      "Therefore, when shipping chlorotoluenes, you must ensure they are packaged and labeled according to the requirements for Class 6.1 substances and the specific UN number corresponding to the isomer being transported.<end_of_turn>\n",
      "\n",
      "Cosine Similarity: 0.2210\n",
      "BLEU Score: 0.0000\n",
      "ROUGE-L F1 Score: 0.1505\n",
      "Keyword Match: 0.6667\n",
      "--------------------------------------------------\n",
      "Model: LoRA Model\n",
      "Question: According to the IMDG Code excerpt, what are the health hazards associated with substance 2516 and how should it be handled?\n",
      "Reference Answer: Substance 2516 is identified as colorless crystals with a melting point of 480°C. It is insoluble in water. The IMDG Code excerpt states that substance 2516 is \"Toxic if swallowed, by skin contact or by inhalation of dust and vapour.\"\n",
      "\n",
      " Given its toxicity, handling substance 2516 requires strict safety protocols. Personnel should wear appropriate personal protective equipment (PPE), including gloves, respirators, and eye protection, to minimize exposure. Adequate ventilation is crucial to prevent the buildup of toxic dust and vapor. The substance should be stored in tightly sealed containers in a well-ventilated area, away from incompatible materials. In case of spills, trained personnel should follow established emergency procedures, which may include containment, decontamination, and disposal according to local regulations.\n",
      "Generated Answer: Please provide the IMDG Code excerpt mentioning substance 2516. I need the specific text to determine the health hazards and handling procedures for that substance. \n",
      "\n",
      "Once you provide the excerpt, I can analyze it and give you a detailed and accurate response.<end_of_turn>\n",
      "\n",
      "Cosine Similarity: 0.2585\n",
      "BLEU Score: 0.0102\n",
      "ROUGE-L F1 Score: 0.1679\n",
      "Keyword Match: 0.1443\n",
      "--------------------------------------------------\n",
      "Model: LoRA Model\n",
      "Question: A shipment of bromine pentafluoride (UN 1745) is being prepared for transport by sea. What are the key IMDG Code requirements that must be adhered to for the safe carriage of this hazardous substance?\n",
      "Reference Answer: Bromine pentafluoride (UN 1745) is classified as a Class 8 corrosive substance with a subsidiary risk of Class 2 (flammable gas). The IMDG Code outlines several stringent requirements for its safe transport by sea:\n",
      "\n",
      "* Packaging: Bromine pentafluoride must be packaged in UN-approved, corrosion-resistant receptacles such as stainless steel or glass. The packaging must be designed and tested to withstand the corrosive nature of the substance and the pressures it may generate.\n",
      "\n",
      "* Segregation: It must be segregated from incompatible substances, especially those that are oxidizers, reducing agents, or reactive metals.  Consult the IMDG Code's Dangerous Goods List and the segregation table (7.2.8) to determine appropriate segregation distances and groupings.\n",
      "\n",
      "* Labeling and Marking: The packages and cargo transport units (CTUs) must be clearly labeled with the appropriate Class 8 and Class 2 hazard labels, along with the UN number (1745).  Additional markings, such as \"CORROSIVE\" and \"FLAMMABLE GAS\", may also be required.\n",
      "\n",
      "* Documentation: The shipper must provide a Dangerous Goods Declaration (DGD) containing all necessary information about the bromine pentafluoride shipment, including its UN number, proper shipping name, Class, subsidiary risk, quantity, and any special handling instructions.\n",
      "\n",
      "* Ventilation: Adequate ventilation of the cargo hold is crucial to prevent the buildup of flammable gas vapors. The IMDG Code specifies minimum ventilation rates based on the substance's volatility and flammability.\n",
      "\n",
      "* Emergency Procedures: The ship's crew must be familiar with the emergency procedures for handling bromine pentafluoride spills or leaks. These procedures should include containment measures, personal protective equipment requirements, and first aid protocols.\n",
      "\n",
      "Compliance with all relevant IMDG Code requirements ensures the safe transport of bromine pentafluoride by sea, minimizing the risk of accidents, environmental damage, and harm to personnel.\n",
      "Generated Answer: Bromine pentafluoride (UN 1745) is a highly reactive and corrosive substance, posing significant hazards during transport.  Therefore, strict adherence to the IMDG Code is crucial for its safe carriage.  \n",
      "\n",
      "Here's a breakdown of the key IMDG Code requirements for bromine pentafluoride:\n",
      "\n",
      "**1. Classification and Packaging:**\n",
      "\n",
      "* Bromine pentafluoride is classified as Class 8 (Corrosive) with subsidiary risk Class 6.1 (Toxic).\n",
      "\n",
      "* It must be packaged in UN-approved receptacles made of materials resistant to its corrosive nature.  Stainless steel, PTFE (polytetrafluoroethylene), or other compatible materials are typically used.\n",
      "\n",
      "* The packaging must be designed and tested to withstand the corrosive properties of bromine pentafluoride and meet the requirements of Chapter 6.1 of the IMDG Code.\n",
      "\n",
      "**2. Labeling and Marking:**\n",
      "\n",
      "* The package must be clearly labeled with the appropriate hazard labels:\n",
      "    * Class 8 (Corrosive) label\n",
      "    * Class 6.1 (Toxic) subsidiary risk label\n",
      "* The UN number (1745) must be prominently displayed on the package.\n",
      "* Additional markings, such as the proper shipping name (\"Bromine pentafluoride\"), the net quantity of dangerous goods, and the contact information of the shipper and consignee, are also required.\n",
      "\n",
      "**3. Stowage and Segregation:**\n",
      "\n",
      "* Bromine pentafluoride must be stowed away from incompatible substances, such as oxidizing agents, reducing agents, and flammable materials.\n",
      "\n",
      "* It should be stowed on deck or in a well-ventilated cargo space, away from sources of heat and ignition.\n",
      "\n",
      "* The IMDG Code provides detailed segregation tables outlining the minimum distances required between bromine pentafluoride and other dangerous goods.\n",
      "\n",
      "**4. Documentation:**\n",
      "\n",
      "* A Dangerous Goods Declaration (DGD) must be completed and submitted to the carrier, detailing the nature and quantity of the hazardous cargo, the UN number, proper shipping name, and other relevant information.\n",
      "\n",
      "* The shipper is responsible for ensuring that the DGD is accurate and up-to-date.\n",
      "\n",
      "**5. Emergency Response:**\n",
      "\n",
      "* The IMDG Code mandates that emergency response procedures be in place for dealing with spills, leaks, or other incidents involving bromine pentafluoride.\n",
      "\n",
      "* This includes having appropriate personal protective equipment (PPE) on board, as well as trained personnel capable of responding to emergencies.\n",
      "\n",
      "**6. Temperature Control:**\n",
      "\n",
      "* Bromine pentafluoride is highly reactive and can decompose at elevated temperatures.\n",
      "\n",
      "* It is essential to maintain the cargo at a temperature below its decomposition point during transport.\n",
      "\n",
      "* The IMDG Code may specify temperature control requirements for bromine pentafluoride, and these must be strictly adhered to.\n",
      "\n",
      "**7. Additional Considerations:**\n",
      "\n",
      "* The IMDG Code is a complex document, and it is crucial to consult the latest edition and relevant sections for specific guidance on the transport of bromine pentafluoride.\n",
      "\n",
      "* It is highly recommended to seek expert advice from qualified IMDG Code specialists or dangerous goods consultants to ensure compliance with all applicable regulations.<end_of_turn>\n",
      "Cosine Similarity: 0.8197\n",
      "BLEU Score: 0.1632\n",
      "ROUGE-L F1 Score: 0.4038\n",
      "Keyword Match: 0.6303\n",
      "--------------------------------------------------\n",
      "Model: LoRA Model\n",
      "Question: A package containing radioactive material is being transported by sea in a container under exclusive use. What is the maximum allowable surface temperature of the package, considering both ambient temperature and solar insolation?\n",
      "Reference Answer: According to the IMDG Code, section 6.4.8.4, the maximum temperature of any readily accessible surface of a package transported under exclusive use by sea shall not exceed 85°C in the absence of insolation.\n",
      "\n",
      "However, when considering solar insolation, the IMDG Code (6.4.8.5) specifies an ambient temperature of 38°C. The solar insolation conditions are also defined in a table within the IMDG Code, which would need to be referenced for specific insolation values.\n",
      "\n",
      "Therefore, to determine the maximum allowable surface temperature of the package, you would need to:\n",
      "\n",
      "1. Consult the table in the IMDG Code for the solar insolation values applicable to the route and time of year.\n",
      "\n",
      "2. Add the ambient temperature (38°C) to the highest solar insolation value from the table.\n",
      "\n",
      "3. Compare the sum to 85°C. If the sum is lower than 85°C, that is the maximum allowable surface temperature. If the sum is higher than 85°C, the maximum allowable surface temperature is 85°C.\n",
      "\n",
      "Remember that barriers or screens intended to protect persons can be accounted for without requiring them to undergo testing.\n",
      "Generated Answer: The IMDG Code does not specify a single maximum allowable surface temperature for packages containing radioactive material transported under exclusive use.  \n",
      "\n",
      "Instead, the IMDG Code refers to the regulations outlined in the IAEA Regulations for the Safe Transport of Radioactive Material (IAEA TS-R-1). These regulations provide a comprehensive framework for ensuring the safe transport of radioactive materials, including temperature considerations.\n",
      "\n",
      "According to IAEA TS-R-1, the design of the packaging must ensure that the temperature of the accessible external surfaces of the package will not exceed 85 °C (185 °F) in the shade under the effect of the maximum normal operating ambient temperature. This temperature limit is intended to prevent damage to the packaging and ensure the safety of personnel handling the package.\n",
      "\n",
      "Furthermore, the packaging design must also consider the effects of solar insolation. This means that the packaging must be able to withstand the heat generated by direct sunlight without exceeding the 85 °C limit. The specific design requirements for solar insolation will depend on the type of packaging and the expected transport conditions.\n",
      "\n",
      "Therefore, the maximum allowable surface temperature of the package will depend on several factors, including:\n",
      "\n",
      "* The type of radioactive material being transported\n",
      "* The design of the packaging\n",
      "* The expected ambient temperature during transport\n",
      "* The duration of the transport\n",
      "* The geographical location of the transport route\n",
      "\n",
      "It is crucial to consult with a qualified radiation safety specialist and refer to the IAEA TS-R-1 regulations for detailed guidance on determining the appropriate surface temperature limits for your specific transport scenario.<end_of_turn>\n",
      "Cosine Similarity: 0.7248\n",
      "BLEU Score: 0.0998\n",
      "ROUGE-L F1 Score: 0.3004\n",
      "Keyword Match: 0.4375\n",
      "--------------------------------------------------\n",
      "Model: LoRA Model\n",
      "Question: An IBC is marked with a \"W\" before the IBC code. What does this signify about the IBC according to the IMDG code?\n",
      "Reference Answer: The letter \"W\" before the IBC code indicates that the IBC, although of the same type as indicated by the code, is manufactured to a specification different from those outlined in section 6.5.3 of the IMDG Code. However, this IBC is considered equivalent in terms of safety and performance to the IBCs manufactured according to the standard specifications in section 6.5.1.1.2. This equivalence is determined based on the provisions set forth in 6.5.1.1.2 of the IMDG Code.\n",
      "Generated Answer: The \"W\" before the IBC code indicates that the IBC is intended for the transport of substances with a flashpoint of 60°C or above.  \n",
      "\n",
      "This marking is crucial because it signifies the IBC's suitability for handling flammable liquids with relatively high flashpoints. The IMDG Code categorizes IBCs based on their design and construction to ensure they can safely contain and transport different types of hazardous materials.\n",
      "\n",
      "Therefore, an IBC marked with \"W\" before the IBC code is specifically designed and tested to handle flammable liquids that are less volatile and pose a lower fire risk compared to those with lower flashpoints.<end_of_turn>\n",
      "Cosine Similarity: 0.5054\n",
      "BLEU Score: 0.1305\n",
      "ROUGE-L F1 Score: 0.3150\n",
      "Keyword Match: 0.4340\n",
      "--------------------------------------------------\n",
      "Model: LoRA Model\n",
      "Question: Based on the provided text, what are the differences in handling and storage requirements for the substances categorized as \"Category A\" and \"Category B\"?\n",
      "Reference Answer: The text provides information on three substances, with two categorized as \"Category A\" and one as \"Category B.\"  Here's a breakdown of the differences in handling and storage based on the provided IMDG Code excerpts:\n",
      "\n",
      "Category A:\n",
      "\n",
      "* Substance:  2491 (Corrosive liquid)\n",
      "* Key Characteristics: Miscible with water, corrosive to copper, copper compounds, copper alloys, and rubber. Reacts violently with acids. Causes burns to skin, eyes, and mucous membranes.\n",
      "* Storage & Handling Implications: Due to its corrosiveness, this substance would require storage in containers made of compatible materials (likely stainless steel or certain plastics).  \n",
      "\n",
      "   Segregation from acids is crucial to prevent dangerous reactions.  \n",
      "\n",
      "   Personal protective equipment (PPE) like gloves, goggles, and face shields are essential to prevent skin and eye contact.\n",
      "\n",
      "Category B:\n",
      "\n",
      "* Substances: 2490 (Highly toxic liquid) and 2493 (Harmful liquid)\n",
      "* Key Characteristics:\n",
      "\n",
      "    * 2490:  Colourless liquid, immiscible with water. Highly toxic via ingestion, skin contact, or inhalation. Irritating to skin, eyes, and mucous membranes.\n",
      "    * 2493: Yellowish liquid with an ammoniacal odor. Miscible with water. Harmful via inhalation and skin absorption. Causes burns to skin, eyes, and mucous membranes.\n",
      "\n",
      "* Storage & Handling Implications: Both substances require secure storage to prevent accidental release. Due to their toxicity,  designated storage areas with appropriate ventilation are necessary. \n",
      "\n",
      "    PPE including respirators, gloves, and eye protection are crucial when handling these substances.  \n",
      "\n",
      "Important Notes:\n",
      "\n",
      "* This analysis is based on limited information. A complete IMDG Code entry for each substance would provide more detailed handling and storage instructions.\n",
      "\n",
      "* Always refer to the full IMDG Code entry and relevant Safety Data Sheets (SDS) for comprehensive information on the safe handling and storage of any hazardous material.\n",
      "Generated Answer: Please provide the text outlining the categories and their descriptions. I need that information to accurately explain the differences in handling and storage requirements for \"Category A\" and \"Category B\" substances according to the IMDG Code. \n",
      "\n",
      "Once you provide the text, I can analyze it and give you a clear and concise comparison of the handling and storage needs for each category.<end_of_turn>\n",
      "\n",
      "Cosine Similarity: 0.4455\n",
      "BLEU Score: 0.0043\n",
      "ROUGE-L F1 Score: 0.1667\n",
      "Keyword Match: 0.1558\n",
      "--------------------------------------------------\n",
      "Model: LoRA Model\n",
      "Question: What are the IMDG Code provisions that apply to cargo transport units containing substances used for cooling or conditioning purposes when they also carry dangerous goods?\n",
      "Reference Answer: According to section 5.5.3.2.2 of the IMDG Code, if a cargo transport unit contains both substances used for cooling or conditioning and dangerous goods, the provisions of the IMDG Code relevant to those dangerous goods apply in addition to the provisions of section 5.5.3.\n",
      "\n",
      "This means you must comply with all the general packing, labelling, stowage and segregation requirements for the dangerous goods being transported, as well as the specific requirements outlined in section 5.5.3 for cargo transport units with cooling or conditioning substances.\n",
      "\n",
      "For dangerous goods requiring temperature control, section 7.3.7 of the IMDG Code also provides additional guidance.\n",
      "\n",
      "It is crucial to remember that the safety of all involved depends on following these regulations meticulously.\n",
      "Generated Answer: The IMDG Code has specific provisions for cargo transport units (CTUs) containing substances used for cooling or conditioning purposes when they also carry dangerous goods. These provisions are outlined in section 7.8.3.1.  \n",
      "\n",
      "Here's a breakdown of the key points:\n",
      "\n",
      "**1. Classification and Approval:**\n",
      "\n",
      "* The substances used for cooling or conditioning must be classified according to the IMDG Code. This means determining their UN number, proper shipping name, class, subsidiary risk, packing group, and any special provisions.\n",
      "* The CTU itself must be approved for the carriage of the dangerous goods it contains. This approval may be in the form of a certificate issued by a competent authority or a recognized testing facility.\n",
      "\n",
      "**2. Segregation:**\n",
      "\n",
      "* The IMDG Code mandates segregation between the dangerous goods and the cooling or conditioning substances. This segregation can be achieved through physical separation, such as using separate compartments or containers within the CTU.\n",
      "* The segregation distance required will depend on the nature of the dangerous goods and the cooling or conditioning substances. The IMDG Code provides guidance on the minimum segregation distances required for different combinations of substances.\n",
      "\n",
      "**3. Packaging and Stowage:**\n",
      "\n",
      "* The cooling or conditioning substances must be packaged and stowed in a manner that prevents leakage and damage. This may involve using suitable containers, insulation, and absorbent materials.\n",
      "* The IMDG Code also specifies the stowage requirements for CTUs containing both dangerous goods and cooling or conditioning substances. These requirements may include limitations on the stacking height, the use of dunnage, and the position of the CTU within the ship.\n",
      "\n",
      "**4. Documentation:**\n",
      "\n",
      "* The CTU must be accompanied by a transport document that clearly indicates the presence of both the dangerous goods and the cooling or conditioning substances. This document should also include the UN numbers, proper shipping names, and other relevant information for all substances being transported.\n",
      "\n",
      "**5. Emergency Response:**\n",
      "\n",
      "* The IMDG Code emphasizes the importance of having an emergency response plan in place for CTUs containing both dangerous goods and cooling or conditioning substances. This plan should outline the procedures to be followed in the event of a spill, leak, or other emergency.\n",
      "\n",
      "**6. Monitoring and Inspection:**\n",
      "\n",
      "* The CTU should be regularly monitored for signs of leakage or damage. Inspections should be carried out by qualified personnel to ensure that the CTU and its contents are in a safe condition for transport.\n",
      "\n",
      "It is crucial to consult the latest edition of the IMDG Code and any relevant national regulations for specific guidance on the transport of dangerous goods and cooling or conditioning substances. The IMDG Code is a complex document, and it is recommended to seek expert advice from a qualified IMDG Code specialist for any questions or concerns.<end_of_turn>\n",
      "Cosine Similarity: 0.7270\n",
      "BLEU Score: 0.0559\n",
      "ROUGE-L F1 Score: 0.2947\n",
      "Keyword Match: 0.6667\n",
      "--------------------------------------------------\n",
      "Model: LoRA Model\n",
      "Question: According to the IMDG Code, what are the specific exemptions from the provisions of 6.7.3 when designing and constructing an IMO Type 6 tank for road transport?\n",
      "Reference Answer: An IMO Type 6 tank for road transport must comply with the provisions of 6.7.3, except for the following:\n",
      "\n",
      "1. Safety factor: The safety factor can be lower than 1.5 (specified in 6.7.3.2.10) but must not be less than 1.3.\n",
      "\n",
      "2. 6.7.3.5.7: This section is exempt.\n",
      "\n",
      "3. 6.7.3.6.1: If bottom openings are approved by the competent authority for sea transport, this section is exempt.\n",
      "\n",
      "4. 6.7.3.7.1: The pressure relief devices must open at a pressure not less than the Maximum Allowable Working Pressure (MAWP) and be fully open at a pressure not exceeding the test pressure of the tank.\n",
      "\n",
      "5. 6.7.3.8:  The delivery capacity of the pressure relief devices must be approved by the competent authorities for both sea and road transport.\n",
      "\n",
      "6. 6.7.3.11.1: The location of the pressure relief device inlets does not need to be in the longitudinal centre of the shell.\n",
      "Generated Answer: The IMDG Code, specifically section 6.7.3, outlines the design and construction requirements for IMO Type 6 tanks used for the transport of dangerous goods. However, there are some exemptions to these provisions for road transport.  \n",
      "\n",
      "These exemptions are detailed in paragraph 6.7.3.17.1 of the IMDG Code.  \n",
      "\n",
      "Firstly, it's crucial to understand that these exemptions only apply to IMO Type 6 tanks used for road transport. They do not apply to tanks used for maritime transport.\n",
      "\n",
      "The exemptions are as follows:\n",
      "\n",
      "1. Exemption from the requirement for a shell thickness of not less than 8 mm. This exemption allows for a reduced shell thickness if the tank is designed and constructed to withstand the stresses expected during road transport. This exemption is subject to approval by the competent authority.\n",
      "\n",
      "2. Exemption from the requirement for a minimum test pressure of 1 MPa (10 bar). This exemption allows for a lower test pressure if the tank is designed and constructed to withstand the stresses expected during road transport. This exemption is also subject to approval by the competent authority.\n",
      "\n",
      "3. Exemption from the requirement for a pressure relief device with a set pressure of not less than 1.5 times the test pressure. This exemption allows for a lower set pressure for the pressure relief device if the tank is designed and constructed to prevent overfilling and to withstand the stresses expected during road transport. This exemption is also subject to approval by the competent authority.\n",
      "\n",
      "It is important to note that these exemptions are not absolute. The competent authority may impose additional conditions or requirements on the design and construction of the tank to ensure its safety.\n",
      "\n",
      "Furthermore, the manufacturer must provide documentation demonstrating that the tank meets the requirements of the IMDG Code, including the exemptions granted. This documentation must be readily available for inspection by authorized personnel.\n",
      "\n",
      "Finally, the exemptions outlined in 6.7.3.17.1 are specific to road transport. If the tank is to be used for both road and maritime transport, it must comply with all the provisions of 6.7.3, without exception.<end_of_turn>\n",
      "Cosine Similarity: 0.6599\n",
      "BLEU Score: 0.0601\n",
      "ROUGE-L F1 Score: 0.4036\n",
      "Keyword Match: 0.5233\n",
      "--------------------------------------------------\n",
      "Model: LoRA Model\n",
      "Question: A shipping company is transporting a large tractor with integrated fuel tanks containing flammable liquids. Can the tractor overhang the cargo transport unit, and what safety considerations should be applied?\n",
      "Reference Answer: Yes, the tractor can overhang the cargo transport unit, according to IMDG Code 7.3.3.8. This exception applies to oversized machinery where the dangerous goods (in this case, the flammable liquids in the fuel tanks) are integral to the machinery and cannot leak or spill outside the cargo transport unit.\n",
      "\n",
      "However, several safety considerations must be applied:\n",
      "\n",
      "* Securement: The tractor must be securely fastened to the cargo transport unit to prevent movement during transit. This may involve using specialized straps, chains, or other load-securing equipment.\n",
      "* Protection: The fuel tanks and any exposed fuel lines must be protected from damage during loading, unloading, and transportation. This could involve using padding, guards, or other protective measures.\n",
      "* Leak Prevention: The fuel system of the tractor should be thoroughly inspected for leaks before loading. Any identified leaks must be repaired before transportation.\n",
      "* Placarding: The cargo transport unit must be appropriately placarded to indicate the presence of flammable liquids.\n",
      "\n",
      "By adhering to these safety considerations, the shipping company can ensure the safe transport of the tractor while complying with the IMDG Code.\n",
      "Generated Answer: This is a complex question that requires a thorough assessment based on the specific details of the tractor and the flammable liquids it contains.  \n",
      "\n",
      "Firstly, the IMDG Code itself doesn't explicitly state whether a tractor with integrated fuel tanks can overhang a cargo transport unit. However, several IMDG Code provisions and general safety principles must be considered:\n",
      "\n",
      "**1. Classification of the Flammable Liquid:**\n",
      "\n",
      "* The IMDG Code classifies flammable liquids into different classes (Class 3) and packing groups (I, II, III) based on their flashpoint, boiling point, and other hazardous properties.  \n",
      "* The specific classification of the flammable liquid in the tractor's fuel tanks will determine the applicable IMDG Code regulations and packing instructions.\n",
      "\n",
      "**2. Securement and Stowage:**\n",
      "\n",
      "* The tractor must be securely fastened to the cargo transport unit to prevent movement during transit. This is crucial to avoid damage to the fuel tanks and potential leaks.\n",
      "* The IMDG Code emphasizes the importance of using appropriate securing methods and devices for dangerous goods.\n",
      "\n",
      "**3. Overhang Limitations:**\n",
      "\n",
      "* While the IMDG Code doesn't explicitly prohibit overhang, many countries and transport regulations have specific limitations on the maximum overhang allowed for vehicles and cargo.\n",
      "* These limitations are often based on safety concerns related to vehicle stability, visibility, and the potential for collisions.\n",
      "\n",
      "**4. Ventilation:**\n",
      "\n",
      "* Adequate ventilation is essential to prevent the buildup of flammable vapors. The cargo transport unit should be well-ventilated, and any openings or vents should be unobstructed.\n",
      "\n",
      "**5. Emergency Response:**\n",
      "\n",
      "* The shipping company must have a comprehensive emergency response plan in place, including procedures for dealing with spills, leaks, and fires involving flammable liquids.\n",
      "\n",
      "**6. Labeling and Documentation:**\n",
      "\n",
      "* The cargo transport unit must be clearly labeled with the appropriate IMDG Code hazard placards and markings.\n",
      "* The shipping company must also provide all necessary documentation, including the dangerous goods declaration, to the carrier and relevant authorities.\n",
      "\n",
      "**7. Exemptions and Special Provisions:**\n",
      "\n",
      "* In some cases, exemptions or special provisions may apply to the transport of tractors with integrated fuel tanks. It is crucial to consult the IMDG Code and relevant national regulations for any applicable exceptions.\n",
      "\n",
      "**8. Consultation with Experts:**\n",
      "\n",
      "* Given the complexity of this situation, it is highly recommended that the shipping company consult with IMDG Code experts, such as dangerous goods safety advisors or specialized transport companies, to ensure compliance with all applicable regulations and to develop a safe and effective transport plan.<end_of_turn>\n",
      "Cosine Similarity: 0.7068\n",
      "BLEU Score: 0.1088\n",
      "ROUGE-L F1 Score: 0.2786\n",
      "Keyword Match: 0.5333\n",
      "--------------------------------------------------\n",
      "Model: LoRA Model\n",
      "Question: According to the IMDG code, what are the requirements for lifting and tie-down attachments on portable tanks?\n",
      "Reference Answer: The IMDG code stipulates specific requirements for lifting and tie-down attachments on portable tanks to ensure safe handling and transportation.  \n",
      "\n",
      "Firstly, both temporary and permanent lifting and tie-down attachments must be designed to prevent excessive stress on any part of the tank.\n",
      "\n",
      "Permanent attachments are preferred and should ideally be fitted to the tank supports. However, they can be secured to reinforcing plates located on the tank at the support points if necessary.\n",
      "\n",
      "The code also emphasizes considering the effects of environmental corrosion when designing supports and frameworks for the portable tanks. This helps ensure the long-term integrity and safety of the attachments.\n",
      "\n",
      "Furthermore, forklift pockets on portable tanks must be capable of being closed off. This closure mechanism should be a permanent part of the framework or permanently attached to it.\n",
      "\n",
      "There is an exception for single-compartment portable tanks with a length less than 3.65 meters. These tanks do not require closed-off forklift pockets if:\n",
      "\n",
      "1. The tank and all its fittings are adequately protected from being hit by forklift blades.\n",
      "2. The distance between the centers of the forklift pockets is at least half of the maximum length of the portable tank.\n",
      "\n",
      "These requirements aim to minimize the risk of accidents during the lifting, transportation, and handling of portable tanks containing hazardous materials.\n",
      "Generated Answer: The IMDG Code outlines specific requirements for lifting and tie-down attachments on portable tanks to ensure safe handling and transport. These requirements are detailed in Section 4.2.5.2.6.  \n",
      "\n",
      "Firstly, the IMDG Code mandates that portable tanks must be fitted with permanently attached lifting and tie-down attachments. These attachments must be designed and constructed to withstand the forces exerted during handling and transport.\n",
      "\n",
      "Here's a breakdown of the key requirements:\n",
      "\n",
      "**Lifting Attachments:**\n",
      "\n",
      "* **Design:** Lifting attachments must be of sufficient strength and design to support the weight of the filled tank, including the dynamic forces encountered during lifting.\n",
      "* **Material:** The material used for lifting attachments must be compatible with the tank material and the substances being transported to prevent corrosion or weakening.\n",
      "* **Location:** Lifting attachments should be located at the tank's top and spaced to ensure a balanced lift.\n",
      "\n",
      "**Tie-Down Attachments:**\n",
      "\n",
      "* **Design:** Tie-down attachments must be strong enough to secure the tank to the transport unit and withstand the forces generated during acceleration, braking, and cornering.\n",
      "* **Material:** Similar to lifting attachments, the material used for tie-down attachments must be compatible with the tank material and the transported substances.\n",
      "* **Location:** Tie-down attachments should be located at the bottom of the tank and spaced to provide adequate stability during transport.\n",
      "\n",
      "**Additional Considerations:**\n",
      "\n",
      "* The IMDG Code also recommends that lifting and tie-down attachments be clearly marked with their safe working load (SWL). This information helps handlers determine the maximum weight the attachments can safely support.\n",
      "* Regular inspections of lifting and tie-down attachments are crucial to ensure their continued integrity and safety. Any damaged or worn attachments must be replaced immediately.\n",
      "\n",
      "By adhering to these requirements, the IMDG Code aims to minimize the risk of accidents and ensure the safe transportation of hazardous materials in portable tanks.<end_of_turn>\n",
      "Cosine Similarity: 0.7221\n",
      "BLEU Score: 0.1249\n",
      "ROUGE-L F1 Score: 0.3704\n",
      "Keyword Match: 0.4597\n",
      "--------------------------------------------------\n",
      "Model: LoRA Model\n",
      "Question: A manufacturer is shipping 500 capacitors individually, each containing a flammable electrolyte and an energy storage capacity exceeding 20 Wh. What packaging requirements must they adhere to according to the IMDG Code?\n",
      "Reference Answer: According to the IMDG Code, these capacitors are classified as dangerous goods and are subject to specific packaging requirements. \n",
      "\n",
      "Since they are shipped individually and not installed in equipment, they must be packaged to withstand a 2 meter drop test onto an unyielding surface without loss of contents. This means the packaging must be robust enough to absorb the impact and prevent the capacitors from being damaged or the electrolyte from leaking.\n",
      "\n",
      "The IMDG Code does not specify the exact packaging type, but it emphasizes the need for \"strong outer packaging constructed of suitable material, and of adequate strength and design, in relation to the packaging’s intended use\". This means the manufacturer must choose a packaging material (e.g., sturdy cardboard, plastic, or metal) and design that can effectively protect the capacitors during transport. \n",
      "\n",
      "Additional considerations include:\n",
      "\n",
      "*  Proper cushioning and padding within the packaging to absorb shocks and vibrations.\n",
      "\n",
      "* Securely fastening the capacitors within the packaging to prevent movement.\n",
      "* Clear labeling of the packages with the appropriate dangerous goods markings, including the UN number, hazard class, and special instructions.\n",
      "Generated Answer: This scenario presents a complex situation that requires careful consideration of the IMDG Code's provisions.  \n",
      "\n",
      "Firstly, the IMDG Code classifies hazardous materials based on their properties. Since the capacitors contain a flammable electrolyte and have an energy storage capacity exceeding 20 Wh, they would likely fall under Class 9 - Miscellaneous Dangerous Goods, with a UN number assigned to the specific electrolyte.\n",
      "\n",
      "Secondly, the IMDG Code mandates specific packaging requirements for Class 9 goods, especially those with a high energy content.  \n",
      "\n",
      "Here's a breakdown of the key packaging considerations for this shipment:\n",
      "\n",
      "1. **UN Number and Proper Shipping Name:** The manufacturer must determine the correct UN number and proper shipping name for the capacitors based on the specific flammable electrolyte used. This information is crucial for accurate labeling and documentation.\n",
      "\n",
      "2. **Packaging Group:** The packaging group (I, II, or III) will depend on the flashpoint and other hazardous properties of the electrolyte. A lower packaging group indicates a higher hazard level.\n",
      "\n",
      "3. **Individual Packaging:** Each capacitor must be individually packaged in a robust, non-conductive material that prevents short circuits and damage during transport. This could involve using specialized plastic cases or sleeves.\n",
      "\n",
      "4. **Intermediate Packaging:** The individually packaged capacitors should be further placed within a larger, rigid outer packaging. This could be a fiberboard box, a plastic drum, or another suitable container. The outer packaging must be strong enough to withstand the rigors of transport and protect the capacitors from external damage.\n",
      "\n",
      "5. **Cushioning and Separation:** Adequate cushioning material, such as expanded polystyrene or air bags, must be used to prevent movement and potential damage to the capacitors within the outer packaging.\n",
      "\n",
      "6. **Segregation:** The capacitors must be segregated from incompatible goods during transport. This means they should not be packed near oxidizing agents, acids, or other substances that could react dangerously with the flammable electrolyte.\n",
      "\n",
      "7. **Documentation:** The shipment must be accompanied by a dangerous goods declaration that accurately describes the capacitors, their UN number, proper shipping name, quantity, and any other relevant information required by the IMDG Code.\n",
      "\n",
      "8.  **Labeling:** The outer packaging must be clearly labeled with the appropriate hazard labels for Class 9 goods, including the UN number and proper shipping name.\n",
      "\n",
      "9.  **Overpack:** If the total weight of the capacitors exceeds the weight limit for a single package, they may need to be overpacked into a larger container. This overpack must also meet the IMDG Code's requirements for Class 9 goods.\n",
      "\n",
      "10.  **Temperature Control:** Depending on the specific electrolyte, temperature control measures may be necessary during transport to prevent overheating or degradation.\n",
      "\n",
      "It is crucial for the manufacturer to consult the latest edition of the IMDG Code and any relevant national regulations for detailed guidance on packaging and transport requirements. They should also seek advice from a qualified dangerous goods packaging specialist to ensure compliance with all applicable regulations.<end_of_turn>\n",
      "Cosine Similarity: 0.7562\n",
      "BLEU Score: 0.0426\n",
      "ROUGE-L F1 Score: 0.2660\n",
      "Keyword Match: 0.5366\n",
      "--------------------------------------------------\n",
      "Model: LoRA Model\n",
      "Question: According to the IMDG Code, what are the packing instructions for NITROCELLULOSE with not more than 12.6% nitrogen, by dry mass?\n",
      "Reference Answer: NITROCELLULOSE with not more than 12.6% nitrogen, by dry mass, is classified as UN 3270, Hazard Class 4.1.\n",
      "\n",
      "The IMDG Code specifies the following packing instructions for UN 3270:\n",
      "\n",
      "*  P411:  This packing instruction requires the nitrocellulose to be packed in:\n",
      "    *  Strong outer packaging:  Made of suitable materials like fiberboard, steel, or plastic.\n",
      "\n",
      "    * Inner packaging:  Made of tightly closed, strong materials like metal, glass, or plastic. \n",
      "    * MEMBRANE FILTERS:  To prevent the release of nitrocellulose dust.\n",
      "\n",
      " It's important to consult the full IMDG Code for detailed requirements on labeling, marking, and documentation for transporting this dangerous good.\n",
      "Generated Answer: NITROCELLULOSE with not more than 12.6% nitrogen, by dry mass, is classified as UN 1884 and falls under Class 4.1 (Flammable Solids).  \n",
      "\n",
      "The IMDG Code provides specific packing instructions for this substance.  \n",
      "\n",
      "Firstly, it's crucial to determine the \"packing group\" assigned to the nitrocellulose. This information is provided in the Dangerous Goods List of the IMDG Code. For NITROCELLULOSE with not more than 12.6% nitrogen, the packing group is II.\n",
      "\n",
      "Now, let's look at the packing instructions for Class 4.1, packing group II substances:\n",
      "\n",
      "The IMDG Code specifies that NITROCELLULOSE with not more than 12.6% nitrogen, by dry mass, must be packed in accordance with packing instruction P406.\n",
      "\n",
      "P406 outlines the following requirements:\n",
      "\n",
      "* **Packaging:**\n",
      "\n",
      "    * The substance must be packed in tightly closed drums or boxes.\n",
      "    * The drums or boxes must be made of metal or rigid plastics.\n",
      "    * The capacity of the drums or boxes must not exceed 250 liters.\n",
      "\n",
      "* **Inner Packagings:**\n",
      "\n",
      "    * The substance must be packed in inner packagings that are made of paper, fiberboard, plastics, or metal.\n",
      "    * The inner packagings must be tightly closed.\n",
      "    * The inner packagings must be resistant to the substance.\n",
      "\n",
      "* **Intermediate Packagings:**\n",
      "\n",
      "    * Intermediate packagings are not required for this substance.\n",
      "\n",
      "* **Outer Packagings:**\n",
      "\n",
      "    * The outer packagings must be drums or boxes as described above.\n",
      "    * The outer packagings must be marked with the appropriate UN number, proper shipping name, and hazard class label.\n",
      "\n",
      "* **Quantity Limitations:**\n",
      "\n",
      "    * The maximum quantity of substance per package is 250 liters.\n",
      "\n",
      "* **Additional Requirements:**\n",
      "\n",
      "    * The substance must be kept away from sources of ignition.\n",
      "    * The substance must be stored in a cool, dry, well-ventilated area.\n",
      "\n",
      "It is crucial to consult the latest edition of the IMDG Code and any relevant national regulations for the most up-to-date information on packing and transport requirements for NITROCELLULOSE with not more than 12.6% nitrogen, by dry mass.<end_of_turn>\n",
      "\n",
      "Cosine Similarity: 0.5376\n",
      "BLEU Score: 0.0841\n",
      "ROUGE-L F1 Score: 0.3733\n",
      "Keyword Match: 0.6842\n",
      "--------------------------------------------------\n",
      "Model: LoRA Model\n",
      "Question: According to the IMDG code, what are the necessary packing instructions for \"Cresylic acid\" and why are those specific instructions important?\n",
      "Reference Answer: \"Cresylic acid\" falls under UN number 2022 and is classified as T7 TP2.  \n",
      "\n",
      "This means it requires packing in accordance with Packing Instruction TP2.  \n",
      "\n",
      "TP2 stipulates the use of: \n",
      "\n",
      "* Steel drums with a maximum capacity of 217 liters (57.3 gallons).\n",
      "* Jerricans with a maximum capacity of 60 liters (15.8 gallons).\n",
      "* Boxes  with a maximum net mass of 40 kg (88 lbs)\n",
      "\n",
      "The importance of these specific packing instructions lies in ensuring the safe and secure transport of \"Cresylic acid.\" \n",
      "\n",
      "As it is a corrosive substance that is toxic upon contact with skin, eyes, and mucous membranes, the chosen packaging materials must:\n",
      "\n",
      "* Be resistant to corrosion by the acid.\n",
      "* Prevent leakage and minimize the risk of spills during transit.\n",
      "* Be robust enough to withstand handling and potential shocks.\n",
      "\n",
      "By adhering to TP2, the IMDG code safeguards against the potential hazards associated with \"Cresylic acid\" transportation and ensures public safety.\n",
      "Generated Answer: You're asking about a hazardous substance that requires careful handling and transport.  Let's break down the IMDG Code requirements for \"Cresylic acid\" and the reasoning behind them.\n",
      "\n",
      "Firstly, it's crucial to understand that \"Cresylic acid\" is a corrosive liquid, meaning it can cause severe burns and damage to skin, eyes, and respiratory system. Additionally, it's flammable, posing a fire risk.\n",
      "\n",
      "According to the IMDG Code, \"Cresylic acid\" is classified as UN 2044, with a proper shipping name of \"CRESYLIC ACID.\"  \n",
      "\n",
      "The IMDG Code provides specific packing instructions (P001) for this substance:\n",
      "\n",
      "* **Packaging:**\n",
      "\n",
      "    * \"Cresylic acid\" must be transported in drums or jerricans made of corrosion-resistant materials like stainless steel or high-density polyethylene (HDPE).\n",
      "\n",
      "    * These drums or jerricans should be tightly closed to prevent leakage and vapor release.\n",
      "\n",
      "    * The packaging must be leakproof and have a secure closure.\n",
      "\n",
      "* **Additional Requirements:**\n",
      "\n",
      "    * \"Cresylic acid\" is assigned to Packing Group II, indicating a moderate hazard level. This means the packaging must be robust enough to withstand normal conditions of transport without significant damage.\n",
      "\n",
      "    * The IMDG Code also mandates the use of a compatible inner liner for the packaging. This liner acts as an additional barrier against corrosion and leakage.\n",
      "\n",
      "    * \"Cresylic acid\" is also subject to segregation requirements, meaning it must be kept away from incompatible substances during transport to prevent dangerous reactions.\n",
      "\n",
      "* **Labeling:**\n",
      "\n",
      "    * The packaging must be clearly labeled with the appropriate hazard pictograms, UN number, and proper shipping name. This ensures that handlers and emergency responders are aware of the risks associated with the substance.\n",
      "\n",
      "These specific instructions are crucial for several reasons:\n",
      "\n",
      "1. **Safety of Personnel:** The robust packaging and leakproof design protect workers involved in handling, loading, and unloading the substance from direct contact and potential burns.\n",
      "\n",
      "2. **Environmental Protection:** The secure closure and compatible liner prevent leakage and minimize the risk of environmental contamination.\n",
      "\n",
      "3. **Prevention of Fires and Explosions:** The IMDG Code's segregation requirements help avoid contact with incompatible substances that could react violently with \"Cresylic acid,\" leading to fires or explosions.\n",
      "\n",
      "4. **Emergency Response:** The clear labeling allows emergency responders to quickly identify the substance and take appropriate actions in case of an incident.\n",
      "\n",
      "By adhering to these IMDG Code packing instructions, the transport of \"Cresylic acid\" can be carried out safely and with minimal risk to human health and the environment.<end_of_turn>\n",
      "Cosine Similarity: 0.6472\n",
      "BLEU Score: 0.0875\n",
      "ROUGE-L F1 Score: 0.3200\n",
      "Keyword Match: 0.6190\n",
      "--------------------------------------------------\n",
      "\n",
      "Average Scores for LoRA Model (50 samples):\n",
      "Average Cosine Similarity: 0.5985\n",
      "Average BLEU Score: 0.1009\n",
      "Average ROUGE-L F1 Score: 0.3198\n",
      "Average Keyword Match: 0.5434\n",
      "Model: Base Model\n",
      "Question: A shipment of 200 kg of \"Pyrethroid Pesticide, Liquid, Toxic, Flammable\" with a flashpoint of 25°C is being prepared for transport. According to the IMDG Code, what UN number should be assigned to this shipment and what packaging group would it fall under?\n",
      "Reference Answer: Based on the provided information, this shipment of \"Pyrethroid Pesticide, Liquid, Toxic, Flammable\" with a flashpoint of 25°C should be assigned UN number 3351.  \n",
      "\n",
      "According to the IMDG Code, this UN number corresponds to \"PYRETHROID PESTICIDE, LIQUID, TOXIC, FLAMMABLE, flashpoint not less than 23°C\".\n",
      "\n",
      "The packaging group for this shipment would depend on the flashpoint and the toxicity of the specific pesticide. However, since the flashpoint is 25°C (which is above the 23°C threshold), and the IMDG Code entry mentions \"TOXIC\" without further specification,  it likely falls under Packaging Group II.\n",
      "\n",
      " It is crucial to consult the Safety Data Sheet (SDS) for the specific pyrethroid pesticide being shipped to confirm the precise packaging group and any additional requirements for safe transport.\n",
      "Generated Answer: Based on the information provided, here's how we can determine the UN number and packaging group for your shipment:\n",
      "\n",
      "**1. Identifying the UN Number:**\n",
      "\n",
      "* **Pyrethroid Pesticides:** These are generally classified under UN Class 3 (Flammable Liquids) due to their flammability.\n",
      "* **Toxic Nature:** The description \"Toxic\" indicates additional hazards.\n",
      "\n",
      "You'll need to consult the IMDG Code's Dangerous Goods List (Volume 2) to find the specific UN number for \"Pyrethroid Pesticide, Liquid, Toxic, Flammable\".  \n",
      "\n",
      "**Important:** There are many different types of pyrethroid pesticides, each with potentially unique UN numbers.  \n",
      "\n",
      "**2. Determining the Packaging Group:**\n",
      "\n",
      "The packaging group depends on the flashpoint and other hazard characteristics.\n",
      "\n",
      "* **Flashpoint of 25°C:** This falls within the category of \"Flammable Liquids\".\n",
      "\n",
      "* **Toxicity:** The IMDG Code considers the toxicity level (LD50 values) to assign the packaging group. You'll need to consult the Safety Data Sheet (SDS) for the specific pyrethroid pesticide to determine its toxicity and corresponding packaging group.\n",
      "\n",
      "**Packaging groups are:**\n",
      "\n",
      "* **Packing Group I:**  Substances presenting high danger.\n",
      "* **Packing Group II:** Substances presenting medium danger.\n",
      "* **Packing Group III:** Substances presenting low danger.\n",
      "\n",
      "**To summarize:**\n",
      "\n",
      "1. **Find the specific UN number for your pyrethroid pesticide in the IMDG Code's Dangerous Goods List.**\n",
      "2. **Consult the SDS for the pesticide to determine its toxicity and corresponding packaging group.**\n",
      "\n",
      "**Disclaimer:** I am an AI and cannot provide definitive legal advice. Always consult the latest edition of the IMDG Code and relevant regulations, and seek professional guidance for accurate classification and packaging of dangerous goods.<end_of_turn>\n",
      "\n",
      "Cosine Similarity: 0.7030\n",
      "BLEU Score: 0.1094\n",
      "ROUGE-L F1 Score: 0.2857\n",
      "Keyword Match: 0.5584\n",
      "--------------------------------------------------\n",
      "Model: Base Model\n",
      "Question: A chemical manufacturer wants to ship 45 kg of a hazardous substance. They have chosen to use a 5H3 plastic bag. Does the IMDG Code allow this shipment?\n",
      "Reference Answer: Yes, the IMDG Code allows this shipment. According to section 6.1.4.16.5, the maximum net mass for a 5H3 plastic bag is 50 kg. The manufacturer's shipment of 45 kg falls within this limit.  Additionally, the section states that the bag material and construction should be appropriate for the intended use. The manufacturer should ensure the bag is made of a suitable plastic material capable of withstanding the pressures and impacts expected during transport.\n",
      "Generated Answer: I can't give definitive advice on whether this shipment is allowed. Here's why:\n",
      "\n",
      "* **Missing Information:** To determine if this shipment is allowed under the IMDG Code, we need more information about the hazardous substance itself.  \n",
      "\n",
      "    * **UN Number:** Every hazardous substance has a unique UN number that identifies its specific hazards. This is crucial for looking up the correct packing instructions in the IMDG Code.\n",
      "    * **Packing Group:** Hazardous substances are assigned to packing groups (I, II, or III) based on their level of danger. This directly influences the allowed packaging types.\n",
      "\n",
      "* **5H3 Limitations:** While a 5H3 plastic bag is a permitted packaging type for some hazardous substances, it has limitations:\n",
      "\n",
      "    * **Net Quantity:** There are often limits on the net quantity of hazardous material allowed in a 5H3 bag. 45 kg might exceed the limit for certain substances.\n",
      "    * **Substance Compatibility:** Not all hazardous substances are compatible with plastic. Some may react with or degrade the plastic, making the packaging unsuitable.\n",
      "\n",
      "**How to Find the Answer:**\n",
      "\n",
      "1. **Identify the UN Number and Packing Group:** The chemical manufacturer should have this information readily available on the Safety Data Sheet (SDS) for the substance.\n",
      "\n",
      "2. **Consult the IMDG Code:** Look up the UN number in the IMDG Code's Dangerous Goods List. This will provide the correct packing instructions, including:\n",
      "    * Allowed packaging types (e.g., 5H3, drums, IBCs)\n",
      "    * Maximum net quantity allowed per packaging\n",
      "    * Any special provisions or restrictions\n",
      "\n",
      "3. **Consider Expert Advice:** If you are unsure about interpreting the IMDG Code or have complex shipments, consult a qualified dangerous goods specialist or IMDG Code expert. They can provide tailored guidance based on your specific situation.\n",
      "\n",
      "**Remember:** Shipping hazardous materials is a serious responsibility. Always prioritize safety and compliance with the IMDG Code to prevent accidents and protect people and the environment.<end_of_turn>\n",
      "\n",
      "Cosine Similarity: 0.4914\n",
      "BLEU Score: 0.0202\n",
      "ROUGE-L F1 Score: 0.1840\n",
      "Keyword Match: 0.5000\n",
      "--------------------------------------------------\n",
      "Model: Base Model\n",
      "Question: What precautions should be taken when handling a substance classified as a desensitized explosive, specifically mentioning its reaction with heavy metals and their salts?\n",
      "Reference Answer: When handling a desensitized explosive, several precautions are crucial due to its hazardous nature. \n",
      "\n",
      "Firstly, because desensitized explosives are still sensitive to shock and heat, they should be stored and handled in a cool, dry, and well-ventilated area, away from any potential sources of ignition or impact.\n",
      "\n",
      "Secondly, it is imperative to avoid contact with heavy metals and their salts. The IMDG Code explicitly warns that desensitized explosives react violently with these substances.  Therefore, storage containers and handling equipment should be made of materials compatible with the explosive, and any cleaning agents or solutions used should be free of heavy metals.\n",
      "\n",
      "Thirdly, appropriate personal protective equipment (PPE) is essential. This typically includes chemical-resistant gloves, safety goggles, and a respirator to protect against inhalation of toxic fumes. In case of a fire, the evolved fumes can form an explosive mixture with air, further emphasizing the need for proper ventilation and fire suppression systems. \n",
      "\n",
      "Finally, thorough training on the safe handling and emergency procedures for desensitized explosives is mandatory for all personnel involved.  This training should cover hazard identification, risk assessment, proper storage and handling techniques, emergency response protocols, and first aid measures.\n",
      "Generated Answer: Desensitized explosives are substances which have been chemically treated to reduce their sensitivity to shock, friction, and heat. While they are less hazardous than their original explosive counterparts, they still require careful handling and storage.\n",
      "\n",
      "Here's a breakdown of precautions when handling desensitized explosives, specifically addressing their reaction with heavy metals and their salts:\n",
      "\n",
      "**General Precautions:**\n",
      "\n",
      "* **Proper Identification:** Ensure the substance is correctly identified and labeled as a desensitized explosive. Refer to the Safety Data Sheet (SDS) for specific hazards and handling instructions.\n",
      "* **Segregation:** Store desensitized explosives separately from incompatible materials, including strong oxidizing agents, acids, and flammable substances.\n",
      "* **Temperature Control:** Avoid exposure to extreme temperatures, both high and low. Desensitization can be affected by temperature changes, potentially increasing sensitivity.\n",
      "* **Shock and Friction:** Minimize shock and friction during handling and transportation. Use appropriate packaging and handling equipment to prevent accidental detonation.\n",
      "* **Personal Protective Equipment (PPE):** Wear appropriate PPE, including gloves, eye protection, and respiratory protection, as recommended by the SDS.\n",
      "\n",
      "**Reaction with Heavy Metals and Salts:**\n",
      "\n",
      "Desensitized explosives can be sensitive to certain heavy metals and their salts. These reactions can vary depending on the specific desensitized explosive and the metal involved.\n",
      "\n",
      "* **Potential Reactions:**\n",
      "\n",
      "    * **Formation of Sensitive Compounds:** Some heavy metals can react with desensitized explosives to form new, more sensitive compounds. This can increase the risk of accidental detonation.\n",
      "    * **Catalysis:** Heavy metals can act as catalysts, accelerating the decomposition of desensitized explosives. This can lead to premature detonation or fire.\n",
      "\n",
      "* **Precautions:**\n",
      "\n",
      "    * **Avoid Contact:** Minimize contact between desensitized explosives and heavy metals or their salts. Use non-metallic tools and containers whenever possible.\n",
      "    * **Cleanliness:** Ensure equipment and work areas are clean and free of heavy metal contamination.\n",
      "    * **Compatibility Testing:** Conduct compatibility tests before storing or transporting desensitized explosives with any materials containing heavy metals.\n",
      "\n",
      "** IMDG Code Guidance:**\n",
      "\n",
      "The IMDG Code provides specific guidance on the safe transport of desensitized explosives. Refer to the relevant sections for detailed information on packaging, labeling, stowage, and segregation requirements.\n",
      "\n",
      "**Remember:**\n",
      "\n",
      "* Always consult the SDS for the specific desensitized explosive you are handling.\n",
      "* Seek expert advice if you have any doubts about the safe handling or storage of these materials.\n",
      "* Follow all applicable regulations and best practices for the safe handling of explosives.\n",
      "\n",
      "By following these precautions, you can minimize the risks associated with handling desensitized explosives and ensure a safe working environment.<end_of_turn>\n",
      "\n",
      "Cosine Similarity: 0.6405\n",
      "BLEU Score: 0.0553\n",
      "ROUGE-L F1 Score: 0.2289\n",
      "Keyword Match: 0.4741\n",
      "--------------------------------------------------\n",
      "Model: Base Model\n",
      "Question: What procedures must be followed if an unsafe condition is discovered on a portable tank?\n",
      "Reference Answer: According to the IMDG Code (6.7.4.14.12), if an unsafe condition is discovered on a portable tank, it must not be returned to service until the following steps are taken: 1. The unsafe condition must be corrected. 2. A repeat pressure test must be performed. 3. The repeat pressure test must be passed successfully. Only after these steps are completed can the portable tank be deemed safe for return to service.\n",
      "Generated Answer: The IMDG Code outlines specific procedures to follow if an unsafe condition is discovered on a portable tank. Here's a breakdown:\n",
      "\n",
      "**1. Immediate Action:**\n",
      "\n",
      "* **Isolate the Tank:**  The first step is to isolate the tank from any potential sources of ignition, heat, or incompatible substances. This may involve moving the tank to a safe location, disconnecting it from any piping or equipment, and ensuring adequate ventilation.\n",
      "\n",
      "* **Stop Loading/Unloading:** Immediately cease any loading or unloading operations involving the tank.\n",
      "\n",
      "* **Notify Relevant Personnel:** Inform the ship's master, cargo officer, and any other relevant personnel about the unsafe condition.\n",
      "\n",
      "**2. Assessment and Reporting:**\n",
      "\n",
      "* **Identify the Hazard:** Determine the nature and extent of the unsafe condition. This could involve visual inspection, checking documentation, or using specialized equipment.\n",
      "\n",
      "* **Document the Condition:**  Thoroughly document the unsafe condition, including its location, nature, and any contributing factors. Take photographs if possible.\n",
      "\n",
      "* **Report to Authorities:** Depending on the severity of the condition and local regulations, you may be required to report the incident to the relevant authorities, such as the port authority, coast guard, or maritime safety agency.\n",
      "\n",
      "**3. Corrective Action:**\n",
      "\n",
      "* **Repair or Replacement:** The unsafe condition must be rectified before the tank can be used again. This may involve repairs, replacement of damaged parts, or a complete overhaul of the tank.\n",
      "\n",
      "* **Inspection and Certification:** After the repairs are completed, the tank must be inspected and certified by a qualified inspector to ensure it meets the requirements of the IMDG Code.\n",
      "\n",
      "**4. Record Keeping:**\n",
      "\n",
      "* **Maintain Records:** Keep detailed records of the unsafe condition, the corrective actions taken, and the inspection and certification results. These records are essential for demonstrating compliance with the IMDG Code and for future reference.\n",
      "\n",
      "**Specific Examples of Unsafe Conditions:**\n",
      "\n",
      "* **Leaks or Damage:** Any leaks in the tank shell, valves, or piping are considered unsafe conditions.\n",
      "\n",
      "* **Corrosion:** Excessive corrosion can weaken the tank structure and make it susceptible to failure.\n",
      "\n",
      "* **Improper Markings or Labels:** Incorrect or missing markings and labels can lead to misidentification of the cargo and potential hazards.\n",
      "\n",
      "* **Damaged or Missing Safety Devices:** Malfunctioning or absent safety devices, such as pressure relief valves or emergency shut-off valves, can pose a significant risk.\n",
      "\n",
      "**Remember:**\n",
      "\n",
      "* Safety is paramount. Always prioritize the safety of personnel and the environment when dealing with unsafe conditions on portable tanks.\n",
      "\n",
      "* Consult the IMDG Code and relevant national regulations for specific guidance on procedures and requirements.\n",
      "\n",
      "* Seek expert advice from qualified inspectors and maintenance personnel when necessary.<end_of_turn>\n",
      "\n",
      "Cosine Similarity: 0.4087\n",
      "BLEU Score: 0.0315\n",
      "ROUGE-L F1 Score: 0.1497\n",
      "Keyword Match: 0.6275\n",
      "--------------------------------------------------\n",
      "Model: Base Model\n",
      "Question: I am shipping a liquid hazardous material. The IMDG Code states that inner packagings should be filled to 98% of their capacity. Why is this requirement in place?\n",
      "Reference Answer: The IMDG Code mandates filling inner packagings of liquid hazardous materials to 98% of their capacity to ensure sufficient ullage. Ullage is the empty space left in a container after filling. This space is crucial for several reasons:\n",
      "\n",
      "* Expansion: Liquids, especially those prone to changes in temperature, can expand. The ullage allows for this expansion without pressurizing the container and potentially leading to leaks or ruptures.\n",
      "* Sloshing: During transport, the container may experience movement and vibrations. Adequate ullage minimizes sloshing, which could damage the container or cause spills.\n",
      "* Packaging Integrity:  Filling to 98% ensures the packaging maintains its structural integrity during transport. Overfilling could strain the container, compromising its ability to withstand shocks and drops.\n",
      "\n",
      "Essentially, the 98% fill requirement strikes a balance between maximizing the use of container space while ensuring the safety and integrity of the package during transportation.\n",
      "Generated Answer: You are correct. The IMDG Code does stipulate that liquid hazardous materials in inner packagings should be filled to a maximum of 98% of their capacity. This isn't arbitrary; there are several important safety reasons behind this requirement:\n",
      "\n",
      "**1. Expansion:**\n",
      "\n",
      "* Liquids, especially those that are hazardous, can expand in volume due to temperature changes. Filling to 98% allows for this expansion without putting pressure on the packaging's seals or risking leakage.\n",
      "\n",
      "**2. Sloshing and Movement:**\n",
      "\n",
      "* During transport, containers are subject to movement and vibrations. Leaving some headspace allows the liquid to move freely without sloshing excessively, which could lead to spills or damage to the packaging.\n",
      "\n",
      "**3. Pressure Build-up:**\n",
      "\n",
      "* Some hazardous liquids can release gases under certain conditions. The headspace allows for the safe accumulation of these gases, preventing a dangerous pressure build-up within the packaging.\n",
      "\n",
      "**4. Inspection and Identification:**\n",
      "\n",
      "* The headspace also allows for easier visual inspection of the liquid level and the condition of the inner packaging. This is crucial for identifying potential leaks or damage.\n",
      "\n",
      "**5. Compatibility:**\n",
      "\n",
      "* The 98% filling limit ensures compatibility with the packaging material. Some materials may degrade or react with certain liquids, and leaving headspace minimizes the contact area and potential for adverse reactions.\n",
      "\n",
      "**Remember:**\n",
      "\n",
      "* Always consult the specific requirements for your hazardous material in the IMDG Code and the Safety Data Sheet (SDS) provided by the manufacturer.\n",
      "* The 98% filling limit is a general guideline. Some hazardous materials may have specific filling limits due to their unique properties.\n",
      "\n",
      "\n",
      "By adhering to this requirement, you contribute to the safe and responsible transport of hazardous materials, protecting both people and the environment.<end_of_turn>\n",
      "\n",
      "Cosine Similarity: 0.6197\n",
      "BLEU Score: 0.0827\n",
      "ROUGE-L F1 Score: 0.3494\n",
      "Keyword Match: 0.5851\n",
      "--------------------------------------------------\n",
      "Model: Base Model\n",
      "Question: What marking requirements apply to a remanufactured composite IBC (31HZ1)?\n",
      "Reference Answer: According to the IMDG Code, when an IBC is remanufactured, the original marks specified in 6.5.2.1.1 and 6.5.2.2 must be either removed entirely or made permanently illegible. Subsequently, new marks conforming to the provisions outlined in the IMDG Code for remanufactured composite IBCs (31HZ1) must be applied to the IBC. This ensures that the remanufactured IBC is clearly identifiable and its markings reflect its current status and specifications.\n",
      "Generated Answer: Here's a breakdown of the marking requirements for a remanufactured composite IBC (31HZ1) according to the IMDG Code:\n",
      "\n",
      "**1. General Markings (Required for all IBCs)**\n",
      "\n",
      "* **Manufacturer's Name and Address:** Clearly visible on the IBC.\n",
      "* **Model Number:**  A unique identifier assigned by the manufacturer.\n",
      "* **Nominal Capacity:** The maximum volume the IBC is designed to hold, expressed in liters.\n",
      "* **Maximum Permissible Gross Mass (MPGM):** The maximum combined weight of the IBC, including its contents, in kilograms.\n",
      "* **Test Pressure:** The pressure at which the IBC was tested, expressed in kilopascals (kPa).\n",
      "\n",
      "**2. Reconditioning Markings (Specific to Remanufactured IBCs)**\n",
      "\n",
      "* **\"RE\" Symbol:** A prominent \"RE\" symbol must be displayed on the IBC. This indicates that the IBC has been reconditioned.\n",
      "* **Reconditioner's Name and Address:** The name and address of the company that performed the reconditioning must be clearly visible.\n",
      "* **Date of Reconditioning:** The month and year the reconditioning was completed.\n",
      "\n",
      "**3. UN Markings (For Dangerous Goods)**\n",
      "\n",
      "* **UN Symbol:** The distinctive diamond-shaped UN symbol.\n",
      "* **UN Number:** The four-digit code assigned to the specific dangerous good being transported.\n",
      "* **Proper Shipping Name:** The full, official name of the dangerous good.\n",
      "\n",
      "**4. Additional Markings (Depending on the Substance)**\n",
      "\n",
      "* **Hazard Class Label:** A label indicating the hazard class of the dangerous good (e.g., flammable, corrosive, toxic).\n",
      "* **Packing Group:** A Roman numeral (I, II, or III) indicating the degree of danger posed by the substance.\n",
      "\n",
      "**Placement and Durability**\n",
      "\n",
      "* All markings must be:\n",
      "    * Durable and legible.\n",
      "    * Clearly visible and permanently affixed to the IBC.\n",
      "    * Resistant to fading, abrasion, and weather conditions.\n",
      "\n",
      "**Important Notes:**\n",
      "\n",
      "* The IMDG Code is a complex document. Always consult the latest edition and relevant national regulations for specific guidance.\n",
      "* It's crucial to ensure that the IBC is suitable for the intended dangerous good and that all markings are accurate and up-to-date.\n",
      "\n",
      "**Resources:**\n",
      "\n",
      "* **International Maritime Organization (IMO):** [https://www.imo.org/](https://www.imo.org/)\n",
      "* **IMDG Code:** [https://www.imo.org/en/OurWork/Safety/Chemical/Pages/International-Maritime-Dangerous-Goods-Code-(IMDG-Code).aspx](https://www.imo.org/en/OurWork/Safety/Chemical/Pages/International-Maritime-Dangerous-Goods-Code-(IMDG-Code).aspx)\n",
      "\n",
      "Remember, safety is paramount when handling dangerous goods. Always follow proper procedures and consult with experts if you have any doubts.<end_of_turn>\n",
      "\n",
      "Cosine Similarity: 0.5609\n",
      "BLEU Score: 0.0245\n",
      "ROUGE-L F1 Score: 0.1579\n",
      "Keyword Match: 0.5490\n",
      "--------------------------------------------------\n",
      "Model: Base Model\n",
      "Question: What are the water resistance requirements for the outer surface of a fibreboard packaging according to the IMDG Code?\n",
      "Reference Answer: The IMDG Code specifies that the water resistance of the outer surface of a fibreboard packaging must be such that the increase in mass, determined using the Cobb method over 30 minutes, should not exceed 155 g/m². This ensures that the packaging can withstand exposure to moisture without significantly absorbing water.  The test method referenced (ISO 535:1991) provides standardized procedures for measuring water absorption.\n",
      "Generated Answer: The IMDG Code doesn't specify detailed water resistance requirements for the outer surface of fibreboard packaging.\n",
      "\n",
      "Instead, it focuses on the overall performance of the packaging in resisting water damage. This is achieved through a combination of factors:\n",
      "\n",
      "* **Material Selection:** The fibreboard itself should be of a suitable grade and thickness to provide adequate resistance to moisture.\n",
      "\n",
      "* **Construction:** The packaging should be well-constructed with sealed seams and joints to prevent water ingress.\n",
      "\n",
      "* **Additional Protection:**  Waterproof inner liners or coatings may be required depending on the nature of the dangerous goods being transported.\n",
      "\n",
      "**Relevant IMDG Code Sections:**\n",
      "\n",
      "* **Chapter 4.1:** This chapter outlines the general packing provisions for dangerous goods, including requirements for packaging materials and construction.\n",
      "* **Packing Instructions:** Specific packing instructions (P codes) for individual dangerous goods may provide additional guidance on water resistance requirements. For example, some packing instructions may specify the use of waterproof bags or liners.\n",
      "\n",
      "**Best Practices:**\n",
      "\n",
      "* Consult the relevant packing instruction for the specific dangerous good you are transporting.\n",
      "* Consider the potential for exposure to water during transport (e.g., rain, spray, condensation).\n",
      "* Use high-quality fibreboard and ensure proper construction techniques.\n",
      "* Test the packaging's water resistance under simulated transport conditions.\n",
      "\n",
      "**Remember:** It is the responsibility of the shipper to ensure that the packaging used is suitable for the dangerous goods being transported and meets all applicable IMDG Code requirements.\n",
      "\n",
      "\n",
      "<end_of_turn>\n",
      "\n",
      "Cosine Similarity: 0.4940\n",
      "BLEU Score: 0.0228\n",
      "ROUGE-L F1 Score: 0.2199\n",
      "Keyword Match: 0.4545\n",
      "--------------------------------------------------\n",
      "Model: Base Model\n",
      "Question: According to the IMDG Code data provided, what are the primary hazards associated with UN 1341, Trinitrophenol (Picric Acid)?\n",
      "Reference Answer: UN 1341, Trinitrophenol (Picric Acid), is classified as a Category 8, SG17 Yellow solid.\n",
      "\n",
      "The IMDG Code highlights several primary hazards:\n",
      "\n",
      "* Readily ignites by friction: Picric acid is highly sensitive to friction and can ignite easily upon impact or rubbing.\n",
      "\n",
      "* Reacts with moist air: Contact with moisture in the air can cause Picric acid to heat up and release toxic and flammable gases.\n",
      "\n",
      "* Forms explosive mixtures: Picric acid can react violently with oxidizing substances, leading to explosions.\n",
      "\n",
      "* Toxic: It is harmful if swallowed or inhaled as dust. \n",
      "\n",
      "\n",
      "These hazards necessitate careful handling, storage, and transport of Picric acid, adhering to strict safety protocols outlined in the IMDG Code.\n",
      "Generated Answer: UN 1341, Trinitrophenol (Picric Acid), presents several primary hazards according to the IMDG Code:\n",
      "\n",
      "**1. Explosivity:**\n",
      "\n",
      "* Picric acid is a **highly explosive substance**. It can detonate under the influence of heat, shock, friction, or even static electricity.\n",
      "\n",
      "**2. Sensitivity:**\n",
      "\n",
      "* It is **highly sensitive to shock and friction**, making it extremely dangerous to handle.\n",
      "\n",
      "**3. Toxicity:**\n",
      "\n",
      "* Picric acid is **toxic** if swallowed, inhaled, or absorbed through the skin. It can cause severe irritation to the eyes, skin, and respiratory tract.\n",
      "\n",
      "**4. Corrosivity:**\n",
      "\n",
      "* It is **corrosive** to metals and can cause severe burns to skin and eyes.\n",
      "\n",
      "**5. Fire Hazard:**\n",
      "\n",
      "* While not readily flammable, picric acid can contribute to fire by releasing oxygen when heated.\n",
      "\n",
      "**6. Environmental Hazard:**\n",
      "\n",
      "* Picric acid is **harmful to the environment** and can contaminate water sources.\n",
      "\n",
      "**IMDG Code Classification:**\n",
      "\n",
      "* Picric acid is classified as **Class 1 (Explosives)**, with a subsidiary risk of **Class 6.1 (Toxic substances)**.\n",
      "\n",
      "**Special Precautions:**\n",
      "\n",
      "* Due to its extreme hazards, picric acid requires **strict handling and storage procedures**. It must be transported in **approved packaging** and handled by **trained personnel**.\n",
      "\n",
      "**Remember:** This information is for general knowledge only and should not be used as a substitute for professional advice. Always consult the IMDG Code and relevant safety data sheets for specific information on handling and transporting picric acid.<end_of_turn>\n",
      "\n",
      "Cosine Similarity: 0.6391\n",
      "BLEU Score: 0.0674\n",
      "ROUGE-L F1 Score: 0.2393\n",
      "Keyword Match: 0.5783\n",
      "--------------------------------------------------\n",
      "Model: Base Model\n",
      "Question: A shipment of 3412 A is declared.  Based on the IMDG code information provided, what special provisions should be applied during the transport of this substance?\n",
      "Reference Answer: 3412 A falls under Category B with SGG6. This means it requires specific protective measures during transport.\n",
      "\n",
      "The IMDG Code entry for 3412 A indicates it \"Reacts with acids or acid fumes, evolving hydrogen cyanide, a highly toxic and flammable gas. Highly toxic if swallowed or by skin contact.\"\n",
      "\n",
      "Therefore, the following special provisions should be applied:\n",
      "\n",
      "- Segregation: It must be segregated from acids and acid-generating substances to prevent dangerous reactions. The IMDG Code will provide specific segregation requirements based on compatibility groups.\n",
      "\n",
      "- Packaging:  The packaging must be suitable for the substance and its hazardous properties. It should be resistant to the corrosive nature of the substance and any potential hydrogen cyanide gas release.\n",
      "\n",
      "- Ventilation:  Adequate ventilation is crucial during transport and handling to prevent the buildup of hydrogen cyanide gas.\n",
      "\n",
      "- Personal Protective Equipment (PPE):  Personnel involved in handling and transport should wear appropriate PPE, including respirators capable of filtering hydrogen cyanide, gloves resistant to the substance, and eye protection.\n",
      "\n",
      "- Emergency Response:  A detailed emergency response plan should be in place, addressing hydrogen cyanide gas leaks and spills. This plan should include procedures for evacuation, decontamination, and first aid.\n",
      "\n",
      "It's essential to consult the full IMDG Code entry for 3412 A and any relevant subsidiary risk information to ensure all necessary precautions are taken during transport.\n",
      "Generated Answer: Please provide me with the IMDG Code edition you are referring to. The IMDG Code is updated periodically, and special provisions can change between editions. \n",
      "\n",
      "Once you provide the edition, I can access the information for UN 3412 and tell you the specific special provisions that apply to its transport. \n",
      "\n",
      "For example, I will be able to tell you if there are any requirements for:\n",
      "\n",
      "* **Packaging:**  Are there specific types of packaging required (e.g., drums, jerricans, IBCs)? Are there limitations on the size or material of the packaging?\n",
      "* **Labelling:** Are there any additional labels required beyond the standard hazard labels?\n",
      "* **Documentation:** Are there any specific entries required on the dangerous goods transport document?\n",
      "* **Stowage:** Are there any restrictions on where the cargo can be stowed on the ship (e.g., on deck, below deck, away from certain other cargoes)?\n",
      "* **Other:** Are there any other specific handling, stowage, or emergency response requirements?\n",
      "\n",
      "\n",
      "Let me know the IMDG Code edition, and I'll be happy to help! \n",
      "<end_of_turn>\n",
      "\n",
      "Cosine Similarity: 0.3753\n",
      "BLEU Score: 0.0298\n",
      "ROUGE-L F1 Score: 0.2367\n",
      "Keyword Match: 0.2667\n",
      "--------------------------------------------------\n",
      "Model: Base Model\n",
      "Question: What are the considerations for using the landing legs of an IMO type 6 tank as support structure during transport?\n",
      "Reference Answer: When the landing legs of an IMO type 6 tank are utilized as the support structure, the loads specified in 6.7.3.2.9 of the IMDG Code must be factored into the design and attachment method of the legs.  \n",
      "\n",
      "Furthermore, any bending stress induced in the tank shell due to this support method must be incorporated into the design calculations to ensure the structural integrity of the tank. \n",
      "\n",
      "Essentially, the landing legs need to be robust enough to handle the anticipated loads during transport and minimize any stress transferred to the tank shell.\n",
      "Generated Answer: The use of landing legs of an IMO Type 6 tank as a support structure during transport is a complex issue with several considerations.  \n",
      "\n",
      "**Here's a breakdown of the key points:**\n",
      "\n",
      "**1. IMDG Code Requirements:**\n",
      "\n",
      "* **Chapter 6.7:** This chapter of the IMDG Code specifically addresses the carriage of dangerous goods in portable tanks. It outlines the design, construction, testing, and approval requirements for different tank types, including IMO Type 6.\n",
      "* **6.7.4.12.4:** This section explicitly states that \"the tank shall be equipped with supports to provide a secure base when the tank is empty.\"\n",
      "\n",
      "**2. Design and Strength:**\n",
      "\n",
      "* **Landing legs are designed for static support:** They are intended to keep the tank upright and stable when stationary, not to handle dynamic loads during transport.\n",
      "* **Load capacity:** The landing legs must be capable of supporting the weight of the empty tank, plus any additional loads like cargo securing equipment. This information should be available in the tank's design specifications and documentation.\n",
      "* **Material and construction:** The landing legs should be made of robust materials suitable for the intended loads and environmental conditions.\n",
      "\n",
      "**3. Transport Regulations:**\n",
      "\n",
      "* **Road transport:** Regulations like the ADR (Agreement concerning the International Carriage of Dangerous Goods by Road) may have specific requirements for securing portable tanks during transport. These could include the use of additional supports or lashing points.\n",
      "* **Rail transport:** Similar regulations like the RID (Regulations concerning the International Carriage of Dangerous Goods by Rail) may apply.\n",
      "\n",
      "**4. Manufacturer's Recommendations:**\n",
      "\n",
      "* Always consult the tank manufacturer's instructions and recommendations regarding the use of landing legs during transport. They will have specific guidance based on the tank's design and intended use.\n",
      "\n",
      "**5. Risk Assessment:**\n",
      "\n",
      "* A thorough risk assessment should be conducted to identify potential hazards associated with using landing legs as the sole support structure during transport. This should consider factors like road conditions, vehicle speed, braking forces, and the nature of the dangerous goods being carried.\n",
      "\n",
      "**In Conclusion:**\n",
      "\n",
      "While landing legs are designed to support a stationary tank, relying solely on them for transport can be risky. It's crucial to:\n",
      "\n",
      "* **Verify the landing legs' load capacity and suitability for transport.**\n",
      "* **Consult the IMDG Code, relevant transport regulations, and the manufacturer's recommendations.**\n",
      "* **Conduct a thorough risk assessment.**\n",
      "\n",
      "**It's generally recommended to use additional support structures and secure the tank properly to the transport vehicle to ensure safe and compliant carriage.**<end_of_turn>\n",
      "\n",
      "Cosine Similarity: 0.6908\n",
      "BLEU Score: 0.0365\n",
      "ROUGE-L F1 Score: 0.1851\n",
      "Keyword Match: 0.5818\n",
      "--------------------------------------------------\n",
      "Model: Base Model\n",
      "Question: According to the IMDG Code, what constitutes a passing result for the drop test of a rigid plastic IBC?\n",
      "Reference Answer: For a rigid plastic IBC to pass the drop test outlined in the IMDG Code, there should be no loss of contents. Additionally, while a slight discharge from a closure upon impact is permissible, it shouldn't result in any further leakage once the IBC is lifted clear of the ground.  Any damage that would render the IBC unsafe for transport, salvage, or disposal would also constitute a failure. Finally, the IBC must be capable of being lifted for five minutes without further leakage.\n",
      "Generated Answer: According to the IMDG Code, a rigid plastic IBC passes the drop test if, after being dropped from a height of 1.2 meters onto a rigid, non-resilient, flat and horizontal surface:\n",
      "\n",
      "* **There is no damage which renders the IBC unsafe for transport.** This means no rupture, leakage, or other damage that would compromise the IBC's ability to contain its contents safely.\n",
      "* **The IBC remains stable and upright.** It should not topple over or become unstable after the drop.\n",
      "\n",
      "**Specific details:**\n",
      "\n",
      "* The IBC should be filled to 95% of its maximum capacity with the intended contents.\n",
      "* The drop test should be performed on the weakest part of the IBC, considering its construction and intended use.\n",
      "* The surface on which the IBC is dropped should be flat, horizontal, and made of a material that does not absorb the impact energy (e.g., concrete, steel).\n",
      "\n",
      "**Additional Notes:**\n",
      "\n",
      "* The drop test is just one of several tests that a rigid plastic IBC must pass to be certified for the transport of dangerous goods.\n",
      "* The specific requirements for the drop test, as well as other tests, may vary depending on the type and classification of the dangerous goods being transported.\n",
      "\n",
      "It's important to consult the relevant sections of the IMDG Code and the IBC manufacturer's specifications for detailed information on the drop test and other requirements for your specific application.<end_of_turn>\n",
      "\n",
      "Cosine Similarity: 0.5713\n",
      "BLEU Score: 0.0552\n",
      "ROUGE-L F1 Score: 0.2551\n",
      "Keyword Match: 0.5323\n",
      "--------------------------------------------------\n",
      "Model: Base Model\n",
      "Question: A shipping company is preparing to transport a large quantity of explosives. How do they determine the Net Explosive Mass (NEM) for the shipment, and why is this figure important according to the IMDG Code?\n",
      "Reference Answer: To determine the Net Explosive Mass (NEM) for the shipment, the shipping company needs to calculate the total mass of all explosive substances being transported, excluding the weight of any packaging, casings, or other containment structures. This figure is crucial according to the IMDG Code because it directly influences the classification, packing, and stowage requirements for the explosives.  \n",
      "\n",
      "The IMDG Code uses NEM to assign explosives to different hazard classes and to determine the appropriate packaging groups and segregation distances. Higher NEM values typically correspond to more stringent regulations, reflecting the increased potential risk associated with larger quantities of explosives. By accurately calculating and declaring the NEM, the shipping company ensures compliance with the IMDG Code and promotes the safe and secure transport of dangerous goods.\n",
      "Generated Answer: Here's a breakdown of how a shipping company determines the Net Explosive Mass (NEM) for explosives and why it's crucial under the IMDG Code:\n",
      "\n",
      "**Determining Net Explosive Mass (NEM)**\n",
      "\n",
      "NEM is the total mass of explosive substance, expressed in kilograms, contained within a given package or shipment. It's not simply the weight of the explosive itself but considers the entire explosive composition.\n",
      "\n",
      "Here's how to calculate NEM:\n",
      "\n",
      "1. **Identify the Explosive Substance:**  Determine the specific type of explosive being shipped (e.g., dynamite, TNT, fireworks).\n",
      "\n",
      "2. **Consult the IMDG Code:** The IMDG Code provides a table (Table 2.5.3.1.2) listing the \"Net Explosive Quantity (NEQ)\" per unit mass for various explosive substances. This value represents the equivalent explosive power of the substance compared to a standard explosive like TNT.\n",
      "\n",
      "3. **Calculate NEM:** Multiply the mass of each explosive substance in the shipment by its corresponding NEQ value. Sum the results for all explosive substances to obtain the total NEM.\n",
      "\n",
      "**Example:**\n",
      "\n",
      "* A shipment contains 100 kg of dynamite (NEQ = 1.0) and 50 kg of blasting gelatin (NEQ = 1.1).\n",
      "* NEM = (100 kg x 1.0) + (50 kg x 1.1) = 100 kg + 55 kg = 155 kg\n",
      "\n",
      "**Importance of NEM under the IMDG Code**\n",
      "\n",
      "The NEM is a critical factor in determining the safe and legal transport of explosives. The IMDG Code uses NEM to:\n",
      "\n",
      "* **Classify Explosives:**  Explosives are classified into different hazard classes based on their NEM. Higher NEM values correspond to more hazardous classes, requiring stricter packaging, stowage, and handling requirements.\n",
      "\n",
      "* **Determine Stowage and Segregation:** The IMDG Code specifies minimum distances between packages of explosives and other cargo based on their NEM. This segregation prevents dangerous reactions and minimizes the risk of a chain reaction in case of an incident.\n",
      "\n",
      "* **Establish Emergency Response Procedures:**  Knowing the NEM helps emergency responders understand the potential severity of an incident involving explosives. This information is crucial for developing appropriate response plans and ensuring the safety of personnel and the environment.\n",
      "\n",
      "**Key Points to Remember:**\n",
      "\n",
      "* NEM is a measure of the explosive power of a shipment, not just the weight of the explosive material.\n",
      "* Accurate NEM calculation is essential for complying with the IMDG Code and ensuring safe transportation.\n",
      "* Shipping companies must consult the IMDG Code and seek expert advice when handling explosives to guarantee a safe and compliant operation.<end_of_turn>\n",
      "\n",
      "Cosine Similarity: 0.7628\n",
      "BLEU Score: 0.0747\n",
      "ROUGE-L F1 Score: 0.2794\n",
      "Keyword Match: 0.6235\n",
      "--------------------------------------------------\n",
      "Model: Base Model\n",
      "Question: An IMO Type 9 tank is being prepared for transport by road. What are the marking requirements according to the IMDG Code, considering the competent authority's markings for road transport?\n",
      "Reference Answer: According to the IMDG Code, an IMO Type 9 tank should be marked in accordance with 6.7.5.13. However, if the markings required by the competent authority for road transport are substantially similar to those specified in 6.7.5.13.1, it is sufficient to simply endorse the metal plate already attached to the IMO Type 9 tank with \"IMO9\". This allows for streamlined marking while ensuring compliance with both the IMDG Code and road transport regulations.\n",
      "Generated Answer: You're asking a great question about the marking requirements for an IMO Type 9 tank being transported by road. Here's a breakdown based on the IMDG Code and relevant road transport regulations:\n",
      "\n",
      "**IMDG Code Markings:**\n",
      "\n",
      "* **UN Number:** The UN number of the dangerous goods being transported must be clearly displayed on both sides of the tank.\n",
      "* **Proper Shipping Name:** The proper shipping name of the dangerous goods must also be displayed on both sides of the tank.\n",
      "* **Hazard Class Label:** The appropriate hazard class label(s) must be affixed to both sides of the tank.\n",
      "\n",
      "**Competent Authority Markings for Road Transport:**\n",
      "\n",
      "These markings are in addition to the IMDG Code requirements and vary depending on the country. Generally, they include:\n",
      "\n",
      "* **Vehicle Registration Number:** The registration number of the vehicle towing the tank.\n",
      "* **Country Code:** The country code of the vehicle's registration.\n",
      "* **ADR/RID Placards:** Depending on the hazard class and quantity of the dangerous goods, specific placards may be required according to the ADR (Agreement concerning the International Carriage of Dangerous Goods by Road) or RID (Regulations concerning the International Carriage of Dangerous Goods by Rail) regulations. These placards indicate the nature of the hazard and provide safety information to other road users.\n",
      "* **Orange Plates:** For vehicles carrying certain quantities of dangerous goods, orange plates with the UN number and hazard class are required.\n",
      "\n",
      "**Additional Considerations:**\n",
      "\n",
      "* **Tank Markings:** The IMO Type 9 tank itself will have markings indicating its design, construction, and testing standards.\n",
      "* **Transport Documents:**  The driver must carry the appropriate transport documents, including a dangerous goods declaration, which details the nature and quantity of the goods being transported.\n",
      "\n",
      "**Important Notes:**\n",
      "\n",
      "* The specific marking requirements can vary depending on the country and the type and quantity of dangerous goods being transported. It is crucial to consult the relevant national regulations and the IMDG Code for detailed information.\n",
      "* Failure to comply with marking requirements can result in penalties and safety risks.\n",
      "\n",
      "**Resources:**\n",
      "\n",
      "* **IMDG Code:** The International Maritime Dangerous Goods Code (IMDG Code) is published by the International Maritime Organization (IMO).\n",
      "* **ADR:** The Agreement concerning the International Carriage of Dangerous Goods by Road (ADR) is a UN treaty that harmonizes the transport of dangerous goods by road in Europe.\n",
      "* **RID:** The Regulations concerning the International Carriage of Dangerous Goods by Rail (RID) are similar to ADR but apply to rail transport.\n",
      "\n",
      "Remember, safety is paramount when transporting dangerous goods. Always consult the relevant regulations and seek expert advice if needed.<end_of_turn>\n",
      "\n",
      "Cosine Similarity: 0.5017\n",
      "BLEU Score: 0.0325\n",
      "ROUGE-L F1 Score: 0.1976\n",
      "Keyword Match: 0.5614\n",
      "--------------------------------------------------\n",
      "Model: Base Model\n",
      "Question: According to the IMDG Code, why is it crucial to specify the name of the test apparatus when providing flashpoint data for a flammable liquid?\n",
      "Reference Answer: The IMDG Code emphasizes the importance of specifying the test apparatus used to determine a flammable liquid's flashpoint because the flashpoint is not an absolute physical constant. The result can vary slightly depending on the design of the apparatus and the testing procedure employed.  Therefore, stating the test apparatus name ensures consistency and allows for accurate interpretation and comparison of flashpoint data across different sources.\n",
      "Generated Answer: You are absolutely right to ask about this! Specifying the name of the test apparatus used to determine the flashpoint of a flammable liquid is **crucial** according to the IMDG Code for several reasons:\n",
      "\n",
      "**1. Ensuring Accuracy and Reproducibility:**\n",
      "\n",
      "Different flashpoint test apparatuses, such as the Pensky-Martens closed cup, the Abel closed cup, or the Tag closed cup, utilize different heating methods, sample sizes, and measurement techniques. This can lead to variations in the measured flashpoint.\n",
      "\n",
      "By stating the specific apparatus used, we ensure that the flashpoint data is **interpretable and comparable** across different laboratories and jurisdictions.\n",
      "\n",
      "**2. Compliance with Regulatory Requirements:**\n",
      "\n",
      "The IMDG Code explicitly requires the identification of the test apparatus used for flashpoint determination (see IMDG Code 2.3.3.1.1). This is a **mandatory requirement** for the accurate classification and safe transport of flammable liquids.\n",
      "\n",
      "Failure to specify the apparatus could lead to **non-compliance** with the IMDG Code and potential legal repercussions.\n",
      "\n",
      "**3. Selecting Appropriate Safety Measures:**\n",
      "\n",
      "The flashpoint value, along with the test apparatus used, informs the selection of appropriate packaging, stowage, and handling procedures for the flammable liquid.\n",
      "\n",
      "Different apparatuses may yield slightly different flashpoint values, which can influence the **hazard category** assigned to the liquid.\n",
      "\n",
      "Knowing the apparatus used allows for the implementation of **appropriate safety measures** tailored to the specific flashpoint and hazard level.\n",
      "\n",
      "**In summary:**\n",
      "\n",
      "Specifying the name of the test apparatus when providing flashpoint data for a flammable liquid is essential for ensuring accuracy, compliance with the IMDG Code, and the selection of appropriate safety measures during transport.\n",
      "\n",
      "\n",
      "<end_of_turn>\n",
      "\n",
      "Cosine Similarity: 0.7457\n",
      "BLEU Score: 0.0361\n",
      "ROUGE-L F1 Score: 0.2591\n",
      "Keyword Match: 0.5490\n",
      "--------------------------------------------------\n",
      "Model: Base Model\n",
      "Question: What are the design temperature range requirements for portable tank shells according to the IMDG Code, and how do these requirements differ for substances transported at elevated temperatures?\n",
      "Reference Answer: The IMDG Code stipulates a standard design temperature range for the shell of portable tanks and MEGCs of -40°C to 50°C. This range is suitable for substances transported under ambient conditions.  \n",
      "\n",
      "However, for substances filled, discharged, or transported at temperatures exceeding 50°C, the design temperature of the shell must be higher than the maximum temperature the substance will reach during any of these processes. This ensures the structural integrity of the tank is maintained even when handling substances at elevated temperatures.\n",
      "Generated Answer: You're asking a great question about a crucial aspect of portable tank safety! \n",
      "\n",
      "Here's a breakdown of the IMDG Code requirements for design temperature ranges, with a focus on substances transported at elevated temperatures:\n",
      "\n",
      "**General Design Temperature Range:**\n",
      "\n",
      "* The IMDG Code (Section 4.2.1.13) mandates that portable tank shells be designed and constructed to withstand a design temperature range. This range typically spans from **-40°C to +50°C**.\n",
      "\n",
      "**Substances Transported at Elevated Temperatures:**\n",
      "\n",
      "* For substances transported at temperatures **higher than 50°C**, the design temperature range must be **adjusted accordingly**.  The tank shell must be capable of safely containing the substance at its intended transport temperature.\n",
      "\n",
      "* **How to Determine the Adjusted Range:**\n",
      "\n",
      "    * Consult the **relevant data sheet** for the specific substance. This will provide information on the substance's **boiling point, auto-ignition temperature, and any other relevant thermal properties**.\n",
      "\n",
      "    * Based on this data, determine the **maximum transport temperature** you intend to use.\n",
      "\n",
      "    * The design temperature range for the portable tank shell should then encompass this maximum transport temperature, along with a suitable safety margin.\n",
      "\n",
      "**Important Considerations:**\n",
      "\n",
      "* **Material Selection:** The choice of material for the tank shell is crucial. Some materials, like stainless steel, are better suited for high-temperature applications than others.\n",
      "\n",
      "* **Insulation:**  Insulation may be necessary to maintain the desired transport temperature and minimize heat loss.\n",
      "\n",
      "* **Pressure Relief Devices:**  Properly sized and functioning pressure relief devices are essential to prevent overpressure in the tank due to thermal expansion.\n",
      "\n",
      "* **Testing and Certification:**  Portable tanks intended for transporting substances at elevated temperatures must undergo rigorous testing and certification to ensure they meet the IMDG Code requirements.\n",
      "\n",
      "**Remember:**\n",
      "\n",
      "* Always consult the latest edition of the IMDG Code and relevant national regulations for specific requirements.\n",
      "\n",
      "* Seek guidance from qualified experts in the design, manufacture, and operation of portable tanks for substances transported at elevated temperatures.\n",
      "\n",
      "Safety is paramount when handling hazardous materials. Following the IMDG Code guidelines meticulously is essential to prevent accidents and protect lives and the environment.<end_of_turn>\n",
      "\n",
      "Cosine Similarity: 0.6956\n",
      "BLEU Score: 0.0453\n",
      "ROUGE-L F1 Score: 0.2520\n",
      "Keyword Match: 0.6491\n",
      "--------------------------------------------------\n",
      "Model: Base Model\n",
      "Question: What are the permissible large packaging materials for a single battery or item of equipment containing cells or batteries, as per IMDG Code packing instruction LP904?\n",
      "Reference Answer: According to IMDG Code packing instruction LP904, the following large packaging materials are authorized for a single battery or a single item of equipment containing cells or batteries, provided the general provisions of 4.1.1 and 4.1.3 are met:\n",
      "\n",
      "* Steel (50A)\n",
      "* Aluminium (50B)\n",
      "* Metal other than steel or aluminium (50N)\n",
      "* Rigid plastics (50H)\n",
      "* Natural wood (50C)\n",
      "* Plywood (50D)\n",
      "* Reconstituted wood (50F)\n",
      "* Rigid fibreboard (50G)\n",
      "\n",
      "These large packagings must conform to the packing group II performance level. \n",
      "\n",
      "It is crucial to remember that the battery must be packed securely to prevent damage from movement or placement within the large packaging. Additionally, the battery must be protected against short circuits.\n",
      "Generated Answer: According to IMDG Code packing instruction LP904, the permissible large packaging materials for a single battery or item of equipment containing cells or batteries are:\n",
      "\n",
      "* **Rigid outer packagings:**\n",
      "\n",
      "    * **Drums:**  Made of steel, aluminium, or rigid plastics.\n",
      "    * **Boxes:** Made of wood, fibreboard, or rigid plastics.\n",
      "    * **Jerricans:** Made of steel or plastics.\n",
      "\n",
      "* **Inner packagings:**\n",
      "\n",
      "    * **Must be strong enough to prevent movement of the batteries/cells within the large packaging.**\n",
      "    * **Should be made of non-conductive materials** to prevent short circuits.\n",
      "\n",
      "**Specific requirements:**\n",
      "\n",
      "* The large packaging must be **marked with the UN number, proper shipping name, and hazard class** of the batteries/cells.\n",
      "* The large packaging must be **securely closed** to prevent leakage or loss of contents.\n",
      "* The batteries/cells must be **protected from damage and short circuits** during transport.\n",
      "\n",
      "**Additional notes:**\n",
      "\n",
      "* LP904 is applicable to **lithium ion batteries** (UN 3480) and **lithium metal batteries** (UN 3090) when they are **packed individually**.\n",
      "* For batteries/cells packed in **equipment**, the equipment itself may serve as the inner packaging.\n",
      "\n",
      "It is crucial to consult the latest edition of the IMDG Code and relevant national regulations for specific requirements and updates.<end_of_turn>\n",
      "\n",
      "Cosine Similarity: 0.6501\n",
      "BLEU Score: 0.1155\n",
      "ROUGE-L F1 Score: 0.3781\n",
      "Keyword Match: 0.6235\n",
      "--------------------------------------------------\n",
      "Model: Base Model\n",
      "Question: According to the IMDG Code, what are the UN numbers and corresponding classes for the following substances: (3-methylbenzoyl) peroxide with dibenzoyl peroxide and diluent Type B and  2,5-Dimethyl-2,5-di-(benzoylperoxy)hexane (concentration >82-100%)?\n",
      "Reference Answer: The IMDG Code provides the following UN numbers and classes for these substances:\n",
      "\n",
      "* (3-methylbenzoyl) peroxide (concentration ≤ 18%) with dibenzoyl peroxide (concentration ≤ 4%) and diluent Type B has a UN number of 3106 and belongs to Class 5.2 (Organic Peroxides).\n",
      "\n",
      "* 2,5-Dimethyl-2,5-di-(benzoylperoxy)hexane (concentration >82-100%) has a UN number of 3102 and also belongs to Class 5.2 (Organic Peroxides).\n",
      "Generated Answer: Let's break down the UN numbers and classes for those substances according to the IMDG Code:\n",
      "\n",
      "**1. (3-methylbenzoyl) peroxide with dibenzoyl peroxide and diluent Type B**\n",
      "\n",
      "* This mixture falls under **UN 3105, Organic peroxide type D, solid, 4.2**.\n",
      "\n",
      "Here's why:\n",
      "\n",
      "* **Organic Peroxide:** The presence of (3-methylbenzoyl) peroxide and dibenzoyl peroxide clearly indicates an organic peroxide.\n",
      "* **Type D:** The \"Type D\" designation refers to the sensitivity and thermal stability of the peroxide mixture. Type D peroxides are considered relatively stable but can become hazardous under certain conditions.\n",
      "* **Solid:** The mixture is described as containing a solid component.\n",
      "\n",
      "**2. 2,5-Dimethyl-2,5-di-(benzoylperoxy)hexane (concentration >82-100%)**\n",
      "\n",
      "* This substance falls under **UN 3101, Organic peroxide type D, solid, 4.2**.\n",
      "\n",
      "The reasoning is similar to the previous substance:\n",
      "\n",
      "* **Organic Peroxide:** The chemical structure clearly indicates an organic peroxide.\n",
      "* **Type D:** The concentration range (82-100%) suggests a relatively stable peroxide, hence the \"Type D\" classification.\n",
      "* **Solid:** The substance is described as a solid.\n",
      "\n",
      "**Important Notes:**\n",
      "\n",
      "* **Always consult the latest edition of the IMDG Code:** The IMDG Code is regularly updated. Ensure you are using the most current version for accurate information.\n",
      "* **Safety Data Sheets (SDS):**  Refer to the SDS for each specific product for detailed hazard information, handling instructions, and emergency procedures.\n",
      "* **Packaging and Labeling:** The IMDG Code provides specific requirements for packaging, labeling, and documentation of dangerous goods. Ensure compliance with these regulations for safe transportation.\n",
      "\n",
      "Remember, handling organic peroxides requires specialized knowledge and safety precautions. Always prioritize safety and consult with experts when dealing with these substances.<end_of_turn>\n",
      "\n",
      "Cosine Similarity: 0.4858\n",
      "BLEU Score: 0.0670\n",
      "ROUGE-L F1 Score: 0.2245\n",
      "Keyword Match: 0.7447\n",
      "--------------------------------------------------\n",
      "Model: Base Model\n",
      "Question: A shipment of a novel chemical compound is being prepared for transport. The compound contains alkali metals and is suspected to be highly reactive. While the compound is not specifically listed by name in the IMDG Code, based on its components and properties, under which segregation group should it likely be classified and why?\n",
      "Reference Answer: Based on the information provided, the novel chemical compound should likely be classified under Segregation Group 18 (Alkalis). \n",
      "\n",
      "The IMDG Code states that although not all substances within a segregation group are listed by name, the consignor is responsible for determining the appropriate segregation group based on the substance's chemical properties. Since the compound contains alkali metals and is suspected to be highly reactive, these characteristics align with the general properties of substances classified under Segregation Group 18. This group is specifically designed for substances that are corrosive or reactive, often including alkali metals and their compounds.\n",
      "\n",
      "Therefore, to ensure safe transportation, the consignor should classify the novel compound under Segregation Group 18 and clearly indicate this on the transport document. This will help prevent any potential hazards during transport by ensuring proper segregation from incompatible substances.\n",
      "Generated Answer: As an IMDG Code specialist, I can guide you on this.\n",
      "\n",
      "Since the novel chemical compound contains alkali metals and is suspected to be highly reactive, it **most likely falls under Segregation Group II - \"Substances which are liable to react dangerously with water\"**.\n",
      "\n",
      "Here's why:\n",
      "\n",
      "* **Alkali Metals:** Alkali metals are notorious for their extreme reactivity with water. They react violently, often producing flammable hydrogen gas and heat, which can lead to fires or explosions.\n",
      "\n",
      "* **Suspected High Reactivity:** The fact that the compound is suspected to be highly reactive further strengthens the case for Segregation Group II. Even if the compound isn't a pure alkali metal, its combination with other elements could amplify its reactivity with water.\n",
      "\n",
      "**Important Considerations:**\n",
      "\n",
      "* **Specific Chemical Structure:** To definitively classify the compound, you'd need to know its precise chemical structure and properties.  \n",
      "\n",
      "* **Testing:**  Conducting tests to determine the compound's reactivity with water is crucial. This will provide concrete evidence for classification.\n",
      "\n",
      "* **IMDG Code Guidance:** The IMDG Code provides detailed guidance on classifying substances based on their properties. Refer to the relevant sections on reactivity and segregation groups for further information.\n",
      "\n",
      "* **Expert Consultation:** For complex cases like this, consulting with a qualified IMDG Code expert or a hazardous materials specialist is highly recommended. They can analyze the compound's properties and provide accurate classification guidance.\n",
      "\n",
      "**Remember:**\n",
      "\n",
      "Misclassifying hazardous materials can have severe consequences. Always prioritize safety and seek expert advice when dealing with unknown or potentially dangerous substances.<end_of_turn>\n",
      "\n",
      "Cosine Similarity: 0.5012\n",
      "BLEU Score: 0.0770\n",
      "ROUGE-L F1 Score: 0.3040\n",
      "Keyword Match: 0.4494\n",
      "--------------------------------------------------\n",
      "Model: Base Model\n",
      "Question: A colorless, volatile liquid with a flashpoint below 18°C is being transported. The liquid is miscible with water and irritating to the skin, eyes, and mucous membranes. According to the IMDG Code, what is the appropriate packing group and what category does this liquid belong to?\n",
      "Reference Answer: Based on the provided information, the liquid falls under:\n",
      "\n",
      "* Packing Group II (PG II): Because the flashpoint is below 18°C, the liquid is classified as Packing Group II.\n",
      "\n",
      "* Category B: The IMDG Code specifies Category B for colorless liquids with a flashpoint below 18°C, miscibility with water, and irritating properties.\n",
      "Generated Answer: Based on the information provided, this liquid likely falls under **Class 3 - Flammable Liquids** of the IMDG Code. \n",
      "\n",
      "Here's why:\n",
      "\n",
      "* **Colorless and volatile liquid:** This description is consistent with many flammable liquids.\n",
      "* **Flashpoint below 18°C:**  A flashpoint below 18°C definitively classifies the liquid as a flammable liquid according to the IMDG Code.\n",
      "\n",
      "**Packing Group:**\n",
      "\n",
      "The packing group depends on the flashpoint and other properties. Since we don't have information about the initial boiling point, we can only narrow down the possibilities:\n",
      "\n",
      "* **Packing Group I:**  For flammable liquids with a flashpoint below 23°C and an initial boiling point below or equal to 35°C.\n",
      "* **Packing Group II:** For flammable liquids with a flashpoint below 23°C and an initial boiling point above 35°C.\n",
      "* **Packing Group III:** For flammable liquids with a flashpoint between 23°C and 60°C (inclusive).\n",
      "\n",
      "**Additional Considerations:**\n",
      "\n",
      "* **Miscibility with water:** This information is helpful but doesn't directly influence the packing group.\n",
      "* **Irritating properties:** While important for safety data sheets and handling procedures, irritation doesn't change the IMDG Code classification.\n",
      "\n",
      "**To determine the precise packing group, you would need the initial boiling point of the liquid.**  \n",
      "\n",
      "**Important Note:** I am an AI and cannot provide definitive classifications. Always consult the latest IMDG Code and relevant safety data sheets for accurate information and proper handling procedures.<end_of_turn>\n",
      "\n",
      "Cosine Similarity: 0.6081\n",
      "BLEU Score: 0.0480\n",
      "ROUGE-L F1 Score: 0.2410\n",
      "Keyword Match: 0.8500\n",
      "--------------------------------------------------\n",
      "Model: Base Model\n",
      "Question: According to the IMDG Code, what are the special precautions required for the transport of evolving hydrogen fluoride (EHF) classified as SG49?\n",
      "Reference Answer: Evolving hydrogen fluoride (EHF), classified as SG49, presents significant hazards due to its highly corrosive nature and the release of irritating and corrosive hydrogen fluoride gas.  \n",
      "\n",
      "The IMDG Code stipulates specific precautions for its transport:\n",
      "\n",
      "* Packaging: EHF must be transported in robust, chemically resistant containers. The exact packaging requirements will depend on the concentration and physical state of the EHF.\n",
      "\n",
      "* Segregation: EHF should be segregated from incompatible substances, such as strong oxidizing agents, bases, and metals, to prevent hazardous reactions.\n",
      "\n",
      "* Ventilation: Adequate ventilation is crucial during transport to prevent the buildup of hydrogen fluoride gas.\n",
      "\n",
      "* Emergency Procedures:  Clearly defined emergency procedures should be in place in case of spills or leaks. These procedures should include appropriate personal protective equipment (PPE) for responders and methods for neutralizing or containing the EHF.\n",
      "\n",
      "* Labeling and Marking:  Containers of EHF must be clearly labeled with the appropriate hazard symbols and UN number to ensure safe handling.\n",
      "\n",
      "It's essential to consult the latest edition of the IMDG Code and relevant national regulations for detailed and up-to-date guidance on the safe transport of EHF. Remember, handling EHF requires specialized knowledge and training.\n",
      "Generated Answer: You're asking about a very specific and hazardous substance! Evolving Hydrogen Fluoride (EHF), classified as UN 1790 under SG49 in the IMDG Code, requires extreme caution during transport. Here's a breakdown of the special precautions:\n",
      "\n",
      "**1. Packaging:**\n",
      "\n",
      "* **Approved Packaging:** EHF must be transported in **approved** pressure receptacles, such as UN pressure drums or cylinders. These must meet specific design, construction, and testing requirements outlined in the IMDG Code and relevant national regulations.\n",
      "* **Leakproofness:** The packaging must be absolutely leakproof to prevent the escape of HF gas. This includes ensuring proper closure mechanisms, gaskets, and valve integrity.\n",
      "\n",
      "**2. Stowage:**\n",
      "\n",
      "* **Segregation:** EHF must be stowed **away from** incompatible substances. This includes strong oxidizing agents, alkalis, and other reactive materials. The IMDG Code provides detailed segregation tables to guide proper stowage.\n",
      "* **Ventilation:** Adequate ventilation is crucial to prevent the buildup of HF gas in the cargo hold. This may involve using forced ventilation systems or ensuring natural ventilation through open hatches.\n",
      "* **Temperature Control:** EHF is sensitive to temperature changes. The IMDG Code may specify temperature limits for transport and storage to prevent decomposition or pressure buildup.\n",
      "\n",
      "**3. Emergency Procedures:**\n",
      "\n",
      "* **Spill Response:** A detailed spill response plan must be in place, including procedures for containing and neutralizing HF spills. This may involve using specialized absorbent materials and neutralizing agents.\n",
      "* **First Aid:** Crew members must be trained in first aid procedures for HF exposure, including eye and skin decontamination.\n",
      "\n",
      "**4. Personal Protective Equipment (PPE):**\n",
      "\n",
      "* **Full Protection:** Personnel handling EHF must wear full protective clothing, including chemical-resistant suits, gloves, boots, and respirators with HF-specific cartridges.\n",
      "\n",
      "**5. Documentation:**\n",
      "\n",
      "* **Dangerous Goods Declaration:** A detailed Dangerous Goods Declaration must be completed, accurately describing the EHF, its quantity, packaging, and any special handling requirements.\n",
      "* **Safety Data Sheet (SDS):** The SDS for EHF must be readily available to all crew members involved in the transport.\n",
      "\n",
      "**Additional Considerations:**\n",
      "\n",
      "* **Training:** All crew members involved in the transport of EHF must receive comprehensive training on its hazards, handling procedures, and emergency response.\n",
      "* **Monitoring:** Continuous monitoring of the cargo hold for HF gas leaks may be required.\n",
      "\n",
      "**Remember:**\n",
      "\n",
      "The information provided here is a general overview. Always consult the latest edition of the IMDG Code and relevant national regulations for specific requirements and guidance on the transport of EHF.\n",
      "\n",
      "**Disclaimer:** I am an AI chatbot and cannot provide legal or professional advice. The information provided above is for general knowledge and informational purposes only, and does not constitute professional advice. It is essential to consult with qualified professionals and refer to the official IMDG Code and relevant regulations for accurate and up-to-date information.<end_of_turn>\n",
      "\n",
      "Cosine Similarity: 0.7135\n",
      "BLEU Score: 0.1064\n",
      "ROUGE-L F1 Score: 0.3211\n",
      "Keyword Match: 0.6777\n",
      "--------------------------------------------------\n",
      "Model: Base Model\n",
      "Question: According to the IMDG Code, what is the maximum net mass allowed for ethylene oxide in an outer packaging, and what are the leak tightness requirements for the inner packaging?\n",
      "Reference Answer: The IMDG Code stipulates that the maximum net mass of ethylene oxide in any outer packaging shall not exceed 2.5 kg.\n",
      "\n",
      "For leak tightness, each inner packaging must be submerged in a hot water bath at a temperature and duration sufficient to generate an internal pressure equivalent to the vapor pressure of ethylene oxide at 55°C. This test ensures the integrity of the inner packaging and its ability to contain the hazardous substance.\n",
      "Generated Answer: You're asking about a very hazardous substance! Ethylene oxide (UN 1040) is a flammable, toxic, and corrosive gas. Its transport is strictly regulated by the IMDG Code.\n",
      "\n",
      "Here's what the IMDG Code says about ethylene oxide packaging:\n",
      "\n",
      "**Maximum Net Mass:**\n",
      "\n",
      "* The IMDG Code doesn't specify a single maximum net mass for ethylene oxide in an outer packaging. Instead, it depends on the **packaging group** assigned to the specific concentration of ethylene oxide being transported.\n",
      "\n",
      "* **Packaging Group I:**  For highly hazardous ethylene oxide concentrations, the maximum net mass per package is **limited to 15 kg**.\n",
      "\n",
      "* **Packaging Group II:** For less hazardous ethylene oxide concentrations, the maximum net mass per package may be higher, but it's crucial to consult the specific entry for ethylene oxide in the IMDG Code's Dangerous Goods List.\n",
      "\n",
      "**Leak Tightness Requirements:**\n",
      "\n",
      "* The IMDG Code mandates that **inner packagings** for ethylene oxide must be **leakproof**. This means they must be designed and constructed to prevent any escape of the gas under normal transport conditions.\n",
      "\n",
      "* The specific requirements for leak tightness testing are detailed in **Chapter 6.6 of the IMDG Code**. These tests ensure the integrity of the inner packaging and its ability to contain the hazardous gas.\n",
      "\n",
      "**Important Notes:**\n",
      "\n",
      "* Always consult the latest edition of the IMDG Code and the relevant Dangerous Goods List entry for ethylene oxide to determine the precise packaging requirements based on the concentration and intended transport mode.\n",
      "\n",
      "* Packaging ethylene oxide is complex and dangerous. It requires specialized knowledge, training, and equipment. Always follow the IMDG Code guidelines meticulously and seek expert advice when necessary.\n",
      "\n",
      "Remember, safety is paramount when handling hazardous materials like ethylene oxide.<end_of_turn>\n",
      "\n",
      "Cosine Similarity: 0.6277\n",
      "BLEU Score: 0.0644\n",
      "ROUGE-L F1 Score: 0.2736\n",
      "Keyword Match: 0.6071\n",
      "--------------------------------------------------\n",
      "Model: Base Model\n",
      "Question: I'm preparing a flexible IBC for the topple test as required by the IMDG Code. The IBC will contain a substance in Packing Group II. What is the minimum height from which I should topple the IBC during this test?\n",
      "Reference Answer: According to IMDG Code 6.5.6.11.4, the minimum topple height for a flexible IBC containing a substance in Packing Group II is 1.2 meters.\n",
      "Generated Answer: For a flexible IBC containing a substance in Packing Group II, the minimum height for the topple test is **1.8 meters (5.9 feet)**. \n",
      "\n",
      "This information is found in **Section 6.5.6.13.4 of the IMDG Code**.\n",
      "\n",
      "Remember that the topple test is designed to assess the IBC's ability to withstand impacts during transport and handling. It's crucial to perform the test correctly and document the results to ensure the safe transportation of your hazardous materials.\n",
      "\n",
      "\n",
      "Let me know if you have any other questions about the IMDG Code or the topple test.<end_of_turn>\n",
      "\n",
      "Cosine Similarity: 0.4893\n",
      "BLEU Score: 0.1155\n",
      "ROUGE-L F1 Score: 0.3469\n",
      "Keyword Match: 0.8750\n",
      "--------------------------------------------------\n",
      "Model: Base Model\n",
      "Question: If I have a mixture containing a substance not subject to the IMDG Code and a substance that is subject to the IMDG Code, when would the entire mixture be exempt from the IMDG Code?\n",
      "Reference Answer: According to the IMDG Code, a mixture containing both a substance not subject to the Code and a substance that is subject to the Code can be exempt from the provisions of the IMDG Code if the hazard characteristics of the entire mixture are such that they do not meet the classification criteria for any hazard class. This means the mixture, as a whole, must not pose any significant risks based on the IMDG Code's definitions and criteria for hazardous substances.\n",
      "\n",
      "It's important to note that this exemption relies on a thorough assessment of the mixture's overall properties and hazards. Simply because one component is not hazardous does not automatically exempt the entire mixture. You need to consider the interactions between the components and determine if the mixture itself presents any dangers according to the IMDG Code.\n",
      "Generated Answer: That's a great question and a common point of confusion.  \n",
      "\n",
      "Unfortunately, there's no simple answer. Whether a mixture containing both IMDG Code-regulated and non-regulated substances is exempt depends on several factors:\n",
      "\n",
      "**1. Concentration of the Regulated Substance:**\n",
      "\n",
      "* **Below the Dangerous Goods Threshold:** If the concentration of the IMDG Code-regulated substance is below the threshold for classification as a dangerous good, the entire mixture may be exempt. These thresholds are specific to each substance and are outlined in the IMDG Code.\n",
      "\n",
      "* **Above the Dangerous Goods Threshold:** If the concentration of the regulated substance exceeds the threshold, the entire mixture will likely be considered a dangerous good and subject to the IMDG Code.\n",
      "\n",
      "**2. Nature of the Mixture:**\n",
      "\n",
      "* **Chemically Stable:** If the mixture is chemically stable and the presence of the non-regulated substance does not enhance the hazardous properties of the regulated substance, there might be a possibility for exemption. However, this would require thorough testing and justification.\n",
      "\n",
      "* **Chemically Reactive:** If the mixture is chemically reactive or the non-regulated substance interacts with the regulated substance to create new hazards, the mixture will likely be subject to the IMDG Code.\n",
      "\n",
      "**3. Packaging and Transport Conditions:**\n",
      "\n",
      "* **Secure Packaging:** Even if the concentration of the regulated substance is below the threshold, the IMDG Code may still apply if the packaging is not suitable for the mixture.\n",
      "\n",
      "* **Transport Conditions:** Extreme temperatures or other transport conditions could influence the stability of the mixture and necessitate IMDG Code compliance.\n",
      "\n",
      "**4. Competent Authority Guidance:**\n",
      "\n",
      "Ultimately, the final determination on whether a mixture is exempt from the IMDG Code rests with the competent authority in the country of origin and destination. It's crucial to consult with them and provide detailed information about the mixture's composition, properties, and intended transport conditions.\n",
      "\n",
      "**Remember:**\n",
      "\n",
      "* Never assume a mixture is exempt without proper assessment and confirmation from the relevant authorities.\n",
      "* Always err on the side of caution and follow the IMDG Code requirements if there is any doubt.\n",
      "* Consult with IMDG Code experts or your competent authority for specific guidance on your mixture.\n",
      "\n",
      "\n",
      "Let me know if you have any further questions about the IMDG Code or need help interpreting specific regulations.<end_of_turn>\n",
      "\n",
      "Cosine Similarity: 0.7443\n",
      "BLEU Score: 0.0518\n",
      "ROUGE-L F1 Score: 0.2189\n",
      "Keyword Match: 0.5325\n",
      "--------------------------------------------------\n",
      "Model: Base Model\n",
      "Question: According to the IMDG Code, what is the difference in classification between UN 3480 and UN 3481 when it comes to lithium-ion batteries?\n",
      "Reference Answer: Both UN 3480 and UN 3481 pertain to lithium-ion batteries (including lithium-ion polymer batteries).  \n",
      "\n",
      "The key difference lies in whether the batteries are packed alone or with equipment. \n",
      "\n",
      "UN 3480 \"Lithium ion batteries\" refers to batteries transported independently, meaning they are not packed with any equipment.\n",
      "\n",
      "UN 3481 \"Lithium ion batteries contained in equipment\" or \"Lithium ion batteries packed with equipment\" refers to batteries that are integral to a piece of equipment or packed alongside the equipment they are intended to power.\n",
      "\n",
      "Essentially, the distinction is about whether the battery is the primary item being shipped or is a component of a larger shipment.\n",
      "Generated Answer: You're asking a great question that highlights a key distinction within the IMDG Code regarding lithium-ion batteries.\n",
      "\n",
      "Here's the breakdown of the difference between UN 3480 and UN 3481:\n",
      "\n",
      "**UN 3480: Lithium-ion batteries**\n",
      "\n",
      "* This classification applies to **lithium-ion cells or batteries** that are **not** contained in equipment. \n",
      "* They are further divided into two packing groups:\n",
      "    * **Packing Group I:**  For batteries with a watt-hour rating exceeding 20 Wh per cell or 100 Wh per battery.\n",
      "    * **Packing Group II:** For batteries with a watt-hour rating of 20 Wh or less per cell and 100 Wh or less per battery.\n",
      "\n",
      "**UN 3481: Lithium-ion batteries contained in equipment**\n",
      "\n",
      "* This classification applies to **lithium-ion batteries that are packed with, and are an integral part of, equipment**. \n",
      "* Examples include laptops, cell phones, power tools, etc.\n",
      "\n",
      "**Key Differences:**\n",
      "\n",
      "* **Equipment:** The primary difference lies in whether the battery is **contained within equipment** (UN 3481) or **shipped separately** (UN 3480).\n",
      "* **Packing Groups:** Both UN numbers have packing groups based on watt-hour rating, but the specific limits may differ slightly depending on the edition of the IMDG Code.\n",
      "\n",
      "**Important Considerations:**\n",
      "\n",
      "* **Proper Classification:** It is crucial to **correctly classify lithium-ion batteries** according to the IMDG Code to ensure safe transportation. Incorrect classification can lead to accidents and legal repercussions.\n",
      "* **Documentation:**  Shippers must provide accurate and complete documentation, including the UN number, proper shipping name, packing group, and other relevant information.\n",
      "* **Packaging and Labeling:** Lithium-ion batteries must be packaged and labeled according to the IMDG Code requirements to minimize the risk of damage, fire, or explosion during transport.\n",
      "\n",
      "**Always consult the latest edition of the IMDG Code and relevant national regulations for specific requirements.**\n",
      "\n",
      "If you have further questions about lithium-ion battery classification or any other aspect of the IMDG Code, feel free to ask!<end_of_turn>\n",
      "\n",
      "Cosine Similarity: 0.6150\n",
      "BLEU Score: 0.0454\n",
      "ROUGE-L F1 Score: 0.2435\n",
      "Keyword Match: 0.6610\n",
      "--------------------------------------------------\n",
      "Model: Base Model\n",
      "Question: According to the IMDG Code, what are the minimum requirements for shell bottom thickness, opening pressure, and control pressure when transporting a self-reactive liquid of UN number 3229 in a portable tank using T23 Portable Tank Instruction?\n",
      "Reference Answer: For transporting a self-reactive liquid of UN number 3229 in a portable tank using T23 Portable Tank Instruction, the IMDG Code does not specify minimum values for shell bottom thickness, opening pressure, or control pressure. It refers to the relevant sections of the Code (6.7.2.4.2, 6.7.2.6.3, 6.7.2.8.2) for these specifications. Additionally, it mentions the need to adhere to the provisions outlined in 4.2.1.13.13, 4.2.1.13.6, 4.2.1.13.7, and 4.2.1.13.8, which further detail the requirements for portable tanks carrying self-reactive substances.\n",
      "Generated Answer: You're asking about a very specific and important detail within the IMDG Code.  \n",
      "\n",
      "Unfortunately, I can't provide precise numerical values for shell bottom thickness, opening pressure, and control pressure for transporting UN 3229 (Self-reactive liquid, type F) in a T23 portable tank.\n",
      "\n",
      "Here's why:\n",
      "\n",
      "* **The IMDG Code is Complex:** The IMDG Code doesn't offer a simple table with set values for every UN number and tank type. Requirements are often dependent on several factors, including:\n",
      "    * **The specific self-reactive properties of the substance:**  Even within UN 3229, there are different types (F, G, etc.) with varying reactivity levels.\n",
      "    * **The intended transport conditions:** Temperature, duration of transport, etc., can influence the required tank specifications.\n",
      "    * **National or regional regulations:** Some countries may have additional or stricter requirements than the base IMDG Code.\n",
      "\n",
      "* **Safety is Paramount:** Providing incorrect information about tank specifications could be extremely dangerous.\n",
      "\n",
      "**How to Find the Correct Information:**\n",
      "\n",
      "1. **Consult the IMDG Code Directly:** The most reliable source is the IMDG Code itself. Look for the relevant section on portable tanks (Chapter 6.7) and the specific T23 instruction.\n",
      "\n",
      "2. **Check the Substance Data Sheet:** The Safety Data Sheet (SDS) for UN 3229 will provide crucial information about the substance's self-reactive properties and any specific tank requirements.\n",
      "\n",
      "3. **Contact a Qualified Expert:** For definitive answers and to ensure safe transport, consult a specialist in IMDG Code compliance or a dangerous goods transport company. They can assess your specific situation and provide the correct tank specifications.\n",
      "\n",
      "\n",
      "Remember, safety is the top priority when dealing with dangerous goods. Always rely on official sources and expert advice.<end_of_turn>\n",
      "\n",
      "Cosine Similarity: 0.4811\n",
      "BLEU Score: 0.0506\n",
      "ROUGE-L F1 Score: 0.2602\n",
      "Keyword Match: 0.5968\n",
      "--------------------------------------------------\n",
      "Model: Base Model\n",
      "Question: What is the key difference between \"re-used large packagings\" and \"re-used packagings\" as defined by the IMDG Code?\n",
      "Reference Answer: The IMDG Code defines both \"re-used large packagings\" and \"re-used packagings,\" but the key difference lies in their size. \"Re-used large packagings\" specifically refer to large packagings, which are those exceeding certain size and weight thresholds as defined in the IMDG Code.  \"Re-used packagings\" encompass all other types of packagings, including drums, jerricans, and boxes, that are intended to be refilled. Both types of re-used packagings must undergo examination to ensure they are free of defects that could compromise their performance in tests, and they are typically used within controlled distribution chains managed by the product's consignor.\n",
      "Generated Answer: The IMDG Code distinguishes between \"re-used large packagings\" and \"re-used packagings\" based on their size and intended use.\n",
      "\n",
      "**Re-used Packagings:**\n",
      "\n",
      "* These are packagings that have been used before for the transport of dangerous goods.\n",
      "* They are **typically smaller** in size, such as drums, jerricans, boxes, and bags.\n",
      "* They must meet the same requirements as new packagings, including being in good condition and suitable for the intended contents.\n",
      "\n",
      "**Re-used Large Packagings:**\n",
      "\n",
      "* These are **large packagings** that have been used before for the transport of dangerous goods.\n",
      "* They are **significantly larger** than re-used packagings and are designed to contain a larger volume of goods. Examples include IBCs (Intermediate Bulk Containers), large rigid containers, and flexible bulk containers.\n",
      "* They must meet **specific requirements** outlined in the IMDG Code, including:\n",
      "    * **Thorough inspection and reconditioning:** Before re-use, they must be inspected for damage, cleaned, and reconditioned to ensure they meet the original design specifications and are suitable for the intended contents.\n",
      "    * **Documentation:** Records of the previous use, inspection, and reconditioning must be maintained.\n",
      "    * **Marking:** They must be clearly marked with the re-use symbol (a circled \"R\") and other relevant information, such as the UN number of the contents.\n",
      "\n",
      "**Key Difference:**\n",
      "\n",
      "The main difference lies in the **size and specific requirements** for re-use. Re-used packagings are subject to the same general requirements as new packagings, while re-used large packagings have additional, more stringent requirements due to their size and potential for greater risk.\n",
      "\n",
      "\n",
      "It's important to note that the IMDG Code is a complex document, and specific requirements for re-used packagings and large packagings can vary depending on the type of dangerous goods being transported. Always consult the relevant sections of the IMDG Code and seek expert advice when necessary.<end_of_turn>\n",
      "\n",
      "Cosine Similarity: 0.6538\n",
      "BLEU Score: 0.0673\n",
      "ROUGE-L F1 Score: 0.2819\n",
      "Keyword Match: 0.5224\n",
      "--------------------------------------------------\n",
      "Model: Base Model\n",
      "Question: What are the pressure limits for spring-loaded pressure relief devices on IMO Type 4 tanks?\n",
      "Reference Answer: The start-to-discharge pressure of the spring-loaded pressure relief devices on IMO Type 4 tanks must fall within a specific range. It should not be less than the maximum allowable working pressure of the tank. Additionally, it should not exceed 25% above the maximum allowable working pressure. This ensures the pressure relief devices function correctly within the tank's operational pressure limits.\n",
      "Generated Answer: You're asking a great question that highlights an important safety aspect of IMO Type 4 tanks.\n",
      "\n",
      "The IMDG Code doesn't explicitly state pressure limits for spring-loaded pressure relief devices on IMO Type 4 tanks. Instead, it refers to **relevant tank container standards** and **competent authority approvals**.\n",
      "\n",
      "Here's a breakdown:\n",
      "\n",
      "* **IMO Type 4 tanks** are designed for the carriage of liquefied gases under pressure. They are typically made of composite materials like fiber-reinforced plastics.\n",
      "\n",
      "* **Pressure relief devices (PRDs)** are crucial safety components that prevent overpressure in the tank. Spring-loaded PRDs are a common type.\n",
      "\n",
      "* **Relevant tank container standards:** The IMDG Code directs users to consult standards like ISO 11118:2018 (for tank containers for the carriage of liquefied gases) and relevant national regulations. These standards will specify the design and performance requirements for PRDs, including pressure limits.\n",
      "\n",
      "* **Competent authority approvals:** Each country has a competent authority responsible for approving tank containers used for the transport of dangerous goods. They will review the design and specifications of the tank, including the PRDs, to ensure they meet safety requirements.\n",
      "\n",
      "**In summary:**\n",
      "\n",
      "The specific pressure limits for spring-loaded PRDs on IMO Type 4 tanks will depend on the:\n",
      "\n",
      "* **Type of liquefied gas being carried:** Different gases have different vapor pressures and require PRDs with appropriate set pressures.\n",
      "* **Design and construction of the tank:** The tank's material, size, and other factors influence the PRD's required pressure limit.\n",
      "* **Applicable tank container standards and competent authority regulations:** These documents will provide the definitive pressure limits for the specific tank and PRD combination.\n",
      "\n",
      "**It's crucial to consult the relevant standards and obtain competent authority approval to ensure the PRDs on your IMO Type 4 tank are suitable for the intended cargo and meet all safety requirements.**<end_of_turn>\n",
      "\n",
      "Cosine Similarity: 0.4314\n",
      "BLEU Score: 0.0404\n",
      "ROUGE-L F1 Score: 0.1809\n",
      "Keyword Match: 0.4524\n",
      "--------------------------------------------------\n",
      "Model: Base Model\n",
      "Question: What is the difference between \"inner packagings\" and \"inner receptacles\" according to the IMDG Code, and can you provide examples for each?\n",
      "Reference Answer: The IMDG Code uses the terms \"inner packaging\" and \"inner receptacle\" to differentiate components within various types of packaging.\n",
      "\n",
      "An \"inner packaging\" is a component designed to hold the hazardous material and is capable of independent containment.  Think of it as a standalone container. An example is a glass bottle within a combination packaging. Even if the bottle is inside a larger box or crate, it is designed to hold the hazardous material on its own.\n",
      "\n",
      "An \"inner receptacle,\" on the other hand, is a component that relies on the outer packaging for containment. It is not designed to hold the hazardous material independently. A common example is the \"inner\" of a 6HA1 composite packaging, which is typically made of plastic and relies on the outer packaging (made of another material like fiberboard) for structural support and containment.\n",
      "Generated Answer: You're asking a great question that often causes confusion!  \n",
      "\n",
      "Here's the breakdown of \"inner packagings\" and \"inner receptacles\" according to the IMDG Code:\n",
      "\n",
      "**Inner Packagings:**\n",
      "\n",
      "* **Definition:** These are the receptacles that directly contain the dangerous goods. They are designed to ensure the safe containment of the substance during transport.\n",
      "* **Examples:**\n",
      "    * **Drums:** Metal or plastic drums used to hold liquids or solids.\n",
      "    * **Jerrcans:** Portable containers with handles, typically used for liquids.\n",
      "    * **Boxes:** Cardboard, wooden, or plastic boxes used for solids or liquids packaged in smaller containers.\n",
      "    * **Bags:**  Flexible containers made of materials like plastic, paper, or woven fabric.\n",
      "\n",
      "**Inner Receptacles:**\n",
      "\n",
      "* **Definition:** These are smaller containers placed *inside* an inner packaging. They provide an additional layer of containment and protection for the dangerous goods.\n",
      "* **Examples:**\n",
      "    * **Glass vials:** Used to hold small quantities of liquids or powders within a larger container like a box.\n",
      "    * **Plastic bottles:** Used to contain liquids within a drum or jerrican.\n",
      "    * **Ampoules:** Small, sealed glass containers used for pharmaceuticals or other sensitive substances.\n",
      "\n",
      "**Key Difference:**\n",
      "\n",
      "The main difference lies in the level of containment. Inner packagings are the primary containers holding the dangerous goods, while inner receptacles are secondary containers placed *within* the inner packaging for added protection and containment.\n",
      "\n",
      "**Think of it this way:**\n",
      "\n",
      "* The inner packaging is like the \"house\" for the dangerous goods.\n",
      "* The inner receptacle is like a \"room\" within the house, providing extra security for the goods.\n",
      "\n",
      "Let me know if you have any other questions about the IMDG Code! I'm here to help.<end_of_turn>\n",
      "\n",
      "Cosine Similarity: 0.4906\n",
      "BLEU Score: 0.0264\n",
      "ROUGE-L F1 Score: 0.2443\n",
      "Keyword Match: 0.5000\n",
      "--------------------------------------------------\n",
      "Model: Base Model\n",
      "Question: According to the IMDG Code, what does the term \"miscible with water\" signify regarding a substance's solubility in water?\n",
      "Reference Answer: In the IMDG Code, the phrase \"miscible with water\" generally indicates that a substance can be combined with water in any ratio to create a completely homogeneous liquid mixture.\n",
      "Generated Answer: According to the IMDG Code, the term \"**miscible with water**\" signifies that the substance **can be mixed with water in all proportions** to form a homogeneous mixture. \n",
      "\n",
      "This means there is **no limit** to how much of the substance can be dissolved in water, and the resulting solution will be uniform throughout.\n",
      "\n",
      "It's important to note that \"miscibility\" is different from \"solubility\". While solubility refers to the maximum amount of a substance that can dissolve in a given amount of solvent (usually water) at a specific temperature, miscibility implies complete mixing without any limitations.\n",
      "\n",
      "\n",
      "Let me know if you have any further questions about the IMDG Code!<end_of_turn>\n",
      "\n",
      "Cosine Similarity: 0.5084\n",
      "BLEU Score: 0.0563\n",
      "ROUGE-L F1 Score: 0.2692\n",
      "Keyword Match: 0.7143\n",
      "--------------------------------------------------\n",
      "Model: Base Model\n",
      "Question: According to the IMDG Code, if a substance is assigned to portable tank instruction T7, which other portable tank instructions are also permitted for the transport of that substance?\n",
      "Reference Answer: If a substance is assigned to portable tank instruction T7, the following other portable tank instructions are also permitted for the transport of that substance: T4, T5, T6, T8, T9, T10, T11, T12, T13, T14, T15, T16, T17, T18, T19, T20, T21, and T22.\n",
      "Generated Answer: That's a great question!  \n",
      "\n",
      "The IMDG Code is designed to ensure the safe transport of dangerous goods by sea.  Portable tank instructions (PTIs) are crucial for specifying the appropriate tank type and conditions for different substances.\n",
      "\n",
      "**Regarding your question about PTI T7:**\n",
      "\n",
      "PTI T7 permits the transport of certain **liquefied gases** in portable tanks.  \n",
      "\n",
      "**Other PTIs that may also be permitted for substances assigned to T7 depend on the specific substance's properties and the applicable regulations.**\n",
      "\n",
      "Here's why it's not a simple \"one size fits all\" answer:\n",
      "\n",
      "* **Substance Specifics:**  Different liquefied gases have varying hazards (flammability, toxicity, corrosiveness, etc.). The IMDG Code considers these factors when assigning PTIs.\n",
      "* **Temperature Control:** Some liquefied gases require temperature control during transport. PTI T7 often specifies a maximum allowable temperature. Other PTIs might be suitable if the substance can be safely transported at different temperatures.\n",
      "* **Pressure:** The pressure exerted by the liquefied gas is another factor. Some PTIs are designed for higher pressures than others.\n",
      "\n",
      "**To determine which other PTIs might be permitted for a substance assigned to T7, you need to:**\n",
      "\n",
      "1. **Identify the specific substance:**  Knowing the chemical name and UN number is essential.\n",
      "2. **Consult the IMDG Code:** Look up the substance in the Dangerous Goods List. It will list the assigned PTI(s) and any special provisions.\n",
      "3. **Review the relevant portable tank instructions:**  Carefully examine the requirements of each PTI to see if they are compatible with the substance's properties and the intended transport conditions.\n",
      "\n",
      "**Remember:**\n",
      "\n",
      "* Always consult the latest edition of the IMDG Code and any applicable national regulations.\n",
      "* Seek expert advice if you have any doubts about the correct PTI for a particular substance.\n",
      "\n",
      "Safety is paramount when transporting dangerous goods.  Using the wrong PTI can lead to serious accidents.<end_of_turn>\n",
      "\n",
      "Cosine Similarity: 0.3812\n",
      "BLEU Score: 0.0000\n",
      "ROUGE-L F1 Score: 0.1478\n",
      "Keyword Match: 0.5349\n",
      "--------------------------------------------------\n",
      "Model: Base Model\n",
      "Question: What are the notification requirements for a Type B(U) package containing radioactive material with an activity exceeding 3,000 A2?\n",
      "Reference Answer: For a Type B(U) package containing radioactive material with an activity greater than 3,000 A2, the consignor is obligated to notify the competent authority of the country of origin of the shipment. Additionally, the consignor must notify the competent authority of each country through or into which the consignment will be transported. This notification requirement is outlined in the IMDG Code section 5.1.5.2.1.\n",
      "Generated Answer: You're asking about a very specific and important aspect of the IMDG Code. Here's a breakdown of the notification requirements for a Type B(U) package containing radioactive material exceeding 3,000 A2:\n",
      "\n",
      "**1.  Consignment Notification:**\n",
      "\n",
      "* **Advance Notification:**  You must provide advance notification to the competent authorities of each country where the package will be transported. This notification must be made in writing and include specific details about the shipment.\n",
      "\n",
      "* **Timing:** The notification should be submitted at least 7 days before the scheduled arrival of the package at the first port of entry in each country.\n",
      "\n",
      "* **Information Required:** The notification must contain the following information:\n",
      "\n",
      "    * **Shipper and Consignee Details:** Full names and addresses.\n",
      "    * **Package Description:** Type of package (B(U)), radionuclides carried, activity (in Becquerels), and physical and chemical form.\n",
      "    * **Transport Route:** Planned route of the shipment, including ports of departure, transit, and arrival.\n",
      "    * **Emergency Contact Information:** 24-hour contact details for a person knowledgeable about the shipment and able to provide assistance in case of an emergency.\n",
      "\n",
      "**2.  Additional Requirements:**\n",
      "\n",
      "* **National Regulations:** Be aware that individual countries may have additional notification requirements beyond those stipulated by the IMDG Code. It's crucial to consult the specific regulations of each country involved in the transport.\n",
      "\n",
      "* **Documentation:** Ensure all necessary documentation accompanies the shipment, including:\n",
      "\n",
      "    * **Shipping Papers:**  Clearly identify the radioactive material, its activity, and the package type.\n",
      "    * **Certificate of Approval:** For the Type B(U) package, issued by the competent authority.\n",
      "    * **Emergency Response Information:** Detailed instructions on handling the package in case of an accident or incident.\n",
      "\n",
      "**3.  Importance of Compliance:**\n",
      "\n",
      "* **Safety:**  Notification requirements are crucial for ensuring the safe transport of radioactive materials. They allow competent authorities to prepare for potential emergencies and take necessary precautions.\n",
      "\n",
      "* **Legal Obligations:** Failure to comply with notification requirements can result in significant penalties, delays, and disruptions to the shipment.\n",
      "\n",
      "**Remember:** This information is for general guidance only. It is essential to consult the latest edition of the IMDG Code and the relevant national regulations for specific and up-to-date requirements.\n",
      "\n",
      "For further clarification or assistance with your specific shipment, it is recommended to contact the competent authorities in the countries involved or a qualified dangerous goods consultant.<end_of_turn>\n",
      "\n",
      "Cosine Similarity: 0.6263\n",
      "BLEU Score: 0.0456\n",
      "ROUGE-L F1 Score: 0.2308\n",
      "Keyword Match: 0.7308\n",
      "--------------------------------------------------\n",
      "Model: Base Model\n",
      "Question: How is the radiation level of a tank containing uranium chemical concentrates determined according to the IMDG Code?\n",
      "Reference Answer: The radiation level of a tank containing uranium chemical concentrates, other than uranium hexafluoride, is determined in two steps.\n",
      "\n",
      "Firstly, the radiation level of the concentrate itself is measured. This value, expressed in millisieverts per hour (mSv/h), is obtained through appropriate radiation monitoring techniques.\n",
      "\n",
      "Secondly, this initial value is multiplied by a factor from Table 5.1.5.3.1 based on the size of the load (the largest cross-sectional area of the load being measured).\n",
      "\n",
      "The table provides the following multiplication factors:\n",
      "\n",
      "* Size of load < 1 m²: Multiplication factor = 1\n",
      "* 1 m² < size of load < 5 m²: Multiplication factor = 2\n",
      "* 5 m² < size of load < 20 m²: Multiplication factor = 3\n",
      "* 20 m² < size of load: Multiplication factor = 10\n",
      "\n",
      "For example, if the measured radiation level of the uranium concentrate is 0.5 mSv/h and the cross-sectional area of the load is 3 m², the final radiation level would be 0.5 mSv/h * 2 = 1 mSv/h.\n",
      "\n",
      "Finally, the obtained radiation level is rounded up to the first decimal place. Values of 0.05 or less are considered zero.\n",
      "Generated Answer: The IMDG Code doesn't specify a single method for determining the radiation level of a tank containing uranium chemical concentrates. Instead, it relies on a broader framework based on the **International Atomic Energy Agency (IAEA) Regulations for the Safe Transport of Radioactive Material**.\n",
      "\n",
      "Here's a breakdown of how radiation levels are addressed for such cargo:\n",
      "\n",
      "**1. Classification:**\n",
      "\n",
      "* Uranium chemical concentrates are classified as **radioactive materials** under the IMDG Code.\n",
      "* Their specific classification (e.g., UN 2981, Uranium hexafluoride) depends on the chemical form, concentration of uranium, and the associated radioactivity.\n",
      "\n",
      "**2. Activity Limits:**\n",
      "\n",
      "* The IMDG Code incorporates the IAEA's activity limits for different classes of radioactive materials. These limits define the maximum permissible activity for a package to be transported under specific regulations.\n",
      "\n",
      "**3. Measurement:**\n",
      "\n",
      "* The radiation level of the tank must be measured using **appropriate radiation detection instruments** calibrated to the specific radionuclides present.\n",
      "* This measurement should be performed by **qualified personnel** with expertise in radiation safety.\n",
      "\n",
      "**4. Labeling and Documentation:**\n",
      "\n",
      "* The tank must be **labeled** according to the IMDG Code and IAEA regulations, indicating the radioactive nature of the cargo, the UN number, and the transport category.\n",
      "* **Shipping documents** must include detailed information about the radioactive material, its activity, and any special handling instructions.\n",
      "\n",
      "**5. Packaging and Shielding:**\n",
      "\n",
      "* The tank itself may need to be designed with **shielding** to reduce radiation levels outside the container.\n",
      "* The packaging must meet the **requirements of the IAEA regulations** for the specific class of radioactive material.\n",
      "\n",
      "**6. Monitoring During Transport:**\n",
      "\n",
      "* Depending on the activity level and transport mode, **continuous monitoring** of radiation levels during transport may be required.\n",
      "\n",
      "**Important Notes:**\n",
      "\n",
      "* The specific procedures for determining radiation levels and ensuring safe transport will vary depending on the type and quantity of uranium chemical concentrate.\n",
      "* It is crucial to consult the **latest editions of the IMDG Code and IAEA regulations** for detailed guidance.\n",
      "* Always seek advice from **qualified radiation safety professionals** to ensure compliance with all applicable regulations.\n",
      "\n",
      "Remember, safety is paramount when handling radioactive materials. Following the IMDG Code and IAEA regulations is essential to protect workers, the public, and the environment.<end_of_turn>\n",
      "\n",
      "Cosine Similarity: 0.4937\n",
      "BLEU Score: 0.0471\n",
      "ROUGE-L F1 Score: 0.1611\n",
      "Keyword Match: 0.3956\n",
      "--------------------------------------------------\n",
      "Model: Base Model\n",
      "Question: A colorless liquid with an aromatic odor has a flashpoint of 220°C and explosive limits of 1% to 6.7%. It is immiscible with water. Based on the IMDG Code, what packing group would this liquid likely belong to?\n",
      "Reference Answer: Based on the information provided, this liquid would likely belong to Packing Group II.  \n",
      "\n",
      "Here's why:\n",
      "\n",
      "* Flashpoint: A flashpoint of 220°C indicates a relatively high flashpoint, suggesting lower flammability risk.\n",
      "* Explosive Limits: Explosive limits of 1% to 6.7% are within a moderate range.\n",
      "\n",
      "The IMDG Code categorizes flammable liquids into Packing Groups based on their flashpoint and initial boiling point.  \n",
      "\n",
      "* Packing Group I: Highly flammable liquids with flashpoints below 23°C.\n",
      "* Packing Group II: Flammable liquids with flashpoints between 23°C and 60°C.\n",
      "* Packing Group III: Liquids with flashpoints above 60°C.\n",
      "\n",
      "While the liquid has a high flashpoint, the moderate explosive limits suggest a potential fire hazard. Therefore, Packing Group II is the most appropriate categorization.  \n",
      "\n",
      "Always consult the latest IMDG Code and Safety Data Sheets (SDS) for accurate classification and handling instructions.\n",
      "Generated Answer: Based on the information provided, this liquid would likely belong to **Packing Group III**. Here's why:\n",
      "\n",
      "* **Flashpoint:** A flashpoint of 220°C indicates that the liquid is not highly flammable.  \n",
      "\n",
      "* **Explosive Limits:** The relatively narrow explosive limits (1% to 6.7%) suggest that the liquid is not extremely volatile.\n",
      "\n",
      "* **Immiscibility with Water:** This characteristic doesn't directly determine the packing group but is helpful in understanding the liquid's properties.\n",
      "\n",
      "**How Packing Groups are Determined:**\n",
      "\n",
      "The IMDG Code uses a combination of factors to assign packing groups:\n",
      "\n",
      "* **Flashpoint:**  Liquids with flashpoints above 60°C are generally considered less hazardous in terms of flammability.\n",
      "\n",
      "* **Initial boiling point:** This is also considered, but you haven't provided that information.\n",
      "\n",
      "* **Vapour pressure:**  Higher vapour pressure indicates greater volatility and potential hazard.\n",
      "\n",
      "* **Toxicity:**  If the liquid is toxic, a lower packing group (I or II) might be assigned.\n",
      "\n",
      "**Important Note:**\n",
      "\n",
      "This is a general assessment based on the limited information provided. To definitively determine the correct packing group, you would need to consult the IMDG Code directly, considering all relevant criteria for the specific substance.  \n",
      "\n",
      "**Additional Information:**\n",
      "\n",
      "* **Packing Group I:**  Most hazardous substances.\n",
      "\n",
      "* **Packing Group II:**  Substances presenting medium hazard.\n",
      "\n",
      "* **Packing Group III:** Substances presenting a relatively low hazard.\n",
      "\n",
      "\n",
      "\n",
      "Remember, always consult the IMDG Code and relevant safety data sheets for accurate and up-to-date information on classifying and transporting hazardous materials.<end_of_turn>\n",
      "\n",
      "Cosine Similarity: 0.6421\n",
      "BLEU Score: 0.1617\n",
      "ROUGE-L F1 Score: 0.3884\n",
      "Keyword Match: 0.7386\n",
      "--------------------------------------------------\n",
      "Model: Base Model\n",
      "Question: A shipment of bromine pentafluoride (UN 1745) is being prepared for transport by sea. What are the key IMDG Code requirements that must be adhered to for the safe carriage of this hazardous substance?\n",
      "Reference Answer: Bromine pentafluoride (UN 1745) is classified as a Class 8 corrosive substance with a subsidiary risk of Class 2 (flammable gas). The IMDG Code outlines several stringent requirements for its safe transport by sea:\n",
      "\n",
      "* Packaging: Bromine pentafluoride must be packaged in UN-approved, corrosion-resistant receptacles such as stainless steel or glass. The packaging must be designed and tested to withstand the corrosive nature of the substance and the pressures it may generate.\n",
      "\n",
      "* Segregation: It must be segregated from incompatible substances, especially those that are oxidizers, reducing agents, or reactive metals.  Consult the IMDG Code's Dangerous Goods List and the segregation table (7.2.8) to determine appropriate segregation distances and groupings.\n",
      "\n",
      "* Labeling and Marking: The packages and cargo transport units (CTUs) must be clearly labeled with the appropriate Class 8 and Class 2 hazard labels, along with the UN number (1745).  Additional markings, such as \"CORROSIVE\" and \"FLAMMABLE GAS\", may also be required.\n",
      "\n",
      "* Documentation: The shipper must provide a Dangerous Goods Declaration (DGD) containing all necessary information about the bromine pentafluoride shipment, including its UN number, proper shipping name, Class, subsidiary risk, quantity, and any special handling instructions.\n",
      "\n",
      "* Ventilation: Adequate ventilation of the cargo hold is crucial to prevent the buildup of flammable gas vapors. The IMDG Code specifies minimum ventilation rates based on the substance's volatility and flammability.\n",
      "\n",
      "* Emergency Procedures: The ship's crew must be familiar with the emergency procedures for handling bromine pentafluoride spills or leaks. These procedures should include containment measures, personal protective equipment requirements, and first aid protocols.\n",
      "\n",
      "Compliance with all relevant IMDG Code requirements ensures the safe transport of bromine pentafluoride by sea, minimizing the risk of accidents, environmental damage, and harm to personnel.\n",
      "Generated Answer: Bromine pentafluoride (UN 1745) is a highly reactive and corrosive substance, posing significant risks during transport.  Here are the key IMDG Code requirements for its safe carriage by sea:\n",
      "\n",
      "**1. Classification and Packaging:**\n",
      "\n",
      "* **Class:** Bromine pentafluoride is classified as a Class 8 (Corrosive) substance with a subsidiary risk of Class 2.1 (Flammable Gas).\n",
      "* **Packaging:** It must be transported in UN-approved pressure receptacles (cylinders, drums) meeting the requirements of Packing Instruction P200. These receptacles must be made of materials resistant to bromine pentafluoride's corrosive nature.\n",
      "\n",
      "**2. Marking and Labeling:**\n",
      "\n",
      "* **UN Number:** The package must be marked with the UN number \"1745\".\n",
      "* **Proper Shipping Name:** \"Bromine pentafluoride\" must be clearly displayed.\n",
      "* **Hazard Labels:** Two labels are required:\n",
      "    * **Class 8 (Corrosive):** White label with a black \"corrosive\" symbol.\n",
      "    * **Class 2.1 (Flammable Gas):** Red label with a black flame symbol.\n",
      "\n",
      "**3. Documentation:**\n",
      "\n",
      "* **Dangerous Goods Declaration (DGD):** The shipper must provide a DGD containing all relevant information about the shipment, including:\n",
      "    * UN number, proper shipping name, hazard class, packing group.\n",
      "    * Quantity and type of packaging.\n",
      "    * Emergency contact information.\n",
      "* **Marine Pollution Certificate (MPC):**  As bromine pentafluoride is a marine pollutant, an MPC is required.\n",
      "\n",
      "**4. Stowage and Segregation:**\n",
      "\n",
      "* **Stowage:** Bromine pentafluoride must be stowed on deck, away from living quarters and other cargo that could react dangerously with it.\n",
      "* **Segregation:** It must be segregated from incompatible substances, such as:\n",
      "    * Oxidizers\n",
      "    * Reducing agents\n",
      "    * Flammable liquids and solids\n",
      "    * Acids and bases\n",
      "\n",
      "**5. Emergency Procedures:**\n",
      "\n",
      "* The crew must be trained in handling bromine pentafluoride emergencies, including:\n",
      "    * Leak detection and containment\n",
      "    * First aid for exposure\n",
      "    * Firefighting procedures\n",
      "\n",
      "**6. Additional Considerations:**\n",
      "\n",
      "* **Temperature Control:** Bromine pentafluoride is sensitive to temperature changes. It may need to be transported under controlled temperature conditions.\n",
      "* **Ventilation:** Adequate ventilation is crucial to prevent the buildup of flammable or toxic vapors.\n",
      "\n",
      "**7. Consulting the IMDG Code:**\n",
      "\n",
      "This information is a general overview. Always consult the latest edition of the IMDG Code and relevant national regulations for detailed and specific requirements for the carriage of bromine pentafluoride.\n",
      "\n",
      "Remember, safety is paramount when transporting hazardous materials. Always follow the IMDG Code and other applicable regulations to ensure a safe and incident-free voyage.<end_of_turn>\n",
      "\n",
      "Cosine Similarity: 0.7760\n",
      "BLEU Score: 0.1705\n",
      "ROUGE-L F1 Score: 0.3876\n",
      "Keyword Match: 0.6303\n",
      "--------------------------------------------------\n",
      "Model: Base Model\n",
      "Question: According to the IMDG code, how is a substance classified as flammable? What are the different classes and divisions within the flammable category?\n",
      "Reference Answer: The IMDG Code classifies flammable substances under Class 3.  This class is further divided into divisions based on the specific hazards posed:\n",
      "\n",
      "* Division 3.1: Flammable liquids with a flashpoint of not more than 60°C (140°F).\n",
      "* Division 3.2: Flammable liquids with a flashpoint of more than 60°C (140°F) and not more than 93°C (200°F).\n",
      "* Division 3.3: Flammable liquids with a flashpoint of more than 93°C (200°F) and  substances that are flammable solids.\n",
      "Generated Answer: You're asking a great question! The IMDG Code classifies flammable substances based on their ability to ignite and sustain combustion. \n",
      "\n",
      "Here's a breakdown:\n",
      "\n",
      "**Classification:**\n",
      "\n",
      "A substance is classified as flammable under the IMDG Code if it meets the criteria outlined in **Chapter 2.6**.  These criteria are based on the substance's flash point, auto-ignition temperature, and flammability limits.\n",
      "\n",
      "* **Flash Point:** The lowest temperature at which the vapor of a liquid can form an ignitable mixture with air.\n",
      "\n",
      "* **Auto-ignition Temperature:** The lowest temperature at which a substance will spontaneously ignite in air without an external ignition source.\n",
      "\n",
      "* **Flammability Limits:** The range of concentrations of a vapor in air within which combustion can occur.\n",
      "\n",
      "**Classes and Divisions:**\n",
      "\n",
      "Flammable substances are primarily classified under **Class 3**. This class is further divided into:\n",
      "\n",
      "* **Class 3.1: Flammable Liquids:** Liquids with a flash point of not more than 60°C (140°F) and a boiling point or initial boiling point of 300°C (572°F) or less.\n",
      "\n",
      "* **Class 3.2: Flammable Solids:** Solids that are readily combustible, or may cause or contribute to fire through friction. This includes:\n",
      "\n",
      "    * **Division 3.2.1:** Solids that are readily combustible.\n",
      "\n",
      "    * **Division 3.2.2:** Solids that are not readily combustible but may cause or contribute to fire through friction.\n",
      "\n",
      "* **Class 3.3: Flammable Aerosols:** Aerosols that are flammable due to the contents or the propellant.\n",
      "\n",
      "**Important Notes:**\n",
      "\n",
      "* The IMDG Code also includes **Class 4.1: Flammable Solids** which are substances that are liable to spontaneous combustion.\n",
      "\n",
      "* The specific packing group (I, II, or III) assigned to a flammable substance depends on its flash point, boiling point, and other factors.\n",
      "\n",
      "* It's crucial to consult the IMDG Code and relevant safety data sheets (SDS) for detailed information on the classification and handling of specific flammable substances.\n",
      "\n",
      "Remember, safety is paramount when dealing with flammable materials. Always follow the IMDG Code guidelines and consult with experts for proper handling, storage, and transportation.<end_of_turn>\n",
      "\n",
      "Cosine Similarity: 0.4280\n",
      "BLEU Score: 0.0691\n",
      "ROUGE-L F1 Score: 0.3000\n",
      "Keyword Match: 0.8667\n",
      "--------------------------------------------------\n",
      "Model: Base Model\n",
      "Question: A shipment of liquefied gas is being prepared for transport in pressure receptacles.  The liquefied gas is charged with a compressed gas.  How should the internal pressure of the pressure receptacle be calculated according to the IMDG Code?\n",
      "Reference Answer: According to the IMDG Code, Packing Instruction P200, when a liquefied gas is charged with a compressed gas, the calculation of the internal pressure of the pressure receptacle must consider both components: the liquefied gas and the compressed gas. The IMDG Code provides specific requirements for this scenario:\n",
      "\n",
      "* Maximum Mass: The maximum mass of contents per liter of water capacity should not exceed 0.95 times the density of the liquid phase at 50°C.\n",
      "\n",
      "* Filling Ratio: The liquid phase should not completely fill the pressure receptacle at any temperature up to 60°C.\n",
      "\n",
      "* Internal Pressure at 65°C: When filled, the internal pressure at 65°C should not exceed the test pressure of the pressure receptacles.\n",
      "\n",
      "* Vapor Pressures and Volumetric Expansions: The vapor pressures and volumetric expansions of all substances in the pressure receptacles must be considered during the calculation.\n",
      "\n",
      "\n",
      "\n",
      "These requirements ensure the safe transport of liquefied gases charged with compressed gases by preventing excessive pressure buildup within the pressure receptacles.\n",
      "Generated Answer: You're asking a great question that highlights a crucial aspect of safely transporting liquefied gases.  \n",
      "\n",
      "The IMDG Code doesn't provide a single formula for calculating the internal pressure of a pressure receptacle containing a liquefied gas charged with a compressed gas. The calculation is complex and depends on several factors specific to the substances involved.\n",
      "\n",
      "Here's a breakdown of the key considerations and where to find more detailed guidance:\n",
      "\n",
      "**1. Determine the Relevant Regulations:**\n",
      "\n",
      "* **Substance Identification:** First, you need to identify the specific liquefied gas and the compressed gas being used. Each substance has unique properties that influence pressure calculations.\n",
      "* **Classification:**  Refer to the IMDG Code's Dangerous Goods List (DGL) to determine the UN number and proper shipping name for both the liquefied gas and the compressed gas. This will direct you to the relevant packing instructions and special provisions.\n",
      "\n",
      "**2. Packing Instructions:**\n",
      "\n",
      "* The IMDG Code provides packing instructions (e.g., P200) that outline specific requirements for different classes of dangerous goods. These instructions often include details on:\n",
      "    * **Maximum filling ratios:** This limits the amount of liquefied gas that can be loaded into the receptacle.\n",
      "    * **Vapor pressure limits:** The maximum allowable vapor pressure at a specified temperature (often 55°C).\n",
      "\n",
      "**3.  Consider the \"Charged with\" Concept:**\n",
      "\n",
      "* When a liquefied gas is \"charged with\" a compressed gas, the compressed gas acts as a pressurizing agent. This means the internal pressure will be influenced by:\n",
      "    * **Vapor pressure of the liquefied gas:** This depends on the gas's temperature and its boiling point.\n",
      "    * **Partial pressure of the compressed gas:** This depends on the amount of compressed gas added and its own properties.\n",
      "\n",
      "**4. Seek Expert Guidance:**\n",
      "\n",
      "* Due to the complexity of these calculations, it's crucial to consult with a qualified expert in dangerous goods transportation. They can:\n",
      "    * Analyze the specific substances involved.\n",
      "    * Determine the appropriate packing instructions.\n",
      "    * Perform the necessary pressure calculations, considering all relevant factors.\n",
      "    * Ensure compliance with the IMDG Code and other applicable regulations.\n",
      "\n",
      "**Remember:**\n",
      "\n",
      "* Safety is paramount when transporting liquefied gases. Incorrect pressure calculations can lead to dangerous situations.\n",
      "* Always rely on qualified professionals and the latest edition of the IMDG Code for accurate information.<end_of_turn>\n",
      "\n",
      "Cosine Similarity: 0.7157\n",
      "BLEU Score: 0.0841\n",
      "ROUGE-L F1 Score: 0.2381\n",
      "Keyword Match: 0.5176\n",
      "--------------------------------------------------\n",
      "Model: Base Model\n",
      "Question: According to the IMDG Code, what are the packing instructions for a shipment of  \"4-NITROPHENYLHYDRAZINE, with not less than 30% water, by mass\"?\n",
      "Reference Answer: The IMDG Code states that \"4-NITROPHENYLHYDRAZINE, with not less than 30% water, by mass\"  (UN 3376) should be packed and transported according to Packing Instruction P406.  This instruction also specifies additional requirements such as PP26 and PP31.\n",
      "\n",
      "Packing Instruction P406 outlines specific requirements for the packaging and transport of this hazardous material.\n",
      "\n",
      "PP26 refers to the requirement that the substance must be packed in a drum with a maximum net mass of 250 kg.\n",
      "\n",
      "PP31 indicates that  the substance must be packed in tightly closed receptacles.\n",
      "Generated Answer: You're asking about a specific dangerous good: **4-NITROPHENYLHYDRAZINE, with not less than 30% water, by mass**. This substance has a UN number of **1663** and is classified as **Class 4.1 (Flammable Solids)**.\n",
      "\n",
      "To determine the packing instructions, we need to consult the IMDG Code.  \n",
      "\n",
      "**Here's a breakdown of how to find the information:**\n",
      "\n",
      "1. **Locate the Dangerous Goods List:** In the IMDG Code, find the section titled \"Dangerous Goods List\". This list is organized alphabetically by the name of the dangerous goods.\n",
      "\n",
      "2. **Find UN 1663:** Look for the entry corresponding to \"4-NITROPHENYLHYDRAZINE, with not less than 30% water, by mass\" (UN 1663).\n",
      "\n",
      "3. **Identify the Packing Group:** The entry will indicate the packing group (PG) for this substance. It's likely to be **II** or **III**, depending on the specific concentration and other factors.\n",
      "\n",
      "4. **Refer to the Packing Instructions:** The Dangerous Goods List entry will reference a specific Packing Instruction (PI) code. For example, it might be **P409**.\n",
      "\n",
      "5. **Consult the Packing Instructions Section:**  Turn to the section titled \"Packing Instructions\" in the IMDG Code. Find the PI code referenced in the Dangerous Goods List (e.g., P409).\n",
      "\n",
      "6. **Follow the Instructions:** The PI will provide detailed instructions on:\n",
      "\n",
      "    * **Packaging:** The types of packaging allowed (e.g., drums, jerricans, boxes).\n",
      "    * **Inner Packagings:** Requirements for inner containers (e.g., material, capacity, closure).\n",
      "    * **Intermediate Packagings:** If required, specifications for intermediate containers.\n",
      "    * **Outer Packagings:** Requirements for the outer container (e.g., strength, markings).\n",
      "    * **Quantity Limitations:** Maximum allowed quantities per package.\n",
      "    * **Special Provisions:** Any additional requirements or restrictions specific to this substance.\n",
      "\n",
      "**Important Notes:**\n",
      "\n",
      "* **Always consult the latest edition of the IMDG Code.** Regulations are updated periodically.\n",
      "* **Seek professional guidance:** If you are unsure about any aspect of packing or transporting dangerous goods, consult a qualified dangerous goods specialist.\n",
      "\n",
      "Remember, safety is paramount when handling dangerous goods. Always follow the IMDG Code instructions meticulously to ensure safe and compliant transportation.<end_of_turn>\n",
      "\n",
      "Cosine Similarity: 0.4174\n",
      "BLEU Score: 0.0461\n",
      "ROUGE-L F1 Score: 0.2214\n",
      "Keyword Match: 0.5846\n",
      "--------------------------------------------------\n",
      "Model: Base Model\n",
      "Question: According to the IMDG Code, how should Coumarin Derivative Pesticide be classified and packaged if it is a liquid with a flashpoint of 150°C and is deemed toxic?\n",
      "Reference Answer: Coumarin Derivative Pesticide, being a liquid with a flashpoint of 150°C (less than 23°C), and classified as toxic, falls under UN number 3024.\n",
      "\n",
      "This means it should be classified as:\n",
      "\n",
      "Class 3: Flammable Liquids\n",
      "\n",
      "Class 6.1: Toxic Substances\n",
      "\n",
      "The packaging should adhere to the IMDG Code regulations for Class 3 flammable liquids and Class 6.1 toxic substances. This typically involves using robust packaging materials designed for hazardous liquids, proper labeling with hazard pictograms and UN numbers, and ensuring secure closures to prevent leaks or spills.\n",
      "\n",
      "It is crucial to consult the IMDG Code directly and any relevant national regulations for specific packaging requirements and handling procedures.\n",
      "Generated Answer: Let's break down how to classify and package a Coumarin Derivative Pesticide under the IMDG Code.\n",
      "\n",
      "**1. Hazard Identification:**\n",
      "\n",
      "* **Toxicity:** You've stated the pesticide is deemed toxic. This is crucial information.\n",
      "* **Flashpoint:** 150°C indicates the liquid is not highly flammable.\n",
      "\n",
      "**2. IMDG Code Classification:**\n",
      "\n",
      "Based on the information provided, the Coumarin Derivative Pesticide would likely fall under **Class 6.1 - Toxic Substances**.  \n",
      "\n",
      "* **Class 6.1** covers substances that are poisonous and can cause death or serious harm to humans or animals.\n",
      "\n",
      "**3. Packaging Requirements:**\n",
      "\n",
      "The IMDG Code provides specific packaging requirements based on the hazard class and the quantity being transported.\n",
      "\n",
      "* **Packaging Group:** You'll need to determine the appropriate Packaging Group (I, II, or III) based on the pesticide's toxicity. This information is usually found in the Safety Data Sheet (SDS) or through toxicological testing.\n",
      "\n",
      "    * **Packaging Group I:**  Most dangerous, for substances with high acute toxicity.\n",
      "    * **Packaging Group II:**  Moderately dangerous.\n",
      "    * **Packaging Group III:** Least dangerous.\n",
      "\n",
      "* **Packaging Types:** The IMDG Code specifies approved packaging types for Class 6.1 substances. These often include:\n",
      "\n",
      "    * **UN-certified drums:** Steel or plastic drums with specific markings and certifications.\n",
      "    * **Jerrycans:** Smaller containers for limited quantities.\n",
      "    * **Intermediate Bulk Containers (IBCs):** For larger quantities.\n",
      "\n",
      "* **Additional Requirements:**\n",
      "\n",
      "    * **Labels:** The package must be clearly labeled with the appropriate IMDG Code labels, including:\n",
      "        * Class 6.1 label (toxic)\n",
      "        * Proper Shipping Name (e.g., \"Coumarin Derivative Pesticide, Toxic\")\n",
      "        * UN Number (a unique identifier assigned to hazardous substances)\n",
      "    * **Documentation:** A Dangerous Goods Declaration (DGD) is required, detailing the substance, quantity, packaging, and other relevant information.\n",
      "\n",
      "**Important Notes:**\n",
      "\n",
      "* **SDS:** Always consult the Safety Data Sheet (SDS) for the specific Coumarin Derivative Pesticide. It will provide crucial information on hazard classification, packaging requirements, and emergency procedures.\n",
      "* **National Regulations:**  Be aware that individual countries may have additional regulations and requirements beyond the IMDG Code.\n",
      "\n",
      "**Disclaimer:**\n",
      "\n",
      "I am an AI chatbot and cannot provide definitive legal or regulatory advice. This information is for general guidance only. Always consult with qualified experts and relevant authorities for specific guidance on classifying and packaging hazardous materials.<end_of_turn>\n",
      "\n",
      "Cosine Similarity: 0.5238\n",
      "BLEU Score: 0.0189\n",
      "ROUGE-L F1 Score: 0.2230\n",
      "Keyword Match: 0.5921\n",
      "--------------------------------------------------\n"
     ]
    },
    {
     "ename": "KeyboardInterrupt",
     "evalue": "",
     "output_type": "error",
     "traceback": [
      "\u001b[0;31m---------------------------------------------------------------------------\u001b[0m",
      "\u001b[0;31mKeyboardInterrupt\u001b[0m                         Traceback (most recent call last)",
      "Cell \u001b[0;32mIn[11], line 118\u001b[0m\n\u001b[1;32m    115\u001b[0m lora_scores \u001b[38;5;241m=\u001b[39m evaluate_model(model_lora, num_samples, \u001b[38;5;124m\"\u001b[39m\u001b[38;5;124mLoRA Model\u001b[39m\u001b[38;5;124m\"\u001b[39m)\n\u001b[1;32m    117\u001b[0m \u001b[38;5;66;03m# 기본 모델 평가\u001b[39;00m\n\u001b[0;32m--> 118\u001b[0m base_scores \u001b[38;5;241m=\u001b[39m \u001b[43mevaluate_model\u001b[49m\u001b[43m(\u001b[49m\u001b[43mmodel_base\u001b[49m\u001b[43m,\u001b[49m\u001b[43m \u001b[49m\u001b[43mnum_samples\u001b[49m\u001b[43m,\u001b[49m\u001b[43m \u001b[49m\u001b[38;5;124;43m\"\u001b[39;49m\u001b[38;5;124;43mBase Model\u001b[39;49m\u001b[38;5;124;43m\"\u001b[39;49m\u001b[43m)\u001b[49m\n\u001b[1;32m    120\u001b[0m \u001b[38;5;66;03m# 결과 비교\u001b[39;00m\n\u001b[1;32m    121\u001b[0m \u001b[38;5;28mprint\u001b[39m(\u001b[38;5;124m\"\u001b[39m\u001b[38;5;130;01m\\n\u001b[39;00m\u001b[38;5;124mComparison of LoRA Model vs Base Model:\u001b[39m\u001b[38;5;124m\"\u001b[39m)\n",
      "Cell \u001b[0;32mIn[11], line 76\u001b[0m, in \u001b[0;36mevaluate_model\u001b[0;34m(model, num_samples, model_name)\u001b[0m\n\u001b[1;32m     73\u001b[0m reference_answer \u001b[38;5;241m=\u001b[39m row[\u001b[38;5;124m'\u001b[39m\u001b[38;5;124mresponse\u001b[39m\u001b[38;5;124m'\u001b[39m]\n\u001b[1;32m     75\u001b[0m prompt \u001b[38;5;241m=\u001b[39m format_prompt(system_prompt, question)\n\u001b[0;32m---> 76\u001b[0m generated_answer \u001b[38;5;241m=\u001b[39m \u001b[43mgenerate_response\u001b[49m\u001b[43m(\u001b[49m\u001b[43mmodel\u001b[49m\u001b[43m,\u001b[49m\u001b[43m \u001b[49m\u001b[43mprompt\u001b[49m\u001b[43m)\u001b[49m\n\u001b[1;32m     78\u001b[0m cosine \u001b[38;5;241m=\u001b[39m cosine_sim(reference_answer, generated_answer)\n\u001b[1;32m     79\u001b[0m bleu \u001b[38;5;241m=\u001b[39m calculate_bleu(reference_answer, generated_answer)\n",
      "Cell \u001b[0;32mIn[11], line 33\u001b[0m, in \u001b[0;36mgenerate_response\u001b[0;34m(model, prompt)\u001b[0m\n\u001b[1;32m     32\u001b[0m \u001b[38;5;28;01mdef\u001b[39;00m \u001b[38;5;21mgenerate_response\u001b[39m(model, prompt):\n\u001b[0;32m---> 33\u001b[0m     \u001b[38;5;28;01mreturn\u001b[39;00m \u001b[43mgenerate\u001b[49m\u001b[43m(\u001b[49m\n\u001b[1;32m     34\u001b[0m \u001b[43m        \u001b[49m\u001b[43mmodel\u001b[49m\u001b[43m,\u001b[49m\n\u001b[1;32m     35\u001b[0m \u001b[43m        \u001b[49m\u001b[43mtokenizer\u001b[49m\u001b[43m,\u001b[49m\n\u001b[1;32m     36\u001b[0m \u001b[43m        \u001b[49m\u001b[43mprompt\u001b[49m\u001b[38;5;241;43m=\u001b[39;49m\u001b[43mprompt\u001b[49m\u001b[43m,\u001b[49m\n\u001b[1;32m     37\u001b[0m \u001b[43m        \u001b[49m\u001b[43mverbose\u001b[49m\u001b[38;5;241;43m=\u001b[39;49m\u001b[38;5;28;43;01mFalse\u001b[39;49;00m\u001b[43m,\u001b[49m\n\u001b[1;32m     38\u001b[0m \u001b[43m        \u001b[49m\u001b[43mtemp\u001b[49m\u001b[38;5;241;43m=\u001b[39;49m\u001b[38;5;241;43m0.1\u001b[39;49m\u001b[43m,\u001b[49m\n\u001b[1;32m     39\u001b[0m \u001b[43m        \u001b[49m\u001b[43mmax_tokens\u001b[49m\u001b[38;5;241;43m=\u001b[39;49m\u001b[38;5;241;43m1024\u001b[39;49m\u001b[43m,\u001b[49m\n\u001b[1;32m     40\u001b[0m \u001b[43m    \u001b[49m\u001b[43m)\u001b[49m\n",
      "File \u001b[0;32m/opt/anaconda3/envs/mlx/lib/python3.11/site-packages/mlx_lm/utils.py:349\u001b[0m, in \u001b[0;36mgenerate\u001b[0;34m(model, tokenizer, prompt, max_tokens, verbose, formatter, **kwargs)\u001b[0m\n\u001b[1;32m    346\u001b[0m tic \u001b[38;5;241m=\u001b[39m time\u001b[38;5;241m.\u001b[39mperf_counter()\n\u001b[1;32m    347\u001b[0m detokenizer\u001b[38;5;241m.\u001b[39mreset()\n\u001b[0;32m--> 349\u001b[0m \u001b[43m\u001b[49m\u001b[38;5;28;43;01mfor\u001b[39;49;00m\u001b[43m \u001b[49m\u001b[43m(\u001b[49m\u001b[43mtoken\u001b[49m\u001b[43m,\u001b[49m\u001b[43m \u001b[49m\u001b[43mlogprobs\u001b[49m\u001b[43m)\u001b[49m\u001b[43m,\u001b[49m\u001b[43m \u001b[49m\u001b[43mn\u001b[49m\u001b[43m \u001b[49m\u001b[38;5;129;43;01min\u001b[39;49;00m\u001b[43m \u001b[49m\u001b[38;5;28;43mzip\u001b[39;49m\u001b[43m(\u001b[49m\n\u001b[1;32m    350\u001b[0m \u001b[43m    \u001b[49m\u001b[43mgenerate_step\u001b[49m\u001b[43m(\u001b[49m\u001b[43mprompt_tokens\u001b[49m\u001b[43m,\u001b[49m\u001b[43m \u001b[49m\u001b[43mmodel\u001b[49m\u001b[43m,\u001b[49m\u001b[43m \u001b[49m\u001b[38;5;241;43m*\u001b[39;49m\u001b[38;5;241;43m*\u001b[39;49m\u001b[43mkwargs\u001b[49m\u001b[43m)\u001b[49m\u001b[43m,\u001b[49m\n\u001b[1;32m    351\u001b[0m \u001b[43m    \u001b[49m\u001b[38;5;28;43mrange\u001b[39;49m\u001b[43m(\u001b[49m\u001b[43mmax_tokens\u001b[49m\u001b[43m)\u001b[49m\u001b[43m,\u001b[49m\n\u001b[1;32m    352\u001b[0m \u001b[43m\u001b[49m\u001b[43m)\u001b[49m\u001b[43m:\u001b[49m\n\u001b[1;32m    353\u001b[0m \u001b[43m    \u001b[49m\u001b[38;5;28;43;01mif\u001b[39;49;00m\u001b[43m \u001b[49m\u001b[43mn\u001b[49m\u001b[43m \u001b[49m\u001b[38;5;241;43m==\u001b[39;49m\u001b[43m \u001b[49m\u001b[38;5;241;43m0\u001b[39;49m\u001b[43m:\u001b[49m\n\u001b[1;32m    354\u001b[0m \u001b[43m        \u001b[49m\u001b[43mprompt_time\u001b[49m\u001b[43m \u001b[49m\u001b[38;5;241;43m=\u001b[39;49m\u001b[43m \u001b[49m\u001b[43mtime\u001b[49m\u001b[38;5;241;43m.\u001b[39;49m\u001b[43mperf_counter\u001b[49m\u001b[43m(\u001b[49m\u001b[43m)\u001b[49m\u001b[43m \u001b[49m\u001b[38;5;241;43m-\u001b[39;49m\u001b[43m \u001b[49m\u001b[43mtic\u001b[49m\n",
      "File \u001b[0;32m/opt/anaconda3/envs/mlx/lib/python3.11/site-packages/mlx_lm/utils.py:266\u001b[0m, in \u001b[0;36mgenerate_step\u001b[0;34m(prompt, model, temp, repetition_penalty, repetition_context_size, top_p, min_p, min_tokens_to_keep, logit_bias, prefill_step_size, max_kv_size, cache_history)\u001b[0m\n\u001b[1;32m    264\u001b[0m next_y, next_logprobs \u001b[38;5;241m=\u001b[39m _step(y)\n\u001b[1;32m    265\u001b[0m mx\u001b[38;5;241m.\u001b[39masync_eval(next_y)\n\u001b[0;32m--> 266\u001b[0m \u001b[38;5;28;01myield\u001b[39;00m \u001b[43my\u001b[49m\u001b[38;5;241;43m.\u001b[39;49m\u001b[43mitem\u001b[49m\u001b[43m(\u001b[49m\u001b[43m)\u001b[49m, logprobs\n\u001b[1;32m    267\u001b[0m y, logprobs \u001b[38;5;241m=\u001b[39m next_y, next_logprobs\n",
      "\u001b[0;31mKeyboardInterrupt\u001b[0m: "
     ]
    }
   ],
   "source": [
    "import pandas as pd\n",
    "import random\n",
    "from mlx_lm import generate, load\n",
    "from sklearn.metrics.pairwise import cosine_similarity\n",
    "from sklearn.feature_extraction.text import TfidfVectorizer\n",
    "from nltk.translate.bleu_score import sentence_bleu\n",
    "from rouge import Rouge\n",
    "import nltk\n",
    "nltk.download('punkt')\n",
    "\n",
    "# LoRA 적용 모델 로드\n",
    "model_lora, tokenizer = load(\n",
    "    \"mlx-community/gemma-2-27b-it-4bit\",\n",
    "    adapter_path=\"./checkpoints/adapters\",\n",
    ")\n",
    "\n",
    "# 기본 모델 로드\n",
    "model_base, _ = load(\"mlx-community/gemma-2-27b-it-4bit\")\n",
    "\n",
    "# CSV 파일 로드\n",
    "df = pd.read_csv(\"./data/IMDG.csv\")\n",
    "\n",
    "def format_prompt(system_prompt: str, question: str) -> str:\n",
    "    return f\"\"\"<bos><start_of_turn>user\n",
    "## Instructions\n",
    "{system_prompt}\n",
    "## User\n",
    "{question}<end_of_turn>\n",
    "<start_of_turn>model\n",
    "\"\"\"\n",
    "\n",
    "def generate_response(model, prompt):\n",
    "    return generate(\n",
    "        model,\n",
    "        tokenizer,\n",
    "        prompt=prompt,\n",
    "        verbose=False,\n",
    "        temp=0.1,\n",
    "        max_tokens=1024,\n",
    "    )\n",
    "\n",
    "def cosine_sim(text1, text2):\n",
    "    vectorizer = TfidfVectorizer().fit_transform([text1, text2])\n",
    "    return cosine_similarity(vectorizer[0:1], vectorizer[1:2])[0][0]\n",
    "\n",
    "def calculate_bleu(reference, candidate):\n",
    "    reference_tokens = nltk.word_tokenize(reference.lower())\n",
    "    candidate_tokens = nltk.word_tokenize(candidate.lower())\n",
    "    return sentence_bleu([reference_tokens], candidate_tokens)\n",
    "\n",
    "rouge = Rouge()\n",
    "def calculate_rouge(reference, candidate):\n",
    "    scores = rouge.get_scores(candidate, reference)\n",
    "    return scores[0]['rouge-l']['f']\n",
    "\n",
    "def keyword_match(reference, candidate):\n",
    "    reference_keywords = set(nltk.word_tokenize(reference.lower()))\n",
    "    candidate_keywords = set(nltk.word_tokenize(candidate.lower()))\n",
    "    return len(reference_keywords.intersection(candidate_keywords)) / len(reference_keywords)\n",
    "\n",
    "def evaluate_model(model, num_samples, model_name):\n",
    "    system_prompt = \"\"\"You are an IMDG Code specialist. Provide detailed and accurate information in response to user questions about IMDG code.\"\"\"\n",
    "    \n",
    "    total_cosine = 0\n",
    "    total_bleu = 0\n",
    "    total_rouge = 0\n",
    "    total_keyword = 0\n",
    "    \n",
    "    samples = df.sample(n=num_samples)\n",
    "    \n",
    "    for _, row in samples.iterrows():\n",
    "        question = row['question']\n",
    "        reference_answer = row['response']\n",
    "        \n",
    "        prompt = format_prompt(system_prompt, question)\n",
    "        generated_answer = generate_response(model, prompt)\n",
    "        \n",
    "        cosine = cosine_sim(reference_answer, generated_answer)\n",
    "        bleu = calculate_bleu(reference_answer, generated_answer)\n",
    "        rouge_score = calculate_rouge(reference_answer, generated_answer)\n",
    "        keyword = keyword_match(reference_answer, generated_answer)\n",
    "        \n",
    "        total_cosine += cosine\n",
    "        total_bleu += bleu\n",
    "        total_rouge += rouge_score\n",
    "        total_keyword += keyword\n",
    "        \n",
    "        print(f\"Model: {model_name}\")\n",
    "        print(f\"Question: {question}\")\n",
    "        print(f\"Reference Answer: {reference_answer}\")\n",
    "        print(f\"Generated Answer: {generated_answer}\")\n",
    "        print(f\"Cosine Similarity: {cosine:.4f}\")\n",
    "        print(f\"BLEU Score: {bleu:.4f}\")\n",
    "        print(f\"ROUGE-L F1 Score: {rouge_score:.4f}\")\n",
    "        print(f\"Keyword Match: {keyword:.4f}\")\n",
    "        print(\"-\" * 50)\n",
    "    \n",
    "    avg_cosine = total_cosine / num_samples\n",
    "    avg_bleu = total_bleu / num_samples\n",
    "    avg_rouge = total_rouge / num_samples\n",
    "    avg_keyword = total_keyword / num_samples\n",
    "    \n",
    "    print(f\"\\nAverage Scores for {model_name} ({num_samples} samples):\")\n",
    "    print(f\"Average Cosine Similarity: {avg_cosine:.4f}\")\n",
    "    print(f\"Average BLEU Score: {avg_bleu:.4f}\")\n",
    "    print(f\"Average ROUGE-L F1 Score: {avg_rouge:.4f}\")\n",
    "    print(f\"Average Keyword Match: {avg_keyword:.4f}\")\n",
    "    \n",
    "    return avg_cosine, avg_bleu, avg_rouge, avg_keyword\n",
    "\n",
    "# 사용자로부터 평가할 샘플 수 입력 받기\n",
    "num_samples = int(input(\"Enter the number of samples to evaluate: \"))\n",
    "\n",
    "# LoRA 모델 평가\n",
    "lora_scores = evaluate_model(model_lora, num_samples, \"LoRA Model\")\n",
    "\n",
    "# 기본 모델 평가\n",
    "base_scores = evaluate_model(model_base, num_samples, \"Base Model\")\n",
    "\n",
    "# 결과 비교\n",
    "print(\"\\nComparison of LoRA Model vs Base Model:\")\n",
    "print(f\"{'Metric':<25} {'LoRA Model':<15} {'Base Model':<15}\")\n",
    "print(\"-\" * 55)\n",
    "print(f\"{'Cosine Similarity':<25} {lora_scores[0]:.4f} {base_scores[0]:.4f}\")\n",
    "print(f\"{'BLEU Score':<25} {lora_scores[1]:.4f} {base_scores[1]:.4f}\")\n",
    "print(f\"{'ROUGE-L F1 Score':<25} {lora_scores[2]:.4f} {base_scores[2]:.4f}\")\n",
    "print(f\"{'Keyword Match':<25} {lora_scores[3]:.4f} {base_scores[3]:.4f}\")"
   ]
  },
  {
   "cell_type": "code",
   "execution_count": null,
   "metadata": {},
   "outputs": [],
   "source": []
  }
 ],
 "metadata": {
  "kernelspec": {
   "display_name": "mlx",
   "language": "python",
   "name": "python3"
  },
  "language_info": {
   "codemirror_mode": {
    "name": "ipython",
    "version": 3
   },
   "file_extension": ".py",
   "mimetype": "text/x-python",
   "name": "python",
   "nbconvert_exporter": "python",
   "pygments_lexer": "ipython3",
   "version": "3.11.9"
  }
 },
 "nbformat": 4,
 "nbformat_minor": 2
}
